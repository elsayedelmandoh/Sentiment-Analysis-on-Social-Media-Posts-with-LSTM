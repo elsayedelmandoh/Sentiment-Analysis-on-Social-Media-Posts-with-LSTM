{
  "cells": [
    {
      "cell_type": "markdown",
      "metadata": {
        "id": "LRGSiOsyNRwN"
      },
      "source": [
        "# Capstone 2 : NN2"
      ]
    },
    {
      "cell_type": "markdown",
      "metadata": {
        "id": "QGU1Ujf4NRwO"
      },
      "source": [
        "# Sentiment Analysis on Social Media Posts with LSTM"
      ]
    },
    {
      "cell_type": "markdown",
      "metadata": {
        "id": "2dtzQ-LUNRwO"
      },
      "source": [
        "In this project, you will build a `Long Short-Term Memory (LSTM) model` that can `perform sentiment analysis on text data`, such as social media posts, customer reviews, or news articles.\n",
        "\n",
        "You will start by `exploring a dataset` of text data, such as the `Sentiment140 dataset` or `the Amazon Reviews dataset`, and `performing EDA` to gain insights into the data.\n",
        "\n",
        "You will `analyze the correlation` between different features and `identify any outliers` or `missing values` that need to be handled.\n",
        "\n",
        "You will then `preprocess the dataset`, `splitting it into training and testing sets`, and `transforming the text data` into input vectors using techniques such as `tokenization` or `word embeddings`.\n",
        "\n",
        "You will `build an LSTM model` using PyTorch or `Tensorflow` that can perform sentiment analysis on the input data.\n",
        "\n",
        "You will `experiment with different neural network` architectures, activation functions, and learning rates to find the `best model` for the task.\n",
        "\n",
        "Finally, you will `evaluate the performance` of your model using metrics such as `accuracy`, `precision`, `recall`, and `F1 score`, and `visualize the results` using `confusion matrices` or other visualization techniques to see how well the model performs on different sentiment classes.\n",
        "\n",
        "Dataset URL:\n",
        "\n",
        "The Sentiment140 dataset contains `1.6 million tweets` with `6 different sentiment classes`: positive, negative, neutral, and three other classes.\n",
        "`Sentiment140` dataset: http://help.sentiment140.com/for-students/\n",
        "\n",
        "The Amazon Reviews dataset contains `3.6 million reviews` with `binary sentiment classes`: positive or negative.\n",
        "`Amazon Reviews` dataset: https://www.kaggle.com/bittlingmayer/amazonreviews\n",
        "\n",
        "This project will give you hands-on experience with LSTM and sentiment analysis, and will help you develop skills in coding with PyTorch and Tensorflow.\n",
        "\n",
        "It will also give you the opportunity to experiment with different neural network architectures and activation functions to find the best model for the task."
      ]
    },
    {
      "cell_type": "markdown",
<<<<<<< HEAD
      "metadata": {
        "id": "qye-oTiDYFhv"
      },
      "source": [
        "verify GPU"
      ]
    },
    {
      "cell_type": "code",
      "execution_count": 15,
=======
      "source": [
        "verify GPU"
      ],
      "metadata": {
        "id": "qye-oTiDYFhv"
      }
    },
    {
      "cell_type": "code",
      "source": [
        "import tensorflow as tf\n",
        "print(\"GPU is\", \"available\" if tf.config.list_physical_devices(\"GPU\") else \"not available\")\n"
      ],
>>>>>>> 0862d274a98ad802023ec61d11ede0de6bb71e1d
      "metadata": {
        "colab": {
          "base_uri": "https://localhost:8080/"
        },
        "id": "HKS_LyIGYE9W",
        "outputId": "0c96d5c5-7516-43b9-d15c-5e3cac28bb4a"
      },
<<<<<<< HEAD
      "outputs": [],
      "source": [
        "# import tensorflow as tf\n",
        "# print(\"GPU is\", \"available\" if tf.config.list_physical_devices(\"GPU\") else \"not available\")"
=======
      "execution_count": 1,
      "outputs": [
        {
          "output_type": "stream",
          "name": "stdout",
          "text": [
            "GPU is not available\n"
          ]
        }
>>>>>>> 0862d274a98ad802023ec61d11ede0de6bb71e1d
      ]
    },
    {
      "cell_type": "markdown",
      "metadata": {
        "id": "UQl8YD6-NRwP"
      },
      "source": [
        "# Data Acquisition"
      ]
    },
    {
      "cell_type": "code",
<<<<<<< HEAD
      "execution_count": 16,
=======
      "source": [
        "!pip install kaggle"
      ],
>>>>>>> 0862d274a98ad802023ec61d11ede0de6bb71e1d
      "metadata": {
        "colab": {
          "base_uri": "https://localhost:8080/"
        },
        "id": "JWJ8Oc8pQf65",
        "outputId": "90251339-efe6-4a4c-ad9e-886095e64789"
      },
<<<<<<< HEAD
      "outputs": [],
      "source": [
        "# !pip install kaggle"
=======
      "execution_count": 2,
      "outputs": [
        {
          "output_type": "stream",
          "name": "stdout",
          "text": [
            "Requirement already satisfied: kaggle in /usr/local/lib/python3.10/dist-packages (1.5.16)\n",
            "Requirement already satisfied: six>=1.10 in /usr/local/lib/python3.10/dist-packages (from kaggle) (1.16.0)\n",
            "Requirement already satisfied: certifi in /usr/local/lib/python3.10/dist-packages (from kaggle) (2023.7.22)\n",
            "Requirement already satisfied: python-dateutil in /usr/local/lib/python3.10/dist-packages (from kaggle) (2.8.2)\n",
            "Requirement already satisfied: requests in /usr/local/lib/python3.10/dist-packages (from kaggle) (2.31.0)\n",
            "Requirement already satisfied: tqdm in /usr/local/lib/python3.10/dist-packages (from kaggle) (4.66.1)\n",
            "Requirement already satisfied: python-slugify in /usr/local/lib/python3.10/dist-packages (from kaggle) (8.0.1)\n",
            "Requirement already satisfied: urllib3 in /usr/local/lib/python3.10/dist-packages (from kaggle) (2.0.7)\n",
            "Requirement already satisfied: bleach in /usr/local/lib/python3.10/dist-packages (from kaggle) (6.1.0)\n",
            "Requirement already satisfied: webencodings in /usr/local/lib/python3.10/dist-packages (from bleach->kaggle) (0.5.1)\n",
            "Requirement already satisfied: text-unidecode>=1.3 in /usr/local/lib/python3.10/dist-packages (from python-slugify->kaggle) (1.3)\n",
            "Requirement already satisfied: charset-normalizer<4,>=2 in /usr/local/lib/python3.10/dist-packages (from requests->kaggle) (3.3.2)\n",
            "Requirement already satisfied: idna<4,>=2.5 in /usr/local/lib/python3.10/dist-packages (from requests->kaggle) (3.4)\n"
          ]
        }
>>>>>>> 0862d274a98ad802023ec61d11ede0de6bb71e1d
      ]
    },
    {
      "cell_type": "markdown",
<<<<<<< HEAD
      "metadata": {
        "id": "nkrtkBP9USux"
      },
      "source": [
        "Upload the kaggle.json file that you downloaded"
      ]
    },
    {
      "cell_type": "code",
      "execution_count": 17,
      "metadata": {
        "id": "PeATYml_TgTR"
      },
      "outputs": [],
      "source": [
        "# from google.colab import files"
      ]
    },
    {
      "cell_type": "code",
      "execution_count": 18,
=======
      "source": [
        "Upload the kaggle.json file that you downloaded"
      ],
      "metadata": {
        "id": "nkrtkBP9USux"
      }
    },
    {
      "cell_type": "code",
      "source": [
        "from google.colab import files"
      ],
      "metadata": {
        "id": "PeATYml_TgTR"
      },
      "execution_count": 3,
      "outputs": []
    },
    {
      "cell_type": "code",
      "source": [
        "uploaded = files.upload()\n",
        "uploaded"
      ],
>>>>>>> 0862d274a98ad802023ec61d11ede0de6bb71e1d
      "metadata": {
        "colab": {
          "base_uri": "https://localhost:8080/",
          "height": 90
        },
        "id": "aUAq1LbETcSv",
        "outputId": "a14df60e-f2c1-4557-e30d-5ae0afef7f61"
      },
<<<<<<< HEAD
      "outputs": [],
      "source": [
        "# uploaded = files.upload()\n",
        "# uploaded"
=======
      "execution_count": 4,
      "outputs": [
        {
          "output_type": "display_data",
          "data": {
            "text/plain": [
              "<IPython.core.display.HTML object>"
            ],
            "text/html": [
              "\n",
              "     <input type=\"file\" id=\"files-86631c63-8309-405f-9627-a60bcaf3f334\" name=\"files[]\" multiple disabled\n",
              "        style=\"border:none\" />\n",
              "     <output id=\"result-86631c63-8309-405f-9627-a60bcaf3f334\">\n",
              "      Upload widget is only available when the cell has been executed in the\n",
              "      current browser session. Please rerun this cell to enable.\n",
              "      </output>\n",
              "      <script>// Copyright 2017 Google LLC\n",
              "//\n",
              "// Licensed under the Apache License, Version 2.0 (the \"License\");\n",
              "// you may not use this file except in compliance with the License.\n",
              "// You may obtain a copy of the License at\n",
              "//\n",
              "//      http://www.apache.org/licenses/LICENSE-2.0\n",
              "//\n",
              "// Unless required by applicable law or agreed to in writing, software\n",
              "// distributed under the License is distributed on an \"AS IS\" BASIS,\n",
              "// WITHOUT WARRANTIES OR CONDITIONS OF ANY KIND, either express or implied.\n",
              "// See the License for the specific language governing permissions and\n",
              "// limitations under the License.\n",
              "\n",
              "/**\n",
              " * @fileoverview Helpers for google.colab Python module.\n",
              " */\n",
              "(function(scope) {\n",
              "function span(text, styleAttributes = {}) {\n",
              "  const element = document.createElement('span');\n",
              "  element.textContent = text;\n",
              "  for (const key of Object.keys(styleAttributes)) {\n",
              "    element.style[key] = styleAttributes[key];\n",
              "  }\n",
              "  return element;\n",
              "}\n",
              "\n",
              "// Max number of bytes which will be uploaded at a time.\n",
              "const MAX_PAYLOAD_SIZE = 100 * 1024;\n",
              "\n",
              "function _uploadFiles(inputId, outputId) {\n",
              "  const steps = uploadFilesStep(inputId, outputId);\n",
              "  const outputElement = document.getElementById(outputId);\n",
              "  // Cache steps on the outputElement to make it available for the next call\n",
              "  // to uploadFilesContinue from Python.\n",
              "  outputElement.steps = steps;\n",
              "\n",
              "  return _uploadFilesContinue(outputId);\n",
              "}\n",
              "\n",
              "// This is roughly an async generator (not supported in the browser yet),\n",
              "// where there are multiple asynchronous steps and the Python side is going\n",
              "// to poll for completion of each step.\n",
              "// This uses a Promise to block the python side on completion of each step,\n",
              "// then passes the result of the previous step as the input to the next step.\n",
              "function _uploadFilesContinue(outputId) {\n",
              "  const outputElement = document.getElementById(outputId);\n",
              "  const steps = outputElement.steps;\n",
              "\n",
              "  const next = steps.next(outputElement.lastPromiseValue);\n",
              "  return Promise.resolve(next.value.promise).then((value) => {\n",
              "    // Cache the last promise value to make it available to the next\n",
              "    // step of the generator.\n",
              "    outputElement.lastPromiseValue = value;\n",
              "    return next.value.response;\n",
              "  });\n",
              "}\n",
              "\n",
              "/**\n",
              " * Generator function which is called between each async step of the upload\n",
              " * process.\n",
              " * @param {string} inputId Element ID of the input file picker element.\n",
              " * @param {string} outputId Element ID of the output display.\n",
              " * @return {!Iterable<!Object>} Iterable of next steps.\n",
              " */\n",
              "function* uploadFilesStep(inputId, outputId) {\n",
              "  const inputElement = document.getElementById(inputId);\n",
              "  inputElement.disabled = false;\n",
              "\n",
              "  const outputElement = document.getElementById(outputId);\n",
              "  outputElement.innerHTML = '';\n",
              "\n",
              "  const pickedPromise = new Promise((resolve) => {\n",
              "    inputElement.addEventListener('change', (e) => {\n",
              "      resolve(e.target.files);\n",
              "    });\n",
              "  });\n",
              "\n",
              "  const cancel = document.createElement('button');\n",
              "  inputElement.parentElement.appendChild(cancel);\n",
              "  cancel.textContent = 'Cancel upload';\n",
              "  const cancelPromise = new Promise((resolve) => {\n",
              "    cancel.onclick = () => {\n",
              "      resolve(null);\n",
              "    };\n",
              "  });\n",
              "\n",
              "  // Wait for the user to pick the files.\n",
              "  const files = yield {\n",
              "    promise: Promise.race([pickedPromise, cancelPromise]),\n",
              "    response: {\n",
              "      action: 'starting',\n",
              "    }\n",
              "  };\n",
              "\n",
              "  cancel.remove();\n",
              "\n",
              "  // Disable the input element since further picks are not allowed.\n",
              "  inputElement.disabled = true;\n",
              "\n",
              "  if (!files) {\n",
              "    return {\n",
              "      response: {\n",
              "        action: 'complete',\n",
              "      }\n",
              "    };\n",
              "  }\n",
              "\n",
              "  for (const file of files) {\n",
              "    const li = document.createElement('li');\n",
              "    li.append(span(file.name, {fontWeight: 'bold'}));\n",
              "    li.append(span(\n",
              "        `(${file.type || 'n/a'}) - ${file.size} bytes, ` +\n",
              "        `last modified: ${\n",
              "            file.lastModifiedDate ? file.lastModifiedDate.toLocaleDateString() :\n",
              "                                    'n/a'} - `));\n",
              "    const percent = span('0% done');\n",
              "    li.appendChild(percent);\n",
              "\n",
              "    outputElement.appendChild(li);\n",
              "\n",
              "    const fileDataPromise = new Promise((resolve) => {\n",
              "      const reader = new FileReader();\n",
              "      reader.onload = (e) => {\n",
              "        resolve(e.target.result);\n",
              "      };\n",
              "      reader.readAsArrayBuffer(file);\n",
              "    });\n",
              "    // Wait for the data to be ready.\n",
              "    let fileData = yield {\n",
              "      promise: fileDataPromise,\n",
              "      response: {\n",
              "        action: 'continue',\n",
              "      }\n",
              "    };\n",
              "\n",
              "    // Use a chunked sending to avoid message size limits. See b/62115660.\n",
              "    let position = 0;\n",
              "    do {\n",
              "      const length = Math.min(fileData.byteLength - position, MAX_PAYLOAD_SIZE);\n",
              "      const chunk = new Uint8Array(fileData, position, length);\n",
              "      position += length;\n",
              "\n",
              "      const base64 = btoa(String.fromCharCode.apply(null, chunk));\n",
              "      yield {\n",
              "        response: {\n",
              "          action: 'append',\n",
              "          file: file.name,\n",
              "          data: base64,\n",
              "        },\n",
              "      };\n",
              "\n",
              "      let percentDone = fileData.byteLength === 0 ?\n",
              "          100 :\n",
              "          Math.round((position / fileData.byteLength) * 100);\n",
              "      percent.textContent = `${percentDone}% done`;\n",
              "\n",
              "    } while (position < fileData.byteLength);\n",
              "  }\n",
              "\n",
              "  // All done.\n",
              "  yield {\n",
              "    response: {\n",
              "      action: 'complete',\n",
              "    }\n",
              "  };\n",
              "}\n",
              "\n",
              "scope.google = scope.google || {};\n",
              "scope.google.colab = scope.google.colab || {};\n",
              "scope.google.colab._files = {\n",
              "  _uploadFiles,\n",
              "  _uploadFilesContinue,\n",
              "};\n",
              "})(self);\n",
              "</script> "
            ]
          },
          "metadata": {}
        },
        {
          "output_type": "stream",
          "name": "stdout",
          "text": [
            "Saving kaggle.json to kaggle.json\n"
          ]
        },
        {
          "output_type": "execute_result",
          "data": {
            "text/plain": [
              "{'kaggle.json': b'{\"username\":\"elsayedelmandoh\",\"key\":\"5c832aa457ca8e68a655a8c526ca8e92\"}'}"
            ]
          },
          "metadata": {},
          "execution_count": 4
        }
>>>>>>> 0862d274a98ad802023ec61d11ede0de6bb71e1d
      ]
    },
    {
      "cell_type": "markdown",
<<<<<<< HEAD
      "metadata": {
        "id": "H-o-_xVTUOZG"
      },
      "source": [
        "Move the uploaded kaggle.json file to the appropriate directory"
      ]
    },
    {
      "cell_type": "code",
      "execution_count": 19,
      "metadata": {
        "id": "GunexoEPUB2E"
      },
      "outputs": [],
      "source": [
        "# import os\n",
        "# os.makedirs('/root/.kaggle', exist_ok=True)\n",
        "# os.rename('kaggle.json', '/root/.kaggle/kaggle.json')"
      ]
    },
    {
      "cell_type": "markdown",
      "metadata": {
        "id": "4uwIxHyZUMWn"
      },
      "source": [
        "Set permissions for the Kaggle API key"
      ]
    },
    {
      "cell_type": "code",
      "execution_count": 20,
      "metadata": {
        "id": "7rwdoL9UUFfq"
      },
      "outputs": [],
      "source": [
        "# !chmod 600 /root/.kaggle/kaggle.json"
      ]
    },
    {
      "cell_type": "markdown",
      "metadata": {
        "id": "ggL92OM4UZMh"
      },
      "source": [
        "Download a dataset from Kaggle"
      ]
    },
    {
      "cell_type": "code",
      "execution_count": 21,
=======
      "source": [
        "Move the uploaded kaggle.json file to the appropriate directory"
      ],
      "metadata": {
        "id": "H-o-_xVTUOZG"
      }
    },
    {
      "cell_type": "code",
      "source": [
        "import os\n",
        "os.makedirs('/root/.kaggle', exist_ok=True)\n",
        "os.rename('kaggle.json', '/root/.kaggle/kaggle.json')\n"
      ],
      "metadata": {
        "id": "GunexoEPUB2E"
      },
      "execution_count": 5,
      "outputs": []
    },
    {
      "cell_type": "markdown",
      "source": [
        "Set permissions for the Kaggle API key"
      ],
      "metadata": {
        "id": "4uwIxHyZUMWn"
      }
    },
    {
      "cell_type": "code",
      "source": [
        "!chmod 600 /root/.kaggle/kaggle.json"
      ],
      "metadata": {
        "id": "7rwdoL9UUFfq"
      },
      "execution_count": 6,
      "outputs": []
    },
    {
      "cell_type": "markdown",
      "source": [
        "Download a dataset from Kaggle"
      ],
      "metadata": {
        "id": "ggL92OM4UZMh"
      }
    },
    {
      "cell_type": "code",
      "source": [
        "!kaggle datasets download -d bittlingmayer/amazonreviews -p /content"
      ],
>>>>>>> 0862d274a98ad802023ec61d11ede0de6bb71e1d
      "metadata": {
        "colab": {
          "base_uri": "https://localhost:8080/"
        },
        "id": "TzJPtDDbUajh",
        "outputId": "10f9a5a4-6c29-4b79-85b9-fc993ce6494b"
      },
<<<<<<< HEAD
      "outputs": [],
      "source": [
        "# !kaggle datasets download -d bittlingmayer/amazonreviews -p /content"
=======
      "execution_count": 7,
      "outputs": [
        {
          "output_type": "stream",
          "name": "stdout",
          "text": [
            "amazonreviews.zip: Skipping, found more recently modified local copy (use --force to force download)\n"
          ]
        }
>>>>>>> 0862d274a98ad802023ec61d11ede0de6bb71e1d
      ]
    },
    {
      "cell_type": "markdown",
<<<<<<< HEAD
      "metadata": {
        "id": "rJ2zk4qPUpDh"
      },
      "source": [
        "Unzip the downloaded dataset"
      ]
    },
    {
      "cell_type": "code",
      "execution_count": 22,
=======
      "source": [
        "Unzip the downloaded dataset"
      ],
      "metadata": {
        "id": "rJ2zk4qPUpDh"
      }
    },
    {
      "cell_type": "code",
      "source": [
        "!unzip -q /content/amazonreviews.zip -d /content/dataset\n"
      ],
>>>>>>> 0862d274a98ad802023ec61d11ede0de6bb71e1d
      "metadata": {
        "colab": {
          "base_uri": "https://localhost:8080/"
        },
        "id": "0--zyHPLUsOj",
        "outputId": "eab9f037-25f2-4e16-f290-12115dcd3117"
      },
<<<<<<< HEAD
      "outputs": [],
      "source": [
        "# !unzip -q /content/amazonreviews.zip -d /content/dataset\n"
=======
      "execution_count": 8,
      "outputs": [
        {
          "output_type": "stream",
          "name": "stdout",
          "text": [
            "replace /content/dataset/test.ft.txt.bz2? [y]es, [n]o, [A]ll, [N]one, [r]ename: "
          ]
        }
>>>>>>> 0862d274a98ad802023ec61d11ede0de6bb71e1d
      ]
    },
    {
      "cell_type": "markdown",
<<<<<<< HEAD
      "metadata": {
        "id": "LKf_WydlVHfz"
      },
      "source": [
        "read data"
      ]
    },
    {
      "cell_type": "code",
      "execution_count": 23,
=======
      "source": [
        "read data"
      ],
      "metadata": {
        "id": "LKf_WydlVHfz"
      }
    },
    {
      "cell_type": "code",
      "execution_count": 9,
>>>>>>> 0862d274a98ad802023ec61d11ede0de6bb71e1d
      "metadata": {
        "id": "3-V6Do1TNRwP"
      },
      "outputs": [],
      "source": [
        "import pandas as pd"
      ]
    },
    {
      "cell_type": "markdown",
      "metadata": {
        "id": "k4TN56B5NRwQ"
      },
      "source": [
        "Amazon Reviews"
      ]
    },
    {
      "cell_type": "code",
<<<<<<< HEAD
      "execution_count": 24,
=======
      "execution_count": 10,
>>>>>>> 0862d274a98ad802023ec61d11ede0de6bb71e1d
      "metadata": {
        "colab": {
          "base_uri": "https://localhost:8080/",
          "height": 206
        },
        "id": "P-fy_sNeNRwQ",
        "outputId": "6c9396a6-7d2f-442d-9513-d43ac6cff0c9"
      },
      "outputs": [
        {
<<<<<<< HEAD
          "data": {
            "text/html": [
              "<div>\n",
=======
          "output_type": "execute_result",
          "data": {
            "text/plain": [
              "                                                      text  label\n",
              "3065142  __label__2 Great Item!: This tea press prepare...    NaN\n",
              "2215304  __label__2 Never Looking Back: My only regret ...    NaN\n",
              "402326   __label__2 Absolutely Fab!: Dr. Seuss has alwa...    NaN\n",
              "1970157  __label__2 The Tempest Review: The Tempest is ...    NaN\n",
              "1949880  __label__1 I hate this toy! Unstable and falls...    NaN"
            ],
            "text/html": [
              "\n",
              "  <div id=\"df-49a6e51f-0d5a-467f-ad71-aa233733574e\" class=\"colab-df-container\">\n",
              "    <div>\n",
>>>>>>> 0862d274a98ad802023ec61d11ede0de6bb71e1d
              "<style scoped>\n",
              "    .dataframe tbody tr th:only-of-type {\n",
              "        vertical-align: middle;\n",
              "    }\n",
              "\n",
              "    .dataframe tbody tr th {\n",
              "        vertical-align: top;\n",
              "    }\n",
              "\n",
              "    .dataframe thead th {\n",
              "        text-align: right;\n",
              "    }\n",
              "</style>\n",
              "<table border=\"1\" class=\"dataframe\">\n",
              "  <thead>\n",
              "    <tr style=\"text-align: right;\">\n",
              "      <th></th>\n",
              "      <th>text</th>\n",
              "      <th>label</th>\n",
              "    </tr>\n",
              "  </thead>\n",
              "  <tbody>\n",
              "    <tr>\n",
<<<<<<< HEAD
              "      <th>1559061</th>\n",
              "      <td>__label__1 isn't that great: this cd isn't all...</td>\n",
              "      <td>NaN</td>\n",
              "    </tr>\n",
              "    <tr>\n",
              "      <th>420646</th>\n",
              "      <td>__label__1 Real Mediocre Late 90's stuff: 1998...</td>\n",
              "      <td>NaN</td>\n",
              "    </tr>\n",
              "    <tr>\n",
              "      <th>705221</th>\n",
              "      <td>__label__2 Country music with an attitude!!!: ...</td>\n",
              "      <td>NaN</td>\n",
              "    </tr>\n",
              "    <tr>\n",
              "      <th>3176663</th>\n",
              "      <td>__label__2 Perfect Wedding Ceremony Music: Thi...</td>\n",
              "      <td>NaN</td>\n",
              "    </tr>\n",
              "    <tr>\n",
              "      <th>546329</th>\n",
              "      <td>__label__2 Awesome movie!: However, the print ...</td>\n",
=======
              "      <th>3065142</th>\n",
              "      <td>__label__2 Great Item!: This tea press prepare...</td>\n",
              "      <td>NaN</td>\n",
              "    </tr>\n",
              "    <tr>\n",
              "      <th>2215304</th>\n",
              "      <td>__label__2 Never Looking Back: My only regret ...</td>\n",
              "      <td>NaN</td>\n",
              "    </tr>\n",
              "    <tr>\n",
              "      <th>402326</th>\n",
              "      <td>__label__2 Absolutely Fab!: Dr. Seuss has alwa...</td>\n",
              "      <td>NaN</td>\n",
              "    </tr>\n",
              "    <tr>\n",
              "      <th>1970157</th>\n",
              "      <td>__label__2 The Tempest Review: The Tempest is ...</td>\n",
              "      <td>NaN</td>\n",
              "    </tr>\n",
              "    <tr>\n",
              "      <th>1949880</th>\n",
              "      <td>__label__1 I hate this toy! Unstable and falls...</td>\n",
>>>>>>> 0862d274a98ad802023ec61d11ede0de6bb71e1d
              "      <td>NaN</td>\n",
              "    </tr>\n",
              "  </tbody>\n",
              "</table>\n",
<<<<<<< HEAD
              "</div>"
            ],
            "text/plain": [
              "                                                      text  label\n",
              "1559061  __label__1 isn't that great: this cd isn't all...    NaN\n",
              "420646   __label__1 Real Mediocre Late 90's stuff: 1998...    NaN\n",
              "705221   __label__2 Country music with an attitude!!!: ...    NaN\n",
              "3176663  __label__2 Perfect Wedding Ceremony Music: Thi...    NaN\n",
              "546329   __label__2 Awesome movie!: However, the print ...    NaN"
            ]
          },
          "execution_count": 24,
          "metadata": {},
          "output_type": "execute_result"
        }
      ],
      "source": [
        "df_train = pd.read_csv(r'dataset\\train.ft.txt', delimiter='\\t', header=None, names=['text', 'label']).sample(50000)\n",
=======
              "</div>\n",
              "    <div class=\"colab-df-buttons\">\n",
              "\n",
              "  <div class=\"colab-df-container\">\n",
              "    <button class=\"colab-df-convert\" onclick=\"convertToInteractive('df-49a6e51f-0d5a-467f-ad71-aa233733574e')\"\n",
              "            title=\"Convert this dataframe to an interactive table.\"\n",
              "            style=\"display:none;\">\n",
              "\n",
              "  <svg xmlns=\"http://www.w3.org/2000/svg\" height=\"24px\" viewBox=\"0 -960 960 960\">\n",
              "    <path d=\"M120-120v-720h720v720H120Zm60-500h600v-160H180v160Zm220 220h160v-160H400v160Zm0 220h160v-160H400v160ZM180-400h160v-160H180v160Zm440 0h160v-160H620v160ZM180-180h160v-160H180v160Zm440 0h160v-160H620v160Z\"/>\n",
              "  </svg>\n",
              "    </button>\n",
              "\n",
              "  <style>\n",
              "    .colab-df-container {\n",
              "      display:flex;\n",
              "      gap: 12px;\n",
              "    }\n",
              "\n",
              "    .colab-df-convert {\n",
              "      background-color: #E8F0FE;\n",
              "      border: none;\n",
              "      border-radius: 50%;\n",
              "      cursor: pointer;\n",
              "      display: none;\n",
              "      fill: #1967D2;\n",
              "      height: 32px;\n",
              "      padding: 0 0 0 0;\n",
              "      width: 32px;\n",
              "    }\n",
              "\n",
              "    .colab-df-convert:hover {\n",
              "      background-color: #E2EBFA;\n",
              "      box-shadow: 0px 1px 2px rgba(60, 64, 67, 0.3), 0px 1px 3px 1px rgba(60, 64, 67, 0.15);\n",
              "      fill: #174EA6;\n",
              "    }\n",
              "\n",
              "    .colab-df-buttons div {\n",
              "      margin-bottom: 4px;\n",
              "    }\n",
              "\n",
              "    [theme=dark] .colab-df-convert {\n",
              "      background-color: #3B4455;\n",
              "      fill: #D2E3FC;\n",
              "    }\n",
              "\n",
              "    [theme=dark] .colab-df-convert:hover {\n",
              "      background-color: #434B5C;\n",
              "      box-shadow: 0px 1px 3px 1px rgba(0, 0, 0, 0.15);\n",
              "      filter: drop-shadow(0px 1px 2px rgba(0, 0, 0, 0.3));\n",
              "      fill: #FFFFFF;\n",
              "    }\n",
              "  </style>\n",
              "\n",
              "    <script>\n",
              "      const buttonEl =\n",
              "        document.querySelector('#df-49a6e51f-0d5a-467f-ad71-aa233733574e button.colab-df-convert');\n",
              "      buttonEl.style.display =\n",
              "        google.colab.kernel.accessAllowed ? 'block' : 'none';\n",
              "\n",
              "      async function convertToInteractive(key) {\n",
              "        const element = document.querySelector('#df-49a6e51f-0d5a-467f-ad71-aa233733574e');\n",
              "        const dataTable =\n",
              "          await google.colab.kernel.invokeFunction('convertToInteractive',\n",
              "                                                    [key], {});\n",
              "        if (!dataTable) return;\n",
              "\n",
              "        const docLinkHtml = 'Like what you see? Visit the ' +\n",
              "          '<a target=\"_blank\" href=https://colab.research.google.com/notebooks/data_table.ipynb>data table notebook</a>'\n",
              "          + ' to learn more about interactive tables.';\n",
              "        element.innerHTML = '';\n",
              "        dataTable['output_type'] = 'display_data';\n",
              "        await google.colab.output.renderOutput(dataTable, element);\n",
              "        const docLink = document.createElement('div');\n",
              "        docLink.innerHTML = docLinkHtml;\n",
              "        element.appendChild(docLink);\n",
              "      }\n",
              "    </script>\n",
              "  </div>\n",
              "\n",
              "\n",
              "<div id=\"df-9c955cbd-1a60-40dc-83d2-aef8bb41d9b7\">\n",
              "  <button class=\"colab-df-quickchart\" onclick=\"quickchart('df-9c955cbd-1a60-40dc-83d2-aef8bb41d9b7')\"\n",
              "            title=\"Suggest charts\"\n",
              "            style=\"display:none;\">\n",
              "\n",
              "<svg xmlns=\"http://www.w3.org/2000/svg\" height=\"24px\"viewBox=\"0 0 24 24\"\n",
              "     width=\"24px\">\n",
              "    <g>\n",
              "        <path d=\"M19 3H5c-1.1 0-2 .9-2 2v14c0 1.1.9 2 2 2h14c1.1 0 2-.9 2-2V5c0-1.1-.9-2-2-2zM9 17H7v-7h2v7zm4 0h-2V7h2v10zm4 0h-2v-4h2v4z\"/>\n",
              "    </g>\n",
              "</svg>\n",
              "  </button>\n",
              "\n",
              "<style>\n",
              "  .colab-df-quickchart {\n",
              "      --bg-color: #E8F0FE;\n",
              "      --fill-color: #1967D2;\n",
              "      --hover-bg-color: #E2EBFA;\n",
              "      --hover-fill-color: #174EA6;\n",
              "      --disabled-fill-color: #AAA;\n",
              "      --disabled-bg-color: #DDD;\n",
              "  }\n",
              "\n",
              "  [theme=dark] .colab-df-quickchart {\n",
              "      --bg-color: #3B4455;\n",
              "      --fill-color: #D2E3FC;\n",
              "      --hover-bg-color: #434B5C;\n",
              "      --hover-fill-color: #FFFFFF;\n",
              "      --disabled-bg-color: #3B4455;\n",
              "      --disabled-fill-color: #666;\n",
              "  }\n",
              "\n",
              "  .colab-df-quickchart {\n",
              "    background-color: var(--bg-color);\n",
              "    border: none;\n",
              "    border-radius: 50%;\n",
              "    cursor: pointer;\n",
              "    display: none;\n",
              "    fill: var(--fill-color);\n",
              "    height: 32px;\n",
              "    padding: 0;\n",
              "    width: 32px;\n",
              "  }\n",
              "\n",
              "  .colab-df-quickchart:hover {\n",
              "    background-color: var(--hover-bg-color);\n",
              "    box-shadow: 0 1px 2px rgba(60, 64, 67, 0.3), 0 1px 3px 1px rgba(60, 64, 67, 0.15);\n",
              "    fill: var(--button-hover-fill-color);\n",
              "  }\n",
              "\n",
              "  .colab-df-quickchart-complete:disabled,\n",
              "  .colab-df-quickchart-complete:disabled:hover {\n",
              "    background-color: var(--disabled-bg-color);\n",
              "    fill: var(--disabled-fill-color);\n",
              "    box-shadow: none;\n",
              "  }\n",
              "\n",
              "  .colab-df-spinner {\n",
              "    border: 2px solid var(--fill-color);\n",
              "    border-color: transparent;\n",
              "    border-bottom-color: var(--fill-color);\n",
              "    animation:\n",
              "      spin 1s steps(1) infinite;\n",
              "  }\n",
              "\n",
              "  @keyframes spin {\n",
              "    0% {\n",
              "      border-color: transparent;\n",
              "      border-bottom-color: var(--fill-color);\n",
              "      border-left-color: var(--fill-color);\n",
              "    }\n",
              "    20% {\n",
              "      border-color: transparent;\n",
              "      border-left-color: var(--fill-color);\n",
              "      border-top-color: var(--fill-color);\n",
              "    }\n",
              "    30% {\n",
              "      border-color: transparent;\n",
              "      border-left-color: var(--fill-color);\n",
              "      border-top-color: var(--fill-color);\n",
              "      border-right-color: var(--fill-color);\n",
              "    }\n",
              "    40% {\n",
              "      border-color: transparent;\n",
              "      border-right-color: var(--fill-color);\n",
              "      border-top-color: var(--fill-color);\n",
              "    }\n",
              "    60% {\n",
              "      border-color: transparent;\n",
              "      border-right-color: var(--fill-color);\n",
              "    }\n",
              "    80% {\n",
              "      border-color: transparent;\n",
              "      border-right-color: var(--fill-color);\n",
              "      border-bottom-color: var(--fill-color);\n",
              "    }\n",
              "    90% {\n",
              "      border-color: transparent;\n",
              "      border-bottom-color: var(--fill-color);\n",
              "    }\n",
              "  }\n",
              "</style>\n",
              "\n",
              "  <script>\n",
              "    async function quickchart(key) {\n",
              "      const quickchartButtonEl =\n",
              "        document.querySelector('#' + key + ' button');\n",
              "      quickchartButtonEl.disabled = true;  // To prevent multiple clicks.\n",
              "      quickchartButtonEl.classList.add('colab-df-spinner');\n",
              "      try {\n",
              "        const charts = await google.colab.kernel.invokeFunction(\n",
              "            'suggestCharts', [key], {});\n",
              "      } catch (error) {\n",
              "        console.error('Error during call to suggestCharts:', error);\n",
              "      }\n",
              "      quickchartButtonEl.classList.remove('colab-df-spinner');\n",
              "      quickchartButtonEl.classList.add('colab-df-quickchart-complete');\n",
              "    }\n",
              "    (() => {\n",
              "      let quickchartButtonEl =\n",
              "        document.querySelector('#df-9c955cbd-1a60-40dc-83d2-aef8bb41d9b7 button');\n",
              "      quickchartButtonEl.style.display =\n",
              "        google.colab.kernel.accessAllowed ? 'block' : 'none';\n",
              "    })();\n",
              "  </script>\n",
              "</div>\n",
              "    </div>\n",
              "  </div>\n"
            ]
          },
          "metadata": {},
          "execution_count": 10
        }
      ],
      "source": [
        "df_train = pd.read_csv('dataset/train.ft.txt.bz2', delimiter='\\t', header=None, names=['text', 'label']).sample(100000)\n",
>>>>>>> 0862d274a98ad802023ec61d11ede0de6bb71e1d
        "df_train.head()"
      ]
    },
    {
      "cell_type": "markdown",
      "metadata": {
        "id": "GX8QzDw4NRwQ"
      },
      "source": [
        "we have a problem in dataset, pandas read two column in one column !!"
      ]
    },
    {
      "cell_type": "code",
<<<<<<< HEAD
      "execution_count": 25,
=======
      "execution_count": 11,
>>>>>>> 0862d274a98ad802023ec61d11ede0de6bb71e1d
      "metadata": {
        "colab": {
          "base_uri": "https://localhost:8080/"
        },
        "id": "WTAoMzHnNRwR",
        "outputId": "99d7515f-9d22-4555-b1d0-3198ef080fb6"
      },
      "outputs": [
        {
<<<<<<< HEAD
=======
          "output_type": "execute_result",
>>>>>>> 0862d274a98ad802023ec61d11ede0de6bb71e1d
          "data": {
            "text/plain": [
              "[0]"
            ]
          },
<<<<<<< HEAD
          "execution_count": 25,
          "metadata": {},
          "output_type": "execute_result"
=======
          "metadata": {},
          "execution_count": 11
>>>>>>> 0862d274a98ad802023ec61d11ede0de6bb71e1d
        }
      ],
      "source": [
        "row = '__label__1 Not an \"ultimate guide\": Firstly,I enjoyed the format and tone of the book (how the author addressed the reader). However, I did not feel that she imparted any insider secrets that the book promised to reveal. If you are just starting to research law school, and do not know all the requirements of admission, then this book may be a tremendous help. If you have done your homework and are looking for an edge when it comes to admissions, I recommend some more topic-specific books. For example, books on how to write your personal statment, books geared specifically towards LSAT preparation (Powerscore books were the most helpful for me), and there are some websites with great advice geared towards aiding the individuals whom you are asking to write letters of recommendation. Yet, for those new to the entire affair, this book can definitely clarify the requirements for you.'\n",
        "label = [0 if row.split(' ')[0] == '__label__1' else 1]\n",
        "label"
      ]
    },
    {
      "cell_type": "code",
<<<<<<< HEAD
      "execution_count": 26,
=======
      "execution_count": 12,
>>>>>>> 0862d274a98ad802023ec61d11ede0de6bb71e1d
      "metadata": {
        "colab": {
          "base_uri": "https://localhost:8080/",
          "height": 105
        },
        "id": "0bdxI5asNRwR",
        "outputId": "afa3f9ef-2220-4156-be9d-86facd475a98"
      },
      "outputs": [
        {
<<<<<<< HEAD
          "data": {
            "text/plain": [
              "'Not an \"ultimate guide\": Firstly,I enjoyed the format and tone of the book (how the author addressed the reader). However, I did not feel that she imparted any insider secrets that the book promised to reveal. If you are just starting to research law school, and do not know all the requirements of admission, then this book may be a tremendous help. If you have done your homework and are looking for an edge when it comes to admissions, I recommend some more topic-specific books. For example, books on how to write your personal statment, books geared specifically towards LSAT preparation (Powerscore books were the most helpful for me), and there are some websites with great advice geared towards aiding the individuals whom you are asking to write letters of recommendation. Yet, for those new to the entire affair, this book can definitely clarify the requirements for you.'"
            ]
          },
          "execution_count": 26,
          "metadata": {},
          "output_type": "execute_result"
=======
          "output_type": "execute_result",
          "data": {
            "text/plain": [
              "'Not an \"ultimate guide\": Firstly,I enjoyed the format and tone of the book (how the author addressed the reader). However, I did not feel that she imparted any insider secrets that the book promised to reveal. If you are just starting to research law school, and do not know all the requirements of admission, then this book may be a tremendous help. If you have done your homework and are looking for an edge when it comes to admissions, I recommend some more topic-specific books. For example, books on how to write your personal statment, books geared specifically towards LSAT preparation (Powerscore books were the most helpful for me), and there are some websites with great advice geared towards aiding the individuals whom you are asking to write letters of recommendation. Yet, for those new to the entire affair, this book can definitely clarify the requirements for you.'"
            ],
            "application/vnd.google.colaboratory.intrinsic+json": {
              "type": "string"
            }
          },
          "metadata": {},
          "execution_count": 12
>>>>>>> 0862d274a98ad802023ec61d11ede0de6bb71e1d
        }
      ],
      "source": [
        "text = ' '.join(row.split(' ')[1:])\n",
        "text"
      ]
    },
    {
      "cell_type": "code",
<<<<<<< HEAD
      "execution_count": 27,
=======
      "execution_count": 13,
>>>>>>> 0862d274a98ad802023ec61d11ede0de6bb71e1d
      "metadata": {
        "colab": {
          "base_uri": "https://localhost:8080/",
          "height": 206
        },
        "id": "82Fwuh6-NRwR",
        "outputId": "753e82c6-567d-4ddb-c173-135ac32c334b"
      },
      "outputs": [
        {
<<<<<<< HEAD
          "data": {
            "text/html": [
              "<div>\n",
=======
          "output_type": "execute_result",
          "data": {
            "text/plain": [
              "                                                      text  label\n",
              "3065142  Great Item!: This tea press prepares a nice cu...      1\n",
              "2215304  Never Looking Back: My only regret is that a n...      1\n",
              "402326   Absolutely Fab!: Dr. Seuss has always been a f...      1\n",
              "1970157  The Tempest Review: The Tempest is a play fill...      1\n",
              "1949880  I hate this toy! Unstable and falls apart: Thi...      0"
            ],
            "text/html": [
              "\n",
              "  <div id=\"df-c889bffe-3eba-42ff-be99-a4a773de4752\" class=\"colab-df-container\">\n",
              "    <div>\n",
>>>>>>> 0862d274a98ad802023ec61d11ede0de6bb71e1d
              "<style scoped>\n",
              "    .dataframe tbody tr th:only-of-type {\n",
              "        vertical-align: middle;\n",
              "    }\n",
              "\n",
              "    .dataframe tbody tr th {\n",
              "        vertical-align: top;\n",
              "    }\n",
              "\n",
              "    .dataframe thead th {\n",
              "        text-align: right;\n",
              "    }\n",
              "</style>\n",
              "<table border=\"1\" class=\"dataframe\">\n",
              "  <thead>\n",
              "    <tr style=\"text-align: right;\">\n",
              "      <th></th>\n",
              "      <th>text</th>\n",
              "      <th>label</th>\n",
              "    </tr>\n",
              "  </thead>\n",
              "  <tbody>\n",
              "    <tr>\n",
<<<<<<< HEAD
              "      <th>1559061</th>\n",
              "      <td>isn't that great: this cd isn't all that great...</td>\n",
              "      <td>0</td>\n",
              "    </tr>\n",
              "    <tr>\n",
              "      <th>420646</th>\n",
              "      <td>Real Mediocre Late 90's stuff: 1998, probably ...</td>\n",
              "      <td>0</td>\n",
              "    </tr>\n",
              "    <tr>\n",
              "      <th>705221</th>\n",
              "      <td>Country music with an attitude!!!: Shania Twai...</td>\n",
              "      <td>1</td>\n",
              "    </tr>\n",
              "    <tr>\n",
              "      <th>3176663</th>\n",
              "      <td>Perfect Wedding Ceremony Music: This CD was ex...</td>\n",
              "      <td>1</td>\n",
              "    </tr>\n",
              "    <tr>\n",
              "      <th>546329</th>\n",
              "      <td>Awesome movie!: However, the print is a bit gr...</td>\n",
              "      <td>1</td>\n",
              "    </tr>\n",
              "  </tbody>\n",
              "</table>\n",
              "</div>"
            ],
            "text/plain": [
              "                                                      text  label\n",
              "1559061  isn't that great: this cd isn't all that great...      0\n",
              "420646   Real Mediocre Late 90's stuff: 1998, probably ...      0\n",
              "705221   Country music with an attitude!!!: Shania Twai...      1\n",
              "3176663  Perfect Wedding Ceremony Music: This CD was ex...      1\n",
              "546329   Awesome movie!: However, the print is a bit gr...      1"
            ]
          },
          "execution_count": 27,
          "metadata": {},
          "output_type": "execute_result"
=======
              "      <th>3065142</th>\n",
              "      <td>Great Item!: This tea press prepares a nice cu...</td>\n",
              "      <td>1</td>\n",
              "    </tr>\n",
              "    <tr>\n",
              "      <th>2215304</th>\n",
              "      <td>Never Looking Back: My only regret is that a n...</td>\n",
              "      <td>1</td>\n",
              "    </tr>\n",
              "    <tr>\n",
              "      <th>402326</th>\n",
              "      <td>Absolutely Fab!: Dr. Seuss has always been a f...</td>\n",
              "      <td>1</td>\n",
              "    </tr>\n",
              "    <tr>\n",
              "      <th>1970157</th>\n",
              "      <td>The Tempest Review: The Tempest is a play fill...</td>\n",
              "      <td>1</td>\n",
              "    </tr>\n",
              "    <tr>\n",
              "      <th>1949880</th>\n",
              "      <td>I hate this toy! Unstable and falls apart: Thi...</td>\n",
              "      <td>0</td>\n",
              "    </tr>\n",
              "  </tbody>\n",
              "</table>\n",
              "</div>\n",
              "    <div class=\"colab-df-buttons\">\n",
              "\n",
              "  <div class=\"colab-df-container\">\n",
              "    <button class=\"colab-df-convert\" onclick=\"convertToInteractive('df-c889bffe-3eba-42ff-be99-a4a773de4752')\"\n",
              "            title=\"Convert this dataframe to an interactive table.\"\n",
              "            style=\"display:none;\">\n",
              "\n",
              "  <svg xmlns=\"http://www.w3.org/2000/svg\" height=\"24px\" viewBox=\"0 -960 960 960\">\n",
              "    <path d=\"M120-120v-720h720v720H120Zm60-500h600v-160H180v160Zm220 220h160v-160H400v160Zm0 220h160v-160H400v160ZM180-400h160v-160H180v160Zm440 0h160v-160H620v160ZM180-180h160v-160H180v160Zm440 0h160v-160H620v160Z\"/>\n",
              "  </svg>\n",
              "    </button>\n",
              "\n",
              "  <style>\n",
              "    .colab-df-container {\n",
              "      display:flex;\n",
              "      gap: 12px;\n",
              "    }\n",
              "\n",
              "    .colab-df-convert {\n",
              "      background-color: #E8F0FE;\n",
              "      border: none;\n",
              "      border-radius: 50%;\n",
              "      cursor: pointer;\n",
              "      display: none;\n",
              "      fill: #1967D2;\n",
              "      height: 32px;\n",
              "      padding: 0 0 0 0;\n",
              "      width: 32px;\n",
              "    }\n",
              "\n",
              "    .colab-df-convert:hover {\n",
              "      background-color: #E2EBFA;\n",
              "      box-shadow: 0px 1px 2px rgba(60, 64, 67, 0.3), 0px 1px 3px 1px rgba(60, 64, 67, 0.15);\n",
              "      fill: #174EA6;\n",
              "    }\n",
              "\n",
              "    .colab-df-buttons div {\n",
              "      margin-bottom: 4px;\n",
              "    }\n",
              "\n",
              "    [theme=dark] .colab-df-convert {\n",
              "      background-color: #3B4455;\n",
              "      fill: #D2E3FC;\n",
              "    }\n",
              "\n",
              "    [theme=dark] .colab-df-convert:hover {\n",
              "      background-color: #434B5C;\n",
              "      box-shadow: 0px 1px 3px 1px rgba(0, 0, 0, 0.15);\n",
              "      filter: drop-shadow(0px 1px 2px rgba(0, 0, 0, 0.3));\n",
              "      fill: #FFFFFF;\n",
              "    }\n",
              "  </style>\n",
              "\n",
              "    <script>\n",
              "      const buttonEl =\n",
              "        document.querySelector('#df-c889bffe-3eba-42ff-be99-a4a773de4752 button.colab-df-convert');\n",
              "      buttonEl.style.display =\n",
              "        google.colab.kernel.accessAllowed ? 'block' : 'none';\n",
              "\n",
              "      async function convertToInteractive(key) {\n",
              "        const element = document.querySelector('#df-c889bffe-3eba-42ff-be99-a4a773de4752');\n",
              "        const dataTable =\n",
              "          await google.colab.kernel.invokeFunction('convertToInteractive',\n",
              "                                                    [key], {});\n",
              "        if (!dataTable) return;\n",
              "\n",
              "        const docLinkHtml = 'Like what you see? Visit the ' +\n",
              "          '<a target=\"_blank\" href=https://colab.research.google.com/notebooks/data_table.ipynb>data table notebook</a>'\n",
              "          + ' to learn more about interactive tables.';\n",
              "        element.innerHTML = '';\n",
              "        dataTable['output_type'] = 'display_data';\n",
              "        await google.colab.output.renderOutput(dataTable, element);\n",
              "        const docLink = document.createElement('div');\n",
              "        docLink.innerHTML = docLinkHtml;\n",
              "        element.appendChild(docLink);\n",
              "      }\n",
              "    </script>\n",
              "  </div>\n",
              "\n",
              "\n",
              "<div id=\"df-78b85996-bedb-4705-b80b-3f9eb2090a0a\">\n",
              "  <button class=\"colab-df-quickchart\" onclick=\"quickchart('df-78b85996-bedb-4705-b80b-3f9eb2090a0a')\"\n",
              "            title=\"Suggest charts\"\n",
              "            style=\"display:none;\">\n",
              "\n",
              "<svg xmlns=\"http://www.w3.org/2000/svg\" height=\"24px\"viewBox=\"0 0 24 24\"\n",
              "     width=\"24px\">\n",
              "    <g>\n",
              "        <path d=\"M19 3H5c-1.1 0-2 .9-2 2v14c0 1.1.9 2 2 2h14c1.1 0 2-.9 2-2V5c0-1.1-.9-2-2-2zM9 17H7v-7h2v7zm4 0h-2V7h2v10zm4 0h-2v-4h2v4z\"/>\n",
              "    </g>\n",
              "</svg>\n",
              "  </button>\n",
              "\n",
              "<style>\n",
              "  .colab-df-quickchart {\n",
              "      --bg-color: #E8F0FE;\n",
              "      --fill-color: #1967D2;\n",
              "      --hover-bg-color: #E2EBFA;\n",
              "      --hover-fill-color: #174EA6;\n",
              "      --disabled-fill-color: #AAA;\n",
              "      --disabled-bg-color: #DDD;\n",
              "  }\n",
              "\n",
              "  [theme=dark] .colab-df-quickchart {\n",
              "      --bg-color: #3B4455;\n",
              "      --fill-color: #D2E3FC;\n",
              "      --hover-bg-color: #434B5C;\n",
              "      --hover-fill-color: #FFFFFF;\n",
              "      --disabled-bg-color: #3B4455;\n",
              "      --disabled-fill-color: #666;\n",
              "  }\n",
              "\n",
              "  .colab-df-quickchart {\n",
              "    background-color: var(--bg-color);\n",
              "    border: none;\n",
              "    border-radius: 50%;\n",
              "    cursor: pointer;\n",
              "    display: none;\n",
              "    fill: var(--fill-color);\n",
              "    height: 32px;\n",
              "    padding: 0;\n",
              "    width: 32px;\n",
              "  }\n",
              "\n",
              "  .colab-df-quickchart:hover {\n",
              "    background-color: var(--hover-bg-color);\n",
              "    box-shadow: 0 1px 2px rgba(60, 64, 67, 0.3), 0 1px 3px 1px rgba(60, 64, 67, 0.15);\n",
              "    fill: var(--button-hover-fill-color);\n",
              "  }\n",
              "\n",
              "  .colab-df-quickchart-complete:disabled,\n",
              "  .colab-df-quickchart-complete:disabled:hover {\n",
              "    background-color: var(--disabled-bg-color);\n",
              "    fill: var(--disabled-fill-color);\n",
              "    box-shadow: none;\n",
              "  }\n",
              "\n",
              "  .colab-df-spinner {\n",
              "    border: 2px solid var(--fill-color);\n",
              "    border-color: transparent;\n",
              "    border-bottom-color: var(--fill-color);\n",
              "    animation:\n",
              "      spin 1s steps(1) infinite;\n",
              "  }\n",
              "\n",
              "  @keyframes spin {\n",
              "    0% {\n",
              "      border-color: transparent;\n",
              "      border-bottom-color: var(--fill-color);\n",
              "      border-left-color: var(--fill-color);\n",
              "    }\n",
              "    20% {\n",
              "      border-color: transparent;\n",
              "      border-left-color: var(--fill-color);\n",
              "      border-top-color: var(--fill-color);\n",
              "    }\n",
              "    30% {\n",
              "      border-color: transparent;\n",
              "      border-left-color: var(--fill-color);\n",
              "      border-top-color: var(--fill-color);\n",
              "      border-right-color: var(--fill-color);\n",
              "    }\n",
              "    40% {\n",
              "      border-color: transparent;\n",
              "      border-right-color: var(--fill-color);\n",
              "      border-top-color: var(--fill-color);\n",
              "    }\n",
              "    60% {\n",
              "      border-color: transparent;\n",
              "      border-right-color: var(--fill-color);\n",
              "    }\n",
              "    80% {\n",
              "      border-color: transparent;\n",
              "      border-right-color: var(--fill-color);\n",
              "      border-bottom-color: var(--fill-color);\n",
              "    }\n",
              "    90% {\n",
              "      border-color: transparent;\n",
              "      border-bottom-color: var(--fill-color);\n",
              "    }\n",
              "  }\n",
              "</style>\n",
              "\n",
              "  <script>\n",
              "    async function quickchart(key) {\n",
              "      const quickchartButtonEl =\n",
              "        document.querySelector('#' + key + ' button');\n",
              "      quickchartButtonEl.disabled = true;  // To prevent multiple clicks.\n",
              "      quickchartButtonEl.classList.add('colab-df-spinner');\n",
              "      try {\n",
              "        const charts = await google.colab.kernel.invokeFunction(\n",
              "            'suggestCharts', [key], {});\n",
              "      } catch (error) {\n",
              "        console.error('Error during call to suggestCharts:', error);\n",
              "      }\n",
              "      quickchartButtonEl.classList.remove('colab-df-spinner');\n",
              "      quickchartButtonEl.classList.add('colab-df-quickchart-complete');\n",
              "    }\n",
              "    (() => {\n",
              "      let quickchartButtonEl =\n",
              "        document.querySelector('#df-78b85996-bedb-4705-b80b-3f9eb2090a0a button');\n",
              "      quickchartButtonEl.style.display =\n",
              "        google.colab.kernel.accessAllowed ? 'block' : 'none';\n",
              "    })();\n",
              "  </script>\n",
              "</div>\n",
              "    </div>\n",
              "  </div>\n"
            ]
          },
          "metadata": {},
          "execution_count": 13
>>>>>>> 0862d274a98ad802023ec61d11ede0de6bb71e1d
        }
      ],
      "source": [
        "df_train['label'] = df_train['text'].apply(lambda row: 0 if row.split(' ')[0] == '__label__1' else 1)\n",
        "df_train['text'] = df_train['text'].apply(lambda row: ' '.join(row.split(' ')[1:]))\n",
        "df_train.head()"
      ]
    },
    {
      "cell_type": "markdown",
      "metadata": {
        "id": "rFGVQWf4NRwR"
      },
      "source": [
        "great.. let's read test data too"
      ]
    },
    {
      "cell_type": "code",
<<<<<<< HEAD
      "execution_count": 28,
=======
      "execution_count": 14,
>>>>>>> 0862d274a98ad802023ec61d11ede0de6bb71e1d
      "metadata": {
        "colab": {
          "base_uri": "https://localhost:8080/",
          "height": 206
        },
        "id": "LTl3klKNNRwR",
        "outputId": "4b349ef1-ccc1-4a6b-8182-f84d0aed6473"
      },
      "outputs": [
        {
<<<<<<< HEAD
          "data": {
            "text/html": [
              "<div>\n",
=======
          "output_type": "execute_result",
          "data": {
            "text/plain": [
              "                                                     text  label\n",
              "181031  __label__2 To G. Kubrak :....this album is 5 s...    NaN\n",
              "220001  __label__2 The Wu-Tang-iest cd ever!: What a g...    NaN\n",
              "183834  __label__2 Where Is Everyone?: This book was t...    NaN\n",
              "224027  __label__1 missing pages: Very disappointed to...    NaN\n",
              "203654  __label__2 Persevering in difficult circumstan...    NaN"
            ],
            "text/html": [
              "\n",
              "  <div id=\"df-2720df67-b5cb-4fbb-b091-d72856c3b512\" class=\"colab-df-container\">\n",
              "    <div>\n",
>>>>>>> 0862d274a98ad802023ec61d11ede0de6bb71e1d
              "<style scoped>\n",
              "    .dataframe tbody tr th:only-of-type {\n",
              "        vertical-align: middle;\n",
              "    }\n",
              "\n",
              "    .dataframe tbody tr th {\n",
              "        vertical-align: top;\n",
              "    }\n",
              "\n",
              "    .dataframe thead th {\n",
              "        text-align: right;\n",
              "    }\n",
              "</style>\n",
              "<table border=\"1\" class=\"dataframe\">\n",
              "  <thead>\n",
              "    <tr style=\"text-align: right;\">\n",
              "      <th></th>\n",
              "      <th>text</th>\n",
              "      <th>label</th>\n",
              "    </tr>\n",
              "  </thead>\n",
              "  <tbody>\n",
              "    <tr>\n",
<<<<<<< HEAD
              "      <th>43269</th>\n",
              "      <td>__label__2 very good deal: looking for this fo...</td>\n",
              "      <td>NaN</td>\n",
              "    </tr>\n",
              "    <tr>\n",
              "      <th>247270</th>\n",
              "      <td>__label__2 Logical but not radical: O'Reilly's...</td>\n",
              "      <td>NaN</td>\n",
              "    </tr>\n",
              "    <tr>\n",
              "      <th>267554</th>\n",
              "      <td>__label__1 Muddy Concept Never Clears: With th...</td>\n",
              "      <td>NaN</td>\n",
              "    </tr>\n",
              "    <tr>\n",
              "      <th>263962</th>\n",
              "      <td>__label__2 A must have in one's collection!: M...</td>\n",
              "      <td>NaN</td>\n",
              "    </tr>\n",
              "    <tr>\n",
              "      <th>322383</th>\n",
              "      <td>__label__2 Glamorous Biography: Here is some H...</td>\n",
=======
              "      <th>181031</th>\n",
              "      <td>__label__2 To G. Kubrak :....this album is 5 s...</td>\n",
              "      <td>NaN</td>\n",
              "    </tr>\n",
              "    <tr>\n",
              "      <th>220001</th>\n",
              "      <td>__label__2 The Wu-Tang-iest cd ever!: What a g...</td>\n",
              "      <td>NaN</td>\n",
              "    </tr>\n",
              "    <tr>\n",
              "      <th>183834</th>\n",
              "      <td>__label__2 Where Is Everyone?: This book was t...</td>\n",
              "      <td>NaN</td>\n",
              "    </tr>\n",
              "    <tr>\n",
              "      <th>224027</th>\n",
              "      <td>__label__1 missing pages: Very disappointed to...</td>\n",
              "      <td>NaN</td>\n",
              "    </tr>\n",
              "    <tr>\n",
              "      <th>203654</th>\n",
              "      <td>__label__2 Persevering in difficult circumstan...</td>\n",
>>>>>>> 0862d274a98ad802023ec61d11ede0de6bb71e1d
              "      <td>NaN</td>\n",
              "    </tr>\n",
              "  </tbody>\n",
              "</table>\n",
<<<<<<< HEAD
              "</div>"
            ],
            "text/plain": [
              "                                                     text  label\n",
              "43269   __label__2 very good deal: looking for this fo...    NaN\n",
              "247270  __label__2 Logical but not radical: O'Reilly's...    NaN\n",
              "267554  __label__1 Muddy Concept Never Clears: With th...    NaN\n",
              "263962  __label__2 A must have in one's collection!: M...    NaN\n",
              "322383  __label__2 Glamorous Biography: Here is some H...    NaN"
            ]
          },
          "execution_count": 28,
          "metadata": {},
          "output_type": "execute_result"
        }
      ],
      "source": [
        "df_test = pd.read_csv(r'dataset\\test.ft.txt', delimiter='\\t', header=None, names=['text', 'label']).sample(10000)\n",
=======
              "</div>\n",
              "    <div class=\"colab-df-buttons\">\n",
              "\n",
              "  <div class=\"colab-df-container\">\n",
              "    <button class=\"colab-df-convert\" onclick=\"convertToInteractive('df-2720df67-b5cb-4fbb-b091-d72856c3b512')\"\n",
              "            title=\"Convert this dataframe to an interactive table.\"\n",
              "            style=\"display:none;\">\n",
              "\n",
              "  <svg xmlns=\"http://www.w3.org/2000/svg\" height=\"24px\" viewBox=\"0 -960 960 960\">\n",
              "    <path d=\"M120-120v-720h720v720H120Zm60-500h600v-160H180v160Zm220 220h160v-160H400v160Zm0 220h160v-160H400v160ZM180-400h160v-160H180v160Zm440 0h160v-160H620v160ZM180-180h160v-160H180v160Zm440 0h160v-160H620v160Z\"/>\n",
              "  </svg>\n",
              "    </button>\n",
              "\n",
              "  <style>\n",
              "    .colab-df-container {\n",
              "      display:flex;\n",
              "      gap: 12px;\n",
              "    }\n",
              "\n",
              "    .colab-df-convert {\n",
              "      background-color: #E8F0FE;\n",
              "      border: none;\n",
              "      border-radius: 50%;\n",
              "      cursor: pointer;\n",
              "      display: none;\n",
              "      fill: #1967D2;\n",
              "      height: 32px;\n",
              "      padding: 0 0 0 0;\n",
              "      width: 32px;\n",
              "    }\n",
              "\n",
              "    .colab-df-convert:hover {\n",
              "      background-color: #E2EBFA;\n",
              "      box-shadow: 0px 1px 2px rgba(60, 64, 67, 0.3), 0px 1px 3px 1px rgba(60, 64, 67, 0.15);\n",
              "      fill: #174EA6;\n",
              "    }\n",
              "\n",
              "    .colab-df-buttons div {\n",
              "      margin-bottom: 4px;\n",
              "    }\n",
              "\n",
              "    [theme=dark] .colab-df-convert {\n",
              "      background-color: #3B4455;\n",
              "      fill: #D2E3FC;\n",
              "    }\n",
              "\n",
              "    [theme=dark] .colab-df-convert:hover {\n",
              "      background-color: #434B5C;\n",
              "      box-shadow: 0px 1px 3px 1px rgba(0, 0, 0, 0.15);\n",
              "      filter: drop-shadow(0px 1px 2px rgba(0, 0, 0, 0.3));\n",
              "      fill: #FFFFFF;\n",
              "    }\n",
              "  </style>\n",
              "\n",
              "    <script>\n",
              "      const buttonEl =\n",
              "        document.querySelector('#df-2720df67-b5cb-4fbb-b091-d72856c3b512 button.colab-df-convert');\n",
              "      buttonEl.style.display =\n",
              "        google.colab.kernel.accessAllowed ? 'block' : 'none';\n",
              "\n",
              "      async function convertToInteractive(key) {\n",
              "        const element = document.querySelector('#df-2720df67-b5cb-4fbb-b091-d72856c3b512');\n",
              "        const dataTable =\n",
              "          await google.colab.kernel.invokeFunction('convertToInteractive',\n",
              "                                                    [key], {});\n",
              "        if (!dataTable) return;\n",
              "\n",
              "        const docLinkHtml = 'Like what you see? Visit the ' +\n",
              "          '<a target=\"_blank\" href=https://colab.research.google.com/notebooks/data_table.ipynb>data table notebook</a>'\n",
              "          + ' to learn more about interactive tables.';\n",
              "        element.innerHTML = '';\n",
              "        dataTable['output_type'] = 'display_data';\n",
              "        await google.colab.output.renderOutput(dataTable, element);\n",
              "        const docLink = document.createElement('div');\n",
              "        docLink.innerHTML = docLinkHtml;\n",
              "        element.appendChild(docLink);\n",
              "      }\n",
              "    </script>\n",
              "  </div>\n",
              "\n",
              "\n",
              "<div id=\"df-424cf1be-9b08-4d41-9af7-cceb06860581\">\n",
              "  <button class=\"colab-df-quickchart\" onclick=\"quickchart('df-424cf1be-9b08-4d41-9af7-cceb06860581')\"\n",
              "            title=\"Suggest charts\"\n",
              "            style=\"display:none;\">\n",
              "\n",
              "<svg xmlns=\"http://www.w3.org/2000/svg\" height=\"24px\"viewBox=\"0 0 24 24\"\n",
              "     width=\"24px\">\n",
              "    <g>\n",
              "        <path d=\"M19 3H5c-1.1 0-2 .9-2 2v14c0 1.1.9 2 2 2h14c1.1 0 2-.9 2-2V5c0-1.1-.9-2-2-2zM9 17H7v-7h2v7zm4 0h-2V7h2v10zm4 0h-2v-4h2v4z\"/>\n",
              "    </g>\n",
              "</svg>\n",
              "  </button>\n",
              "\n",
              "<style>\n",
              "  .colab-df-quickchart {\n",
              "      --bg-color: #E8F0FE;\n",
              "      --fill-color: #1967D2;\n",
              "      --hover-bg-color: #E2EBFA;\n",
              "      --hover-fill-color: #174EA6;\n",
              "      --disabled-fill-color: #AAA;\n",
              "      --disabled-bg-color: #DDD;\n",
              "  }\n",
              "\n",
              "  [theme=dark] .colab-df-quickchart {\n",
              "      --bg-color: #3B4455;\n",
              "      --fill-color: #D2E3FC;\n",
              "      --hover-bg-color: #434B5C;\n",
              "      --hover-fill-color: #FFFFFF;\n",
              "      --disabled-bg-color: #3B4455;\n",
              "      --disabled-fill-color: #666;\n",
              "  }\n",
              "\n",
              "  .colab-df-quickchart {\n",
              "    background-color: var(--bg-color);\n",
              "    border: none;\n",
              "    border-radius: 50%;\n",
              "    cursor: pointer;\n",
              "    display: none;\n",
              "    fill: var(--fill-color);\n",
              "    height: 32px;\n",
              "    padding: 0;\n",
              "    width: 32px;\n",
              "  }\n",
              "\n",
              "  .colab-df-quickchart:hover {\n",
              "    background-color: var(--hover-bg-color);\n",
              "    box-shadow: 0 1px 2px rgba(60, 64, 67, 0.3), 0 1px 3px 1px rgba(60, 64, 67, 0.15);\n",
              "    fill: var(--button-hover-fill-color);\n",
              "  }\n",
              "\n",
              "  .colab-df-quickchart-complete:disabled,\n",
              "  .colab-df-quickchart-complete:disabled:hover {\n",
              "    background-color: var(--disabled-bg-color);\n",
              "    fill: var(--disabled-fill-color);\n",
              "    box-shadow: none;\n",
              "  }\n",
              "\n",
              "  .colab-df-spinner {\n",
              "    border: 2px solid var(--fill-color);\n",
              "    border-color: transparent;\n",
              "    border-bottom-color: var(--fill-color);\n",
              "    animation:\n",
              "      spin 1s steps(1) infinite;\n",
              "  }\n",
              "\n",
              "  @keyframes spin {\n",
              "    0% {\n",
              "      border-color: transparent;\n",
              "      border-bottom-color: var(--fill-color);\n",
              "      border-left-color: var(--fill-color);\n",
              "    }\n",
              "    20% {\n",
              "      border-color: transparent;\n",
              "      border-left-color: var(--fill-color);\n",
              "      border-top-color: var(--fill-color);\n",
              "    }\n",
              "    30% {\n",
              "      border-color: transparent;\n",
              "      border-left-color: var(--fill-color);\n",
              "      border-top-color: var(--fill-color);\n",
              "      border-right-color: var(--fill-color);\n",
              "    }\n",
              "    40% {\n",
              "      border-color: transparent;\n",
              "      border-right-color: var(--fill-color);\n",
              "      border-top-color: var(--fill-color);\n",
              "    }\n",
              "    60% {\n",
              "      border-color: transparent;\n",
              "      border-right-color: var(--fill-color);\n",
              "    }\n",
              "    80% {\n",
              "      border-color: transparent;\n",
              "      border-right-color: var(--fill-color);\n",
              "      border-bottom-color: var(--fill-color);\n",
              "    }\n",
              "    90% {\n",
              "      border-color: transparent;\n",
              "      border-bottom-color: var(--fill-color);\n",
              "    }\n",
              "  }\n",
              "</style>\n",
              "\n",
              "  <script>\n",
              "    async function quickchart(key) {\n",
              "      const quickchartButtonEl =\n",
              "        document.querySelector('#' + key + ' button');\n",
              "      quickchartButtonEl.disabled = true;  // To prevent multiple clicks.\n",
              "      quickchartButtonEl.classList.add('colab-df-spinner');\n",
              "      try {\n",
              "        const charts = await google.colab.kernel.invokeFunction(\n",
              "            'suggestCharts', [key], {});\n",
              "      } catch (error) {\n",
              "        console.error('Error during call to suggestCharts:', error);\n",
              "      }\n",
              "      quickchartButtonEl.classList.remove('colab-df-spinner');\n",
              "      quickchartButtonEl.classList.add('colab-df-quickchart-complete');\n",
              "    }\n",
              "    (() => {\n",
              "      let quickchartButtonEl =\n",
              "        document.querySelector('#df-424cf1be-9b08-4d41-9af7-cceb06860581 button');\n",
              "      quickchartButtonEl.style.display =\n",
              "        google.colab.kernel.accessAllowed ? 'block' : 'none';\n",
              "    })();\n",
              "  </script>\n",
              "</div>\n",
              "    </div>\n",
              "  </div>\n"
            ]
          },
          "metadata": {},
          "execution_count": 14
        }
      ],
      "source": [
        "df_test = pd.read_csv(r'dataset/test.ft.txt.bz2', delimiter='\\t', header=None, names=['text', 'label']).sample(20000)\n",
>>>>>>> 0862d274a98ad802023ec61d11ede0de6bb71e1d
        "df_test.head()"
      ]
    },
    {
      "cell_type": "code",
<<<<<<< HEAD
      "execution_count": 29,
=======
      "execution_count": 15,
>>>>>>> 0862d274a98ad802023ec61d11ede0de6bb71e1d
      "metadata": {
        "colab": {
          "base_uri": "https://localhost:8080/",
          "height": 206
        },
        "id": "jBTaWHuWNRwS",
        "outputId": "7b05db36-3e4c-4e18-f5c5-bed1476e1244"
      },
      "outputs": [
        {
<<<<<<< HEAD
          "data": {
            "text/html": [
              "<div>\n",
=======
          "output_type": "execute_result",
          "data": {
            "text/plain": [
              "                                                     text  label\n",
              "181031  To G. Kubrak :....this album is 5 stars: First...      1\n",
              "220001  The Wu-Tang-iest cd ever!: What a great album ...      1\n",
              "183834  Where Is Everyone?: This book was totally awes...      1\n",
              "224027  missing pages: Very disappointed to find that ...      0\n",
              "203654  Persevering in difficult circumstances.: This ...      1"
            ],
            "text/html": [
              "\n",
              "  <div id=\"df-d718a1de-9162-43e5-9197-09ba2de588a4\" class=\"colab-df-container\">\n",
              "    <div>\n",
>>>>>>> 0862d274a98ad802023ec61d11ede0de6bb71e1d
              "<style scoped>\n",
              "    .dataframe tbody tr th:only-of-type {\n",
              "        vertical-align: middle;\n",
              "    }\n",
              "\n",
              "    .dataframe tbody tr th {\n",
              "        vertical-align: top;\n",
              "    }\n",
              "\n",
              "    .dataframe thead th {\n",
              "        text-align: right;\n",
              "    }\n",
              "</style>\n",
              "<table border=\"1\" class=\"dataframe\">\n",
              "  <thead>\n",
              "    <tr style=\"text-align: right;\">\n",
              "      <th></th>\n",
              "      <th>text</th>\n",
              "      <th>label</th>\n",
              "    </tr>\n",
              "  </thead>\n",
              "  <tbody>\n",
              "    <tr>\n",
<<<<<<< HEAD
              "      <th>43269</th>\n",
              "      <td>very good deal: looking for this for a long ti...</td>\n",
              "      <td>1</td>\n",
              "    </tr>\n",
              "    <tr>\n",
              "      <th>247270</th>\n",
              "      <td>Logical but not radical: O'Reilly's exceptiona...</td>\n",
              "      <td>1</td>\n",
              "    </tr>\n",
              "    <tr>\n",
              "      <th>267554</th>\n",
              "      <td>Muddy Concept Never Clears: With the cast that...</td>\n",
              "      <td>0</td>\n",
              "    </tr>\n",
              "    <tr>\n",
              "      <th>263962</th>\n",
              "      <td>A must have in one's collection!: Man, am i gl...</td>\n",
              "      <td>1</td>\n",
              "    </tr>\n",
              "    <tr>\n",
              "      <th>322383</th>\n",
              "      <td>Glamorous Biography: Here is some Hollywood hi...</td>\n",
=======
              "      <th>181031</th>\n",
              "      <td>To G. Kubrak :....this album is 5 stars: First...</td>\n",
              "      <td>1</td>\n",
              "    </tr>\n",
              "    <tr>\n",
              "      <th>220001</th>\n",
              "      <td>The Wu-Tang-iest cd ever!: What a great album ...</td>\n",
              "      <td>1</td>\n",
              "    </tr>\n",
              "    <tr>\n",
              "      <th>183834</th>\n",
              "      <td>Where Is Everyone?: This book was totally awes...</td>\n",
              "      <td>1</td>\n",
              "    </tr>\n",
              "    <tr>\n",
              "      <th>224027</th>\n",
              "      <td>missing pages: Very disappointed to find that ...</td>\n",
              "      <td>0</td>\n",
              "    </tr>\n",
              "    <tr>\n",
              "      <th>203654</th>\n",
              "      <td>Persevering in difficult circumstances.: This ...</td>\n",
>>>>>>> 0862d274a98ad802023ec61d11ede0de6bb71e1d
              "      <td>1</td>\n",
              "    </tr>\n",
              "  </tbody>\n",
              "</table>\n",
<<<<<<< HEAD
              "</div>"
            ],
            "text/plain": [
              "                                                     text  label\n",
              "43269   very good deal: looking for this for a long ti...      1\n",
              "247270  Logical but not radical: O'Reilly's exceptiona...      1\n",
              "267554  Muddy Concept Never Clears: With the cast that...      0\n",
              "263962  A must have in one's collection!: Man, am i gl...      1\n",
              "322383  Glamorous Biography: Here is some Hollywood hi...      1"
            ]
          },
          "execution_count": 29,
          "metadata": {},
          "output_type": "execute_result"
=======
              "</div>\n",
              "    <div class=\"colab-df-buttons\">\n",
              "\n",
              "  <div class=\"colab-df-container\">\n",
              "    <button class=\"colab-df-convert\" onclick=\"convertToInteractive('df-d718a1de-9162-43e5-9197-09ba2de588a4')\"\n",
              "            title=\"Convert this dataframe to an interactive table.\"\n",
              "            style=\"display:none;\">\n",
              "\n",
              "  <svg xmlns=\"http://www.w3.org/2000/svg\" height=\"24px\" viewBox=\"0 -960 960 960\">\n",
              "    <path d=\"M120-120v-720h720v720H120Zm60-500h600v-160H180v160Zm220 220h160v-160H400v160Zm0 220h160v-160H400v160ZM180-400h160v-160H180v160Zm440 0h160v-160H620v160ZM180-180h160v-160H180v160Zm440 0h160v-160H620v160Z\"/>\n",
              "  </svg>\n",
              "    </button>\n",
              "\n",
              "  <style>\n",
              "    .colab-df-container {\n",
              "      display:flex;\n",
              "      gap: 12px;\n",
              "    }\n",
              "\n",
              "    .colab-df-convert {\n",
              "      background-color: #E8F0FE;\n",
              "      border: none;\n",
              "      border-radius: 50%;\n",
              "      cursor: pointer;\n",
              "      display: none;\n",
              "      fill: #1967D2;\n",
              "      height: 32px;\n",
              "      padding: 0 0 0 0;\n",
              "      width: 32px;\n",
              "    }\n",
              "\n",
              "    .colab-df-convert:hover {\n",
              "      background-color: #E2EBFA;\n",
              "      box-shadow: 0px 1px 2px rgba(60, 64, 67, 0.3), 0px 1px 3px 1px rgba(60, 64, 67, 0.15);\n",
              "      fill: #174EA6;\n",
              "    }\n",
              "\n",
              "    .colab-df-buttons div {\n",
              "      margin-bottom: 4px;\n",
              "    }\n",
              "\n",
              "    [theme=dark] .colab-df-convert {\n",
              "      background-color: #3B4455;\n",
              "      fill: #D2E3FC;\n",
              "    }\n",
              "\n",
              "    [theme=dark] .colab-df-convert:hover {\n",
              "      background-color: #434B5C;\n",
              "      box-shadow: 0px 1px 3px 1px rgba(0, 0, 0, 0.15);\n",
              "      filter: drop-shadow(0px 1px 2px rgba(0, 0, 0, 0.3));\n",
              "      fill: #FFFFFF;\n",
              "    }\n",
              "  </style>\n",
              "\n",
              "    <script>\n",
              "      const buttonEl =\n",
              "        document.querySelector('#df-d718a1de-9162-43e5-9197-09ba2de588a4 button.colab-df-convert');\n",
              "      buttonEl.style.display =\n",
              "        google.colab.kernel.accessAllowed ? 'block' : 'none';\n",
              "\n",
              "      async function convertToInteractive(key) {\n",
              "        const element = document.querySelector('#df-d718a1de-9162-43e5-9197-09ba2de588a4');\n",
              "        const dataTable =\n",
              "          await google.colab.kernel.invokeFunction('convertToInteractive',\n",
              "                                                    [key], {});\n",
              "        if (!dataTable) return;\n",
              "\n",
              "        const docLinkHtml = 'Like what you see? Visit the ' +\n",
              "          '<a target=\"_blank\" href=https://colab.research.google.com/notebooks/data_table.ipynb>data table notebook</a>'\n",
              "          + ' to learn more about interactive tables.';\n",
              "        element.innerHTML = '';\n",
              "        dataTable['output_type'] = 'display_data';\n",
              "        await google.colab.output.renderOutput(dataTable, element);\n",
              "        const docLink = document.createElement('div');\n",
              "        docLink.innerHTML = docLinkHtml;\n",
              "        element.appendChild(docLink);\n",
              "      }\n",
              "    </script>\n",
              "  </div>\n",
              "\n",
              "\n",
              "<div id=\"df-bee63cda-d042-40e7-8bf2-f6967482cfdc\">\n",
              "  <button class=\"colab-df-quickchart\" onclick=\"quickchart('df-bee63cda-d042-40e7-8bf2-f6967482cfdc')\"\n",
              "            title=\"Suggest charts\"\n",
              "            style=\"display:none;\">\n",
              "\n",
              "<svg xmlns=\"http://www.w3.org/2000/svg\" height=\"24px\"viewBox=\"0 0 24 24\"\n",
              "     width=\"24px\">\n",
              "    <g>\n",
              "        <path d=\"M19 3H5c-1.1 0-2 .9-2 2v14c0 1.1.9 2 2 2h14c1.1 0 2-.9 2-2V5c0-1.1-.9-2-2-2zM9 17H7v-7h2v7zm4 0h-2V7h2v10zm4 0h-2v-4h2v4z\"/>\n",
              "    </g>\n",
              "</svg>\n",
              "  </button>\n",
              "\n",
              "<style>\n",
              "  .colab-df-quickchart {\n",
              "      --bg-color: #E8F0FE;\n",
              "      --fill-color: #1967D2;\n",
              "      --hover-bg-color: #E2EBFA;\n",
              "      --hover-fill-color: #174EA6;\n",
              "      --disabled-fill-color: #AAA;\n",
              "      --disabled-bg-color: #DDD;\n",
              "  }\n",
              "\n",
              "  [theme=dark] .colab-df-quickchart {\n",
              "      --bg-color: #3B4455;\n",
              "      --fill-color: #D2E3FC;\n",
              "      --hover-bg-color: #434B5C;\n",
              "      --hover-fill-color: #FFFFFF;\n",
              "      --disabled-bg-color: #3B4455;\n",
              "      --disabled-fill-color: #666;\n",
              "  }\n",
              "\n",
              "  .colab-df-quickchart {\n",
              "    background-color: var(--bg-color);\n",
              "    border: none;\n",
              "    border-radius: 50%;\n",
              "    cursor: pointer;\n",
              "    display: none;\n",
              "    fill: var(--fill-color);\n",
              "    height: 32px;\n",
              "    padding: 0;\n",
              "    width: 32px;\n",
              "  }\n",
              "\n",
              "  .colab-df-quickchart:hover {\n",
              "    background-color: var(--hover-bg-color);\n",
              "    box-shadow: 0 1px 2px rgba(60, 64, 67, 0.3), 0 1px 3px 1px rgba(60, 64, 67, 0.15);\n",
              "    fill: var(--button-hover-fill-color);\n",
              "  }\n",
              "\n",
              "  .colab-df-quickchart-complete:disabled,\n",
              "  .colab-df-quickchart-complete:disabled:hover {\n",
              "    background-color: var(--disabled-bg-color);\n",
              "    fill: var(--disabled-fill-color);\n",
              "    box-shadow: none;\n",
              "  }\n",
              "\n",
              "  .colab-df-spinner {\n",
              "    border: 2px solid var(--fill-color);\n",
              "    border-color: transparent;\n",
              "    border-bottom-color: var(--fill-color);\n",
              "    animation:\n",
              "      spin 1s steps(1) infinite;\n",
              "  }\n",
              "\n",
              "  @keyframes spin {\n",
              "    0% {\n",
              "      border-color: transparent;\n",
              "      border-bottom-color: var(--fill-color);\n",
              "      border-left-color: var(--fill-color);\n",
              "    }\n",
              "    20% {\n",
              "      border-color: transparent;\n",
              "      border-left-color: var(--fill-color);\n",
              "      border-top-color: var(--fill-color);\n",
              "    }\n",
              "    30% {\n",
              "      border-color: transparent;\n",
              "      border-left-color: var(--fill-color);\n",
              "      border-top-color: var(--fill-color);\n",
              "      border-right-color: var(--fill-color);\n",
              "    }\n",
              "    40% {\n",
              "      border-color: transparent;\n",
              "      border-right-color: var(--fill-color);\n",
              "      border-top-color: var(--fill-color);\n",
              "    }\n",
              "    60% {\n",
              "      border-color: transparent;\n",
              "      border-right-color: var(--fill-color);\n",
              "    }\n",
              "    80% {\n",
              "      border-color: transparent;\n",
              "      border-right-color: var(--fill-color);\n",
              "      border-bottom-color: var(--fill-color);\n",
              "    }\n",
              "    90% {\n",
              "      border-color: transparent;\n",
              "      border-bottom-color: var(--fill-color);\n",
              "    }\n",
              "  }\n",
              "</style>\n",
              "\n",
              "  <script>\n",
              "    async function quickchart(key) {\n",
              "      const quickchartButtonEl =\n",
              "        document.querySelector('#' + key + ' button');\n",
              "      quickchartButtonEl.disabled = true;  // To prevent multiple clicks.\n",
              "      quickchartButtonEl.classList.add('colab-df-spinner');\n",
              "      try {\n",
              "        const charts = await google.colab.kernel.invokeFunction(\n",
              "            'suggestCharts', [key], {});\n",
              "      } catch (error) {\n",
              "        console.error('Error during call to suggestCharts:', error);\n",
              "      }\n",
              "      quickchartButtonEl.classList.remove('colab-df-spinner');\n",
              "      quickchartButtonEl.classList.add('colab-df-quickchart-complete');\n",
              "    }\n",
              "    (() => {\n",
              "      let quickchartButtonEl =\n",
              "        document.querySelector('#df-bee63cda-d042-40e7-8bf2-f6967482cfdc button');\n",
              "      quickchartButtonEl.style.display =\n",
              "        google.colab.kernel.accessAllowed ? 'block' : 'none';\n",
              "    })();\n",
              "  </script>\n",
              "</div>\n",
              "    </div>\n",
              "  </div>\n"
            ]
          },
          "metadata": {},
          "execution_count": 15
>>>>>>> 0862d274a98ad802023ec61d11ede0de6bb71e1d
        }
      ],
      "source": [
        "df_test['label'] = df_test['text'].apply(lambda row : 0 if row.split(' ')[0] == '__label__1' else 1)\n",
        "df_test['text'] = df_test['text'].apply(lambda row : ' '.join(row.split(' ')[1:]))\n",
        "df_test.head()"
      ]
    },
    {
      "cell_type": "markdown",
      "metadata": {
        "id": "tTXDI7hNNRwS"
      },
      "source": [
        "# Data Exploration"
      ]
    },
    {
      "cell_type": "code",
<<<<<<< HEAD
      "execution_count": 30,
=======
      "execution_count": 16,
>>>>>>> 0862d274a98ad802023ec61d11ede0de6bb71e1d
      "metadata": {
        "id": "QkUGBdiDNRwS"
      },
      "outputs": [],
      "source": [
        "import matplotlib.pyplot as plt\n",
        "import seaborn as sns"
      ]
    },
    {
      "cell_type": "code",
<<<<<<< HEAD
      "execution_count": 31,
=======
      "execution_count": 17,
>>>>>>> 0862d274a98ad802023ec61d11ede0de6bb71e1d
      "metadata": {
        "colab": {
          "base_uri": "https://localhost:8080/"
        },
        "id": "f6NOjZuUNRwS",
        "outputId": "f5115921-50f6-4869-de44-34203e8be121"
      },
      "outputs": [
        {
<<<<<<< HEAD
          "name": "stdout",
          "output_type": "stream",
          "text": [
            "<class 'pandas.core.frame.DataFrame'>\n",
            "Index: 50000 entries, 1559061 to 3433264\n",
            "Data columns (total 2 columns):\n",
            " #   Column  Non-Null Count  Dtype \n",
            "---  ------  --------------  ----- \n",
            " 0   text    50000 non-null  object\n",
            " 1   label   50000 non-null  int64 \n",
            "dtypes: int64(1), object(1)\n",
            "memory usage: 1.1+ MB\n"
=======
          "output_type": "stream",
          "name": "stdout",
          "text": [
            "<class 'pandas.core.frame.DataFrame'>\n",
            "Int64Index: 100000 entries, 3065142 to 570162\n",
            "Data columns (total 2 columns):\n",
            " #   Column  Non-Null Count   Dtype \n",
            "---  ------  --------------   ----- \n",
            " 0   text    100000 non-null  object\n",
            " 1   label   100000 non-null  int64 \n",
            "dtypes: int64(1), object(1)\n",
            "memory usage: 2.3+ MB\n"
>>>>>>> 0862d274a98ad802023ec61d11ede0de6bb71e1d
          ]
        }
      ],
      "source": [
        "df_train.info()"
      ]
    },
    {
      "cell_type": "code",
<<<<<<< HEAD
      "execution_count": 32,
=======
      "execution_count": 18,
>>>>>>> 0862d274a98ad802023ec61d11ede0de6bb71e1d
      "metadata": {
        "colab": {
          "base_uri": "https://localhost:8080/"
        },
        "id": "mQTl1gkKNRwS",
        "outputId": "387252a7-84c0-4e31-ac35-afeb4fe5c19b"
      },
      "outputs": [
        {
<<<<<<< HEAD
          "name": "stdout",
          "output_type": "stream",
          "text": [
            "<class 'pandas.core.frame.DataFrame'>\n",
            "Index: 10000 entries, 43269 to 3054\n",
            "Data columns (total 2 columns):\n",
            " #   Column  Non-Null Count  Dtype \n",
            "---  ------  --------------  ----- \n",
            " 0   text    10000 non-null  object\n",
            " 1   label   10000 non-null  int64 \n",
            "dtypes: int64(1), object(1)\n",
            "memory usage: 234.4+ KB\n"
=======
          "output_type": "stream",
          "name": "stdout",
          "text": [
            "<class 'pandas.core.frame.DataFrame'>\n",
            "Int64Index: 20000 entries, 181031 to 382210\n",
            "Data columns (total 2 columns):\n",
            " #   Column  Non-Null Count  Dtype \n",
            "---  ------  --------------  ----- \n",
            " 0   text    20000 non-null  object\n",
            " 1   label   20000 non-null  int64 \n",
            "dtypes: int64(1), object(1)\n",
            "memory usage: 468.8+ KB\n"
>>>>>>> 0862d274a98ad802023ec61d11ede0de6bb71e1d
          ]
        }
      ],
      "source": [
        "df_test.info()"
      ]
    },
    {
      "cell_type": "markdown",
      "metadata": {
        "id": "bVqjRmaBNRwS"
      },
      "source": [
        "two dataframe not included missing values"
      ]
    },
    {
      "cell_type": "markdown",
      "metadata": {
        "id": "6WfYZyiANRwT"
      },
      "source": [
        "cjeck duplicated"
      ]
    },
    {
      "cell_type": "code",
<<<<<<< HEAD
      "execution_count": 33,
=======
      "execution_count": 19,
>>>>>>> 0862d274a98ad802023ec61d11ede0de6bb71e1d
      "metadata": {
        "colab": {
          "base_uri": "https://localhost:8080/"
        },
        "id": "ceA1YnXUNRwT",
        "outputId": "07ae906b-835c-4357-a2a6-ce8d6f373005"
      },
      "outputs": [
        {
<<<<<<< HEAD
=======
          "output_type": "execute_result",
>>>>>>> 0862d274a98ad802023ec61d11ede0de6bb71e1d
          "data": {
            "text/plain": [
              "0"
            ]
          },
<<<<<<< HEAD
          "execution_count": 33,
          "metadata": {},
          "output_type": "execute_result"
=======
          "metadata": {},
          "execution_count": 19
>>>>>>> 0862d274a98ad802023ec61d11ede0de6bb71e1d
        }
      ],
      "source": [
        "df_train.duplicated().sum()"
      ]
    },
    {
      "cell_type": "code",
<<<<<<< HEAD
      "execution_count": 34,
=======
      "execution_count": 20,
>>>>>>> 0862d274a98ad802023ec61d11ede0de6bb71e1d
      "metadata": {
        "colab": {
          "base_uri": "https://localhost:8080/"
        },
        "id": "_InSk9MpNRwT",
        "outputId": "79f5997f-1c07-4177-f1dd-9c63d2ad9d0f"
      },
      "outputs": [
        {
<<<<<<< HEAD
=======
          "output_type": "execute_result",
>>>>>>> 0862d274a98ad802023ec61d11ede0de6bb71e1d
          "data": {
            "text/plain": [
              "0"
            ]
          },
<<<<<<< HEAD
          "execution_count": 34,
          "metadata": {},
          "output_type": "execute_result"
=======
          "metadata": {},
          "execution_count": 20
>>>>>>> 0862d274a98ad802023ec61d11ede0de6bb71e1d
        }
      ],
      "source": [
        "df_test.duplicated().sum()"
      ]
    },
    {
      "cell_type": "markdown",
      "metadata": {
        "id": "4_HHLlKtNRwT"
      },
      "source": [
        "two dataframe not included duplicated values"
      ]
    },
    {
      "cell_type": "markdown",
      "metadata": {
        "id": "0zFzSRjYNRwT"
      },
      "source": [
        "check balanced"
      ]
    },
    {
      "cell_type": "code",
<<<<<<< HEAD
      "execution_count": 35,
=======
      "execution_count": 21,
>>>>>>> 0862d274a98ad802023ec61d11ede0de6bb71e1d
      "metadata": {
        "colab": {
          "base_uri": "https://localhost:8080/",
          "height": 449
        },
        "id": "TZS5l9g-NRwT",
        "outputId": "547b72b8-a072-49cc-87e8-8dffdf1c48a1"
      },
      "outputs": [
        {
<<<<<<< HEAD
          "name": "stderr",
          "output_type": "stream",
          "text": [
            "c:\\Users\\CENTER_ELRahama\\AppData\\Local\\Programs\\Python\\Python311\\Lib\\site-packages\\seaborn\\_oldcore.py:1498: FutureWarning: is_categorical_dtype is deprecated and will be removed in a future version. Use isinstance(dtype, CategoricalDtype) instead\n",
            "  if pd.api.types.is_categorical_dtype(vector):\n",
            "c:\\Users\\CENTER_ELRahama\\AppData\\Local\\Programs\\Python\\Python311\\Lib\\site-packages\\seaborn\\_oldcore.py:1498: FutureWarning: is_categorical_dtype is deprecated and will be removed in a future version. Use isinstance(dtype, CategoricalDtype) instead\n",
            "  if pd.api.types.is_categorical_dtype(vector):\n",
            "c:\\Users\\CENTER_ELRahama\\AppData\\Local\\Programs\\Python\\Python311\\Lib\\site-packages\\seaborn\\_oldcore.py:1498: FutureWarning: is_categorical_dtype is deprecated and will be removed in a future version. Use isinstance(dtype, CategoricalDtype) instead\n",
            "  if pd.api.types.is_categorical_dtype(vector):\n"
          ]
        },
        {
          "data": {
            "image/png": "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",
            "text/plain": [
              "<Figure size 640x480 with 1 Axes>"
            ]
          },
          "metadata": {},
          "output_type": "display_data"
=======
          "output_type": "display_data",
          "data": {
            "text/plain": [
              "<Figure size 640x480 with 1 Axes>"
            ],
            "image/png": "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\n"
          },
          "metadata": {}
>>>>>>> 0862d274a98ad802023ec61d11ede0de6bb71e1d
        }
      ],
      "source": [
        "sns.countplot(x='label', data=df_train)\n",
        "plt.show()\n"
      ]
    },
    {
      "cell_type": "code",
<<<<<<< HEAD
      "execution_count": 36,
=======
      "execution_count": 22,
>>>>>>> 0862d274a98ad802023ec61d11ede0de6bb71e1d
      "metadata": {
        "colab": {
          "base_uri": "https://localhost:8080/",
          "height": 449
        },
        "id": "wFqIL_WGNRwT",
        "outputId": "155634fb-7c40-4759-a6ff-1efabcbd5a18"
      },
      "outputs": [
        {
<<<<<<< HEAD
          "name": "stderr",
          "output_type": "stream",
          "text": [
            "c:\\Users\\CENTER_ELRahama\\AppData\\Local\\Programs\\Python\\Python311\\Lib\\site-packages\\seaborn\\_oldcore.py:1498: FutureWarning: is_categorical_dtype is deprecated and will be removed in a future version. Use isinstance(dtype, CategoricalDtype) instead\n",
            "  if pd.api.types.is_categorical_dtype(vector):\n",
            "c:\\Users\\CENTER_ELRahama\\AppData\\Local\\Programs\\Python\\Python311\\Lib\\site-packages\\seaborn\\_oldcore.py:1498: FutureWarning: is_categorical_dtype is deprecated and will be removed in a future version. Use isinstance(dtype, CategoricalDtype) instead\n",
            "  if pd.api.types.is_categorical_dtype(vector):\n",
            "c:\\Users\\CENTER_ELRahama\\AppData\\Local\\Programs\\Python\\Python311\\Lib\\site-packages\\seaborn\\_oldcore.py:1498: FutureWarning: is_categorical_dtype is deprecated and will be removed in a future version. Use isinstance(dtype, CategoricalDtype) instead\n",
            "  if pd.api.types.is_categorical_dtype(vector):\n"
          ]
        },
        {
          "data": {
            "image/png": "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",
            "text/plain": [
              "<Figure size 640x480 with 1 Axes>"
            ]
          },
          "metadata": {},
          "output_type": "display_data"
=======
          "output_type": "display_data",
          "data": {
            "text/plain": [
              "<Figure size 640x480 with 1 Axes>"
            ],
            "image/png": "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\n"
          },
          "metadata": {}
>>>>>>> 0862d274a98ad802023ec61d11ede0de6bb71e1d
        }
      ],
      "source": [
        "sns.countplot(x='label', data=df_test)\n",
        "plt.show()\n"
      ]
    },
    {
      "cell_type": "markdown",
      "metadata": {
        "id": "JbS5yTlONRwU"
      },
      "source": [
        "two dataframe are balanced"
      ]
    },
    {
      "cell_type": "markdown",
      "metadata": {
        "id": "qq5Xs2heNRwU"
      },
      "source": [
        "check text length"
      ]
    },
    {
      "cell_type": "code",
<<<<<<< HEAD
      "execution_count": 37,
=======
      "execution_count": 23,
>>>>>>> 0862d274a98ad802023ec61d11ede0de6bb71e1d
      "metadata": {
        "colab": {
          "base_uri": "https://localhost:8080/",
          "height": 206
        },
        "id": "i3kEWY5MNRwU",
        "outputId": "ed86e961-abba-4406-f5ce-169fd4cb6656"
      },
      "outputs": [
        {
<<<<<<< HEAD
          "data": {
            "text/html": [
              "<div>\n",
=======
          "output_type": "execute_result",
          "data": {
            "text/plain": [
              "                                                      text  label  text_length\n",
              "3065142  Great Item!: This tea press prepares a nice cu...      1          135\n",
              "2215304  Never Looking Back: My only regret is that a n...      1          258\n",
              "402326   Absolutely Fab!: Dr. Seuss has always been a f...      1          351\n",
              "1970157  The Tempest Review: The Tempest is a play fill...      1          414\n",
              "1949880  I hate this toy! Unstable and falls apart: Thi...      0          546"
            ],
            "text/html": [
              "\n",
              "  <div id=\"df-4bf6178a-c25d-4b3e-a323-3f7061044353\" class=\"colab-df-container\">\n",
              "    <div>\n",
>>>>>>> 0862d274a98ad802023ec61d11ede0de6bb71e1d
              "<style scoped>\n",
              "    .dataframe tbody tr th:only-of-type {\n",
              "        vertical-align: middle;\n",
              "    }\n",
              "\n",
              "    .dataframe tbody tr th {\n",
              "        vertical-align: top;\n",
              "    }\n",
              "\n",
              "    .dataframe thead th {\n",
              "        text-align: right;\n",
              "    }\n",
              "</style>\n",
              "<table border=\"1\" class=\"dataframe\">\n",
              "  <thead>\n",
              "    <tr style=\"text-align: right;\">\n",
              "      <th></th>\n",
              "      <th>text</th>\n",
              "      <th>label</th>\n",
              "      <th>text_length</th>\n",
              "    </tr>\n",
              "  </thead>\n",
              "  <tbody>\n",
              "    <tr>\n",
<<<<<<< HEAD
              "      <th>1559061</th>\n",
              "      <td>isn't that great: this cd isn't all that great...</td>\n",
              "      <td>0</td>\n",
              "      <td>392</td>\n",
              "    </tr>\n",
              "    <tr>\n",
              "      <th>420646</th>\n",
              "      <td>Real Mediocre Late 90's stuff: 1998, probably ...</td>\n",
              "      <td>0</td>\n",
              "      <td>321</td>\n",
              "    </tr>\n",
              "    <tr>\n",
              "      <th>705221</th>\n",
              "      <td>Country music with an attitude!!!: Shania Twai...</td>\n",
              "      <td>1</td>\n",
              "      <td>433</td>\n",
              "    </tr>\n",
              "    <tr>\n",
              "      <th>3176663</th>\n",
              "      <td>Perfect Wedding Ceremony Music: This CD was ex...</td>\n",
              "      <td>1</td>\n",
              "      <td>564</td>\n",
              "    </tr>\n",
              "    <tr>\n",
              "      <th>546329</th>\n",
              "      <td>Awesome movie!: However, the print is a bit gr...</td>\n",
              "      <td>1</td>\n",
              "      <td>132</td>\n",
              "    </tr>\n",
              "  </tbody>\n",
              "</table>\n",
              "</div>"
            ],
            "text/plain": [
              "                                                      text  label  text_length\n",
              "1559061  isn't that great: this cd isn't all that great...      0          392\n",
              "420646   Real Mediocre Late 90's stuff: 1998, probably ...      0          321\n",
              "705221   Country music with an attitude!!!: Shania Twai...      1          433\n",
              "3176663  Perfect Wedding Ceremony Music: This CD was ex...      1          564\n",
              "546329   Awesome movie!: However, the print is a bit gr...      1          132"
            ]
          },
          "execution_count": 37,
          "metadata": {},
          "output_type": "execute_result"
=======
              "      <th>3065142</th>\n",
              "      <td>Great Item!: This tea press prepares a nice cu...</td>\n",
              "      <td>1</td>\n",
              "      <td>135</td>\n",
              "    </tr>\n",
              "    <tr>\n",
              "      <th>2215304</th>\n",
              "      <td>Never Looking Back: My only regret is that a n...</td>\n",
              "      <td>1</td>\n",
              "      <td>258</td>\n",
              "    </tr>\n",
              "    <tr>\n",
              "      <th>402326</th>\n",
              "      <td>Absolutely Fab!: Dr. Seuss has always been a f...</td>\n",
              "      <td>1</td>\n",
              "      <td>351</td>\n",
              "    </tr>\n",
              "    <tr>\n",
              "      <th>1970157</th>\n",
              "      <td>The Tempest Review: The Tempest is a play fill...</td>\n",
              "      <td>1</td>\n",
              "      <td>414</td>\n",
              "    </tr>\n",
              "    <tr>\n",
              "      <th>1949880</th>\n",
              "      <td>I hate this toy! Unstable and falls apart: Thi...</td>\n",
              "      <td>0</td>\n",
              "      <td>546</td>\n",
              "    </tr>\n",
              "  </tbody>\n",
              "</table>\n",
              "</div>\n",
              "    <div class=\"colab-df-buttons\">\n",
              "\n",
              "  <div class=\"colab-df-container\">\n",
              "    <button class=\"colab-df-convert\" onclick=\"convertToInteractive('df-4bf6178a-c25d-4b3e-a323-3f7061044353')\"\n",
              "            title=\"Convert this dataframe to an interactive table.\"\n",
              "            style=\"display:none;\">\n",
              "\n",
              "  <svg xmlns=\"http://www.w3.org/2000/svg\" height=\"24px\" viewBox=\"0 -960 960 960\">\n",
              "    <path d=\"M120-120v-720h720v720H120Zm60-500h600v-160H180v160Zm220 220h160v-160H400v160Zm0 220h160v-160H400v160ZM180-400h160v-160H180v160Zm440 0h160v-160H620v160ZM180-180h160v-160H180v160Zm440 0h160v-160H620v160Z\"/>\n",
              "  </svg>\n",
              "    </button>\n",
              "\n",
              "  <style>\n",
              "    .colab-df-container {\n",
              "      display:flex;\n",
              "      gap: 12px;\n",
              "    }\n",
              "\n",
              "    .colab-df-convert {\n",
              "      background-color: #E8F0FE;\n",
              "      border: none;\n",
              "      border-radius: 50%;\n",
              "      cursor: pointer;\n",
              "      display: none;\n",
              "      fill: #1967D2;\n",
              "      height: 32px;\n",
              "      padding: 0 0 0 0;\n",
              "      width: 32px;\n",
              "    }\n",
              "\n",
              "    .colab-df-convert:hover {\n",
              "      background-color: #E2EBFA;\n",
              "      box-shadow: 0px 1px 2px rgba(60, 64, 67, 0.3), 0px 1px 3px 1px rgba(60, 64, 67, 0.15);\n",
              "      fill: #174EA6;\n",
              "    }\n",
              "\n",
              "    .colab-df-buttons div {\n",
              "      margin-bottom: 4px;\n",
              "    }\n",
              "\n",
              "    [theme=dark] .colab-df-convert {\n",
              "      background-color: #3B4455;\n",
              "      fill: #D2E3FC;\n",
              "    }\n",
              "\n",
              "    [theme=dark] .colab-df-convert:hover {\n",
              "      background-color: #434B5C;\n",
              "      box-shadow: 0px 1px 3px 1px rgba(0, 0, 0, 0.15);\n",
              "      filter: drop-shadow(0px 1px 2px rgba(0, 0, 0, 0.3));\n",
              "      fill: #FFFFFF;\n",
              "    }\n",
              "  </style>\n",
              "\n",
              "    <script>\n",
              "      const buttonEl =\n",
              "        document.querySelector('#df-4bf6178a-c25d-4b3e-a323-3f7061044353 button.colab-df-convert');\n",
              "      buttonEl.style.display =\n",
              "        google.colab.kernel.accessAllowed ? 'block' : 'none';\n",
              "\n",
              "      async function convertToInteractive(key) {\n",
              "        const element = document.querySelector('#df-4bf6178a-c25d-4b3e-a323-3f7061044353');\n",
              "        const dataTable =\n",
              "          await google.colab.kernel.invokeFunction('convertToInteractive',\n",
              "                                                    [key], {});\n",
              "        if (!dataTable) return;\n",
              "\n",
              "        const docLinkHtml = 'Like what you see? Visit the ' +\n",
              "          '<a target=\"_blank\" href=https://colab.research.google.com/notebooks/data_table.ipynb>data table notebook</a>'\n",
              "          + ' to learn more about interactive tables.';\n",
              "        element.innerHTML = '';\n",
              "        dataTable['output_type'] = 'display_data';\n",
              "        await google.colab.output.renderOutput(dataTable, element);\n",
              "        const docLink = document.createElement('div');\n",
              "        docLink.innerHTML = docLinkHtml;\n",
              "        element.appendChild(docLink);\n",
              "      }\n",
              "    </script>\n",
              "  </div>\n",
              "\n",
              "\n",
              "<div id=\"df-cad71b22-3404-4eeb-978e-d6d84146b5b5\">\n",
              "  <button class=\"colab-df-quickchart\" onclick=\"quickchart('df-cad71b22-3404-4eeb-978e-d6d84146b5b5')\"\n",
              "            title=\"Suggest charts\"\n",
              "            style=\"display:none;\">\n",
              "\n",
              "<svg xmlns=\"http://www.w3.org/2000/svg\" height=\"24px\"viewBox=\"0 0 24 24\"\n",
              "     width=\"24px\">\n",
              "    <g>\n",
              "        <path d=\"M19 3H5c-1.1 0-2 .9-2 2v14c0 1.1.9 2 2 2h14c1.1 0 2-.9 2-2V5c0-1.1-.9-2-2-2zM9 17H7v-7h2v7zm4 0h-2V7h2v10zm4 0h-2v-4h2v4z\"/>\n",
              "    </g>\n",
              "</svg>\n",
              "  </button>\n",
              "\n",
              "<style>\n",
              "  .colab-df-quickchart {\n",
              "      --bg-color: #E8F0FE;\n",
              "      --fill-color: #1967D2;\n",
              "      --hover-bg-color: #E2EBFA;\n",
              "      --hover-fill-color: #174EA6;\n",
              "      --disabled-fill-color: #AAA;\n",
              "      --disabled-bg-color: #DDD;\n",
              "  }\n",
              "\n",
              "  [theme=dark] .colab-df-quickchart {\n",
              "      --bg-color: #3B4455;\n",
              "      --fill-color: #D2E3FC;\n",
              "      --hover-bg-color: #434B5C;\n",
              "      --hover-fill-color: #FFFFFF;\n",
              "      --disabled-bg-color: #3B4455;\n",
              "      --disabled-fill-color: #666;\n",
              "  }\n",
              "\n",
              "  .colab-df-quickchart {\n",
              "    background-color: var(--bg-color);\n",
              "    border: none;\n",
              "    border-radius: 50%;\n",
              "    cursor: pointer;\n",
              "    display: none;\n",
              "    fill: var(--fill-color);\n",
              "    height: 32px;\n",
              "    padding: 0;\n",
              "    width: 32px;\n",
              "  }\n",
              "\n",
              "  .colab-df-quickchart:hover {\n",
              "    background-color: var(--hover-bg-color);\n",
              "    box-shadow: 0 1px 2px rgba(60, 64, 67, 0.3), 0 1px 3px 1px rgba(60, 64, 67, 0.15);\n",
              "    fill: var(--button-hover-fill-color);\n",
              "  }\n",
              "\n",
              "  .colab-df-quickchart-complete:disabled,\n",
              "  .colab-df-quickchart-complete:disabled:hover {\n",
              "    background-color: var(--disabled-bg-color);\n",
              "    fill: var(--disabled-fill-color);\n",
              "    box-shadow: none;\n",
              "  }\n",
              "\n",
              "  .colab-df-spinner {\n",
              "    border: 2px solid var(--fill-color);\n",
              "    border-color: transparent;\n",
              "    border-bottom-color: var(--fill-color);\n",
              "    animation:\n",
              "      spin 1s steps(1) infinite;\n",
              "  }\n",
              "\n",
              "  @keyframes spin {\n",
              "    0% {\n",
              "      border-color: transparent;\n",
              "      border-bottom-color: var(--fill-color);\n",
              "      border-left-color: var(--fill-color);\n",
              "    }\n",
              "    20% {\n",
              "      border-color: transparent;\n",
              "      border-left-color: var(--fill-color);\n",
              "      border-top-color: var(--fill-color);\n",
              "    }\n",
              "    30% {\n",
              "      border-color: transparent;\n",
              "      border-left-color: var(--fill-color);\n",
              "      border-top-color: var(--fill-color);\n",
              "      border-right-color: var(--fill-color);\n",
              "    }\n",
              "    40% {\n",
              "      border-color: transparent;\n",
              "      border-right-color: var(--fill-color);\n",
              "      border-top-color: var(--fill-color);\n",
              "    }\n",
              "    60% {\n",
              "      border-color: transparent;\n",
              "      border-right-color: var(--fill-color);\n",
              "    }\n",
              "    80% {\n",
              "      border-color: transparent;\n",
              "      border-right-color: var(--fill-color);\n",
              "      border-bottom-color: var(--fill-color);\n",
              "    }\n",
              "    90% {\n",
              "      border-color: transparent;\n",
              "      border-bottom-color: var(--fill-color);\n",
              "    }\n",
              "  }\n",
              "</style>\n",
              "\n",
              "  <script>\n",
              "    async function quickchart(key) {\n",
              "      const quickchartButtonEl =\n",
              "        document.querySelector('#' + key + ' button');\n",
              "      quickchartButtonEl.disabled = true;  // To prevent multiple clicks.\n",
              "      quickchartButtonEl.classList.add('colab-df-spinner');\n",
              "      try {\n",
              "        const charts = await google.colab.kernel.invokeFunction(\n",
              "            'suggestCharts', [key], {});\n",
              "      } catch (error) {\n",
              "        console.error('Error during call to suggestCharts:', error);\n",
              "      }\n",
              "      quickchartButtonEl.classList.remove('colab-df-spinner');\n",
              "      quickchartButtonEl.classList.add('colab-df-quickchart-complete');\n",
              "    }\n",
              "    (() => {\n",
              "      let quickchartButtonEl =\n",
              "        document.querySelector('#df-cad71b22-3404-4eeb-978e-d6d84146b5b5 button');\n",
              "      quickchartButtonEl.style.display =\n",
              "        google.colab.kernel.accessAllowed ? 'block' : 'none';\n",
              "    })();\n",
              "  </script>\n",
              "</div>\n",
              "    </div>\n",
              "  </div>\n"
            ]
          },
          "metadata": {},
          "execution_count": 23
>>>>>>> 0862d274a98ad802023ec61d11ede0de6bb71e1d
        }
      ],
      "source": [
        "df_train['text_length'] = df_train['text'].apply(len)\n",
        "df_train.head()"
      ]
    },
    {
      "cell_type": "code",
<<<<<<< HEAD
      "execution_count": 38,
=======
      "execution_count": 24,
>>>>>>> 0862d274a98ad802023ec61d11ede0de6bb71e1d
      "metadata": {
        "colab": {
          "base_uri": "https://localhost:8080/",
          "height": 450
        },
        "id": "VRnYaRdMNRwW",
        "outputId": "31a28e0d-8a72-4f3b-f4ff-1653459c310c"
      },
      "outputs": [
        {
<<<<<<< HEAD
          "name": "stderr",
          "output_type": "stream",
          "text": [
            "c:\\Users\\CENTER_ELRahama\\AppData\\Local\\Programs\\Python\\Python311\\Lib\\site-packages\\seaborn\\_oldcore.py:1498: FutureWarning: is_categorical_dtype is deprecated and will be removed in a future version. Use isinstance(dtype, CategoricalDtype) instead\n",
            "  if pd.api.types.is_categorical_dtype(vector):\n",
            "c:\\Users\\CENTER_ELRahama\\AppData\\Local\\Programs\\Python\\Python311\\Lib\\site-packages\\seaborn\\_oldcore.py:1119: FutureWarning: use_inf_as_na option is deprecated and will be removed in a future version. Convert inf values to NaN before operating instead.\n",
            "  with pd.option_context('mode.use_inf_as_na', True):\n"
          ]
        },
        {
          "data": {
            "image/png": "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",
            "text/plain": [
              "<Figure size 640x480 with 1 Axes>"
            ]
          },
          "metadata": {},
          "output_type": "display_data"
=======
          "output_type": "display_data",
          "data": {
            "text/plain": [
              "<Figure size 640x480 with 1 Axes>"
            ],
            "image/png": "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\n"
          },
          "metadata": {}
>>>>>>> 0862d274a98ad802023ec61d11ede0de6bb71e1d
        }
      ],
      "source": [
        "sns.histplot(df_train['text_length'])\n",
        "plt.show()"
      ]
    },
    {
      "cell_type": "markdown",
      "metadata": {
        "id": "XIajnyHdNRwW"
      },
      "source": [
        "most text length is in range 200 characters"
      ]
    },
    {
      "cell_type": "code",
<<<<<<< HEAD
      "execution_count": 39,
=======
      "execution_count": 25,
>>>>>>> 0862d274a98ad802023ec61d11ede0de6bb71e1d
      "metadata": {
        "colab": {
          "base_uri": "https://localhost:8080/",
          "height": 206
        },
        "id": "hLWsuCBQNRwW",
        "outputId": "fc25eec0-e55a-4586-fae3-40de96b2933d"
      },
      "outputs": [
        {
<<<<<<< HEAD
          "data": {
            "text/html": [
              "<div>\n",
=======
          "output_type": "execute_result",
          "data": {
            "text/plain": [
              "                                                     text  label  text_length\n",
              "181031  To G. Kubrak :....this album is 5 stars: First...      1          382\n",
              "220001  The Wu-Tang-iest cd ever!: What a great album ...      1          431\n",
              "183834  Where Is Everyone?: This book was totally awes...      1          336\n",
              "224027  missing pages: Very disappointed to find that ...      0          226\n",
              "203654  Persevering in difficult circumstances.: This ...      1          161"
            ],
            "text/html": [
              "\n",
              "  <div id=\"df-365c7cda-8676-4206-8ef9-da6de67f7754\" class=\"colab-df-container\">\n",
              "    <div>\n",
>>>>>>> 0862d274a98ad802023ec61d11ede0de6bb71e1d
              "<style scoped>\n",
              "    .dataframe tbody tr th:only-of-type {\n",
              "        vertical-align: middle;\n",
              "    }\n",
              "\n",
              "    .dataframe tbody tr th {\n",
              "        vertical-align: top;\n",
              "    }\n",
              "\n",
              "    .dataframe thead th {\n",
              "        text-align: right;\n",
              "    }\n",
              "</style>\n",
              "<table border=\"1\" class=\"dataframe\">\n",
              "  <thead>\n",
              "    <tr style=\"text-align: right;\">\n",
              "      <th></th>\n",
              "      <th>text</th>\n",
              "      <th>label</th>\n",
              "      <th>text_length</th>\n",
              "    </tr>\n",
              "  </thead>\n",
              "  <tbody>\n",
              "    <tr>\n",
<<<<<<< HEAD
              "      <th>43269</th>\n",
              "      <td>very good deal: looking for this for a long ti...</td>\n",
              "      <td>1</td>\n",
              "      <td>140</td>\n",
              "    </tr>\n",
              "    <tr>\n",
              "      <th>247270</th>\n",
              "      <td>Logical but not radical: O'Reilly's exceptiona...</td>\n",
              "      <td>1</td>\n",
              "      <td>631</td>\n",
              "    </tr>\n",
              "    <tr>\n",
              "      <th>267554</th>\n",
              "      <td>Muddy Concept Never Clears: With the cast that...</td>\n",
              "      <td>0</td>\n",
              "      <td>347</td>\n",
              "    </tr>\n",
              "    <tr>\n",
              "      <th>263962</th>\n",
              "      <td>A must have in one's collection!: Man, am i gl...</td>\n",
              "      <td>1</td>\n",
              "      <td>654</td>\n",
              "    </tr>\n",
              "    <tr>\n",
              "      <th>322383</th>\n",
              "      <td>Glamorous Biography: Here is some Hollywood hi...</td>\n",
              "      <td>1</td>\n",
              "      <td>355</td>\n",
              "    </tr>\n",
              "  </tbody>\n",
              "</table>\n",
              "</div>"
            ],
            "text/plain": [
              "                                                     text  label  text_length\n",
              "43269   very good deal: looking for this for a long ti...      1          140\n",
              "247270  Logical but not radical: O'Reilly's exceptiona...      1          631\n",
              "267554  Muddy Concept Never Clears: With the cast that...      0          347\n",
              "263962  A must have in one's collection!: Man, am i gl...      1          654\n",
              "322383  Glamorous Biography: Here is some Hollywood hi...      1          355"
            ]
          },
          "execution_count": 39,
          "metadata": {},
          "output_type": "execute_result"
=======
              "      <th>181031</th>\n",
              "      <td>To G. Kubrak :....this album is 5 stars: First...</td>\n",
              "      <td>1</td>\n",
              "      <td>382</td>\n",
              "    </tr>\n",
              "    <tr>\n",
              "      <th>220001</th>\n",
              "      <td>The Wu-Tang-iest cd ever!: What a great album ...</td>\n",
              "      <td>1</td>\n",
              "      <td>431</td>\n",
              "    </tr>\n",
              "    <tr>\n",
              "      <th>183834</th>\n",
              "      <td>Where Is Everyone?: This book was totally awes...</td>\n",
              "      <td>1</td>\n",
              "      <td>336</td>\n",
              "    </tr>\n",
              "    <tr>\n",
              "      <th>224027</th>\n",
              "      <td>missing pages: Very disappointed to find that ...</td>\n",
              "      <td>0</td>\n",
              "      <td>226</td>\n",
              "    </tr>\n",
              "    <tr>\n",
              "      <th>203654</th>\n",
              "      <td>Persevering in difficult circumstances.: This ...</td>\n",
              "      <td>1</td>\n",
              "      <td>161</td>\n",
              "    </tr>\n",
              "  </tbody>\n",
              "</table>\n",
              "</div>\n",
              "    <div class=\"colab-df-buttons\">\n",
              "\n",
              "  <div class=\"colab-df-container\">\n",
              "    <button class=\"colab-df-convert\" onclick=\"convertToInteractive('df-365c7cda-8676-4206-8ef9-da6de67f7754')\"\n",
              "            title=\"Convert this dataframe to an interactive table.\"\n",
              "            style=\"display:none;\">\n",
              "\n",
              "  <svg xmlns=\"http://www.w3.org/2000/svg\" height=\"24px\" viewBox=\"0 -960 960 960\">\n",
              "    <path d=\"M120-120v-720h720v720H120Zm60-500h600v-160H180v160Zm220 220h160v-160H400v160Zm0 220h160v-160H400v160ZM180-400h160v-160H180v160Zm440 0h160v-160H620v160ZM180-180h160v-160H180v160Zm440 0h160v-160H620v160Z\"/>\n",
              "  </svg>\n",
              "    </button>\n",
              "\n",
              "  <style>\n",
              "    .colab-df-container {\n",
              "      display:flex;\n",
              "      gap: 12px;\n",
              "    }\n",
              "\n",
              "    .colab-df-convert {\n",
              "      background-color: #E8F0FE;\n",
              "      border: none;\n",
              "      border-radius: 50%;\n",
              "      cursor: pointer;\n",
              "      display: none;\n",
              "      fill: #1967D2;\n",
              "      height: 32px;\n",
              "      padding: 0 0 0 0;\n",
              "      width: 32px;\n",
              "    }\n",
              "\n",
              "    .colab-df-convert:hover {\n",
              "      background-color: #E2EBFA;\n",
              "      box-shadow: 0px 1px 2px rgba(60, 64, 67, 0.3), 0px 1px 3px 1px rgba(60, 64, 67, 0.15);\n",
              "      fill: #174EA6;\n",
              "    }\n",
              "\n",
              "    .colab-df-buttons div {\n",
              "      margin-bottom: 4px;\n",
              "    }\n",
              "\n",
              "    [theme=dark] .colab-df-convert {\n",
              "      background-color: #3B4455;\n",
              "      fill: #D2E3FC;\n",
              "    }\n",
              "\n",
              "    [theme=dark] .colab-df-convert:hover {\n",
              "      background-color: #434B5C;\n",
              "      box-shadow: 0px 1px 3px 1px rgba(0, 0, 0, 0.15);\n",
              "      filter: drop-shadow(0px 1px 2px rgba(0, 0, 0, 0.3));\n",
              "      fill: #FFFFFF;\n",
              "    }\n",
              "  </style>\n",
              "\n",
              "    <script>\n",
              "      const buttonEl =\n",
              "        document.querySelector('#df-365c7cda-8676-4206-8ef9-da6de67f7754 button.colab-df-convert');\n",
              "      buttonEl.style.display =\n",
              "        google.colab.kernel.accessAllowed ? 'block' : 'none';\n",
              "\n",
              "      async function convertToInteractive(key) {\n",
              "        const element = document.querySelector('#df-365c7cda-8676-4206-8ef9-da6de67f7754');\n",
              "        const dataTable =\n",
              "          await google.colab.kernel.invokeFunction('convertToInteractive',\n",
              "                                                    [key], {});\n",
              "        if (!dataTable) return;\n",
              "\n",
              "        const docLinkHtml = 'Like what you see? Visit the ' +\n",
              "          '<a target=\"_blank\" href=https://colab.research.google.com/notebooks/data_table.ipynb>data table notebook</a>'\n",
              "          + ' to learn more about interactive tables.';\n",
              "        element.innerHTML = '';\n",
              "        dataTable['output_type'] = 'display_data';\n",
              "        await google.colab.output.renderOutput(dataTable, element);\n",
              "        const docLink = document.createElement('div');\n",
              "        docLink.innerHTML = docLinkHtml;\n",
              "        element.appendChild(docLink);\n",
              "      }\n",
              "    </script>\n",
              "  </div>\n",
              "\n",
              "\n",
              "<div id=\"df-f2bf1e83-c462-4783-bd9b-45eb6f4f29e7\">\n",
              "  <button class=\"colab-df-quickchart\" onclick=\"quickchart('df-f2bf1e83-c462-4783-bd9b-45eb6f4f29e7')\"\n",
              "            title=\"Suggest charts\"\n",
              "            style=\"display:none;\">\n",
              "\n",
              "<svg xmlns=\"http://www.w3.org/2000/svg\" height=\"24px\"viewBox=\"0 0 24 24\"\n",
              "     width=\"24px\">\n",
              "    <g>\n",
              "        <path d=\"M19 3H5c-1.1 0-2 .9-2 2v14c0 1.1.9 2 2 2h14c1.1 0 2-.9 2-2V5c0-1.1-.9-2-2-2zM9 17H7v-7h2v7zm4 0h-2V7h2v10zm4 0h-2v-4h2v4z\"/>\n",
              "    </g>\n",
              "</svg>\n",
              "  </button>\n",
              "\n",
              "<style>\n",
              "  .colab-df-quickchart {\n",
              "      --bg-color: #E8F0FE;\n",
              "      --fill-color: #1967D2;\n",
              "      --hover-bg-color: #E2EBFA;\n",
              "      --hover-fill-color: #174EA6;\n",
              "      --disabled-fill-color: #AAA;\n",
              "      --disabled-bg-color: #DDD;\n",
              "  }\n",
              "\n",
              "  [theme=dark] .colab-df-quickchart {\n",
              "      --bg-color: #3B4455;\n",
              "      --fill-color: #D2E3FC;\n",
              "      --hover-bg-color: #434B5C;\n",
              "      --hover-fill-color: #FFFFFF;\n",
              "      --disabled-bg-color: #3B4455;\n",
              "      --disabled-fill-color: #666;\n",
              "  }\n",
              "\n",
              "  .colab-df-quickchart {\n",
              "    background-color: var(--bg-color);\n",
              "    border: none;\n",
              "    border-radius: 50%;\n",
              "    cursor: pointer;\n",
              "    display: none;\n",
              "    fill: var(--fill-color);\n",
              "    height: 32px;\n",
              "    padding: 0;\n",
              "    width: 32px;\n",
              "  }\n",
              "\n",
              "  .colab-df-quickchart:hover {\n",
              "    background-color: var(--hover-bg-color);\n",
              "    box-shadow: 0 1px 2px rgba(60, 64, 67, 0.3), 0 1px 3px 1px rgba(60, 64, 67, 0.15);\n",
              "    fill: var(--button-hover-fill-color);\n",
              "  }\n",
              "\n",
              "  .colab-df-quickchart-complete:disabled,\n",
              "  .colab-df-quickchart-complete:disabled:hover {\n",
              "    background-color: var(--disabled-bg-color);\n",
              "    fill: var(--disabled-fill-color);\n",
              "    box-shadow: none;\n",
              "  }\n",
              "\n",
              "  .colab-df-spinner {\n",
              "    border: 2px solid var(--fill-color);\n",
              "    border-color: transparent;\n",
              "    border-bottom-color: var(--fill-color);\n",
              "    animation:\n",
              "      spin 1s steps(1) infinite;\n",
              "  }\n",
              "\n",
              "  @keyframes spin {\n",
              "    0% {\n",
              "      border-color: transparent;\n",
              "      border-bottom-color: var(--fill-color);\n",
              "      border-left-color: var(--fill-color);\n",
              "    }\n",
              "    20% {\n",
              "      border-color: transparent;\n",
              "      border-left-color: var(--fill-color);\n",
              "      border-top-color: var(--fill-color);\n",
              "    }\n",
              "    30% {\n",
              "      border-color: transparent;\n",
              "      border-left-color: var(--fill-color);\n",
              "      border-top-color: var(--fill-color);\n",
              "      border-right-color: var(--fill-color);\n",
              "    }\n",
              "    40% {\n",
              "      border-color: transparent;\n",
              "      border-right-color: var(--fill-color);\n",
              "      border-top-color: var(--fill-color);\n",
              "    }\n",
              "    60% {\n",
              "      border-color: transparent;\n",
              "      border-right-color: var(--fill-color);\n",
              "    }\n",
              "    80% {\n",
              "      border-color: transparent;\n",
              "      border-right-color: var(--fill-color);\n",
              "      border-bottom-color: var(--fill-color);\n",
              "    }\n",
              "    90% {\n",
              "      border-color: transparent;\n",
              "      border-bottom-color: var(--fill-color);\n",
              "    }\n",
              "  }\n",
              "</style>\n",
              "\n",
              "  <script>\n",
              "    async function quickchart(key) {\n",
              "      const quickchartButtonEl =\n",
              "        document.querySelector('#' + key + ' button');\n",
              "      quickchartButtonEl.disabled = true;  // To prevent multiple clicks.\n",
              "      quickchartButtonEl.classList.add('colab-df-spinner');\n",
              "      try {\n",
              "        const charts = await google.colab.kernel.invokeFunction(\n",
              "            'suggestCharts', [key], {});\n",
              "      } catch (error) {\n",
              "        console.error('Error during call to suggestCharts:', error);\n",
              "      }\n",
              "      quickchartButtonEl.classList.remove('colab-df-spinner');\n",
              "      quickchartButtonEl.classList.add('colab-df-quickchart-complete');\n",
              "    }\n",
              "    (() => {\n",
              "      let quickchartButtonEl =\n",
              "        document.querySelector('#df-f2bf1e83-c462-4783-bd9b-45eb6f4f29e7 button');\n",
              "      quickchartButtonEl.style.display =\n",
              "        google.colab.kernel.accessAllowed ? 'block' : 'none';\n",
              "    })();\n",
              "  </script>\n",
              "</div>\n",
              "    </div>\n",
              "  </div>\n"
            ]
          },
          "metadata": {},
          "execution_count": 25
>>>>>>> 0862d274a98ad802023ec61d11ede0de6bb71e1d
        }
      ],
      "source": [
        "df_test['text_length'] = df_test['text'].apply(len)\n",
        "df_test.head()"
      ]
    },
    {
      "cell_type": "code",
<<<<<<< HEAD
      "execution_count": 40,
=======
      "execution_count": 26,
>>>>>>> 0862d274a98ad802023ec61d11ede0de6bb71e1d
      "metadata": {
        "colab": {
          "base_uri": "https://localhost:8080/",
          "height": 455
        },
        "id": "qkmtA7bkNRwX",
        "outputId": "fba9155d-014e-4a97-f9e6-eceaa8ba1c63"
      },
      "outputs": [
        {
<<<<<<< HEAD
          "name": "stderr",
          "output_type": "stream",
          "text": [
            "c:\\Users\\CENTER_ELRahama\\AppData\\Local\\Programs\\Python\\Python311\\Lib\\site-packages\\seaborn\\_oldcore.py:1498: FutureWarning: is_categorical_dtype is deprecated and will be removed in a future version. Use isinstance(dtype, CategoricalDtype) instead\n",
            "  if pd.api.types.is_categorical_dtype(vector):\n",
            "c:\\Users\\CENTER_ELRahama\\AppData\\Local\\Programs\\Python\\Python311\\Lib\\site-packages\\seaborn\\_oldcore.py:1119: FutureWarning: use_inf_as_na option is deprecated and will be removed in a future version. Convert inf values to NaN before operating instead.\n",
            "  with pd.option_context('mode.use_inf_as_na', True):\n"
          ]
        },
        {
          "data": {
            "image/png": "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",
            "text/plain": [
              "<Figure size 640x480 with 1 Axes>"
            ]
          },
          "metadata": {},
          "output_type": "display_data"
=======
          "output_type": "display_data",
          "data": {
            "text/plain": [
              "<Figure size 640x480 with 1 Axes>"
            ],
            "image/png": "iVBORw0KGgoAAAANSUhEUgAAAkQAAAG2CAYAAACeUpnVAAAAOXRFWHRTb2Z0d2FyZQBNYXRwbG90bGliIHZlcnNpb24zLjcuMSwgaHR0cHM6Ly9tYXRwbG90bGliLm9yZy/bCgiHAAAACXBIWXMAAA9hAAAPYQGoP6dpAAA1QElEQVR4nO3df3QU9b3/8deGkIQf2Q0JZjexAdKK/FAQFIX4m5ImKrVaufVioyLlQqUJEuhV5AqIKCLUKmApFE9L9RTUeqqolKIhKKikIQYDggihEuF6s1lLzC4BCUn28/3Dw35dCZDETXbDPB/n7DnsfN6z+56do3mdmc/M2IwxRgAAABYWFe4GAAAAwo1ABAAALI9ABAAALI9ABAAALI9ABAAALI9ABAAALI9ABAAALI9ABAAALI9ABAAALI9ABAAALC+sgWjLli26+eablZqaKpvNprVr1wbG6uvrNWPGDA0aNEjdunVTamqq7r77bv3f//1f0GdUV1crJydHdrtdCQkJmjBhgmpra4Nqdu7cqWuuuUZxcXFKS0vTokWL2mPzAABABxHWQHT06FFdcsklWrZs2Sljx44d0/bt2zV79mxt375dr7zyivbu3auf/OQnQXU5OTnavXu3CgoKtG7dOm3ZskWTJk0KjPt8PmVlZal3794qLS3Vb37zG82dO1crV65s8+0DAAAdgy1SHu5qs9n06quv6tZbbz1tTUlJia644gp99tln6tWrl/bs2aOBAweqpKREw4YNkyRt2LBBN910k/73f/9XqampWr58uR566CG53W7FxMRIkh588EGtXbtWn3zySXtsGgAAiHDR4W6gJbxer2w2mxISEiRJRUVFSkhICIQhScrMzFRUVJSKi4v105/+VEVFRbr22msDYUiSsrOztXDhQn355Zfq0aPHKd9TV1enurq6wHu/36/q6molJSXJZrO13QYCAICQMcboyJEjSk1NVVTUmU+KdZhAdPz4cc2YMUN33HGH7Ha7JMntdis5OTmoLjo6WomJiXK73YGa9PT0oBqn0xkYayoQLViwQI888khbbAYAAGhnhw4d0ve+970z1nSIQFRfX6/bb79dxhgtX768zb9v5syZmj59euC91+tVr169dOjQoUAYAwAAkc3n8yktLU3x8fFnrY34QHQyDH322WfatGlTUCBxuVzyeDxB9Q0NDaqurpbL5QrUVFVVBdWcfH+y5ttiY2MVGxt7ynK73U4gAgCgg2nOdJeIvg/RyTBUXl6ujRs3KikpKWg8IyNDNTU1Ki0tDSzbtGmT/H6/hg8fHqjZsmWL6uvrAzUFBQXq169fk6fLAACA9YQ1ENXW1qqsrExlZWWSpAMHDqisrEwHDx5UfX29/uM//kMffPCBVq9ercbGRrndbrndbp04cUKSNGDAAN1www2aOHGitm3bpvfff195eXkaO3asUlNTJUk///nPFRMTowkTJmj37t166aWXtGTJkqBTYgAAwNrCetn9O++8o5EjR56yfNy4cZo7d+4pk6FPevvtt3X99ddL+vrGjHl5eXrjjTcUFRWlMWPGaOnSperevXugfufOncrNzVVJSYl69uypKVOmaMaMGc3u0+fzyeFwyOv1csoMAIAOoiV/vyPmPkSRjEAEAEDH05K/3xE9hwgAAKA9EIgAAIDlEYgAAIDlEYgAAIDlEYgAAIDlEYgAAIDlEYgAAIDlEYgAAIDlEYgAAIDlEYgAAIDlRYe7AbSOx+OR1+tt0ToOh0PJyclt1BEAAB0XgagD8ng8uqBvXx3x+Vq0Xrzdrv3l5YQiAAC+hUDUAXm9Xh3x+XTd1MXqlpTSrHWOHq7U5iX58nq9BCIAAL6FQNSBdUtKUbwzLdxtAADQ4TGpGgAAWB6BCAAAWB6BCAAAWB6BCAAAWB6BCAAAWB6BCAAAWB6BCAAAWB6BCAAAWB6BCAAAWB6BCAAAWB6BCAAAWB6BCAAAWB6BCAAAWB6BCAAAWB6BCAAAWB6BCAAAWB6BCAAAWB6BCAAAWF50uBtAZPN4PPJ6vc2udzgcSk5ObsOOAAAIPQIRTsvj8eiCvn11xOdr9jrxdrv2l5cTigAAHQqBCKfl9Xp1xOfTdVMXq1tSylnrjx6u1OYl+fJ6vQQiAECHQiDCWXVLSlG8My3cbQAA0GaYVA0AACyPQAQAACyPQAQAACyPQAQAACyPSdUWU1FR0Sa1AAB0ZAQii6ir9Uq2KGVlZbV43Yb6hjboCACAyEEgsoiGumOS8WvE5IVKTOnTrHW+2L9TJc/PV4OfQAQAOLcRiCyma6Kr2fcUOnq4so27AQAgMjCpGgAAWB6BCAAAWB6BCAAAWB6BCAAAWB6BCAAAWB6BCAAAWB6BCAAAWF5YA9GWLVt08803KzU1VTabTWvXrg0aN8Zozpw5SklJUZcuXZSZmany8vKgmurqauXk5MhutyshIUETJkxQbW1tUM3OnTt1zTXXKC4uTmlpaVq0aFFbbxoAAOhAwhqIjh49qksuuUTLli1rcnzRokVaunSpVqxYoeLiYnXr1k3Z2dk6fvx4oCYnJ0e7d+9WQUGB1q1bpy1btmjSpEmBcZ/Pp6ysLPXu3VulpaX6zW9+o7lz52rlypVtvn0AAKBjCOudqm+88UbdeOONTY4ZY7R48WLNmjVLt9xyiyTp+eefl9Pp1Nq1azV27Fjt2bNHGzZsUElJiYYNGyZJeuaZZ3TTTTfpySefVGpqqlavXq0TJ07oT3/6k2JiYnTRRReprKxMTz31VFBwAgAA1hWxc4gOHDggt9utzMzMwDKHw6Hhw4erqKhIklRUVKSEhIRAGJKkzMxMRUVFqbi4OFBz7bXXKiYmJlCTnZ2tvXv36ssvv2zyu+vq6uTz+YJeAADg3BWxgcjtdkuSnE5n0HKn0xkYc7vdSk5ODhqPjo5WYmJiUE1Tn/HN7/i2BQsWyOFwBF5pac179hcAAOiYIjYQhdPMmTPl9XoDr0OHDoW7JQAA0IYiNhC5XC5JUlVVVdDyqqqqwJjL5ZLH4wkab2hoUHV1dVBNU5/xze/4ttjYWNnt9qAXAAA4d0VsIEpPT5fL5VJhYWFgmc/nU3FxsTIyMiRJGRkZqqmpUWlpaaBm06ZN8vv9Gj58eKBmy5Ytqq+vD9QUFBSoX79+6tGjRzttDQAAiGRhDUS1tbUqKytTWVmZpK8nUpeVlengwYOy2WzKz8/XY489ptdff10fffSR7r77bqWmpurWW2+VJA0YMEA33HCDJk6cqG3btun9999XXl6exo4dq9TUVEnSz3/+c8XExGjChAnavXu3XnrpJS1ZskTTp08P01YDAIBIE9bL7j/44AONHDky8P5kSBk3bpz+/Oc/64EHHtDRo0c1adIk1dTU6Oqrr9aGDRsUFxcXWGf16tXKy8vTqFGjFBUVpTFjxmjp0qWBcYfDobfeeku5ubm67LLL1LNnT82ZM4dL7gEAQEBYA9H1118vY8xpx202m+bNm6d58+adtiYxMVFr1qw54/cMHjxY7777bqv7BAAA57awBiKcmyoqKlpU73A4Trl9AgAA7YlAhJCpq/VKtihlZWW1aL14u137y8sJRQCAsCEQIWQa6o5Jxq8RkxcqMaVPs9Y5erhSm5fky+v1EogAAGFDIELIdU10Kd7Zsrt7c5oNABBOBCKEFafZAACRgECEsOI0GwAgEhCIEBFac5oNAIBQidhHdwAAALQXAhEAALA8AhEAALA8AhEAALA8AhEAALA8AhEAALA8AhEAALA8AhEAALA8AhEAALA8AhEAALA8AhEAALA8AhEAALA8AhEAALA8AhEAALA8AhEAALC86HA3ALRWRUVFi+odDoeSk5PbphkAQIdGIEKHU1frlWxRysrKatF68Xa79peXE4oAAKcgEKHDaag7Jhm/RkxeqMSUPs1a5+jhSm1eki+v10sgAgCcgkCEDqtrokvxzrRwtwEAOAcwqRoAAFgegQgAAFgegQgAAFgegQgAAFgegQgAAFgegQgAAFgegQgAAFgegQgAAFgeN2aEpfD8MwBAUwhEsASefwYAOBMCESyB558BAM6EQARLac3zzzjNBgDnPgIRcBqcZgMA6yAQAafBaTYAsA4CEXAWrTnNBgDoWAhEQBtg3hEAdCwEIiCEmHcEAB0TgQgIIeYdAUDHRCAC2gDzjgCgY+FZZgAAwPIIRAAAwPIIRAAAwPIIRAAAwPIIRAAAwPIiOhA1NjZq9uzZSk9PV5cuXfSDH/xAjz76qIwxgRpjjObMmaOUlBR16dJFmZmZKi8vD/qc6upq5eTkyG63KyEhQRMmTFBtbW17bw4AAIhQER2IFi5cqOXLl+t3v/ud9uzZo4ULF2rRokV65plnAjWLFi3S0qVLtWLFChUXF6tbt27Kzs7W8ePHAzU5OTnavXu3CgoKtG7dOm3ZskWTJk0KxyYBAIAIFNH3Idq6datuueUWjR49WpLUp08fvfDCC9q2bZukr48OLV68WLNmzdItt9wiSXr++efldDq1du1ajR07Vnv27NGGDRtUUlKiYcOGSZKeeeYZ3XTTTXryySeVmpoano0DAAARI6KPEF155ZUqLCzUvn37JEk7duzQe++9pxtvvFGSdODAAbndbmVmZgbWcTgcGj58uIqKiiRJRUVFSkhICIQhScrMzFRUVJSKi4ub/N66ujr5fL6gFwAAOHdF9BGiBx98UD6fT/3791enTp3U2Nio+fPnKycnR5LkdrslSU6nM2g9p9MZGHO73ac8DiE6OlqJiYmBmm9bsGCBHnnkkVBvDgAAiFARfYTor3/9q1avXq01a9Zo+/bteu655/Tkk0/queeea9PvnTlzprxeb+B16NChNv0+AAAQXhF9hOj+++/Xgw8+qLFjx0qSBg0apM8++0wLFizQuHHj5HK5JElVVVVKSUkJrFdVVaUhQ4ZIklwulzweT9DnNjQ0qLq6OrD+t8XGxio2NrYNtggAAESiiD5CdOzYMUVFBbfYqVMn+f1+SVJ6erpcLpcKCwsD4z6fT8XFxcrIyJAkZWRkqKamRqWlpYGaTZs2ye/3a/jw4e2wFQAAINJF9BGim2++WfPnz1evXr100UUX6cMPP9RTTz2lX/ziF5Ikm82m/Px8PfbYY+rbt6/S09M1e/Zspaam6tZbb5UkDRgwQDfccIMmTpyoFStWqL6+Xnl5eRo7dmzEXGHm8Xjk9XqbXV9RUdF2zQAAYEERHYieeeYZzZ49W7/61a/k8XiUmpqqX/7yl5ozZ06g5oEHHtDRo0c1adIk1dTU6Oqrr9aGDRsUFxcXqFm9erXy8vI0atQoRUVFacyYMVq6dGk4NukUHo9HF/TtqyOtuJKtob6hDToCAMB6IjoQxcfHa/HixVq8ePFpa2w2m+bNm6d58+adtiYxMVFr1qxpgw6/O6/XqyM+n66buljdklLOvoKkL/bvVMnz89XgJxABABAKER2IrKRbUorinWnNqj16uLKNuwEAwFoielI1AABAeyAQAQAAyyMQAQAAy2MOERAhWno7BYfDccpjaQAArUMgAsKsrtYr2aKUlZXVovXi7XbtLy8nFAFACBCIgDBrqDsmGb9GTF6oxJQ+zVrn6OFKbV6SL6/XSyACgBAgEAERomuiq9m3XjiJ02wAEBoEIqAD4jQbAIQWgQjogDjNBgChRSACOrDWnGYDAJyK+xABAADLIxABAADLIxABAADLIxABAADLIxABAADLIxABAADLIxABAADLIxABAADLIxABAADLIxABAADL49EdgMVUVFQ0u9bhcPDcMwCWQCACLKKu1ivZopSVldXsdeLtdu0vLycUATjnEYgAi2ioOyYZv0ZMXqjElD5nrT96uFKbl+TL6/USiACc8whEgMV0TXQp3pkW7jYAIKIwqRoAAFgegQgAAFgegQgAAFgegQgAAFgegQgAAFgegQgAAFgegQgAAFgegQgAAFgegQgAAFgegQgAAFgegQgAAFgezzIDcEYVFRUtqnc4HDwMFkCH06pA9P3vf18lJSVKSkoKWl5TU6NLL71Un376aUiaAxA+dbVeyRalrKysFq0Xb7drf3k5oQhAh9KqQFRRUaHGxsZTltfV1enzzz//zk0BCL+GumOS8WvE5IVKTOnTrHWOHq7U5iX58nq9BCIAHUqLAtHrr78e+Pebb74ph8MReN/Y2KjCwkL16dMnZM0BCL+uiS7FO9PC3QYAtKkWBaJbb71VkmSz2TRu3Ligsc6dO6tPnz767W9/G7LmAAAA2kOLApHf75ckpaenq6SkRD179myTpgAAANpTq+YQHThwINR9AAAAhE2rL7svLCxUYWGhPB5P4MjRSX/605++c2MAAADtpVWB6JFHHtG8efM0bNgwpaSkyGazhbovAACAdtOqQLRixQr9+c9/1l133RXqfgAAANpdqx7dceLECV155ZWh7gUAACAsWhWI/uu//ktr1qwJdS8AAABh0apTZsePH9fKlSu1ceNGDR48WJ07dw4af+qpp0LSHAAAQHtoVSDauXOnhgwZIknatWtX0BgTrAHwQFgAHU2rAtHbb78d6j4AnAN4ICyAjqrV9yFqL59//rlmzJihf/zjHzp27JguuOACrVq1SsOGDZMkGWP08MMP69lnn1VNTY2uuuoqLV++XH379g18RnV1taZMmaI33nhDUVFRGjNmjJYsWaLu3buHa7OAcxIPhAXQUbUqEI0cOfKMp8Y2bdrU6oa+6csvv9RVV12lkSNH6h//+IfOO+88lZeXq0ePHoGaRYsWaenSpXruueeUnp6u2bNnKzs7Wx9//LHi4uIkSTk5OaqsrFRBQYHq6+s1fvx4TZo0iYnhQBvhgbAAOppWBaKT84dOqq+vV1lZmXbt2nXKQ1+/i4ULFyotLU2rVq0KLEtPTw/82xijxYsXa9asWbrlllskSc8//7ycTqfWrl2rsWPHas+ePdqwYYNKSkoCR5WeeeYZ3XTTTXryySeVmpoasn4BAEDH1KpA9PTTTze5fO7cuaqtrf1ODX3T66+/ruzsbP3sZz/T5s2bdf755+tXv/qVJk6cKOnrZ6q53W5lZmYG1nE4HBo+fLiKioo0duxYFRUVKSEhIRCGJCkzM1NRUVEqLi7WT3/601O+t66uTnV1dYH3Pp8vZNsEAAAiT6vuQ3Q6d955Z0ifY/bpp58G5gO9+eabmjx5su677z4999xzkiS32y1JcjqdQes5nc7AmNvtPmVeQnR0tBITEwM137ZgwQI5HI7AKy2NQ/8AAJzLQhqIioqKAvN2QsHv9+vSSy/V448/rqFDh2rSpEmaOHGiVqxYEbLvaMrMmTPl9XoDr0OHDrXp9wEAgPBq1Smz2267Lei9MUaVlZX64IMPNHv27JA0JkkpKSkaOHBg0LIBAwbob3/7myTJ5XJJkqqqqpSSkhKoqaqqCsxzcrlc8ng8QZ/R0NCg6urqwPrfFhsbq9jY2FBtBgAAiHCtOkL0zdNJDodDiYmJuv7667V+/Xo9/PDDIWvuqquu0t69e4OW7du3T71795b09QRrl8ulwsLCwLjP51NxcbEyMjIkSRkZGaqpqVFpaWmgZtOmTfL7/Ro+fHjIegUAAB1Xq44QffOqr7Y0bdo0XXnllXr88cd1++23a9u2bVq5cqVWrlwp6eu7Yufn5+uxxx5T3759A5fdp6am6tZbb5X09RGlG264IXCqrb6+Xnl5eRo7dixXmAEAAEnf8caMpaWl2rNnjyTpoosu0tChQ0PS1EmXX365Xn31Vc2cOVPz5s1Tenq6Fi9erJycnEDNAw88oKNHj2rSpEmqqanR1VdfrQ0bNgTNZVq9erXy8vI0atSowI0Zly5dGtJeAQBAx9WqQOTxeDR27Fi98847SkhIkCTV1NRo5MiRevHFF3XeeeeFrMEf//jH+vGPf3zacZvNpnnz5mnevHmnrUlMTOQmjAAA4LRaNYdoypQpOnLkiHbv3q3q6mpVV1dr165d8vl8uu+++0LdIwAAQJtq1RGiDRs2aOPGjRowYEBg2cCBA7Vs2bIWP9QRAAAg3FoViPx+vzp37nzK8s6dO8vv93/npgBYT0VFRYvqHQ4HD4MFEDKtCkQ//OEPNXXqVL3wwguBK7U+//xzTZs2TaNGjQppgwDObXW1XskW1eKjy/F2u/aXlxOKAIREqwLR7373O/3kJz9Rnz59Ao+1OHTokC6++GL95S9/CWmDAM5tDXXHJOPXiMkLlZjSp1nrHD1cqc1L8uX1eglEAEKiVYEoLS1N27dv18aNG/XJJ59I+vp+P998yCoAtETXRJfinTw3EEB4tOgqs02bNmngwIHy+Xyy2Wz60Y9+pClTpmjKlCm6/PLLddFFF+ndd99tq14BAADaRIuOEC1evFgTJ06U3W4/ZczhcOiXv/ylnnrqKV1zzTUhaxAAToeJ2ABCpUWBaMeOHVq4cOFpx7OysvTkk09+56YA4EyYiA0g1FoUiKqqqpq83D7wYdHR+uKLL75zUwBwJkzEBhBqLQpE559/vnbt2qULLrigyfGdO3cqJSUlJI0BwNkwERtAqLQoEN10002aPXu2brjhhqCHp0rSV199pYcffviMzx0DgHBj3hGAprQoEM2aNUuvvPKKLrzwQuXl5alfv36SpE8++UTLli1TY2OjHnrooTZpFAC+C+YdATiTFgUip9OprVu3avLkyZo5c6aMMZK+fuJ8dna2li1bJqfT2SaNAsB3wbwjAGfS4hsz9u7dW+vXr9eXX36p/fv3yxijvn37qkePHm3RHwCEFPOOADSlVXeqlqQePXro8ssvD2UvAAAAYdGiO1UDAACciwhEAADA8ghEAADA8ghEAADA8ghEAADA8ghEAADA8ghEAADA8ghEAADA8ghEAADA8ghEAADA8ghEAADA8ghEAADA8ghEAADA8ghEAADA8qLD3QAAnGs8Ho+8Xm+L1nE4HEpOTm6jjgCcDYEIAM6ioqKi2bWHDx/Wj7KyVHvkSIu+I95u1/7yckIRECYEIgA4jbpar2SLUlZWVovXvSr3STmcac2qPXq4UpuX5Mvr9RKIgDAhEAHAaTTUHZOMXyMmL1RiSp9mrfPF/p0qeX6+YhPOU3wzAxGA8CMQAcBZdE10NTvcHD1c2cbdAGgLXGUGAAAsj0AEAAAsj0AEAAAsj0AEAAAsj0AEAAAsj0AEAAAsj0AEAAAsj0AEAAAsj0AEAAAsj0AEAAAsj0AEAAAsj2eZAUCEqKioaHatw+FQcnJy2zUDWAyBCADCrK7WK9milJWV1ex14u127S8vJxQBIUIgAoAwa6g7Jhm/RkxeqMSUPmetP3q4UpuX5Mvr9RKIgBAhEAFAhOia6FK8M63Z9S05xSZxmg04kw41qfqJJ56QzWZTfn5+YNnx48eVm5urpKQkde/eXWPGjFFVVVXQegcPHtTo0aPVtWtXJScn6/7771dDQ0M7dw8AofHNU2wXXnhhs18X9O0rj8cT7vaBiNRhjhCVlJToD3/4gwYPHhy0fNq0afr73/+ul19+WQ6HQ3l5ebrtttv0/vvvS5IaGxs1evRouVwubd26VZWVlbr77rvVuXNnPf744+HYFAD4Tlp6ik3iNBtwNh0iENXW1ionJ0fPPvusHnvsscByr9erP/7xj1qzZo1++MMfSpJWrVqlAQMG6J///KdGjBiht956Sx9//LE2btwop9OpIUOG6NFHH9WMGTM0d+5cxcTEhGuzAOA7aekpNgCn1yECUW5urkaPHq3MzMygQFRaWqr6+nplZmYGlvXv31+9evVSUVGRRowYoaKiIg0aNEhOpzNQk52drcmTJ2v37t0aOnToKd9XV1enurq6wHufz9dGWwYA7Yt5R0DTIj4Qvfjii9q+fbtKSkpOGXO73YqJiVFCQkLQcqfTKbfbHaj5Zhg6OX5yrCkLFizQI488EoLuASAytObSfonL+2EdER2IDh06pKlTp6qgoEBxcXHt9r0zZ87U9OnTA+99Pp/S0jgsDaDjYt4RcGYRHYhKS0vl8Xh06aWXBpY1NjZqy5Yt+t3vfqc333xTJ06cUE1NTdBRoqqqKrlcLkmSy+XStm3bgj735FVoJ2u+LTY2VrGxsSHeGgAIv/aYd+TxeOT1elu0DqfmEG4RHYhGjRqljz76KGjZ+PHj1b9/f82YMUNpaWnq3LmzCgsLNWbMGEnS3r17dfDgQWVkZEiSMjIyNH/+fHk8nsB/bAUFBbLb7Ro4cGD7bhAAnOM8Ho8u6NtXR1o495JTcwi3iA5E8fHxuvjii4OWdevWTUlJSYHlEyZM0PTp05WYmCi73a4pU6YoIyNDI0aMkCRlZWVp4MCBuuuuu7Ro0SK53W7NmjVLubm5HAUCgBDzer064vPpuqmL1S0ppVnrcGoOkSCiA1FzPP3004qKitKYMWNUV1en7Oxs/f73vw+Md+rUSevWrdPkyZOVkZGhbt26ady4cZo3b14YuwaAc1u3pBRuCYAOpcMFonfeeSfofVxcnJYtW6Zly5addp3evXtr/fr1bdwZAADoqDrUozsAAADaAoEIAABYHoEIAABYHoEIAABYHoEIAABYHoEIAABYHoEIAABYHoEIAABYHoEIAABYHoEIAABYXod7dAcAoH1VVFS0SS0QSQhEAIAm1dV6JVuUsrKyWrxuQ31DG3QEtB0CEQCgSQ11xyTj14jJC5WY0qdZ63yxf6dKnp+vBj+BCB0LgQgAcEZdE12Kd6Y1q/bo4co27gZoG0yqBgAAlkcgAgAAlkcgAgAAlkcgAgAAlkcgAgAAlsdVZgCAiNDSmzo6HA4lJye3TTOwHAIRACCsWnsDyHi7XfvLywlFCAkCEQAgrFpzA8ijhyu1eUm+duzYoT59mreOxFElnB6BCAAQEVpyA0iOKiHUCEQAgA7nuxxV8nq9BCKcgkAEAOiwWnJUCTgTAhEAwFK4mg1NIRABACyBeUc4EwIRAMASmHeEMyEQAQAshXlHaAqP7gAAAJZHIAIAAJZHIAIAAJZHIAIAAJZHIAIAAJbHVWYAAJwFN3M89xGIAAA4DW7maB0EIgAAToObOVoHgQgAgLPgZo7nPiZVAwAAyyMQAQAAy+OUGQAAbaAlV6ZxVVr4EYgAAAih1lyZxlVp4UcgAgAghFp6ZRpXpUUGAhEAAG2gra9M83g88nq9LVqHU3OnRyACAKCD8Xg8uqBvXx3x+Vq0HqfmTo9ABABAB+P1enXE59N1UxerW1JKs9bh1NyZEYgAAIgALbkq7WRtt6QUbhgZIgQiAADCqLXPS5OkhvqGNujImghEAACEUWuel/bF/p0qeX6+GvwEolAhEAEAEAFaclXa0cOVbdzN/2eVq9kIRAAAoElWupotogPRggUL9Morr+iTTz5Rly5ddOWVV2rhwoXq169foOb48eP69a9/rRdffFF1dXXKzs7W73//ezmdzkDNwYMHNXnyZL399tvq3r27xo0bpwULFig6OqI3HwCAsLLS1WwRnQg2b96s3NxcXX755WpoaND//M//KCsrSx9//LG6desmSZo2bZr+/ve/6+WXX5bD4VBeXp5uu+02vf/++5KkxsZGjR49Wi6XS1u3blVlZaXuvvtude7cWY8//ng4Nw8AgA7BClezRXQg2rBhQ9D7P//5z0pOTlZpaamuvfZaeb1e/fGPf9SaNWv0wx/+UJK0atUqDRgwQP/85z81YsQIvfXWW/r444+1ceNGOZ1ODRkyRI8++qhmzJihuXPnKiYmJhybBgBAWLTm8n4riOhA9G0nJ3UlJiZKkkpLS1VfX6/MzMxATf/+/dWrVy8VFRVpxIgRKioq0qBBg4JOoWVnZ2vy5MnavXu3hg4desr31NXVqa6uLvDe18JzpwAARBou7z+zDhOI/H6/8vPzddVVV+niiy+WJLndbsXExCghISGo1ul0yu12B2q+GYZOjp8ca8qCBQv0yCOPhHgLAAAIHy7vP7MOE4hyc3O1a9cuvffee23+XTNnztT06dMD730+n9LSzu1zpwAAa4jUy/vDrUMEory8PK1bt05btmzR9773vcByl8ulEydOqKamJugoUVVVlVwuV6Bm27ZtQZ9XVVUVGGtKbGysYmNjQ7wVAABYR0vnH4X73kURHYiMMZoyZYpeffVVvfPOO0pPTw8av+yyy9S5c2cVFhZqzJgxkqS9e/fq4MGDysjIkCRlZGRo/vz58ng8gR+6oKBAdrtdAwcObN8NAgDgHNfauUrhvndRRAei3NxcrVmzRq+99pri4+MDc34cDoe6dOkih8OhCRMmaPr06UpMTJTdbteUKVOUkZGhESNGSJKysrI0cOBA3XXXXVq0aJHcbrdmzZql3NxcjgIBABBirZmrFAn3LoroQLR8+XJJ0vXXXx+0fNWqVbrnnnskSU8//bSioqI0ZsyYoBszntSpUyetW7dOkydPVkZGhrp166Zx48Zp3rx57bUZAABYTkvmKkWCiA5Expiz1sTFxWnZsmVatmzZaWt69+6t9evXh7I1AABwDokKdwMAAADhRiACAACWRyACAACWRyACAACWRyACAACWRyACAACWRyACAACWRyACAACWRyACAACWRyACAACWRyACAACWRyACAACWRyACAACWRyACAACWRyACAACWRyACAACWRyACAACWRyACAACWRyACAACWRyACAACWRyACAACWRyACAACWRyACAACWRyACAACWRyACAACWRyACAACWRyACAACWRyACAACWRyACAACWRyACAACWRyACAACWRyACAACWRyACAACWRyACAACWRyACAACWRyACAACWRyACAACWRyACAACWRyACAACWRyACAACWRyACAACWRyACAACWRyACAACWRyACAACWRyACAACWRyACAACWRyACAACWRyACAACWRyACAACWRyACAACWRyACAACWZ6lAtGzZMvXp00dxcXEaPny4tm3bFu6WAABABLBMIHrppZc0ffp0Pfzww9q+fbsuueQSZWdny+PxhLs1AAAQZpYJRE899ZQmTpyo8ePHa+DAgVqxYoW6du2qP/3pT+FuDQAAhFl0uBtoDydOnFBpaalmzpwZWBYVFaXMzEwVFRWdUl9XV6e6urrAe6/XK0ny+Xwh7622tvbr7/i/A6o/fqxZ6xyp+t+v+3FXqJPxR8w6kdoX67RunUjti3Uity/Wad06kdpXe65zrLpK0td/E0P5t/bkZxljzl5sLODzzz83kszWrVuDlt9///3miiuuOKX+4YcfNpJ48eLFixcvXufA69ChQ2fNCpY4QtRSM2fO1PTp0wPv/X6/qqurlZSUJJvNFsbOIpPP51NaWpoOHToku90e7nYsi/0QOdgXkYN9ERnCtR+MMTpy5IhSU1PPWmuJQNSzZ0916tRJVVVVQcurqqrkcrlOqY+NjVVsbGzQsoSEhLZs8Zxgt9v5H04EYD9EDvZF5GBfRIZw7AeHw9GsOktMqo6JidFll12mwsLCwDK/36/CwkJlZGSEsTMAABAJLHGESJKmT5+ucePGadiwYbriiiu0ePFiHT16VOPHjw93awAAIMwsE4j+8z//U1988YXmzJkjt9utIUOGaMOGDXI6neFurcOLjY3Vww8/fMppRrQv9kPkYF9EDvZFZOgI+8FmTHOuRQMAADh3WWIOEQAAwJkQiAAAgOURiAAAgOURiAAAgOURiNCkBQsW6PLLL1d8fLySk5N16623au/evUE1x48fV25urpKSktS9e3eNGTPmlJtfHjx4UKNHj1bXrl2VnJys+++/Xw0NDe25KeeUJ554QjabTfn5+YFl7If28/nnn+vOO+9UUlKSunTpokGDBumDDz4IjBtjNGfOHKWkpKhLly7KzMxUeXl50GdUV1crJydHdrtdCQkJmjBhQuCZhmiexsZGzZ49W+np6erSpYt+8IMf6NFHHw16XhX7IvS2bNmim2++WampqbLZbFq7dm3QeKh+8507d+qaa65RXFyc0tLStGjRorbetMAGAKfIzs42q1atMrt27TJlZWXmpptuMr169TK1tbWBmnvvvdekpaWZwsJC88EHH5gRI0aYK6+8MjDe0NBgLr74YpOZmWk+/PBDs379etOzZ08zc+bMcGxSh7dt2zbTp08fM3jwYDN16tTAcvZD+6iurja9e/c299xzjykuLjaffvqpefPNN83+/fsDNU888YRxOBxm7dq1ZseOHeYnP/mJSU9PN1999VWg5oYbbjCXXHKJ+ec//2neffddc8EFF5g77rgjHJvUYc2fP98kJSWZdevWmQMHDpiXX37ZdO/e3SxZsiRQw74IvfXr15uHHnrIvPLKK0aSefXVV4PGQ/Gbe71e43Q6TU5Ojtm1a5d54YUXTJcuXcwf/vCHNt8+AhGaxePxGElm8+bNxhhjampqTOfOnc3LL78cqNmzZ4+RZIqKiowxX//HExUVZdxud6Bm+fLlxm63m7q6uvbdgA7uyJEjpm/fvqagoMBcd911gUDEfmg/M2bMMFdfffVpx/1+v3G5XOY3v/lNYFlNTY2JjY01L7zwgjHGmI8//thIMiUlJYGaf/zjH8Zms5nPP/+87Zo/x4wePdr84he/CFp22223mZycHGMM+6I9fDsQheo3//3vf2969OgR9P+mGTNmmH79+rXxFhnDKTM0i9frlSQlJiZKkkpLS1VfX6/MzMxATf/+/dWrVy8VFRVJkoqKijRo0KCgm19mZ2fL5/Np9+7d7dh9x5ebm6vRo0cH/d4S+6E9vf766xo2bJh+9rOfKTk5WUOHDtWzzz4bGD9w4IDcbnfQvnA4HBo+fHjQvkhISNCwYcMCNZmZmYqKilJxcXH7bUwHd+WVV6qwsFD79u2TJO3YsUPvvfeebrzxRknsi3AI1W9eVFSka6+9VjExMYGa7Oxs7d27V19++WWbboNl7lSN1vP7/crPz9dVV12liy++WJLkdrsVExNzykNvnU6n3G53oObbdwI/+f5kDc7uxRdf1Pbt21VSUnLKGPuh/Xz66adavny5pk+frv/5n/9RSUmJ7rvvPsXExGjcuHGB37Kp3/qb+yI5OTloPDo6WomJieyLFnjwwQfl8/nUv39/derUSY2NjZo/f75ycnIkiX0RBqH6zd1ut9LT00/5jJNjPXr0aJP+JQIRmiE3N1e7du3Se++9F+5WLOfQoUOaOnWqCgoKFBcXF+52LM3v92vYsGF6/PHHJUlDhw7Vrl27tGLFCo0bNy7M3VnLX//6V61evVpr1qzRRRddpLKyMuXn5ys1NZV9gVbjlBnOKC8vT+vWrdPbb7+t733ve4HlLpdLJ06cUE1NTVB9VVWVXC5XoObbVzudfH+yBmdWWloqj8ejSy+9VNHR0YqOjtbmzZu1dOlSRUdHy+l0sh/aSUpKigYOHBi0bMCAATp48KCk//9bNvVbf3NfeDyeoPGGhgZVV1ezL1rg/vvv14MPPqixY8dq0KBBuuuuuzRt2jQtWLBAEvsiHEL1m4fz/1cEIjTJGKO8vDy9+uqr2rRp0ymHMC+77DJ17txZhYWFgWV79+7VwYMHlZGRIUnKyMjQRx99FPQfQEFBgex2+yl/WNC0UaNG6aOPPlJZWVngNWzYMOXk5AT+zX5oH1ddddUpt57Yt2+fevfuLUlKT0+Xy+UK2hc+n0/FxcVB+6KmpkalpaWBmk2bNsnv92v48OHtsBXnhmPHjikqKvjPV6dOneT3+yWxL8IhVL95RkaGtmzZovr6+kBNQUGB+vXr16anyyRx2T2aNnnyZONwOMw777xjKisrA69jx44Fau69917Tq1cvs2nTJvPBBx+YjIwMk5GRERg/ebl3VlaWKSsrMxs2bDDnnXcel3t/R9+8yswY9kN72bZtm4mOjjbz58835eXlZvXq1aZr167mL3/5S6DmiSeeMAkJCea1114zO3fuNLfcckuTlx0PHTrUFBcXm/fee8/07duXS71baNy4ceb8888PXHb/yiuvmJ49e5oHHnggUMO+CL0jR46YDz/80Hz44YdGknnqqafMhx9+aD777DNjTGh+85qaGuN0Os1dd91ldu3aZV588UXTtWtXLrtH+Ehq8rVq1apAzVdffWV+9atfmR49epiuXbuan/70p6aysjLocyoqKsyNN95ounTpYnr27Gl+/etfm/r6+nbemnPLtwMR+6H9vPHGG+biiy82sbGxpn///mblypVB436/38yePds4nU4TGxtrRo0aZfbu3RtUc/jwYXPHHXeY7t27G7vdbsaPH2+OHDnSnpvR4fl8PjN16lTTq1cvExcXZ77//e+bhx56KOhSbfZF6L399ttN/l0YN26cMSZ0v/mOHTvM1VdfbWJjY835559vnnjiiXbZPpsx37i1JwAAgAUxhwgAAFgegQgAAFgegQgAAFgegQgAAFgegQgAAFgegQgAAFgegQgAAFgegQiApbzzzjuy2WynPP8tXK6//nrl5+eHuw3A8ghEANpNW/zx7yiBItKCGIBgBCIAAGB5BCIA7eKee+7R5s2btWTJEtlsNtlsNlVUVGjXrl268cYb1b17dzmdTt11113697//LenroyoxMTF69913A5+zaNEiJScnq6qq6rSf2VLvvfeerrnmGnXp0kVpaWm67777dPTo0cB4nz599Pjjj+sXv/iF4uPj1atXL61cuTLoM7Zu3aohQ4YoLi5Ow4YN09q1a2Wz2VRWVqaKigqNHDlSktSjRw/ZbDbdc889gXX9fr8eeOABJSYmyuVyae7cuS3eBgDfUbs8MQ2A5dXU1JiMjAwzceJEU1lZaSorK82///1vc95555mZM2eaPXv2mO3bt5sf/ehHZuTIkYH17r//ftO7d29TU1Njtm/fbmJiYsxrr7122s9saGg4Yx8nH1D55ZdfGmOM2b9/v+nWrZt5+umnzb59+8z7779vhg4dau65557AOr179zaJiYlm2bJlpry83CxYsMBERUWZTz75xBhjjNfrNYmJiebOO+80u3fvNuvXrzcXXnihkWQ+/PBD09DQYP72t78ZSWbv3r2msrLS1NTUGGO+fliv3W43c+fONfv27TPPPfecsdls5q233grlzw/gLAhEANrNddddZ6ZOnRp4/+ijj5qsrKygmkOHDgWCgzHG1NXVmSFDhpjbb7/dDBw40EycOPGMn3k23w5EEyZMMJMmTQqqeffdd01UVJT56quvjDFfB6I777wzMO73+01ycrJZvny5McaY5cuXm6SkpEC9McY8++yzgUDU1Pd+s/+rr746aNnll19uZsyY0extAvDdRYfx4BQAi9uxY4fefvttde/e/ZSxf/3rX7rwwgsVExOj1atXa/Dgwerdu7eefvrpkPewc+dOrV69OrDMGCO/368DBw5owIABkqTBgwcHxm02m1wulzwejyRp7969Gjx4sOLi4gI1V1xxRbN7+OZnS1JKSkrgswG0DwIRgLCpra3VzTffrIULF54ylpKSEvj31q1bJUnV1dWqrq5Wt27dQtrDL3/5S913332njPXq1Svw786dOweN2Ww2+f3+kPTQlp8NoHkIRADaTUxMjBobGwPvL730Uv3tb39Tnz59FB3d9P+O/vWvf2natGl69tln9dJLL2ncuHHauHGjoqKimvzMlrr00kv18ccf64ILLmj1Z/Tr109/+ctfVFdXp9jYWElSSUlJUE1MTIwkfadeAbQdrjID0G769Omj4uJiVVRU6N///rdyc3NVXV2tO+64QyUlJfrXv/6lN998U+PHj1djY6MaGxt15513Kjs7W+PHj9eqVau0c+dO/fa3vz3tZ7b0yMqMGTO0detW5eXlqaysTOXl5XrttdeUl5fX7M/4+c9/Lr/fr0mTJmnPnj1688039eSTT0r6+miPJPXu3Vs2m03r1q3TF198odra2hb1CaBtEYgAtJv//u//VqdOnTRw4ECdd955OnHihN5//301NjYqKytLgwYNUn5+vhISEhQVFaX58+frs88+0x/+8AdJX59GW7lypWbNmqUdO3Y0+ZkHDx5sUU+DBw/W5s2btW/fPl1zzTUaOnSo5syZo9TU1GZ/ht1u1xtvvKGysjINGTJEDz30kObMmSNJgXlF559/vh555BE9+OCDcjqdLQpcANqezRhjwt0EAJxrVq9erfHjx8vr9apLly7hbgfAWTCHCABC4Pnnn9f3v/99nX/++dqxY4dmzJih22+/nTAEdBCcMgNwTrn33nvVvXv3Jl/33ntvm32v2+3WnXfeqQEDBmjatGn62c9+dsrdrAFELk6ZATineDwe+Xy+JsfsdruSk5PbuSMAHQGBCAAAWB6nzAAAgOURiAAAgOURiAAAgOURiAAAgOURiAAAgOURiAAAgOURiAAAgOURiAAAgOX9P7F7b1pLmJS1AAAAAElFTkSuQmCC\n"
          },
          "metadata": {}
>>>>>>> 0862d274a98ad802023ec61d11ede0de6bb71e1d
        }
      ],
      "source": [
        "sns.histplot(df_test['text_length'])\n",
        "plt.show()"
      ]
    },
    {
      "cell_type": "markdown",
      "metadata": {
        "id": "bR_jbseoNRwX"
      },
      "source": [
        "most text length is in range 200 characters"
      ]
    },
    {
      "cell_type": "markdown",
      "metadata": {
        "id": "LTvXuR27NRwX"
      },
      "source": [
        "Explore correlations between features"
      ]
    },
    {
      "cell_type": "code",
<<<<<<< HEAD
      "execution_count": 41,
=======
      "execution_count": 27,
>>>>>>> 0862d274a98ad802023ec61d11ede0de6bb71e1d
      "metadata": {
        "colab": {
          "base_uri": "https://localhost:8080/",
          "height": 449
        },
        "id": "2XJWT6LyNRwX",
        "outputId": "fed222a2-b402-4e79-b545-91a11d047aa0"
      },
      "outputs": [
        {
<<<<<<< HEAD
          "name": "stderr",
          "output_type": "stream",
          "text": [
            "c:\\Users\\CENTER_ELRahama\\AppData\\Local\\Programs\\Python\\Python311\\Lib\\site-packages\\seaborn\\_oldcore.py:1498: FutureWarning: is_categorical_dtype is deprecated and will be removed in a future version. Use isinstance(dtype, CategoricalDtype) instead\n",
            "  if pd.api.types.is_categorical_dtype(vector):\n",
            "c:\\Users\\CENTER_ELRahama\\AppData\\Local\\Programs\\Python\\Python311\\Lib\\site-packages\\seaborn\\_oldcore.py:1498: FutureWarning: is_categorical_dtype is deprecated and will be removed in a future version. Use isinstance(dtype, CategoricalDtype) instead\n",
            "  if pd.api.types.is_categorical_dtype(vector):\n",
            "c:\\Users\\CENTER_ELRahama\\AppData\\Local\\Programs\\Python\\Python311\\Lib\\site-packages\\seaborn\\_oldcore.py:1498: FutureWarning: is_categorical_dtype is deprecated and will be removed in a future version. Use isinstance(dtype, CategoricalDtype) instead\n",
            "  if pd.api.types.is_categorical_dtype(vector):\n"
          ]
        },
        {
          "data": {
            "image/png": "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",
            "text/plain": [
              "<Figure size 640x480 with 1 Axes>"
            ]
          },
          "metadata": {},
          "output_type": "display_data"
=======
          "output_type": "display_data",
          "data": {
            "text/plain": [
              "<Figure size 640x480 with 1 Axes>"
            ],
            "image/png": "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\n"
          },
          "metadata": {}
>>>>>>> 0862d274a98ad802023ec61d11ede0de6bb71e1d
        }
      ],
      "source": [
        "sns.boxplot(x='label', y='text_length', data = df_train)\n",
        "plt.show()"
      ]
    },
    {
      "cell_type": "markdown",
      "metadata": {
        "id": "jQBGrzoFNRwX"
      },
      "source": [
        "most text length is in range 400 characters"
      ]
    },
    {
      "cell_type": "code",
<<<<<<< HEAD
      "execution_count": 42,
=======
      "execution_count": 28,
>>>>>>> 0862d274a98ad802023ec61d11ede0de6bb71e1d
      "metadata": {
        "colab": {
          "base_uri": "https://localhost:8080/",
          "height": 449
        },
        "id": "B73uqzhrNRwX",
        "outputId": "892ee549-f6dc-4d49-8b52-290baa544b40"
      },
      "outputs": [
        {
<<<<<<< HEAD
          "name": "stderr",
          "output_type": "stream",
          "text": [
            "c:\\Users\\CENTER_ELRahama\\AppData\\Local\\Programs\\Python\\Python311\\Lib\\site-packages\\seaborn\\_oldcore.py:1498: FutureWarning: is_categorical_dtype is deprecated and will be removed in a future version. Use isinstance(dtype, CategoricalDtype) instead\n",
            "  if pd.api.types.is_categorical_dtype(vector):\n",
            "c:\\Users\\CENTER_ELRahama\\AppData\\Local\\Programs\\Python\\Python311\\Lib\\site-packages\\seaborn\\_oldcore.py:1498: FutureWarning: is_categorical_dtype is deprecated and will be removed in a future version. Use isinstance(dtype, CategoricalDtype) instead\n",
            "  if pd.api.types.is_categorical_dtype(vector):\n",
            "c:\\Users\\CENTER_ELRahama\\AppData\\Local\\Programs\\Python\\Python311\\Lib\\site-packages\\seaborn\\_oldcore.py:1498: FutureWarning: is_categorical_dtype is deprecated and will be removed in a future version. Use isinstance(dtype, CategoricalDtype) instead\n",
            "  if pd.api.types.is_categorical_dtype(vector):\n"
          ]
        },
        {
          "data": {
            "image/png": "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",
            "text/plain": [
              "<Figure size 640x480 with 1 Axes>"
            ]
          },
          "metadata": {},
          "output_type": "display_data"
=======
          "output_type": "display_data",
          "data": {
            "text/plain": [
              "<Figure size 640x480 with 1 Axes>"
            ],
            "image/png": "iVBORw0KGgoAAAANSUhEUgAAAkQAAAGwCAYAAABIC3rIAAAAOXRFWHRTb2Z0d2FyZQBNYXRwbG90bGliIHZlcnNpb24zLjcuMSwgaHR0cHM6Ly9tYXRwbG90bGliLm9yZy/bCgiHAAAACXBIWXMAAA9hAAAPYQGoP6dpAAAn4UlEQVR4nO3df3RU9Z3/8deE/JgASWhEErJJMFUqoEAsUQhgqZI1IvUAcix8zWpUKl1MYjFd+dHlh/LbiBaCFArb8qOFynq6UEVDwYiwQggYQflVsTVtOJUkXUMyEEkgyXz/QG6ZAjVMJnMn+Twf5+SczL03mfc155ond27mOtxut1sAAAAGC7J7AAAAALsRRAAAwHgEEQAAMB5BBAAAjEcQAQAA4xFEAADAeAQRAAAwXrDdA7QVTU1N+vzzzxURESGHw2H3OAAAoBncbrfOnDmjuLg4BQVd+zwQQdRMn3/+uRISEuweAwAAeOHkyZOKj4+/5nqCqJkiIiIkXfwPGhkZafM0AACgOVwulxISEqzf49dCEDXTpZfJIiMjCSIAANqYr7vchYuqAQCA8QgiAABgPIIIAAAYjyACAADGI4gAAIDxCCIAAGA8gggAABiPIAIAAMYjiAAAgPEIIgAAYDyCCAAAGI8gAgAAxuPmrvAZt9uturo6u8doMbfbrfr6eklSWFjY194QMNA5nc42vw+wH8d3YOL49h2CCD5TV1enESNG2D0G/kFBQYHCw8PtHgNtHMd3YOL49h1eMgMAAMZzuN1ut91DtAUul0tRUVGqqalRZGSk3eMEpPZySr2urk5jxoyRJG3evFlOp9PmiVqGU+rwBY7vwMTx/fWa+/vb1pfMdu/erZdeekklJSU6deqUNm/erNGjR1vr3W63Zs+erdWrV6u6ulpDhgzRihUr1LNnT2ubqqoq5eTk6M0331RQUJDGjh2rpUuXqnPnztY2H3/8sbKysnTgwAHdeOONysnJ0ZQpU/y5q0ZwOBzt7tSt0+lsd/sEeIPjG+2drS+Z1dbWqn///lq+fPlV1+fl5Sk/P18rV65UcXGxOnXqpPT0dI9/pWRkZOjo0aPasWOHtm7dqt27d2vixInWepfLpfvuu089evRQSUmJXnrpJT3//PNatWpVq+8fAABoG2w9QzRixIhrXqTndru1ZMkSzZgxQ6NGjZIkrV+/XjExMdqyZYvGjx+v48ePa9u2bTpw4IBSUlIkScuWLdMDDzygxYsXKy4uThs2bND58+f1y1/+UqGhobrtttt06NAhvfLKKx7h9I/q6+utv0SQLoYVAABonwL2ourS0lKVl5crLS3NWhYVFaWBAweqqKhIklRUVKQuXbpYMSRJaWlpCgoKUnFxsbXNd77zHYWGhlrbpKen65NPPtHp06ev+fwLFy5UVFSU9ZGQkODrXQQAAAEiYIOovLxckhQTE+OxPCYmxlpXXl6ubt26eawPDg5WdHS0xzZX+x6XP8fVTJ8+XTU1NdbHyZMnW7ZDAAAgYPE+RNcQFhamsLAwu8cAAAB+ELBniGJjYyVJFRUVHssrKiqsdbGxsaqsrPRY39DQoKqqKo9trvY9Ln8OAABgtoANoqSkJMXGxqqwsNBa5nK5VFxcrNTUVElSamqqqqurVVJSYm3z7rvvqqmpSQMHDrS22b17ty5cuGBts2PHDt166636xje+4ae9AQAAgczWIDp79qwOHTqkQ4cOSbp4IfWhQ4dUVlYmh8OhyZMna968eXrjjTd0+PBhPfbYY4qLi7Peq6h37966//779dRTT2n//v3as2ePsrOzNX78eMXFxUmSHnnkEYWGhmrChAk6evSoNm3apKVLlyo3N9emvQYAAIHG1muIPvjgA91zzz3W40uRkpmZqbVr12rKlCmqra3VxIkTVV1draFDh2rbtm0e7yy6YcMGZWdna/jw4dYbM+bn51vro6KitH37dmVlZWnAgAHq2rWrZs2a9U//5B4AAJiFW3c0E7fuMMe5c+es98fixolA+8LxbZ7m/v4O2GuIAAAA/IUgAgAAxiOIAACA8QgiAABgPIIIAAAYjyACAADGI4gAAIDxCCIAAGA8gggAABiPIAIAAMYjiAAAgPEIIgAAYDyCCAAAGI8gAgAAxiOIAACA8QgiAABgPIIIAAAYjyACAADGI4gAAIDxCCIAAGA8gggAABiPIAIAAMYjiAAAgPEIIgAAYDyCCAAAGI8gAgAAxiOIAACA8QgiAABgPIIIAAAYjyACAADGI4gAAIDxCCIAAGA8gggAABiPIAIAAMYjiAAAgPEIIgAAYDyCCAAAGI8gAgAAxiOIAACA8QgiAABgPIIIAAAYjyACAADGI4gAAIDxCCIAAGA8gggAABiPIAIAAMYjiAAAgPEIIgAAYDyCCAAAGI8gAgAAxiOIAACA8QgiAABgPIIIAAAYjyACAADGI4gAAIDxCCIAAGA8gggAABiPIAIAAMYjiAAAgPEIIgAAYDyCCAAAGI8gAgAAxgvoIGpsbNTMmTOVlJSk8PBw3XzzzZo7d67cbre1jdvt1qxZs9S9e3eFh4crLS1Nn376qcf3qaqqUkZGhiIjI9WlSxdNmDBBZ8+e9ffuAACAABXQQfTiiy9qxYoVevXVV3X8+HG9+OKLysvL07Jly6xt8vLylJ+fr5UrV6q4uFidOnVSenq66urqrG0yMjJ09OhR7dixQ1u3btXu3bs1ceJEO3YJAAAEoGC7B/hn9u7dq1GjRmnkyJGSpJtuukm/+c1vtH//fkkXzw4tWbJEM2bM0KhRoyRJ69evV0xMjLZs2aLx48fr+PHj2rZtmw4cOKCUlBRJ0rJly/TAAw9o8eLFiouLs2fnAABAwAjoM0SDBw9WYWGhTpw4IUn66KOP9P7772vEiBGSpNLSUpWXlystLc36mqioKA0cOFBFRUWSpKKiInXp0sWKIUlKS0tTUFCQiouLr/nc9fX1crlcHh8AAKB9CugzRNOmTZPL5VKvXr3UoUMHNTY2av78+crIyJAklZeXS5JiYmI8vi4mJsZaV15erm7dunmsDw4OVnR0tLXN1SxcuFAvvPCCL3cHAAAEqIA+Q/Tf//3f2rBhgzZu3KgPP/xQ69at0+LFi7Vu3bpWf+7p06erpqbG+jh58mSrPycAALBHQJ8heu655zRt2jSNHz9ektS3b1/95S9/0cKFC5WZmanY2FhJUkVFhbp37259XUVFhZKTkyVJsbGxqqys9Pi+DQ0Nqqqqsr7+asLCwhQWFubjPQIAAIEooM8QffnllwoK8hyxQ4cOampqkiQlJSUpNjZWhYWF1nqXy6Xi4mKlpqZKklJTU1VdXa2SkhJrm3fffVdNTU0aOHCgH/YCAAAEuoA+Q/Tggw9q/vz5SkxM1G233aaDBw/qlVde0ZNPPilJcjgcmjx5subNm6eePXsqKSlJM2fOVFxcnEaPHi1J6t27t+6//3499dRTWrlypS5cuKDs7GyNHz+evzADAACSAjyIli1bppkzZ+rpp59WZWWl4uLi9MMf/lCzZs2ytpkyZYpqa2s1ceJEVVdXa+jQodq2bZucTqe1zYYNG5Sdna3hw4crKChIY8eOVX5+vh27BAAAApDDffnbPuOaXC6XoqKiVFNTo8jISLvHQSs6d+6c9dYOBQUFCg8Pt3kiAL7C8W2e5v7+DuhriAAAAPyBIAIAAMYjiAAAgPEIIgAAYDyCCAAAGI8gAgAAxiOIAACA8QgiAABgPIIIAAAYjyACAADGI4gAAIDxCCIAAGA8gggAABiPIAIAAMYjiAAAgPEIIgAAYDyCCAAAGI8gAgAAxiOIAACA8QgiAABgPIIIAAAYjyACAADGI4gAAIDxCCIAAGA8gggAABiPIAIAAMYjiAAAgPEIIgAAYDyCCAAAGI8gAgAAxiOIAACA8QgiAABgPIIIAAAYjyACAADGI4gAAIDxCCIAAGA8gggAABiPIAIAAMYjiAAAgPEIIgAAYDyCCAAAGI8gAgAAxiOIAACA8QgiAABgPIIIAAAYjyACAADGC/b2CwsLC1VYWKjKyko1NTV5rPvlL3/Z4sEAAAD8xasgeuGFFzRnzhylpKSoe/fucjgcvp4LAADAb7wKopUrV2rt2rV69NFHfT0PAACA33l1DdH58+c1ePBgX88CAABgC6+C6Ac/+IE2btzo61kAAABs0eyXzHJzc63Pm5qatGrVKr3zzjvq16+fQkJCPLZ95ZVXfDchAABAK2t2EB08eNDjcXJysiTpyJEjPh0IAADA35odRDt37mzNOQAAAGzj1TVETz75pM6cOXPF8traWj355JMtHgoAAMCfvAqidevW6dy5c1csP3funNavX9/ioQAAAPzput6HyOVyye12y+1268yZM3I6nda6xsZGvf322+rWrZvPhwQAAGhN1xVEXbp0kcPhkMPh0Le+9a0r1jscDr3wwgs+Gw4AAMAfriuIdu7cKbfbrXvvvVe//e1vFR0dba0LDQ1Vjx49FBcX5/MhAQAAWtN1BdGwYcMkSaWlpUpMTOQeZj7idrtVV1dn9xj4yuU/C34ugcPpdPL/HACtxqt7mdXU1Ojw4cNXLHc4HHI6nUpMTFRYWFiLhzNFXV2dRowYYfcYuIoxY8bYPQK+UlBQoPDwcLvHANBOeRVEycnJ//RfaiEhIRo3bpx+/vOfe1x4DQAAEIi8CqLNmzdr6tSpeu6553TXXXdJkvbv36+XX35Zs2fPVkNDg6ZNm6YZM2Zo8eLFPh24vTub/P/kDvLqxwJfcbulpoaLnwcFS7xMYxtHU4M6H/qN3WMAMIBXv3nnz5+vpUuXKj093VrWt29fxcfHa+bMmdq/f786deqkH//4xy0Oor/+9a+aOnWqCgoK9OWXX+qWW27RmjVrlJKSIuni9TezZ8/W6tWrVV1drSFDhmjFihXq2bOn9T2qqqqUk5OjN998U0FBQRo7dqyWLl2qzp07t2i21uAOCpY6hHz9hmhloXYPAEluuwcAYAyv3pjx8OHD6tGjxxXLe/ToYV1blJycrFOnTrVouNOnT2vIkCEKCQlRQUGBjh07ppdfflnf+MY3rG3y8vKUn5+vlStXqri4WJ06dVJ6errHxbAZGRk6evSoduzYoa1bt2r37t2aOHFii2YDAADth1dniHr16qVFixZp1apVCg29+C/pCxcuaNGiRerVq5eki2d2YmJiWjTciy++qISEBK1Zs8ZalpSUZH3udru1ZMkSzZgxQ6NGjZIkrV+/XjExMdqyZYvGjx+v48ePa9u2bTpw4IB1VmnZsmV64IEHtHjx4mu+TUB9fb3q6+utxy6Xq0X7AgAAApdXZ4iWL1+urVu3Kj4+XmlpaUpLS1N8fLy2bt2qFStWSJI+++wzPf300y0a7o033lBKSooefvhhdevWTXfccYdWr15trS8tLVV5ebnS0tKsZVFRURo4cKCKiookSUVFRerSpYsVQ5KUlpamoKAgFRcXX/O5Fy5cqKioKOsjISGhRfsCAAACl1dniAYPHqzS0lJt2LBBJ06ckCQ9/PDDeuSRRxQRESFJevTRR1s83GeffaYVK1YoNzdXP/nJT3TgwAE988wzCg0NVWZmpsrLyyXpijNRMTEx1rry8vIrbicSHBys6Ohoa5urmT59unJzc63HLpeLKAIAoJ3y+s+ZIiIi9O///u++nOUKTU1NSklJ0YIFCyRJd9xxh44cOaKVK1cqMzOzVZ87LCyM91ICAMAQXgfRp59+qp07d6qyslJNTU0e62bNmtXiwSSpe/fu6tOnj8ey3r1767e//a0kKTY2VpJUUVGh7t27W9tUVFQoOTnZ2qaystLjezQ0NKiqqsr6egAAYDavgmj16tWaNGmSunbtqtjYWI83aXQ4HD4LoiFDhuiTTz7xWHbixAnrL9ySkpIUGxurwsJCK4BcLpeKi4s1adIkSVJqaqqqq6tVUlKiAQMGSJLeffddNTU1aeDAgT6ZEwAAtG1eBdG8efM0f/58TZ061dfzeHj22Wc1ePBgLViwQN///ve1f/9+rVq1SqtWrZJ0Mb4mT56sefPmqWfPnkpKStLMmTMVFxen0aNHS7p4Run+++/XU089pZUrV+rChQvKzs7W+PHjuREtAACQ5GUQnT59Wg8//LCvZ7nCnXfeqc2bN2v69OmaM2eOkpKStGTJEmVkZFjbTJkyRbW1tZo4caKqq6s1dOhQbdu2zeOWIRs2bFB2draGDx9uvTFjfn5+q88PAADaBq+C6OGHH9b27dtb/aJqSfre976n733ve9dc73A4NGfOHM2ZM+ea20RHR2vjxo2tMR4AAGgHvAqiW265RTNnztS+ffvUt29fhYR43mrimWee8clwAAAA/uBVEK1atUqdO3fWrl27tGvXLo91DoeDIAIAAG2KV0FUWlrq6zkAAABs4/X7EEnS+fPnVVpaqptvvlnBwS36VgDQLrndbo+bTcNel/8s+LkEDqfT6fEWPnbwqmK+/PJL5eTkaN26dZIuvjfQN7/5TeXk5Ohf/uVfNG3aNJ8OCQBtVV1dnUaMGGH3GLiKMWPG2D0CvlJQUKDw8HBbZ/Dq5q7Tp0/XRx99pPfee8/jz9vT0tK0adMmnw0HAADgD16dIdqyZYs2bdqkQYMGeZziuu222/SnP/3JZ8MBQHvy6tAqhXVw2z2G0dxu6fxXd5sKDZJsfpXGaPWNDmW/H233GBavguhvf/vbFXeQl6Ta2lrbXwMEgEAV1sGtsA52TwHn128Cvwisfxx49ZJZSkqK3nrrLevxpQj6r//6L6WmpvpmMgAAAD/x6gzRggULNGLECB07dkwNDQ1aunSpjh07pr17917xvkQAAACBzqszREOHDtWhQ4fU0NCgvn37avv27erWrZuKioqsO8oDAAC0FV6/edDNN9+s1atX+3IWAAAAWzQ7iFwuV7O/aWRkpFfDAAAA2KHZQdSlS5ev/Qsyt9sth8OhxsbGFg8GAADgL80Oop07d7bmHAAAALZpdhANGzbsur/5008/rTlz5qhr167X/bUAAAD+4tVfmTXXr3/96+u69ggAAMAOrRpEbndgvQslAADA1bRqEAEAALQFBBEAADAeQQQAAIxHEAEAAON5FURlZWVXvWDa7XarrKzMevxv//ZvvGs1AAAIeF4FUVJSkv72t79dsbyqqkpJSUnW4xUrVvAeRAAAIOB5FUSXbtHxj86ePSun09nioQAAAPzpuu52n5ubK0lyOByaOXOmOnbsaK1rbGxUcXGxkpOTfTogAABAa7uuIDp48KCki2eIDh8+rNDQUGtdaGio+vfvr//4j//w7YQAAACt7LqC6NINXp944gktXbqUC6YBAEC74NU1RHl5edeMocOHD7doIAAAAH/zKoj69u2rt95664rlixcv1l133dXioQAAAPzJqyDKzc3V2LFjNWnSJJ07d05//etfNXz4cOXl5Wnjxo2+nhEAAKBVeRVEU6ZMUVFRkf73f/9X/fr1U79+/RQWFqaPP/5YY8aM8fWMAAAArcrrW3fccsstuv322/XnP/9ZLpdL48aNU2xsrC9nAwAA8AuvgmjPnj3q16+fPv30U3388cdasWKFcnJyNG7cOJ0+fdrXMwIAALQqr4Lo3nvv1bhx47Rv3z717t1bP/jBD3Tw4EGVlZWpb9++vp4RAACgVV3X+xBdsn37dg0bNsxj2c0336w9e/Zo/vz5PhkMAADAX7w6Q3Qphv74xz/q97//vc6dOyfp77f0AAAAaEu8CqIvvvhCw4cP17e+9S098MADOnXqlCRpwoQJ3LoDAAC0OV4F0bPPPquQkBCVlZV53OB13LhxKigo8NlwAAAA/uD1NUS///3vFR8f77G8Z8+e+stf/uKTwQAAAPzFqzNEtbW1HmeGLqmqqlJYWFiLhwIAAPAnr4Lo7rvv1vr1663HDodDTU1NysvL0z333OOz4QAAAPzBq5fM8vLyNHz4cH3wwQc6f/68pkyZoqNHj6qqqkp79uzx9YwAAACtyqszRJGRkTp+/LiGDh2qUaNGqba2Vg899JAOHjyokJAQX88IAADQqrw6Q5SUlKRTp07pP//zPz2Wf/HFF4qPj1djY6NPhgMAAPAHr84Qud3uqy4/e/asnE5niwYCAADwt+s6Q5Sbmyvp4kXUs2bN8vhLs8bGRhUXFys5OdmnAwIAALS26wqigwcPSrp4hujw4cMKDQ211oWGhqp///68UzUAAGhzriuIdu7cKUl64okntHTpUkVGRrbKUAAAAP7k1UXVa9as8fUcAAAAtvHqomoAAID2hCACAADGI4gAAIDxCCIAAGA8gggAABiPIAIAAMYjiAAAgPEIIgAAYDyCCAAAGI8gAgAAxiOIAACA8QgiAABgvDYVRIsWLZLD4dDkyZOtZXV1dcrKytINN9ygzp07a+zYsaqoqPD4urKyMo0cOVIdO3ZUt27d9Nxzz6mhocHP0wMAgEDl1d3u7XDgwAH9/Oc/V79+/TyWP/vss3rrrbf0+uuvKyoqStnZ2XrooYe0Z88eSVJjY6NGjhyp2NhY7d27V6dOndJjjz2mkJAQLViwwI5duYLb7f77g8YL9g0CBJrLjgeP4wQAfKxNBNHZs2eVkZGh1atXa968edbympoa/eIXv9DGjRt17733SpLWrFmj3r17a9++fRo0aJC2b9+uY8eO6Z133lFMTIySk5M1d+5cTZ06Vc8//7xCQ0Pt2i1LfX299XnER6/ZOAkQuOrr69WxY0e7xwDQTrWJl8yysrI0cuRIpaWleSwvKSnRhQsXPJb36tVLiYmJKioqkiQVFRWpb9++iomJsbZJT0+Xy+XS0aNHr/mc9fX1crlcHh8AAKB9CvgzRK+99po+/PBDHThw4Ip15eXlCg0NVZcuXTyWx8TEqLy83Nrm8hi6tP7SumtZuHChXnjhhRZO3zxhYWHW52f6j5c6hPjleYGA13jBOmt6+XECAL4W0EF08uRJ/ehHP9KOHTvkdDr9+tzTp09Xbm6u9djlcikhIaFVnsvhcPz9QYcQggi4Co/jBAB8LKBfMispKVFlZaW+/e1vKzg4WMHBwdq1a5fy8/MVHBysmJgYnT9/XtXV1R5fV1FRodjYWElSbGzsFX91dunxpW2uJiwsTJGRkR4fAACgfQroIBo+fLgOHz6sQ4cOWR8pKSnKyMiwPg8JCVFhYaH1NZ988onKysqUmpoqSUpNTdXhw4dVWVlpbbNjxw5FRkaqT58+ft8nAAAQeAL6JbOIiAjdfvvtHss6deqkG264wVo+YcIE5ebmKjo6WpGRkcrJyVFqaqoGDRokSbrvvvvUp08fPfroo8rLy1N5eblmzJihrKwsrkkAAACSAjyImuOnP/2pgoKCNHbsWNXX1ys9PV0/+9nPrPUdOnTQ1q1bNWnSJKWmpqpTp07KzMzUnDlzbJwaAAAEkjYXRO+9957HY6fTqeXLl2v58uXX/JoePXro7bffbuXJAABAWxXQ1xABAAD4A0EEAACMRxABAADjEUQAAMB4BBEAADBem/srMwBoS9xut/V5faONgwAB5vLj4fLjxC4EEQC0ovr6euvz7PdvsHESIHDV19erY8eOts7AS2YAAMB4nCECgFZ0+S2CXh36hcI62DgMEEDqG/9+1jQQbqVFEAFAK3I4HNbnYR1EEAFXcflxYhdeMgMAAMYjiAAAgPEIIgAAYDyCCAAAGI8gAgAAxiOIAACA8QgiAABgPIIIAAAYjyACAADGI4gAAIDxCCIAAGA8gggAABiPIAIAAMYjiAAAgPEIIgAAYDyCCAAAGI8gAgAAxiOIAACA8QgiAABgPIIIAAAYjyACAADGI4gAAIDxCCIAAGA8gggAABiPIAIAAMYjiAAAgPEIIgAAYDyCCAAAGI8gAgAAxiOIAACA8QgiAABgPIIIAAAYjyACAADGI4gAAIDxCCIAAGA8gggAABgv2O4B4MnR1CC33UOYzu2Wmhoufh4ULDkc9s5jMMelnwMAtDKCKMB0PvQbu0cAAMA4vGQGAACMxxmiAOB0OlVQUGD3GPhKXV2dxowZI0navHmznE6nzRNBEj8HAK2KIAoADodD4eHhdo+Bq3A6nfxsAMAAvGQGAACMRxABAADjEUQAAMB4BBEAADAeQQQAAIxHEAEAAOMRRAAAwHgEEQAAMB5BBAAAjMc7VQOAn9Q3OiS57R7DaG63dL7p4uehQZLDYe88Jrt4PAQOgggA/CT7/Wi7RwBwDbxkBgAAjBfwZ4gWLlyo//mf/9Ef/vAHhYeHa/DgwXrxxRd16623WtvU1dXpxz/+sV577TXV19crPT1dP/vZzxQTE2NtU1ZWpkmTJmnnzp3q3LmzMjMztXDhQgUHB/x/AgBtmNPpVEFBgd1j4Ct1dXUaM2aMJGnz5s1yOp02TwRJAfFzCPga2LVrl7KysnTnnXeqoaFBP/nJT3Tffffp2LFj6tSpkyTp2Wef1VtvvaXXX39dUVFRys7O1kMPPaQ9e/ZIkhobGzVy5EjFxsZq7969OnXqlB577DGFhIRowYIFdu4egHbO4XAoPDzc7jFwFU6nk58NLAEfRNu2bfN4vHbtWnXr1k0lJSX6zne+o5qaGv3iF7/Qxo0bde+990qS1qxZo969e2vfvn0aNGiQtm/frmPHjumdd95RTEyMkpOTNXfuXE2dOlXPP/+8QkND7dg1AAAQINrcNUQ1NTWSpOjoixcnlpSU6MKFC0pLS7O26dWrlxITE1VUVCRJKioqUt++fT1eQktPT5fL5dLRo0ev+jz19fVyuVweHwAAoH1qU0HU1NSkyZMna8iQIbr99tslSeXl5QoNDVWXLl08to2JiVF5ebm1zeUxdGn9pXVXs3DhQkVFRVkfCQkJPt4bAAAQKNpUEGVlZenIkSN67bXXWv25pk+frpqaGuvj5MmTrf6cAADAHgF/DdEl2dnZ2rp1q3bv3q34+HhreWxsrM6fP6/q6mqPs0QVFRWKjY21ttm/f7/H96uoqLDWXU1YWJjCwsJ8vBcAACAQBfwZIrfbrezsbG3evFnvvvuukpKSPNYPGDBAISEhKiwstJZ98sknKisrU2pqqiQpNTVVhw8fVmVlpbXNjh07FBkZqT59+vhnRwAAQMAK+DNEWVlZ2rhxo373u98pIiLCuuYnKipK4eHhioqK0oQJE5Sbm6vo6GhFRkYqJydHqampGjRokCTpvvvuU58+ffToo48qLy9P5eXlmjFjhrKysjgLBAAAAj+IVqxYIUn67ne/67F8zZo1evzxxyVJP/3pTxUUFKSxY8d6vDHjJR06dNDWrVs1adIkpaamqlOnTsrMzNScOXP8tRsAACCABXwQud1ffyNEp9Op5cuXa/ny5dfcpkePHnr77bd9ORoAAGgnAv4aIgAAgNZGEAEAAOMRRAAAwHgEEQAAMB5BBAAAjEcQAQAA4xFEAADAeAQRAAAwHkEEAACMRxABAADjEUQAAMB4BBEAADAeQQQAAIxHEAEAAOMRRAAAwHgEEQAAMB5BBAAAjEcQAQAA4xFEAADAeAQRAAAwHkEEAACMRxABAADjEUQAAMB4BBEAADAeQQQAAIxHEAEAAOMRRAAAwHjBdg+A9sPtdquurs7uMVrs8n1oD/vjdDrlcDjsHgNtHMd3YOL49h2H2+122z1EW+ByuRQVFaWamhpFRkbaPU5AOnfunEaMGGH3GPgHBQUFCg8Pt3sMtHEc34GJ4/vrNff3Ny+ZAQAA43GGqJk4Q/T12sspdbfbrfr6eklSWFhYmz8dzSl1+ALHd2Di+P56zf39zTVE8BmHw9FuTt127NjR7hGAgMLxjfaOl8wAAIDxCCIAAGA8gggAABiPIAIAAMYjiAAAgPEIIgAAYDyCCAAAGI8gAgAAxiOIAACA8QgiAABgPIIIAAAYjyACAADGI4gAAIDxuNt9M7ndbkmSy+WyeRIAANBcl35vX/o9fi0EUTOdOXNGkpSQkGDzJAAA4HqdOXNGUVFR11zvcH9dMkGS1NTUpM8//1wRERFyOBx2j4NW5nK5lJCQoJMnTyoyMtLucQD4EMe3Wdxut86cOaO4uDgFBV37SiHOEDVTUFCQ4uPj7R4DfhYZGcn/MIF2iuPbHP/szNAlXFQNAACMRxABAADjEUTAVYSFhWn27NkKCwuzexQAPsbxjavhomoAAGA8zhABAADjEUQAAMB4BBEAADAeQQQAAIxHEAH/YPny5brpppvkdDo1cOBA7d+/3+6RAPjA7t279eCDDyouLk4Oh0NbtmyxeyQEEIIIuMymTZuUm5ur2bNn68MPP1T//v2Vnp6uyspKu0cD0EK1tbXq37+/li9fbvcoCED82T1wmYEDB+rOO+/Uq6++KuniPewSEhKUk5OjadOm2TwdAF9xOBzavHmzRo8ebfcoCBCcIQK+cv78eZWUlCgtLc1aFhQUpLS0NBUVFdk4GQCgtRFEwFf+7//+T42NjYqJifFYHhMTo/LycpumAgD4A0EEAACMRxABX+natas6dOigiooKj+UVFRWKjY21aSoAgD8QRMBXQkNDNWDAABUWFlrLmpqaVFhYqNTUVBsnAwC0tmC7BwACSW5urjIzM5WSkqK77rpLS5YsUW1trZ544gm7RwPQQmfPntUf//hH63FpaakOHTqk6OhoJSYm2jgZAgF/dg/8g1dffVUvvfSSysvLlZycrPz8fA0cONDusQC00Hvvvad77rnniuWZmZlau3at/wdCQCGIAACA8biGCAAAGI8gAgAAxiOIAACA8QgiAABgPIIIAAAYjyACAADGI4gAAIDxCCIAAGA8gghAu/Dd735XkydPbta27733nhwOh6qrq1v0nDfddJOWLFnSou8BIDAQRAAAwHgEEQAAMB5BBKDd+dWvfqWUlBRFREQoNjZWjzzyiCorK6/Ybs+ePerXr5+cTqcGDRqkI0eOeKx///33dffddys8PFwJCQl65plnVFtb66/dAOBHBBGAdufChQuaO3euPvroI23ZskV//vOf9fjjj1+x3XPPPaeXX35ZBw4c0I033qgHH3xQFy5ckCT96U9/0v3336+xY8fq448/1qZNm/T+++8rOzvbz3sDwB+C7R4AAHztySeftD7/5je/qfz8fN155506e/asOnfubK2bPXu2/vVf/1WStG7dOsXHx2vz5s36/ve/r4ULFyojI8O6ULtnz57Kz8/XsGHDtGLFCjmdTr/uE4DWxRkiAO1OSUmJHnzwQSUmJioiIkLDhg2TJJWVlXlsl5qaan0eHR2tW2+9VcePH5ckffTRR1q7dq06d+5sfaSnp6upqUmlpaX+2xkAfsEZIgDtSm1trdLT05Wenq4NGzboxhtvVFlZmdLT03X+/Plmf5+zZ8/qhz/8oZ555pkr1iUmJvpyZAABgCAC0K784Q9/0BdffKFFixYpISFBkvTBBx9cddt9+/ZZcXP69GmdOHFCvXv3liR9+9vf1rFjx3TLLbf4Z3AAtuIlMwDtSmJiokJDQ7Vs2TJ99tlneuONNzR37tyrbjtnzhwVFhbqyJEjevzxx9W1a1eNHj1akjR16lTt3btX2dnZOnTokD799FP97ne/46JqoJ0iiAC0KzfeeKPWrl2r119/XX369NGiRYu0ePHiq267aNEi/ehHP9KAAQNUXl6uN998U6GhoZKkfv36adeuXTpx4oTuvvtu3XHHHZo1a5bi4uL8uTsA/MThdrvddg8BAABgJ84QAQAA4xFEAADAeAQRAAAwHkEEAACMRxABAADjEUQAAMB4BBEAADAeQQQAAIxHEAEAAOMRRAAAwHgEEQAAMN7/Bx9VxMCbMRQ6AAAAAElFTkSuQmCC\n"
          },
          "metadata": {}
>>>>>>> 0862d274a98ad802023ec61d11ede0de6bb71e1d
        }
      ],
      "source": [
        "sns.boxplot(x='label', y='text_length', data = df_test)\n",
        "plt.show()"
      ]
    },
    {
      "cell_type": "markdown",
      "metadata": {
        "id": "HMkNCwPjNRwX"
      },
      "source": [
        "most text length is in range 400 characters"
      ]
    },
    {
      "cell_type": "markdown",
      "metadata": {
        "id": "zh_TVbJ8NRwb"
      },
      "source": [
        "# Data Preparation"
      ]
    },
    {
      "cell_type": "code",
<<<<<<< HEAD
      "execution_count": 43,
=======
      "execution_count": 29,
>>>>>>> 0862d274a98ad802023ec61d11ede0de6bb71e1d
      "metadata": {
        "colab": {
          "base_uri": "https://localhost:8080/"
        },
        "id": "7-7XfQo-NRwb",
        "outputId": "2a5fb21f-988e-46bc-961c-91b35eee71e4"
      },
      "outputs": [
        {
<<<<<<< HEAD
          "name": "stderr",
          "output_type": "stream",
          "text": [
            "[nltk_data] Downloading package stopwords to\n",
            "[nltk_data]     C:\\Users\\CENTER_ELRahama\\AppData\\Roaming\\nltk_data...\n",
            "[nltk_data]   Package stopwords is already up-to-date!\n",
            "[nltk_data] Downloading package punkt to\n",
            "[nltk_data]     C:\\Users\\CENTER_ELRahama\\AppData\\Roaming\\nltk_data...\n",
            "[nltk_data]   Package punkt is already up-to-date!\n",
            "[nltk_data] Downloading package wordnet to\n",
            "[nltk_data]     C:\\Users\\CENTER_ELRahama\\AppData\\Roaming\\nltk_data...\n",
            "[nltk_data]   Package wordnet is already up-to-date!\n"
          ]
        },
        {
          "name": "stdout",
          "output_type": "stream",
          "text": [
            "WARNING:tensorflow:From c:\\Users\\CENTER_ELRahama\\AppData\\Local\\Programs\\Python\\Python311\\Lib\\site-packages\\keras\\src\\losses.py:2976: The name tf.losses.sparse_softmax_cross_entropy is deprecated. Please use tf.compat.v1.losses.sparse_softmax_cross_entropy instead.\n",
            "\n"
          ]
=======
          "output_type": "stream",
          "name": "stderr",
          "text": [
            "[nltk_data] Downloading package stopwords to /root/nltk_data...\n",
            "[nltk_data]   Package stopwords is already up-to-date!\n",
            "[nltk_data] Downloading package punkt to /root/nltk_data...\n",
            "[nltk_data]   Package punkt is already up-to-date!\n",
            "[nltk_data] Downloading package wordnet to /root/nltk_data...\n",
            "[nltk_data]   Package wordnet is already up-to-date!\n"
          ]
>>>>>>> 0862d274a98ad802023ec61d11ede0de6bb71e1d
        }
      ],
      "source": [
        "import re\n",
        "import nltk\n",
        "from nltk.corpus import stopwords\n",
        "from nltk.stem import PorterStemmer, WordNetLemmatizer\n",
        "from nltk.tokenize import word_tokenize\n",
        "nltk.download('stopwords')\n",
        "nltk.download('punkt')\n",
        "nltk.download('wordnet')\n",
        "from tensorflow.keras.preprocessing.text import Tokenizer\n",
        "from tensorflow.keras.preprocessing.sequence import pad_sequences\n",
        "from sklearn.model_selection import train_test_split"
      ]
    },
    {
      "cell_type": "code",
<<<<<<< HEAD
      "execution_count": 44,
=======
      "execution_count": 30,
>>>>>>> 0862d274a98ad802023ec61d11ede0de6bb71e1d
      "metadata": {
        "id": "yhg9kXNcNRwb"
      },
      "outputs": [],
      "source": [
        "def preprocess_text_series(series):\n",
        "    # Regular expression substitutions\n",
        "    series = series.str.replace('\\d', '0')\n",
        "    series = series.str.replace(r\"([^ ]+(?<=\\.[a-z]{3}))\", \"<url>\")\n",
        "\n",
        "    # Remove stop words and apply stemming and lemmatization\n",
        "    stop_words = set(stopwords.words('english'))\n",
        "    excluding = ['againts', 'not', 'don', \"don't\", 'ain', 'aren', \"aren't\", 'couldn', \"couldn't\", 'didn',\n",
        "                 \"didn't\",'doesn', \"doesn't\", 'hadn', \"hadn't\", 'has', \"hasn't\", 'haven', \"haven't\", 'isn',\n",
        "                 \"isn't\", 'might', \"mightn't\", 'mustn', \"mustn't\", 'needn', \"needn't\", 'shouldn', \"shouldn't\",\n",
        "                 'wasn', \"wasn't\", 'weren', \"weren't\", 'won', \"won't\", 'wouldn', \"wouldn't\"]\n",
        "\n",
        "    stop_words = [word for word in stop_words if word not in excluding]\n",
        "\n",
        "    ps = PorterStemmer()\n",
        "    lemmatizer = WordNetLemmatizer()\n",
        "\n",
        "    # Tokenize the text\n",
        "    words = series.str.split()\n",
        "\n",
        "    # Remove stop words, apply stemming, and lemmatization\n",
        "    filtered_words = [\n",
        "        ' '.join([lemmatizer.lemmatize(ps.stem(word.lower())) for word in words if word.lower() not in stop_words])\n",
        "        for words in words\n",
        "    ]\n",
        "\n",
        "    return filtered_words"
      ]
    },
    {
      "cell_type": "code",
<<<<<<< HEAD
      "execution_count": 45,
=======
      "execution_count": 31,
>>>>>>> 0862d274a98ad802023ec61d11ede0de6bb71e1d
      "metadata": {
        "colab": {
          "base_uri": "https://localhost:8080/",
          "height": 275
        },
        "id": "FcHeHUp0NRwc",
        "outputId": "8e8efd3d-4dd4-4585-db68-a900f7293c92"
      },
      "outputs": [
        {
<<<<<<< HEAD
          "data": {
            "text/html": [
              "<div>\n",
=======
          "output_type": "stream",
          "name": "stderr",
          "text": [
            "<ipython-input-30-4e9dbe8be2e7>:3: FutureWarning: The default value of regex will change from True to False in a future version.\n",
            "  series = series.str.replace('\\d', '0')\n",
            "<ipython-input-30-4e9dbe8be2e7>:4: FutureWarning: The default value of regex will change from True to False in a future version.\n",
            "  series = series.str.replace(r\"([^ ]+(?<=\\.[a-z]{3}))\", \"<url>\")\n"
          ]
        },
        {
          "output_type": "execute_result",
          "data": {
            "text/plain": [
              "                                                      text  label  \\\n",
              "3065142  Great Item!: This tea press prepares a nice cu...      1   \n",
              "2215304  Never Looking Back: My only regret is that a n...      1   \n",
              "402326   Absolutely Fab!: Dr. Seuss has always been a f...      1   \n",
              "1970157  The Tempest Review: The Tempest is a play fill...      1   \n",
              "1949880  I hate this toy! Unstable and falls apart: Thi...      0   \n",
              "\n",
              "         text_length                                       cleaned_text  \n",
              "3065142          135  great item!: tea press prepar nice cup tea. ea...  \n",
              "2215304          258  never look back: regret newer kindl came week ...  \n",
              "402326           351  absolut fab!: dr. seuss ha alway favorit mine ...  \n",
              "1970157          414  tempest review: tempest play fill deceit, mani...  \n",
              "1949880          546  hate toy! unstabl fall apart: toy unstabl mode...  "
            ],
            "text/html": [
              "\n",
              "  <div id=\"df-203313b4-c5d7-4a06-83ff-135fe3e06b05\" class=\"colab-df-container\">\n",
              "    <div>\n",
>>>>>>> 0862d274a98ad802023ec61d11ede0de6bb71e1d
              "<style scoped>\n",
              "    .dataframe tbody tr th:only-of-type {\n",
              "        vertical-align: middle;\n",
              "    }\n",
              "\n",
              "    .dataframe tbody tr th {\n",
              "        vertical-align: top;\n",
              "    }\n",
              "\n",
              "    .dataframe thead th {\n",
              "        text-align: right;\n",
              "    }\n",
              "</style>\n",
              "<table border=\"1\" class=\"dataframe\">\n",
              "  <thead>\n",
              "    <tr style=\"text-align: right;\">\n",
              "      <th></th>\n",
              "      <th>text</th>\n",
              "      <th>label</th>\n",
              "      <th>text_length</th>\n",
              "      <th>cleaned_text</th>\n",
              "    </tr>\n",
              "  </thead>\n",
              "  <tbody>\n",
              "    <tr>\n",
<<<<<<< HEAD
              "      <th>1559061</th>\n",
              "      <td>isn't that great: this cd isn't all that great...</td>\n",
              "      <td>0</td>\n",
              "      <td>392</td>\n",
              "      <td>isn't great: cd isn't great. song like bob sti...</td>\n",
              "    </tr>\n",
              "    <tr>\n",
              "      <th>420646</th>\n",
              "      <td>Real Mediocre Late 90's stuff: 1998, probably ...</td>\n",
              "      <td>0</td>\n",
              "      <td>321</td>\n",
              "      <td>real mediocr late 90' stuff: 1998, probabl bor...</td>\n",
              "    </tr>\n",
              "    <tr>\n",
              "      <th>705221</th>\n",
              "      <td>Country music with an attitude!!!: Shania Twai...</td>\n",
              "      <td>1</td>\n",
              "      <td>433</td>\n",
              "      <td>countri music attitude!!!: shania twain ha don...</td>\n",
              "    </tr>\n",
              "    <tr>\n",
              "      <th>3176663</th>\n",
              "      <td>Perfect Wedding Ceremony Music: This CD was ex...</td>\n",
              "      <td>1</td>\n",
              "      <td>564</td>\n",
              "      <td>perfect wed ceremoni music: cd exactli look se...</td>\n",
              "    </tr>\n",
              "    <tr>\n",
              "      <th>546329</th>\n",
              "      <td>Awesome movie!: However, the print is a bit gr...</td>\n",
              "      <td>1</td>\n",
              "      <td>132</td>\n",
              "      <td>awesom movie!: however, print bit grainy. that...</td>\n",
              "    </tr>\n",
              "  </tbody>\n",
              "</table>\n",
              "</div>"
            ],
            "text/plain": [
              "                                                      text  label  \\\n",
              "1559061  isn't that great: this cd isn't all that great...      0   \n",
              "420646   Real Mediocre Late 90's stuff: 1998, probably ...      0   \n",
              "705221   Country music with an attitude!!!: Shania Twai...      1   \n",
              "3176663  Perfect Wedding Ceremony Music: This CD was ex...      1   \n",
              "546329   Awesome movie!: However, the print is a bit gr...      1   \n",
              "\n",
              "         text_length                                       cleaned_text  \n",
              "1559061          392  isn't great: cd isn't great. song like bob sti...  \n",
              "420646           321  real mediocr late 90' stuff: 1998, probabl bor...  \n",
              "705221           433  countri music attitude!!!: shania twain ha don...  \n",
              "3176663          564  perfect wed ceremoni music: cd exactli look se...  \n",
              "546329           132  awesom movie!: however, print bit grainy. that...  "
            ]
          },
          "execution_count": 45,
          "metadata": {},
          "output_type": "execute_result"
=======
              "      <th>3065142</th>\n",
              "      <td>Great Item!: This tea press prepares a nice cu...</td>\n",
              "      <td>1</td>\n",
              "      <td>135</td>\n",
              "      <td>great item!: tea press prepar nice cup tea. ea...</td>\n",
              "    </tr>\n",
              "    <tr>\n",
              "      <th>2215304</th>\n",
              "      <td>Never Looking Back: My only regret is that a n...</td>\n",
              "      <td>1</td>\n",
              "      <td>258</td>\n",
              "      <td>never look back: regret newer kindl came week ...</td>\n",
              "    </tr>\n",
              "    <tr>\n",
              "      <th>402326</th>\n",
              "      <td>Absolutely Fab!: Dr. Seuss has always been a f...</td>\n",
              "      <td>1</td>\n",
              "      <td>351</td>\n",
              "      <td>absolut fab!: dr. seuss ha alway favorit mine ...</td>\n",
              "    </tr>\n",
              "    <tr>\n",
              "      <th>1970157</th>\n",
              "      <td>The Tempest Review: The Tempest is a play fill...</td>\n",
              "      <td>1</td>\n",
              "      <td>414</td>\n",
              "      <td>tempest review: tempest play fill deceit, mani...</td>\n",
              "    </tr>\n",
              "    <tr>\n",
              "      <th>1949880</th>\n",
              "      <td>I hate this toy! Unstable and falls apart: Thi...</td>\n",
              "      <td>0</td>\n",
              "      <td>546</td>\n",
              "      <td>hate toy! unstabl fall apart: toy unstabl mode...</td>\n",
              "    </tr>\n",
              "  </tbody>\n",
              "</table>\n",
              "</div>\n",
              "    <div class=\"colab-df-buttons\">\n",
              "\n",
              "  <div class=\"colab-df-container\">\n",
              "    <button class=\"colab-df-convert\" onclick=\"convertToInteractive('df-203313b4-c5d7-4a06-83ff-135fe3e06b05')\"\n",
              "            title=\"Convert this dataframe to an interactive table.\"\n",
              "            style=\"display:none;\">\n",
              "\n",
              "  <svg xmlns=\"http://www.w3.org/2000/svg\" height=\"24px\" viewBox=\"0 -960 960 960\">\n",
              "    <path d=\"M120-120v-720h720v720H120Zm60-500h600v-160H180v160Zm220 220h160v-160H400v160Zm0 220h160v-160H400v160ZM180-400h160v-160H180v160Zm440 0h160v-160H620v160ZM180-180h160v-160H180v160Zm440 0h160v-160H620v160Z\"/>\n",
              "  </svg>\n",
              "    </button>\n",
              "\n",
              "  <style>\n",
              "    .colab-df-container {\n",
              "      display:flex;\n",
              "      gap: 12px;\n",
              "    }\n",
              "\n",
              "    .colab-df-convert {\n",
              "      background-color: #E8F0FE;\n",
              "      border: none;\n",
              "      border-radius: 50%;\n",
              "      cursor: pointer;\n",
              "      display: none;\n",
              "      fill: #1967D2;\n",
              "      height: 32px;\n",
              "      padding: 0 0 0 0;\n",
              "      width: 32px;\n",
              "    }\n",
              "\n",
              "    .colab-df-convert:hover {\n",
              "      background-color: #E2EBFA;\n",
              "      box-shadow: 0px 1px 2px rgba(60, 64, 67, 0.3), 0px 1px 3px 1px rgba(60, 64, 67, 0.15);\n",
              "      fill: #174EA6;\n",
              "    }\n",
              "\n",
              "    .colab-df-buttons div {\n",
              "      margin-bottom: 4px;\n",
              "    }\n",
              "\n",
              "    [theme=dark] .colab-df-convert {\n",
              "      background-color: #3B4455;\n",
              "      fill: #D2E3FC;\n",
              "    }\n",
              "\n",
              "    [theme=dark] .colab-df-convert:hover {\n",
              "      background-color: #434B5C;\n",
              "      box-shadow: 0px 1px 3px 1px rgba(0, 0, 0, 0.15);\n",
              "      filter: drop-shadow(0px 1px 2px rgba(0, 0, 0, 0.3));\n",
              "      fill: #FFFFFF;\n",
              "    }\n",
              "  </style>\n",
              "\n",
              "    <script>\n",
              "      const buttonEl =\n",
              "        document.querySelector('#df-203313b4-c5d7-4a06-83ff-135fe3e06b05 button.colab-df-convert');\n",
              "      buttonEl.style.display =\n",
              "        google.colab.kernel.accessAllowed ? 'block' : 'none';\n",
              "\n",
              "      async function convertToInteractive(key) {\n",
              "        const element = document.querySelector('#df-203313b4-c5d7-4a06-83ff-135fe3e06b05');\n",
              "        const dataTable =\n",
              "          await google.colab.kernel.invokeFunction('convertToInteractive',\n",
              "                                                    [key], {});\n",
              "        if (!dataTable) return;\n",
              "\n",
              "        const docLinkHtml = 'Like what you see? Visit the ' +\n",
              "          '<a target=\"_blank\" href=https://colab.research.google.com/notebooks/data_table.ipynb>data table notebook</a>'\n",
              "          + ' to learn more about interactive tables.';\n",
              "        element.innerHTML = '';\n",
              "        dataTable['output_type'] = 'display_data';\n",
              "        await google.colab.output.renderOutput(dataTable, element);\n",
              "        const docLink = document.createElement('div');\n",
              "        docLink.innerHTML = docLinkHtml;\n",
              "        element.appendChild(docLink);\n",
              "      }\n",
              "    </script>\n",
              "  </div>\n",
              "\n",
              "\n",
              "<div id=\"df-ea80db40-9784-44c0-9d7d-cead001d9865\">\n",
              "  <button class=\"colab-df-quickchart\" onclick=\"quickchart('df-ea80db40-9784-44c0-9d7d-cead001d9865')\"\n",
              "            title=\"Suggest charts\"\n",
              "            style=\"display:none;\">\n",
              "\n",
              "<svg xmlns=\"http://www.w3.org/2000/svg\" height=\"24px\"viewBox=\"0 0 24 24\"\n",
              "     width=\"24px\">\n",
              "    <g>\n",
              "        <path d=\"M19 3H5c-1.1 0-2 .9-2 2v14c0 1.1.9 2 2 2h14c1.1 0 2-.9 2-2V5c0-1.1-.9-2-2-2zM9 17H7v-7h2v7zm4 0h-2V7h2v10zm4 0h-2v-4h2v4z\"/>\n",
              "    </g>\n",
              "</svg>\n",
              "  </button>\n",
              "\n",
              "<style>\n",
              "  .colab-df-quickchart {\n",
              "      --bg-color: #E8F0FE;\n",
              "      --fill-color: #1967D2;\n",
              "      --hover-bg-color: #E2EBFA;\n",
              "      --hover-fill-color: #174EA6;\n",
              "      --disabled-fill-color: #AAA;\n",
              "      --disabled-bg-color: #DDD;\n",
              "  }\n",
              "\n",
              "  [theme=dark] .colab-df-quickchart {\n",
              "      --bg-color: #3B4455;\n",
              "      --fill-color: #D2E3FC;\n",
              "      --hover-bg-color: #434B5C;\n",
              "      --hover-fill-color: #FFFFFF;\n",
              "      --disabled-bg-color: #3B4455;\n",
              "      --disabled-fill-color: #666;\n",
              "  }\n",
              "\n",
              "  .colab-df-quickchart {\n",
              "    background-color: var(--bg-color);\n",
              "    border: none;\n",
              "    border-radius: 50%;\n",
              "    cursor: pointer;\n",
              "    display: none;\n",
              "    fill: var(--fill-color);\n",
              "    height: 32px;\n",
              "    padding: 0;\n",
              "    width: 32px;\n",
              "  }\n",
              "\n",
              "  .colab-df-quickchart:hover {\n",
              "    background-color: var(--hover-bg-color);\n",
              "    box-shadow: 0 1px 2px rgba(60, 64, 67, 0.3), 0 1px 3px 1px rgba(60, 64, 67, 0.15);\n",
              "    fill: var(--button-hover-fill-color);\n",
              "  }\n",
              "\n",
              "  .colab-df-quickchart-complete:disabled,\n",
              "  .colab-df-quickchart-complete:disabled:hover {\n",
              "    background-color: var(--disabled-bg-color);\n",
              "    fill: var(--disabled-fill-color);\n",
              "    box-shadow: none;\n",
              "  }\n",
              "\n",
              "  .colab-df-spinner {\n",
              "    border: 2px solid var(--fill-color);\n",
              "    border-color: transparent;\n",
              "    border-bottom-color: var(--fill-color);\n",
              "    animation:\n",
              "      spin 1s steps(1) infinite;\n",
              "  }\n",
              "\n",
              "  @keyframes spin {\n",
              "    0% {\n",
              "      border-color: transparent;\n",
              "      border-bottom-color: var(--fill-color);\n",
              "      border-left-color: var(--fill-color);\n",
              "    }\n",
              "    20% {\n",
              "      border-color: transparent;\n",
              "      border-left-color: var(--fill-color);\n",
              "      border-top-color: var(--fill-color);\n",
              "    }\n",
              "    30% {\n",
              "      border-color: transparent;\n",
              "      border-left-color: var(--fill-color);\n",
              "      border-top-color: var(--fill-color);\n",
              "      border-right-color: var(--fill-color);\n",
              "    }\n",
              "    40% {\n",
              "      border-color: transparent;\n",
              "      border-right-color: var(--fill-color);\n",
              "      border-top-color: var(--fill-color);\n",
              "    }\n",
              "    60% {\n",
              "      border-color: transparent;\n",
              "      border-right-color: var(--fill-color);\n",
              "    }\n",
              "    80% {\n",
              "      border-color: transparent;\n",
              "      border-right-color: var(--fill-color);\n",
              "      border-bottom-color: var(--fill-color);\n",
              "    }\n",
              "    90% {\n",
              "      border-color: transparent;\n",
              "      border-bottom-color: var(--fill-color);\n",
              "    }\n",
              "  }\n",
              "</style>\n",
              "\n",
              "  <script>\n",
              "    async function quickchart(key) {\n",
              "      const quickchartButtonEl =\n",
              "        document.querySelector('#' + key + ' button');\n",
              "      quickchartButtonEl.disabled = true;  // To prevent multiple clicks.\n",
              "      quickchartButtonEl.classList.add('colab-df-spinner');\n",
              "      try {\n",
              "        const charts = await google.colab.kernel.invokeFunction(\n",
              "            'suggestCharts', [key], {});\n",
              "      } catch (error) {\n",
              "        console.error('Error during call to suggestCharts:', error);\n",
              "      }\n",
              "      quickchartButtonEl.classList.remove('colab-df-spinner');\n",
              "      quickchartButtonEl.classList.add('colab-df-quickchart-complete');\n",
              "    }\n",
              "    (() => {\n",
              "      let quickchartButtonEl =\n",
              "        document.querySelector('#df-ea80db40-9784-44c0-9d7d-cead001d9865 button');\n",
              "      quickchartButtonEl.style.display =\n",
              "        google.colab.kernel.accessAllowed ? 'block' : 'none';\n",
              "    })();\n",
              "  </script>\n",
              "</div>\n",
              "    </div>\n",
              "  </div>\n"
            ]
          },
          "metadata": {},
          "execution_count": 31
>>>>>>> 0862d274a98ad802023ec61d11ede0de6bb71e1d
        }
      ],
      "source": [
        "# df_train['cleaned_text'] = df_train['text'].apply(preprocess_text)\n",
        "df_train['cleaned_text'] = preprocess_text_series(df_train['text'])\n",
        "df_train.head()"
      ]
    },
    {
      "cell_type": "code",
<<<<<<< HEAD
      "execution_count": 46,
=======
      "execution_count": 32,
>>>>>>> 0862d274a98ad802023ec61d11ede0de6bb71e1d
      "metadata": {
        "colab": {
          "base_uri": "https://localhost:8080/",
          "height": 275
        },
        "id": "RqsN0RnwNRwc",
        "outputId": "c690e3b8-a590-413d-c123-7729365ef5c8"
      },
      "outputs": [
        {
<<<<<<< HEAD
          "data": {
            "text/html": [
              "<div>\n",
=======
          "output_type": "stream",
          "name": "stderr",
          "text": [
            "<ipython-input-30-4e9dbe8be2e7>:3: FutureWarning: The default value of regex will change from True to False in a future version.\n",
            "  series = series.str.replace('\\d', '0')\n",
            "<ipython-input-30-4e9dbe8be2e7>:4: FutureWarning: The default value of regex will change from True to False in a future version.\n",
            "  series = series.str.replace(r\"([^ ]+(?<=\\.[a-z]{3}))\", \"<url>\")\n"
          ]
        },
        {
          "output_type": "execute_result",
          "data": {
            "text/plain": [
              "                                                     text  label  text_length  \\\n",
              "181031  To G. Kubrak :....this album is 5 stars: First...      1          382   \n",
              "220001  The Wu-Tang-iest cd ever!: What a great album ...      1          431   \n",
              "183834  Where Is Everyone?: This book was totally awes...      1          336   \n",
              "224027  missing pages: Very disappointed to find that ...      0          226   \n",
              "203654  Persevering in difficult circumstances.: This ...      1          161   \n",
              "\n",
              "                                             cleaned_text  \n",
              "181031  g. kubrak <url> album 0 stars: first all, woul...  \n",
              "220001  wu-tang-iest cd ever!: great album great group...  \n",
              "183834  everyone?: book total awesome! nick skye, two ...  \n",
              "224027  miss pages: disappoint find son got end third ...  \n",
              "203654  persev difficult circumstances.: great stori h...  "
            ],
            "text/html": [
              "\n",
              "  <div id=\"df-4ae7805c-b218-4d22-8e3e-fa9c93a750f8\" class=\"colab-df-container\">\n",
              "    <div>\n",
>>>>>>> 0862d274a98ad802023ec61d11ede0de6bb71e1d
              "<style scoped>\n",
              "    .dataframe tbody tr th:only-of-type {\n",
              "        vertical-align: middle;\n",
              "    }\n",
              "\n",
              "    .dataframe tbody tr th {\n",
              "        vertical-align: top;\n",
              "    }\n",
              "\n",
              "    .dataframe thead th {\n",
              "        text-align: right;\n",
              "    }\n",
              "</style>\n",
              "<table border=\"1\" class=\"dataframe\">\n",
              "  <thead>\n",
              "    <tr style=\"text-align: right;\">\n",
              "      <th></th>\n",
              "      <th>text</th>\n",
              "      <th>label</th>\n",
              "      <th>text_length</th>\n",
              "      <th>cleaned_text</th>\n",
              "    </tr>\n",
              "  </thead>\n",
              "  <tbody>\n",
              "    <tr>\n",
<<<<<<< HEAD
              "      <th>43269</th>\n",
              "      <td>very good deal: looking for this for a long ti...</td>\n",
              "      <td>1</td>\n",
              "      <td>140</td>\n",
              "      <td>good deal: look long time abl get mp3 download...</td>\n",
              "    </tr>\n",
              "    <tr>\n",
              "      <th>247270</th>\n",
              "      <td>Logical but not radical: O'Reilly's exceptiona...</td>\n",
              "      <td>1</td>\n",
              "      <td>631</td>\n",
              "      <td>logic not radical: o'reilly' except analyt abi...</td>\n",
              "    </tr>\n",
              "    <tr>\n",
              "      <th>267554</th>\n",
              "      <td>Muddy Concept Never Clears: With the cast that...</td>\n",
              "      <td>0</td>\n",
              "      <td>347</td>\n",
              "      <td>muddi concept never clears: cast \"red lights\" ...</td>\n",
              "    </tr>\n",
              "    <tr>\n",
              "      <th>263962</th>\n",
              "      <td>A must have in one's collection!: Man, am i gl...</td>\n",
              "      <td>1</td>\n",
              "      <td>654</td>\n",
              "      <td>must one' collection!: man, glad purchas one a...</td>\n",
              "    </tr>\n",
              "    <tr>\n",
              "      <th>322383</th>\n",
              "      <td>Glamorous Biography: Here is some Hollywood hi...</td>\n",
              "      <td>1</td>\n",
              "      <td>355</td>\n",
              "      <td>glamor biography: hollywood histori written gl...</td>\n",
              "    </tr>\n",
              "  </tbody>\n",
              "</table>\n",
              "</div>"
            ],
            "text/plain": [
              "                                                     text  label  text_length  \\\n",
              "43269   very good deal: looking for this for a long ti...      1          140   \n",
              "247270  Logical but not radical: O'Reilly's exceptiona...      1          631   \n",
              "267554  Muddy Concept Never Clears: With the cast that...      0          347   \n",
              "263962  A must have in one's collection!: Man, am i gl...      1          654   \n",
              "322383  Glamorous Biography: Here is some Hollywood hi...      1          355   \n",
              "\n",
              "                                             cleaned_text  \n",
              "43269   good deal: look long time abl get mp3 download...  \n",
              "247270  logic not radical: o'reilly' except analyt abi...  \n",
              "267554  muddi concept never clears: cast \"red lights\" ...  \n",
              "263962  must one' collection!: man, glad purchas one a...  \n",
              "322383  glamor biography: hollywood histori written gl...  "
            ]
          },
          "execution_count": 46,
          "metadata": {},
          "output_type": "execute_result"
=======
              "      <th>181031</th>\n",
              "      <td>To G. Kubrak :....this album is 5 stars: First...</td>\n",
              "      <td>1</td>\n",
              "      <td>382</td>\n",
              "      <td>g. kubrak &lt;url&gt; album 0 stars: first all, woul...</td>\n",
              "    </tr>\n",
              "    <tr>\n",
              "      <th>220001</th>\n",
              "      <td>The Wu-Tang-iest cd ever!: What a great album ...</td>\n",
              "      <td>1</td>\n",
              "      <td>431</td>\n",
              "      <td>wu-tang-iest cd ever!: great album great group...</td>\n",
              "    </tr>\n",
              "    <tr>\n",
              "      <th>183834</th>\n",
              "      <td>Where Is Everyone?: This book was totally awes...</td>\n",
              "      <td>1</td>\n",
              "      <td>336</td>\n",
              "      <td>everyone?: book total awesome! nick skye, two ...</td>\n",
              "    </tr>\n",
              "    <tr>\n",
              "      <th>224027</th>\n",
              "      <td>missing pages: Very disappointed to find that ...</td>\n",
              "      <td>0</td>\n",
              "      <td>226</td>\n",
              "      <td>miss pages: disappoint find son got end third ...</td>\n",
              "    </tr>\n",
              "    <tr>\n",
              "      <th>203654</th>\n",
              "      <td>Persevering in difficult circumstances.: This ...</td>\n",
              "      <td>1</td>\n",
              "      <td>161</td>\n",
              "      <td>persev difficult circumstances.: great stori h...</td>\n",
              "    </tr>\n",
              "  </tbody>\n",
              "</table>\n",
              "</div>\n",
              "    <div class=\"colab-df-buttons\">\n",
              "\n",
              "  <div class=\"colab-df-container\">\n",
              "    <button class=\"colab-df-convert\" onclick=\"convertToInteractive('df-4ae7805c-b218-4d22-8e3e-fa9c93a750f8')\"\n",
              "            title=\"Convert this dataframe to an interactive table.\"\n",
              "            style=\"display:none;\">\n",
              "\n",
              "  <svg xmlns=\"http://www.w3.org/2000/svg\" height=\"24px\" viewBox=\"0 -960 960 960\">\n",
              "    <path d=\"M120-120v-720h720v720H120Zm60-500h600v-160H180v160Zm220 220h160v-160H400v160Zm0 220h160v-160H400v160ZM180-400h160v-160H180v160Zm440 0h160v-160H620v160ZM180-180h160v-160H180v160Zm440 0h160v-160H620v160Z\"/>\n",
              "  </svg>\n",
              "    </button>\n",
              "\n",
              "  <style>\n",
              "    .colab-df-container {\n",
              "      display:flex;\n",
              "      gap: 12px;\n",
              "    }\n",
              "\n",
              "    .colab-df-convert {\n",
              "      background-color: #E8F0FE;\n",
              "      border: none;\n",
              "      border-radius: 50%;\n",
              "      cursor: pointer;\n",
              "      display: none;\n",
              "      fill: #1967D2;\n",
              "      height: 32px;\n",
              "      padding: 0 0 0 0;\n",
              "      width: 32px;\n",
              "    }\n",
              "\n",
              "    .colab-df-convert:hover {\n",
              "      background-color: #E2EBFA;\n",
              "      box-shadow: 0px 1px 2px rgba(60, 64, 67, 0.3), 0px 1px 3px 1px rgba(60, 64, 67, 0.15);\n",
              "      fill: #174EA6;\n",
              "    }\n",
              "\n",
              "    .colab-df-buttons div {\n",
              "      margin-bottom: 4px;\n",
              "    }\n",
              "\n",
              "    [theme=dark] .colab-df-convert {\n",
              "      background-color: #3B4455;\n",
              "      fill: #D2E3FC;\n",
              "    }\n",
              "\n",
              "    [theme=dark] .colab-df-convert:hover {\n",
              "      background-color: #434B5C;\n",
              "      box-shadow: 0px 1px 3px 1px rgba(0, 0, 0, 0.15);\n",
              "      filter: drop-shadow(0px 1px 2px rgba(0, 0, 0, 0.3));\n",
              "      fill: #FFFFFF;\n",
              "    }\n",
              "  </style>\n",
              "\n",
              "    <script>\n",
              "      const buttonEl =\n",
              "        document.querySelector('#df-4ae7805c-b218-4d22-8e3e-fa9c93a750f8 button.colab-df-convert');\n",
              "      buttonEl.style.display =\n",
              "        google.colab.kernel.accessAllowed ? 'block' : 'none';\n",
              "\n",
              "      async function convertToInteractive(key) {\n",
              "        const element = document.querySelector('#df-4ae7805c-b218-4d22-8e3e-fa9c93a750f8');\n",
              "        const dataTable =\n",
              "          await google.colab.kernel.invokeFunction('convertToInteractive',\n",
              "                                                    [key], {});\n",
              "        if (!dataTable) return;\n",
              "\n",
              "        const docLinkHtml = 'Like what you see? Visit the ' +\n",
              "          '<a target=\"_blank\" href=https://colab.research.google.com/notebooks/data_table.ipynb>data table notebook</a>'\n",
              "          + ' to learn more about interactive tables.';\n",
              "        element.innerHTML = '';\n",
              "        dataTable['output_type'] = 'display_data';\n",
              "        await google.colab.output.renderOutput(dataTable, element);\n",
              "        const docLink = document.createElement('div');\n",
              "        docLink.innerHTML = docLinkHtml;\n",
              "        element.appendChild(docLink);\n",
              "      }\n",
              "    </script>\n",
              "  </div>\n",
              "\n",
              "\n",
              "<div id=\"df-ee07d138-70f9-4009-b110-4316dc4290a1\">\n",
              "  <button class=\"colab-df-quickchart\" onclick=\"quickchart('df-ee07d138-70f9-4009-b110-4316dc4290a1')\"\n",
              "            title=\"Suggest charts\"\n",
              "            style=\"display:none;\">\n",
              "\n",
              "<svg xmlns=\"http://www.w3.org/2000/svg\" height=\"24px\"viewBox=\"0 0 24 24\"\n",
              "     width=\"24px\">\n",
              "    <g>\n",
              "        <path d=\"M19 3H5c-1.1 0-2 .9-2 2v14c0 1.1.9 2 2 2h14c1.1 0 2-.9 2-2V5c0-1.1-.9-2-2-2zM9 17H7v-7h2v7zm4 0h-2V7h2v10zm4 0h-2v-4h2v4z\"/>\n",
              "    </g>\n",
              "</svg>\n",
              "  </button>\n",
              "\n",
              "<style>\n",
              "  .colab-df-quickchart {\n",
              "      --bg-color: #E8F0FE;\n",
              "      --fill-color: #1967D2;\n",
              "      --hover-bg-color: #E2EBFA;\n",
              "      --hover-fill-color: #174EA6;\n",
              "      --disabled-fill-color: #AAA;\n",
              "      --disabled-bg-color: #DDD;\n",
              "  }\n",
              "\n",
              "  [theme=dark] .colab-df-quickchart {\n",
              "      --bg-color: #3B4455;\n",
              "      --fill-color: #D2E3FC;\n",
              "      --hover-bg-color: #434B5C;\n",
              "      --hover-fill-color: #FFFFFF;\n",
              "      --disabled-bg-color: #3B4455;\n",
              "      --disabled-fill-color: #666;\n",
              "  }\n",
              "\n",
              "  .colab-df-quickchart {\n",
              "    background-color: var(--bg-color);\n",
              "    border: none;\n",
              "    border-radius: 50%;\n",
              "    cursor: pointer;\n",
              "    display: none;\n",
              "    fill: var(--fill-color);\n",
              "    height: 32px;\n",
              "    padding: 0;\n",
              "    width: 32px;\n",
              "  }\n",
              "\n",
              "  .colab-df-quickchart:hover {\n",
              "    background-color: var(--hover-bg-color);\n",
              "    box-shadow: 0 1px 2px rgba(60, 64, 67, 0.3), 0 1px 3px 1px rgba(60, 64, 67, 0.15);\n",
              "    fill: var(--button-hover-fill-color);\n",
              "  }\n",
              "\n",
              "  .colab-df-quickchart-complete:disabled,\n",
              "  .colab-df-quickchart-complete:disabled:hover {\n",
              "    background-color: var(--disabled-bg-color);\n",
              "    fill: var(--disabled-fill-color);\n",
              "    box-shadow: none;\n",
              "  }\n",
              "\n",
              "  .colab-df-spinner {\n",
              "    border: 2px solid var(--fill-color);\n",
              "    border-color: transparent;\n",
              "    border-bottom-color: var(--fill-color);\n",
              "    animation:\n",
              "      spin 1s steps(1) infinite;\n",
              "  }\n",
              "\n",
              "  @keyframes spin {\n",
              "    0% {\n",
              "      border-color: transparent;\n",
              "      border-bottom-color: var(--fill-color);\n",
              "      border-left-color: var(--fill-color);\n",
              "    }\n",
              "    20% {\n",
              "      border-color: transparent;\n",
              "      border-left-color: var(--fill-color);\n",
              "      border-top-color: var(--fill-color);\n",
              "    }\n",
              "    30% {\n",
              "      border-color: transparent;\n",
              "      border-left-color: var(--fill-color);\n",
              "      border-top-color: var(--fill-color);\n",
              "      border-right-color: var(--fill-color);\n",
              "    }\n",
              "    40% {\n",
              "      border-color: transparent;\n",
              "      border-right-color: var(--fill-color);\n",
              "      border-top-color: var(--fill-color);\n",
              "    }\n",
              "    60% {\n",
              "      border-color: transparent;\n",
              "      border-right-color: var(--fill-color);\n",
              "    }\n",
              "    80% {\n",
              "      border-color: transparent;\n",
              "      border-right-color: var(--fill-color);\n",
              "      border-bottom-color: var(--fill-color);\n",
              "    }\n",
              "    90% {\n",
              "      border-color: transparent;\n",
              "      border-bottom-color: var(--fill-color);\n",
              "    }\n",
              "  }\n",
              "</style>\n",
              "\n",
              "  <script>\n",
              "    async function quickchart(key) {\n",
              "      const quickchartButtonEl =\n",
              "        document.querySelector('#' + key + ' button');\n",
              "      quickchartButtonEl.disabled = true;  // To prevent multiple clicks.\n",
              "      quickchartButtonEl.classList.add('colab-df-spinner');\n",
              "      try {\n",
              "        const charts = await google.colab.kernel.invokeFunction(\n",
              "            'suggestCharts', [key], {});\n",
              "      } catch (error) {\n",
              "        console.error('Error during call to suggestCharts:', error);\n",
              "      }\n",
              "      quickchartButtonEl.classList.remove('colab-df-spinner');\n",
              "      quickchartButtonEl.classList.add('colab-df-quickchart-complete');\n",
              "    }\n",
              "    (() => {\n",
              "      let quickchartButtonEl =\n",
              "        document.querySelector('#df-ee07d138-70f9-4009-b110-4316dc4290a1 button');\n",
              "      quickchartButtonEl.style.display =\n",
              "        google.colab.kernel.accessAllowed ? 'block' : 'none';\n",
              "    })();\n",
              "  </script>\n",
              "</div>\n",
              "    </div>\n",
              "  </div>\n"
            ]
          },
          "metadata": {},
          "execution_count": 32
>>>>>>> 0862d274a98ad802023ec61d11ede0de6bb71e1d
        }
      ],
      "source": [
        "# df_test['cleaned_text'] = df_test['text'].apply(preprocess_text)\n",
        "df_test['cleaned_text'] = preprocess_text_series(df_test['text'])\n",
        "df_test.head()"
      ]
    },
    {
      "cell_type": "markdown",
      "metadata": {
        "id": "p88nOxbJNRwc"
      },
      "source": [
        "Split text"
      ]
    },
    {
      "cell_type": "code",
<<<<<<< HEAD
      "execution_count": 47,
=======
      "execution_count": 33,
>>>>>>> 0862d274a98ad802023ec61d11ede0de6bb71e1d
      "metadata": {
        "colab": {
          "base_uri": "https://localhost:8080/"
        },
        "id": "3jlY38kANRwc",
        "outputId": "9576db88-86ad-44b2-de8e-b4776173e0f9"
      },
      "outputs": [
        {
<<<<<<< HEAD
          "name": "stdout",
          "output_type": "stream",
          "text": [
            "X_train: (50000,)\n",
            "X_test: (10000,)\n",
            "y_train: (50000,)\n",
            "y_test: (10000,)\n"
=======
          "output_type": "stream",
          "name": "stdout",
          "text": [
            "X_train: (100000,)\n",
            "X_test: (20000,)\n",
            "y_train: (100000,)\n",
            "y_test: (20000,)\n"
>>>>>>> 0862d274a98ad802023ec61d11ede0de6bb71e1d
          ]
        }
      ],
      "source": [
        "X_train, X_test, y_train, y_test = df_train['cleaned_text'], df_test['cleaned_text'], df_train['label'], df_test['label']\n",
        "print(f\"X_train: {X_train.shape}\")\n",
        "print(f\"X_test: {X_test.shape}\")\n",
        "print(f\"y_train: {y_train.shape}\")\n",
        "print(f\"y_test: {y_test.shape}\")"
      ]
    },
    {
      "cell_type": "markdown",
      "metadata": {
        "id": "hrXlGQZGNRwc"
      },
      "source": [
        "Tokenize the text data"
      ]
    },
    {
      "cell_type": "code",
<<<<<<< HEAD
      "execution_count": 48,
=======
      "execution_count": 34,
>>>>>>> 0862d274a98ad802023ec61d11ede0de6bb71e1d
      "metadata": {
        "colab": {
          "base_uri": "https://localhost:8080/"
        },
        "id": "eC_5IwrENRwc",
        "outputId": "5b2c1017-1d97-489a-9163-025e7ee332dd"
      },
      "outputs": [
        {
<<<<<<< HEAD
          "data": {
            "text/plain": [
              "<keras.src.preprocessing.text.Tokenizer at 0x1f969f5c7d0>"
            ]
          },
          "execution_count": 48,
          "metadata": {},
          "output_type": "execute_result"
=======
          "output_type": "execute_result",
          "data": {
            "text/plain": [
              "<keras.src.preprocessing.text.Tokenizer at 0x7f9a4891ec50>"
            ]
          },
          "metadata": {},
          "execution_count": 34
>>>>>>> 0862d274a98ad802023ec61d11ede0de6bb71e1d
        }
      ],
      "source": [
        "max_features = 10000\n",
        "\n",
        "tokenizer = Tokenizer(num_words=max_features)\n",
        "tokenizer.fit_on_texts(X_train)\n",
        "tokenizer"
      ]
    },
    {
      "cell_type": "code",
<<<<<<< HEAD
      "execution_count": 49,
=======
      "execution_count": 35,
>>>>>>> 0862d274a98ad802023ec61d11ede0de6bb71e1d
      "metadata": {
        "colab": {
          "base_uri": "https://localhost:8080/"
        },
        "id": "COGgEHY3NRwc",
        "outputId": "5469297a-a1fb-4a73-f485-485fe0364dca"
      },
      "outputs": [
        {
<<<<<<< HEAD
          "data": {
            "text/plain": [
              "85138"
            ]
          },
          "execution_count": 49,
          "metadata": {},
          "output_type": "execute_result"
=======
          "output_type": "execute_result",
          "data": {
            "text/plain": [
              "121135"
            ]
          },
          "metadata": {},
          "execution_count": 35
>>>>>>> 0862d274a98ad802023ec61d11ede0de6bb71e1d
        }
      ],
      "source": [
        "total_words = len(tokenizer.word_index) + 1\n",
        "total_words"
      ]
    },
    {
      "cell_type": "markdown",
      "metadata": {
        "id": "nfOQp1pfNRwd"
      },
      "source": [
        "Convert text to sequences and pad them"
      ]
    },
    {
      "cell_type": "code",
<<<<<<< HEAD
      "execution_count": 50,
=======
      "execution_count": 36,
>>>>>>> 0862d274a98ad802023ec61d11ede0de6bb71e1d
      "metadata": {
        "colab": {
          "base_uri": "https://localhost:8080/"
        },
        "id": "bgsp8swNNRwd",
        "outputId": "e427265e-3c7e-4795-a296-a8099a62a0f6"
      },
      "outputs": [
        {
<<<<<<< HEAD
          "data": {
            "text/plain": [
              "array([[   0,    0,    0, ...,    9,    3, 1177],\n",
              "       [   0,    0,    0, ...,   26,    1,  989],\n",
              "       [   0,    0,    0, ...,    9, 3191,  391],\n",
              "       ...,\n",
              "       [   0,    0,    0, ...,  358,   48,    6],\n",
              "       [   0,    0,    0, ...,    5,  213,  286],\n",
              "       [   0,    0,    0, ..., 1842,   13,  211]])"
            ]
          },
          "execution_count": 50,
          "metadata": {},
          "output_type": "execute_result"
=======
          "output_type": "execute_result",
          "data": {
            "text/plain": [
              "array([[   0,    0,    0, ...,    6,  501, 1829],\n",
              "       [   0,    0,    0, ...,  137,  344,  179],\n",
              "       [   0,    0,    0, ..., 1606,  617,  216],\n",
              "       ...,\n",
              "       [   0,    0,    0, ...,  426,  436, 1040],\n",
              "       [   0,    0,    0, ...,  218,   12, 2558],\n",
              "       [   0,    0,    0, ...,    7,  514, 2669]], dtype=int32)"
            ]
          },
          "metadata": {},
          "execution_count": 36
>>>>>>> 0862d274a98ad802023ec61d11ede0de6bb71e1d
        }
      ],
      "source": [
        "maxlen = 100\n",
        "\n",
        "X_train_sequences = pad_sequences(tokenizer.texts_to_sequences(X_train),\n",
        "                                  maxlen=maxlen)\n",
        "X_train_sequences"
      ]
    },
    {
      "cell_type": "code",
<<<<<<< HEAD
      "execution_count": 51,
=======
      "execution_count": 37,
>>>>>>> 0862d274a98ad802023ec61d11ede0de6bb71e1d
      "metadata": {
        "colab": {
          "base_uri": "https://localhost:8080/"
        },
        "id": "gnCpRoM4NRwd",
        "outputId": "a29bcb3b-e89d-4d2d-acb5-79f49c354f62"
      },
      "outputs": [
        {
<<<<<<< HEAD
          "data": {
            "text/plain": [
              "array([[   0,    0,    0, ...,  315,    5, 1025],\n",
              "       [   0,    0,    0, ...,  834,  576, 4005],\n",
              "       [   0,    0,    0, ...,  107,  354, 1383],\n",
              "       ...,\n",
              "       [   0,    0,    0, ...,   69, 1109, 3502],\n",
              "       [   0,    0,    0, ...,   48,    4,  570],\n",
              "       [   0,    0,    0, ...,    3,  156, 3671]])"
            ]
          },
          "execution_count": 51,
          "metadata": {},
          "output_type": "execute_result"
=======
          "output_type": "execute_result",
          "data": {
            "text/plain": [
              "array([[   0,    0,    0, ..., 1730, 3333,  289],\n",
              "       [   0,    0,    0, ...,   10,    6,   32],\n",
              "       [   0,    0,    0, ...,  317,  100,   35],\n",
              "       ...,\n",
              "       [   0,    0,    0, ...,  364,  683, 1269],\n",
              "       [   0,    0,    0, ...,   13,  179,  240],\n",
              "       [   0,    0,    0, ...,  771,  823, 1308]], dtype=int32)"
            ]
          },
          "metadata": {},
          "execution_count": 37
>>>>>>> 0862d274a98ad802023ec61d11ede0de6bb71e1d
        }
      ],
      "source": [
        "X_test_sequences = pad_sequences(tokenizer.texts_to_sequences(X_test),\n",
        "                                 maxlen=maxlen)\n",
        "X_test_sequences"
      ]
    },
    {
      "cell_type": "markdown",
      "metadata": {
        "id": "9EN-pR5zNRwd"
      },
      "source": [
        "# Build LSTM Model"
      ]
    },
    {
      "cell_type": "code",
<<<<<<< HEAD
      "execution_count": 52,
=======
      "execution_count": 38,
>>>>>>> 0862d274a98ad802023ec61d11ede0de6bb71e1d
      "metadata": {
        "id": "eQuSnv7cNRwd"
      },
      "outputs": [],
      "source": [
        "from tensorflow.keras import models, layers, optimizers\n",
<<<<<<< HEAD
        "from tensorflow.keras import regularizers\n",
=======
>>>>>>> 0862d274a98ad802023ec61d11ede0de6bb71e1d
        "# from tensorflow.keras.layers import Embedding, LSTM, Dense, Dropout"
      ]
    },
    {
      "cell_type": "code",
<<<<<<< HEAD
      "execution_count": 53,
      "metadata": {
        "id": "UkEmvnPRNRwd"
      },
      "outputs": [
        {
          "name": "stdout",
          "output_type": "stream",
          "text": [
            "WARNING:tensorflow:From c:\\Users\\CENTER_ELRahama\\AppData\\Local\\Programs\\Python\\Python311\\Lib\\site-packages\\keras\\src\\backend.py:873: The name tf.get_default_graph is deprecated. Please use tf.compat.v1.get_default_graph instead.\n",
            "\n"
          ]
        }
      ],
      "source": [
        "model = models.Sequential()\n",
        "model.add(layers.Embedding(total_words, output_dim=64))\n",
        "model.add(layers.Bidirectional(layers.LSTM(64, activation='tanh', return_sequences=True)))\n",
        "model.add(layers.Dropout(0.5))\n",
        "\n",
        "model.add(layers.Bidirectional(layers.LSTM(32, activation='tanh',)))\n",
        "model.add(layers.Dropout(0.5))\n",
        "\n",
        "model.add(layers.Dense(1, activation='sigmoid', \n",
        "                       kernel_regularizer=regularizers.l2(0.01)) # decrease overfitting\n",
        "          )"
=======
      "execution_count": 39,
      "metadata": {
        "id": "UkEmvnPRNRwd"
      },
      "outputs": [],
      "source": [
        "model = models.Sequential()\n",
        "model.add(layers.Embedding(total_words, output_dim=64))\n",
        "model.add(layers.LSTM(100))\n",
        "model.add(layers.Dropout(0.2))\n",
        "model.add(layers.Flatten())\n",
        "model.add(layers.Dense(1, activation='sigmoid'))"
>>>>>>> 0862d274a98ad802023ec61d11ede0de6bb71e1d
      ]
    },
    {
      "cell_type": "code",
<<<<<<< HEAD
      "execution_count": 54,
=======
      "execution_count": 40,
>>>>>>> 0862d274a98ad802023ec61d11ede0de6bb71e1d
      "metadata": {
        "id": "6nlvuZO4NRwd"
      },
      "outputs": [],
      "source": [
<<<<<<< HEAD
        "model.compile(optimizer=optimizers.Adam(), # update weights\n",
=======
        "model.compile(optimizer=optimizers.Adam(),\n",
>>>>>>> 0862d274a98ad802023ec61d11ede0de6bb71e1d
        "              loss='binary_crossentropy',\n",
        "              metrics=['accuracy'])"
      ]
    },
    {
      "cell_type": "code",
<<<<<<< HEAD
      "execution_count": 55,
=======
      "execution_count": 41,
>>>>>>> 0862d274a98ad802023ec61d11ede0de6bb71e1d
      "metadata": {
        "colab": {
          "base_uri": "https://localhost:8080/"
        },
        "id": "Sij-jHboNRwe",
        "outputId": "2b045d8d-cd1a-4b68-a4d7-e36c422e1569"
      },
      "outputs": [
        {
<<<<<<< HEAD
          "name": "stdout",
          "output_type": "stream",
=======
          "output_type": "stream",
          "name": "stdout",
>>>>>>> 0862d274a98ad802023ec61d11ede0de6bb71e1d
          "text": [
            "Model: \"sequential\"\n",
            "_________________________________________________________________\n",
            " Layer (type)                Output Shape              Param #   \n",
            "=================================================================\n",
<<<<<<< HEAD
            " embedding (Embedding)       (None, None, 64)          5448832   \n",
            "                                                                 \n",
            " bidirectional (Bidirection  (None, None, 128)         66048     \n",
            " al)                                                             \n",
            "                                                                 \n",
            " dropout (Dropout)           (None, None, 128)         0         \n",
            "                                                                 \n",
            " bidirectional_1 (Bidirecti  (None, 64)                41216     \n",
            " onal)                                                           \n",
            "                                                                 \n",
            " dropout_1 (Dropout)         (None, 64)                0         \n",
            "                                                                 \n",
            " dense (Dense)               (None, 1)                 65        \n",
            "                                                                 \n",
            "=================================================================\n",
            "Total params: 5556161 (21.20 MB)\n",
            "Trainable params: 5556161 (21.20 MB)\n",
=======
            " embedding (Embedding)       (None, None, 64)          7752640   \n",
            "                                                                 \n",
            " lstm (LSTM)                 (None, 100)               66000     \n",
            "                                                                 \n",
            " dropout (Dropout)           (None, 100)               0         \n",
            "                                                                 \n",
            " flatten (Flatten)           (None, 100)               0         \n",
            "                                                                 \n",
            " dense (Dense)               (None, 1)                 101       \n",
            "                                                                 \n",
            "=================================================================\n",
            "Total params: 7818741 (29.83 MB)\n",
            "Trainable params: 7818741 (29.83 MB)\n",
>>>>>>> 0862d274a98ad802023ec61d11ede0de6bb71e1d
            "Non-trainable params: 0 (0.00 Byte)\n",
            "_________________________________________________________________\n"
          ]
        }
      ],
      "source": [
        "model.summary()"
      ]
    },
    {
      "cell_type": "markdown",
      "metadata": {
        "id": "JqWMeyTrNRwe"
      },
      "source": [
        "# Train the Model"
      ]
    },
    {
      "cell_type": "code",
<<<<<<< HEAD
      "execution_count": 56,
=======
      "execution_count": 42,
>>>>>>> 0862d274a98ad802023ec61d11ede0de6bb71e1d
      "metadata": {
        "colab": {
          "base_uri": "https://localhost:8080/"
        },
        "id": "7_lSV3eXNRwe",
        "outputId": "913cea3e-b78f-4422-f7f2-33d55d8c503c"
      },
      "outputs": [
        {
<<<<<<< HEAD
          "name": "stdout",
          "output_type": "stream",
          "text": [
            "Epoch 1/5\n",
            "WARNING:tensorflow:From c:\\Users\\CENTER_ELRahama\\AppData\\Local\\Programs\\Python\\Python311\\Lib\\site-packages\\keras\\src\\utils\\tf_utils.py:492: The name tf.ragged.RaggedTensorValue is deprecated. Please use tf.compat.v1.ragged.RaggedTensorValue instead.\n",
            "\n",
            "WARNING:tensorflow:From c:\\Users\\CENTER_ELRahama\\AppData\\Local\\Programs\\Python\\Python311\\Lib\\site-packages\\keras\\src\\engine\\base_layer_utils.py:384: The name tf.executing_eagerly_outside_functions is deprecated. Please use tf.compat.v1.executing_eagerly_outside_functions instead.\n",
            "\n",
            "1563/1563 [==============================] - 436s 264ms/step - loss: 0.3617 - accuracy: 0.8493 - val_loss: 0.2832 - val_accuracy: 0.8844\n",
            "Epoch 2/5\n",
            "1563/1563 [==============================] - 366s 234ms/step - loss: 0.2325 - accuracy: 0.9164 - val_loss: 0.2756 - val_accuracy: 0.8893\n",
            "Epoch 3/5\n",
            "1563/1563 [==============================] - 378s 242ms/step - loss: 0.1840 - accuracy: 0.9369 - val_loss: 0.2892 - val_accuracy: 0.8818\n",
            "Epoch 4/5\n",
            "1563/1563 [==============================] - 391s 250ms/step - loss: 0.1401 - accuracy: 0.9551 - val_loss: 0.3363 - val_accuracy: 0.8825\n",
            "Epoch 5/5\n",
            "1563/1563 [==============================] - 349s 223ms/step - loss: 0.1151 - accuracy: 0.9658 - val_loss: 0.3474 - val_accuracy: 0.8797\n"
          ]
        },
        {
          "data": {
            "text/plain": [
              "<keras.src.callbacks.History at 0x1f92dd415d0>"
            ]
          },
          "execution_count": 56,
          "metadata": {},
          "output_type": "execute_result"
=======
          "output_type": "stream",
          "name": "stdout",
          "text": [
            "Epoch 1/5\n",
            "3125/3125 [==============================] - 553s 176ms/step - loss: 0.2964 - accuracy: 0.8778 - val_loss: 0.2470 - val_accuracy: 0.9039\n",
            "Epoch 2/5\n",
            "3125/3125 [==============================] - 545s 174ms/step - loss: 0.2050 - accuracy: 0.9212 - val_loss: 0.2401 - val_accuracy: 0.9057\n",
            "Epoch 3/5\n",
            "3125/3125 [==============================] - 539s 172ms/step - loss: 0.1625 - accuracy: 0.9391 - val_loss: 0.2501 - val_accuracy: 0.9072\n",
            "Epoch 4/5\n",
            "3125/3125 [==============================] - 544s 174ms/step - loss: 0.1295 - accuracy: 0.9526 - val_loss: 0.2690 - val_accuracy: 0.9037\n",
            "Epoch 5/5\n",
            "3125/3125 [==============================] - 542s 173ms/step - loss: 0.1014 - accuracy: 0.9640 - val_loss: 0.3035 - val_accuracy: 0.8967\n"
          ]
        },
        {
          "output_type": "execute_result",
          "data": {
            "text/plain": [
              "<keras.src.callbacks.History at 0x7f9a4ab61630>"
            ]
          },
          "metadata": {},
          "execution_count": 42
>>>>>>> 0862d274a98ad802023ec61d11ede0de6bb71e1d
        }
      ],
      "source": [
        "# Train the model\n",
        "hist = model.fit(X_train_sequences,\n",
        "          y_train,\n",
        "          epochs=5,\n",
        "          validation_data=(X_test_sequences, y_test))\n",
        "hist"
      ]
    },
    {
      "cell_type": "markdown",
      "metadata": {
        "id": "iFEnlsYCNRwe"
      },
      "source": [
        "# Displaying Metrics for trian and test set"
      ]
    },
    {
      "cell_type": "code",
<<<<<<< HEAD
      "execution_count": 57,
=======
      "execution_count": 43,
>>>>>>> 0862d274a98ad802023ec61d11ede0de6bb71e1d
      "metadata": {
        "colab": {
          "base_uri": "https://localhost:8080/",
          "height": 543
        },
        "id": "VXAMnwLTNRwe",
        "outputId": "58a485c5-f79a-4ecd-d007-4eb2eaade983"
      },
      "outputs": [
        {
<<<<<<< HEAD
          "data": {
            "image/png": "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",
            "text/plain": [
              "<Figure size 1000x500 with 2 Axes>"
            ]
          },
          "metadata": {},
          "output_type": "display_data"
=======
          "output_type": "display_data",
          "data": {
            "text/plain": [
              "<Figure size 1000x500 with 2 Axes>"
            ],
            "image/png": "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\n"
          },
          "metadata": {}
>>>>>>> 0862d274a98ad802023ec61d11ede0de6bb71e1d
        }
      ],
      "source": [
        "def show_metrics(hist):\n",
        "    fig, ax = plt.subplots(1, 2, figsize=(10,5))\n",
        "    ax = ax.ravel()\n",
        "    plt.tight_layout()\n",
        "\n",
        "    for i, metr in enumerate(['accuracy', 'loss']):\n",
        "        ax[i].plot(hist.history[metr])\n",
        "        ax[i].plot(hist.history['val_' + metr])\n",
        "        ax[i].set_title(f'Model {metr}')\n",
        "        ax[i].set_xlabel('epochs')\n",
        "        ax[i].set_ylabel(metr)\n",
        "        ax[i].legend(['train', 'test'])\n",
        "\n",
        "    plt.show()\n",
        "\n",
        "show_metrics(hist)"
      ]
    },
    {
      "cell_type": "markdown",
      "metadata": {
        "id": "g6gh2N1CNRwe"
      },
      "source": [
        "# Evaluate Model Performance"
      ]
    },
    {
      "cell_type": "code",
<<<<<<< HEAD
      "execution_count": 58,
=======
      "execution_count": 44,
>>>>>>> 0862d274a98ad802023ec61d11ede0de6bb71e1d
      "metadata": {
        "id": "cQrJN5TNNRwe"
      },
      "outputs": [],
      "source": [
        "import numpy as np\n",
        "from sklearn.metrics import accuracy_score, classification_report, confusion_matrix, ConfusionMatrixDisplay"
      ]
    },
    {
      "cell_type": "markdown",
      "metadata": {
        "id": "hW2E3z-PNRwe"
      },
      "source": [
        "accuracy score"
      ]
    },
    {
      "cell_type": "code",
<<<<<<< HEAD
      "execution_count": 59,
=======
      "execution_count": 45,
>>>>>>> 0862d274a98ad802023ec61d11ede0de6bb71e1d
      "metadata": {
        "colab": {
          "base_uri": "https://localhost:8080/"
        },
        "id": "JHSDzUDYNRwf",
        "outputId": "317cf185-1062-4b00-91c8-51dd1480a13b"
      },
      "outputs": [
        {
<<<<<<< HEAD
          "name": "stdout",
          "output_type": "stream",
          "text": [
            "313/313 [==============================] - 19s 44ms/step\n"
          ]
        },
        {
          "data": {
            "text/plain": [
              "87.97"
            ]
          },
          "execution_count": 59,
          "metadata": {},
          "output_type": "execute_result"
=======
          "output_type": "stream",
          "name": "stdout",
          "text": [
            "625/625 [==============================] - 18s 28ms/step\n"
          ]
        },
        {
          "output_type": "execute_result",
          "data": {
            "text/plain": [
              "89.68"
            ]
          },
          "metadata": {},
          "execution_count": 45
>>>>>>> 0862d274a98ad802023ec61d11ede0de6bb71e1d
        }
      ],
      "source": [
        "preds = model.predict(X_test_sequences)\n",
        "test_acc = np.round(accuracy_score(y_test, np.round(preds)) * 100, 2)\n",
        "test_acc"
      ]
    },
    {
      "cell_type": "code",
<<<<<<< HEAD
      "execution_count": 60,
=======
      "execution_count": 46,
>>>>>>> 0862d274a98ad802023ec61d11ede0de6bb71e1d
      "metadata": {
        "colab": {
          "base_uri": "https://localhost:8080/"
        },
        "id": "00T3F-BlNRwf",
        "outputId": "b301b845-c525-4e55-95cd-323b972976e3"
      },
      "outputs": [
        {
<<<<<<< HEAD
          "data": {
            "text/plain": [
              "97.0"
            ]
          },
          "execution_count": 60,
          "metadata": {},
          "output_type": "execute_result"
=======
          "output_type": "execute_result",
          "data": {
            "text/plain": [
              "96.0"
            ]
          },
          "metadata": {},
          "execution_count": 46
>>>>>>> 0862d274a98ad802023ec61d11ede0de6bb71e1d
        }
      ],
      "source": [
        "train_acc = np.round((hist.history['accuracy'][-1] * 100, 2))[0]\n",
        "train_acc"
      ]
    },
    {
      "cell_type": "markdown",
      "metadata": {
        "id": "LNtYPN14NRwf"
      },
      "source": [
        "Classification report for Precision, Recall and F1-score"
      ]
    },
    {
      "cell_type": "code",
<<<<<<< HEAD
      "execution_count": 61,
=======
      "execution_count": 47,
>>>>>>> 0862d274a98ad802023ec61d11ede0de6bb71e1d
      "metadata": {
        "colab": {
          "base_uri": "https://localhost:8080/"
        },
        "id": "G7z2CuKENRwf",
        "outputId": "820a3772-604a-44f9-a82d-8d6e62c77756"
      },
      "outputs": [
        {
<<<<<<< HEAD
          "name": "stdout",
          "output_type": "stream",
          "text": [
            "              precision    recall  f1-score   support\n",
            "\n",
            "           0       0.86      0.90      0.88      4975\n",
            "           1       0.90      0.86      0.88      5025\n",
            "\n",
            "    accuracy                           0.88     10000\n",
            "   macro avg       0.88      0.88      0.88     10000\n",
            "weighted avg       0.88      0.88      0.88     10000\n",
=======
          "output_type": "stream",
          "name": "stdout",
          "text": [
            "              precision    recall  f1-score   support\n",
            "\n",
            "           0       0.89      0.90      0.90      9998\n",
            "           1       0.90      0.89      0.90     10002\n",
            "\n",
            "    accuracy                           0.90     20000\n",
            "   macro avg       0.90      0.90      0.90     20000\n",
            "weighted avg       0.90      0.90      0.90     20000\n",
>>>>>>> 0862d274a98ad802023ec61d11ede0de6bb71e1d
            "\n"
          ]
        }
      ],
      "source": [
        "cr = classification_report(y_test, np.round(preds))\n",
        "print(cr)"
      ]
    },
    {
      "cell_type": "markdown",
      "metadata": {
        "id": "W5Hfg-xINRwf"
      },
      "source": [
        "Confusion matrix"
      ]
    },
    {
      "cell_type": "code",
<<<<<<< HEAD
      "execution_count": 62,
=======
      "execution_count": 48,
>>>>>>> 0862d274a98ad802023ec61d11ede0de6bb71e1d
      "metadata": {
        "colab": {
          "base_uri": "https://localhost:8080/",
          "height": 471
        },
        "id": "7Faq2ReENRwf",
        "outputId": "090a27a0-1b8a-4ede-8f6e-8aa5bca55949"
      },
      "outputs": [
        {
<<<<<<< HEAD
          "data": {
            "text/plain": [
              "<sklearn.metrics._plot.confusion_matrix.ConfusionMatrixDisplay at 0x1f972b74f10>"
            ]
          },
          "execution_count": 62,
          "metadata": {},
          "output_type": "execute_result"
        },
        {
          "data": {
            "image/png": "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",
            "text/plain": [
              "<Figure size 640x480 with 2 Axes>"
            ]
          },
          "metadata": {},
          "output_type": "display_data"
=======
          "output_type": "execute_result",
          "data": {
            "text/plain": [
              "<sklearn.metrics._plot.confusion_matrix.ConfusionMatrixDisplay at 0x7f9a4fc4f160>"
            ]
          },
          "metadata": {},
          "execution_count": 48
        },
        {
          "output_type": "display_data",
          "data": {
            "text/plain": [
              "<Figure size 640x480 with 2 Axes>"
            ],
            "image/png": "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\n"
          },
          "metadata": {}
>>>>>>> 0862d274a98ad802023ec61d11ede0de6bb71e1d
        }
      ],
      "source": [
        "cm = confusion_matrix(y_test, np.round(preds))\n",
        "cmd = ConfusionMatrixDisplay(cm)\n",
        "cmd.plot()"
      ]
    }
  ],
  "metadata": {
<<<<<<< HEAD
    "colab": {
      "provenance": []
    },
=======
>>>>>>> 0862d274a98ad802023ec61d11ede0de6bb71e1d
    "kernelspec": {
      "display_name": "Python 3",
      "name": "python3"
    },
    "language_info": {
      "codemirror_mode": {
        "name": "ipython",
        "version": 3
      },
      "file_extension": ".py",
      "mimetype": "text/x-python",
      "name": "python",
      "nbconvert_exporter": "python",
      "pygments_lexer": "ipython3",
      "version": "3.11.4"
<<<<<<< HEAD
=======
    },
    "colab": {
      "provenance": []
>>>>>>> 0862d274a98ad802023ec61d11ede0de6bb71e1d
    }
  },
  "nbformat": 4,
  "nbformat_minor": 0
<<<<<<< HEAD
}
=======
}
>>>>>>> 0862d274a98ad802023ec61d11ede0de6bb71e1d
