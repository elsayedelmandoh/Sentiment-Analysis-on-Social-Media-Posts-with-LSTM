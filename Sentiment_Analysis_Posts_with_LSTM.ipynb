{
  "cells": [
    {
      "cell_type": "markdown",
      "metadata": {
        "id": "LRGSiOsyNRwN"
      },
      "source": [
        "# Capstone 2 : NN2"
      ]
    },
    {
      "cell_type": "markdown",
      "metadata": {
        "id": "QGU1Ujf4NRwO"
      },
      "source": [
        "# Sentiment Analysis on Social Media Posts with LSTM"
      ]
    },
    {
      "cell_type": "markdown",
      "metadata": {
        "id": "2dtzQ-LUNRwO"
      },
      "source": [
        "In this project, you will build a `Long Short-Term Memory (LSTM) model` that can `perform sentiment analysis on text data`, such as social media posts, customer reviews, or news articles.\n",
        "\n",
        "You will start by `exploring a dataset` of text data, such as the `Sentiment140 dataset` or `the Amazon Reviews dataset`, and `performing EDA` to gain insights into the data.\n",
        "\n",
        "You will `analyze the correlation` between different features and `identify any outliers` or `missing values` that need to be handled.\n",
        "\n",
        "You will then `preprocess the dataset`, `splitting it into training and testing sets`, and `transforming the text data` into input vectors using techniques such as `tokenization` or `word embeddings`.\n",
        "\n",
        "You will `build an LSTM model` using PyTorch or `Tensorflow` that can perform sentiment analysis on the input data.\n",
        "\n",
        "You will `experiment with different neural network` architectures, activation functions, and learning rates to find the `best model` for the task.\n",
        "\n",
        "Finally, you will `evaluate the performance` of your model using metrics such as `accuracy`, `precision`, `recall`, and `F1 score`, and `visualize the results` using `confusion matrices` or other visualization techniques to see how well the model performs on different sentiment classes.\n",
        "\n",
        "Dataset URL:\n",
        "\n",
        "The Sentiment140 dataset contains `1.6 million tweets` with `6 different sentiment classes`: positive, negative, neutral, and three other classes.\n",
        "`Sentiment140` dataset: http://help.sentiment140.com/for-students/\n",
        "\n",
        "The Amazon Reviews dataset contains `3.6 million reviews` with `binary sentiment classes`: positive or negative.\n",
        "`Amazon Reviews` dataset: https://www.kaggle.com/bittlingmayer/amazonreviews\n",
        "\n",
        "This project will give you hands-on experience with LSTM and sentiment analysis, and will help you develop skills in coding with PyTorch and Tensorflow.\n",
        "\n",
        "It will also give you the opportunity to experiment with different neural network architectures and activation functions to find the best model for the task."
      ]
    },
    {
      "cell_type": "markdown",
      "metadata": {
        "id": "qye-oTiDYFhv"
      },
      "source": [
        "verify GPU"
      ]
    },
    {
      "cell_type": "code",
      "execution_count": 1,
      "metadata": {
        "colab": {
          "base_uri": "https://localhost:8080/"
        },
        "id": "HKS_LyIGYE9W",
        "outputId": "0c96d5c5-7516-43b9-d15c-5e3cac28bb4a"
      },
      "outputs": [],
      "source": [
        "# import tensorflow as tf\n",
        "# print(\"GPU is\", \"available\" if tf.config.list_physical_devices(\"GPU\") else \"not available\")"
      ]
    },
    {
      "cell_type": "markdown",
      "metadata": {
        "id": "UQl8YD6-NRwP"
      },
      "source": [
        "# Data Acquisition"
      ]
    },
    {
      "cell_type": "code",
      "execution_count": 2,
      "metadata": {
        "colab": {
          "base_uri": "https://localhost:8080/"
        },
        "id": "JWJ8Oc8pQf65",
        "outputId": "90251339-efe6-4a4c-ad9e-886095e64789"
      },
      "outputs": [],
      "source": [
        "# !pip install kaggle"
      ]
    },
    {
      "cell_type": "markdown",
      "metadata": {
        "id": "nkrtkBP9USux"
      },
      "source": [
        "Upload the kaggle.json file that you downloaded"
      ]
    },
    {
      "cell_type": "code",
      "execution_count": 3,
      "metadata": {
        "id": "PeATYml_TgTR"
      },
      "outputs": [],
      "source": [
        "# from google.colab import files"
      ]
    },
    {
      "cell_type": "code",
      "execution_count": 4,
      "metadata": {
        "colab": {
          "base_uri": "https://localhost:8080/",
          "height": 90
        },
        "id": "aUAq1LbETcSv",
        "outputId": "a14df60e-f2c1-4557-e30d-5ae0afef7f61"
      },
      "outputs": [],
      "source": [
        "# uploaded = files.upload()\n",
        "# uploaded"
      ]
    },
    {
      "cell_type": "markdown",
      "metadata": {
        "id": "H-o-_xVTUOZG"
      },
      "source": [
        "Move the uploaded kaggle.json file to the appropriate directory"
      ]
    },
    {
      "cell_type": "code",
      "execution_count": 5,
      "metadata": {
        "id": "GunexoEPUB2E"
      },
      "outputs": [],
      "source": [
        "# import os\n",
        "# os.makedirs('/root/.kaggle', exist_ok=True)\n",
        "# os.rename('kaggle.json', '/root/.kaggle/kaggle.json')"
      ]
    },
    {
      "cell_type": "markdown",
      "metadata": {
        "id": "4uwIxHyZUMWn"
      },
      "source": [
        "Set permissions for the Kaggle API key"
      ]
    },
    {
      "cell_type": "code",
      "execution_count": 6,
      "metadata": {
        "id": "7rwdoL9UUFfq"
      },
      "outputs": [],
      "source": [
        "# !chmod 600 /root/.kaggle/kaggle.json"
      ]
    },
    {
      "cell_type": "markdown",
      "metadata": {
        "id": "ggL92OM4UZMh"
      },
      "source": [
        "Download a dataset from Kaggle"
      ]
    },
    {
      "cell_type": "code",
      "execution_count": 7,
      "metadata": {
        "colab": {
          "base_uri": "https://localhost:8080/"
        },
        "id": "TzJPtDDbUajh",
        "outputId": "10f9a5a4-6c29-4b79-85b9-fc993ce6494b"
      },
      "outputs": [],
      "source": [
        "# !kaggle datasets download -d bittlingmayer/amazonreviews -p /content"
      ]
    },
    {
      "cell_type": "markdown",
      "metadata": {
        "id": "rJ2zk4qPUpDh"
      },
      "source": [
        "Unzip the downloaded dataset"
      ]
    },
    {
      "cell_type": "code",
      "execution_count": 8,
      "metadata": {
        "colab": {
          "base_uri": "https://localhost:8080/"
        },
        "id": "0--zyHPLUsOj",
        "outputId": "eab9f037-25f2-4e16-f290-12115dcd3117"
      },
      "outputs": [],
      "source": [
        "# !unzip -q /content/amazonreviews.zip -d /content/dataset\n"
      ]
    },
    {
      "cell_type": "markdown",
      "metadata": {
        "id": "LKf_WydlVHfz"
      },
      "source": [
        "read data"
      ]
    },
    {
      "cell_type": "code",
      "execution_count": 9,
      "metadata": {
        "id": "3-V6Do1TNRwP"
      },
      "outputs": [],
      "source": [
        "import pandas as pd"
      ]
    },
    {
      "cell_type": "markdown",
      "metadata": {
        "id": "k4TN56B5NRwQ"
      },
      "source": [
        "Amazon Reviews"
      ]
    },
    {
      "cell_type": "code",
      "execution_count": 10,
      "metadata": {
        "colab": {
          "base_uri": "https://localhost:8080/",
          "height": 206
        },
        "id": "P-fy_sNeNRwQ",
        "outputId": "6c9396a6-7d2f-442d-9513-d43ac6cff0c9"
      },
      "outputs": [
        {
          "data": {
            "text/html": [
              "<div>\n",
              "<style scoped>\n",
              "    .dataframe tbody tr th:only-of-type {\n",
              "        vertical-align: middle;\n",
              "    }\n",
              "\n",
              "    .dataframe tbody tr th {\n",
              "        vertical-align: top;\n",
              "    }\n",
              "\n",
              "    .dataframe thead th {\n",
              "        text-align: right;\n",
              "    }\n",
              "</style>\n",
              "<table border=\"1\" class=\"dataframe\">\n",
              "  <thead>\n",
              "    <tr style=\"text-align: right;\">\n",
              "      <th></th>\n",
              "      <th>text</th>\n",
              "      <th>label</th>\n",
              "    </tr>\n",
              "  </thead>\n",
              "  <tbody>\n",
              "    <tr>\n",
              "      <th>2911217</th>\n",
              "      <td>__label__1 Short Term Fix for a Larger Problem...</td>\n",
              "      <td>NaN</td>\n",
              "    </tr>\n",
              "    <tr>\n",
              "      <th>2106134</th>\n",
              "      <td>__label__2 Page turner: Honestly this is my fi...</td>\n",
              "      <td>NaN</td>\n",
              "    </tr>\n",
              "    <tr>\n",
              "      <th>3350447</th>\n",
              "      <td>__label__2 this country needs heros even if th...</td>\n",
              "      <td>NaN</td>\n",
              "    </tr>\n",
              "    <tr>\n",
              "      <th>2833325</th>\n",
              "      <td>__label__1 Item is NOT as described!: The actu...</td>\n",
              "      <td>NaN</td>\n",
              "    </tr>\n",
              "    <tr>\n",
              "      <th>1037730</th>\n",
              "      <td>__label__1 Historical value, but poor image qu...</td>\n",
              "      <td>NaN</td>\n",
              "    </tr>\n",
              "  </tbody>\n",
              "</table>\n",
              "</div>"
            ],
            "text/plain": [
              "                                                      text  label\n",
              "2911217  __label__1 Short Term Fix for a Larger Problem...    NaN\n",
              "2106134  __label__2 Page turner: Honestly this is my fi...    NaN\n",
              "3350447  __label__2 this country needs heros even if th...    NaN\n",
              "2833325  __label__1 Item is NOT as described!: The actu...    NaN\n",
              "1037730  __label__1 Historical value, but poor image qu...    NaN"
            ]
          },
          "execution_count": 10,
          "metadata": {},
          "output_type": "execute_result"
        }
      ],
      "source": [
        "df_train = pd.read_csv(r'train.ft.txt', delimiter='\\t', header=None, names=['text', 'label']).sample(200000)\n",
        "df_train.head()"
      ]
    },
    {
      "cell_type": "markdown",
      "metadata": {
        "id": "GX8QzDw4NRwQ"
      },
      "source": [
        "we have a problem in dataset, pandas read two column in one column !!"
      ]
    },
    {
      "cell_type": "code",
      "execution_count": 11,
      "metadata": {
        "colab": {
          "base_uri": "https://localhost:8080/"
        },
        "id": "WTAoMzHnNRwR",
        "outputId": "99d7515f-9d22-4555-b1d0-3198ef080fb6"
      },
      "outputs": [
        {
          "data": {
            "text/plain": [
              "[0]"
            ]
          },
          "execution_count": 11,
          "metadata": {},
          "output_type": "execute_result"
        }
      ],
      "source": [
        "row = '__label__1 Not an \"ultimate guide\": Firstly,I enjoyed the format and tone of the book (how the author addressed the reader). However, I did not feel that she imparted any insider secrets that the book promised to reveal. If you are just starting to research law school, and do not know all the requirements of admission, then this book may be a tremendous help. If you have done your homework and are looking for an edge when it comes to admissions, I recommend some more topic-specific books. For example, books on how to write your personal statment, books geared specifically towards LSAT preparation (Powerscore books were the most helpful for me), and there are some websites with great advice geared towards aiding the individuals whom you are asking to write letters of recommendation. Yet, for those new to the entire affair, this book can definitely clarify the requirements for you.'\n",
        "label = [0 if row.split(' ')[0] == '__label__1' else 1]\n",
        "label"
      ]
    },
    {
      "cell_type": "code",
      "execution_count": 12,
      "metadata": {
        "colab": {
          "base_uri": "https://localhost:8080/",
          "height": 105
        },
        "id": "0bdxI5asNRwR",
        "outputId": "afa3f9ef-2220-4156-be9d-86facd475a98"
      },
      "outputs": [
        {
          "data": {
            "text/plain": [
              "'Not an \"ultimate guide\": Firstly,I enjoyed the format and tone of the book (how the author addressed the reader). However, I did not feel that she imparted any insider secrets that the book promised to reveal. If you are just starting to research law school, and do not know all the requirements of admission, then this book may be a tremendous help. If you have done your homework and are looking for an edge when it comes to admissions, I recommend some more topic-specific books. For example, books on how to write your personal statment, books geared specifically towards LSAT preparation (Powerscore books were the most helpful for me), and there are some websites with great advice geared towards aiding the individuals whom you are asking to write letters of recommendation. Yet, for those new to the entire affair, this book can definitely clarify the requirements for you.'"
            ]
          },
          "execution_count": 12,
          "metadata": {},
          "output_type": "execute_result"
        }
      ],
      "source": [
        "text = ' '.join(row.split(' ')[1:])\n",
        "text"
      ]
    },
    {
      "cell_type": "code",
      "execution_count": 13,
      "metadata": {
        "colab": {
          "base_uri": "https://localhost:8080/",
          "height": 206
        },
        "id": "82Fwuh6-NRwR",
        "outputId": "753e82c6-567d-4ddb-c173-135ac32c334b"
      },
      "outputs": [
        {
          "data": {
            "text/html": [
              "<div>\n",
              "<style scoped>\n",
              "    .dataframe tbody tr th:only-of-type {\n",
              "        vertical-align: middle;\n",
              "    }\n",
              "\n",
              "    .dataframe tbody tr th {\n",
              "        vertical-align: top;\n",
              "    }\n",
              "\n",
              "    .dataframe thead th {\n",
              "        text-align: right;\n",
              "    }\n",
              "</style>\n",
              "<table border=\"1\" class=\"dataframe\">\n",
              "  <thead>\n",
              "    <tr style=\"text-align: right;\">\n",
              "      <th></th>\n",
              "      <th>text</th>\n",
              "      <th>label</th>\n",
              "    </tr>\n",
              "  </thead>\n",
              "  <tbody>\n",
              "    <tr>\n",
              "      <th>2911217</th>\n",
              "      <td>Short Term Fix for a Larger Problem: I bought ...</td>\n",
              "      <td>0</td>\n",
              "    </tr>\n",
              "    <tr>\n",
              "      <th>2106134</th>\n",
              "      <td>Page turner: Honestly this is my first novel f...</td>\n",
              "      <td>1</td>\n",
              "    </tr>\n",
              "    <tr>\n",
              "      <th>3350447</th>\n",
              "      <td>this country needs heros even if they never ne...</td>\n",
              "      <td>1</td>\n",
              "    </tr>\n",
              "    <tr>\n",
              "      <th>2833325</th>\n",
              "      <td>Item is NOT as described!: The actual toy is g...</td>\n",
              "      <td>0</td>\n",
              "    </tr>\n",
              "    <tr>\n",
              "      <th>1037730</th>\n",
              "      <td>Historical value, but poor image quality: It's...</td>\n",
              "      <td>0</td>\n",
              "    </tr>\n",
              "  </tbody>\n",
              "</table>\n",
              "</div>"
            ],
            "text/plain": [
              "                                                      text  label\n",
              "2911217  Short Term Fix for a Larger Problem: I bought ...      0\n",
              "2106134  Page turner: Honestly this is my first novel f...      1\n",
              "3350447  this country needs heros even if they never ne...      1\n",
              "2833325  Item is NOT as described!: The actual toy is g...      0\n",
              "1037730  Historical value, but poor image quality: It's...      0"
            ]
          },
          "execution_count": 13,
          "metadata": {},
          "output_type": "execute_result"
        }
      ],
      "source": [
        "df_train['label'] = df_train['text'].apply(lambda row: 0 if row.split(' ')[0] == '__label__1' else 1)\n",
        "df_train['text'] = df_train['text'].apply(lambda row: ' '.join(row.split(' ')[1:]))\n",
        "df_train.head()"
      ]
    },
    {
      "cell_type": "markdown",
      "metadata": {
        "id": "rFGVQWf4NRwR"
      },
      "source": [
        "great.. let's read test data too"
      ]
    },
    {
      "cell_type": "code",
      "execution_count": 14,
      "metadata": {
        "colab": {
          "base_uri": "https://localhost:8080/",
          "height": 206
        },
        "id": "LTl3klKNNRwR",
        "outputId": "4b349ef1-ccc1-4a6b-8182-f84d0aed6473"
      },
      "outputs": [
        {
          "data": {
            "text/html": [
              "<div>\n",
              "<style scoped>\n",
              "    .dataframe tbody tr th:only-of-type {\n",
              "        vertical-align: middle;\n",
              "    }\n",
              "\n",
              "    .dataframe tbody tr th {\n",
              "        vertical-align: top;\n",
              "    }\n",
              "\n",
              "    .dataframe thead th {\n",
              "        text-align: right;\n",
              "    }\n",
              "</style>\n",
              "<table border=\"1\" class=\"dataframe\">\n",
              "  <thead>\n",
              "    <tr style=\"text-align: right;\">\n",
              "      <th></th>\n",
              "      <th>text</th>\n",
              "      <th>label</th>\n",
              "    </tr>\n",
              "  </thead>\n",
              "  <tbody>\n",
              "    <tr>\n",
              "      <th>396122</th>\n",
              "      <td>__label__1 what a disappointment: Having been ...</td>\n",
              "      <td>NaN</td>\n",
              "    </tr>\n",
              "    <tr>\n",
              "      <th>233798</th>\n",
              "      <td>__label__1 It was butchered!!! Cliff is turnin...</td>\n",
              "      <td>NaN</td>\n",
              "    </tr>\n",
              "    <tr>\n",
              "      <th>128416</th>\n",
              "      <td>__label__2 This is for real: The Glass Castle,...</td>\n",
              "      <td>NaN</td>\n",
              "    </tr>\n",
              "    <tr>\n",
              "      <th>323327</th>\n",
              "      <td>__label__1 don't be fooled: This is the 6086, ...</td>\n",
              "      <td>NaN</td>\n",
              "    </tr>\n",
              "    <tr>\n",
              "      <th>56066</th>\n",
              "      <td>__label__1 Appeals to 8 year olds...: My twins...</td>\n",
              "      <td>NaN</td>\n",
              "    </tr>\n",
              "  </tbody>\n",
              "</table>\n",
              "</div>"
            ],
            "text/plain": [
              "                                                     text  label\n",
              "396122  __label__1 what a disappointment: Having been ...    NaN\n",
              "233798  __label__1 It was butchered!!! Cliff is turnin...    NaN\n",
              "128416  __label__2 This is for real: The Glass Castle,...    NaN\n",
              "323327  __label__1 don't be fooled: This is the 6086, ...    NaN\n",
              "56066   __label__1 Appeals to 8 year olds...: My twins...    NaN"
            ]
          },
          "execution_count": 14,
          "metadata": {},
          "output_type": "execute_result"
        }
      ],
      "source": [
        "df_test = pd.read_csv(r'test.ft.txt', delimiter='\\t', header=None, names=['text', 'label']).sample(50000)\n",
        "df_test.head()"
      ]
    },
    {
      "cell_type": "code",
      "execution_count": 15,
      "metadata": {
        "colab": {
          "base_uri": "https://localhost:8080/",
          "height": 206
        },
        "id": "jBTaWHuWNRwS",
        "outputId": "7b05db36-3e4c-4e18-f5c5-bed1476e1244"
      },
      "outputs": [
        {
          "data": {
            "text/html": [
              "<div>\n",
              "<style scoped>\n",
              "    .dataframe tbody tr th:only-of-type {\n",
              "        vertical-align: middle;\n",
              "    }\n",
              "\n",
              "    .dataframe tbody tr th {\n",
              "        vertical-align: top;\n",
              "    }\n",
              "\n",
              "    .dataframe thead th {\n",
              "        text-align: right;\n",
              "    }\n",
              "</style>\n",
              "<table border=\"1\" class=\"dataframe\">\n",
              "  <thead>\n",
              "    <tr style=\"text-align: right;\">\n",
              "      <th></th>\n",
              "      <th>text</th>\n",
              "      <th>label</th>\n",
              "    </tr>\n",
              "  </thead>\n",
              "  <tbody>\n",
              "    <tr>\n",
              "      <th>396122</th>\n",
              "      <td>what a disappointment: Having been a great fan...</td>\n",
              "      <td>0</td>\n",
              "    </tr>\n",
              "    <tr>\n",
              "      <th>233798</th>\n",
              "      <td>It was butchered!!! Cliff is turning over in h...</td>\n",
              "      <td>0</td>\n",
              "    </tr>\n",
              "    <tr>\n",
              "      <th>128416</th>\n",
              "      <td>This is for real: The Glass Castle, is one of ...</td>\n",
              "      <td>1</td>\n",
              "    </tr>\n",
              "    <tr>\n",
              "      <th>323327</th>\n",
              "      <td>don't be fooled: This is the 6086, and it says...</td>\n",
              "      <td>0</td>\n",
              "    </tr>\n",
              "    <tr>\n",
              "      <th>56066</th>\n",
              "      <td>Appeals to 8 year olds...: My twins insisted I...</td>\n",
              "      <td>0</td>\n",
              "    </tr>\n",
              "  </tbody>\n",
              "</table>\n",
              "</div>"
            ],
            "text/plain": [
              "                                                     text  label\n",
              "396122  what a disappointment: Having been a great fan...      0\n",
              "233798  It was butchered!!! Cliff is turning over in h...      0\n",
              "128416  This is for real: The Glass Castle, is one of ...      1\n",
              "323327  don't be fooled: This is the 6086, and it says...      0\n",
              "56066   Appeals to 8 year olds...: My twins insisted I...      0"
            ]
          },
          "execution_count": 15,
          "metadata": {},
          "output_type": "execute_result"
        }
      ],
      "source": [
        "df_test['label'] = df_test['text'].apply(lambda row : 0 if row.split(' ')[0] == '__label__1' else 1)\n",
        "df_test['text'] = df_test['text'].apply(lambda row : ' '.join(row.split(' ')[1:]))\n",
        "df_test.head()"
      ]
    },
    {
      "cell_type": "markdown",
      "metadata": {
        "id": "tTXDI7hNNRwS"
      },
      "source": [
        "# Data Exploration"
      ]
    },
    {
      "cell_type": "code",
      "execution_count": 16,
      "metadata": {
        "id": "QkUGBdiDNRwS"
      },
      "outputs": [],
      "source": [
        "import matplotlib.pyplot as plt\n",
        "import seaborn as sns"
      ]
    },
    {
      "cell_type": "code",
      "execution_count": 17,
      "metadata": {
        "colab": {
          "base_uri": "https://localhost:8080/"
        },
        "id": "f6NOjZuUNRwS",
        "outputId": "f5115921-50f6-4869-de44-34203e8be121"
      },
      "outputs": [
        {
          "name": "stdout",
          "output_type": "stream",
          "text": [
            "<class 'pandas.core.frame.DataFrame'>\n",
            "Index: 100000 entries, 2911217 to 960901\n",
            "Data columns (total 2 columns):\n",
            " #   Column  Non-Null Count   Dtype \n",
            "---  ------  --------------   ----- \n",
            " 0   text    100000 non-null  object\n",
            " 1   label   100000 non-null  int64 \n",
            "dtypes: int64(1), object(1)\n",
            "memory usage: 2.3+ MB\n"
          ]
        }
      ],
      "source": [
        "df_train.info()"
      ]
    },
    {
      "cell_type": "code",
      "execution_count": 18,
      "metadata": {
        "colab": {
          "base_uri": "https://localhost:8080/"
        },
        "id": "mQTl1gkKNRwS",
        "outputId": "387252a7-84c0-4e31-ac35-afeb4fe5c19b"
      },
      "outputs": [
        {
          "name": "stdout",
          "output_type": "stream",
          "text": [
            "<class 'pandas.core.frame.DataFrame'>\n",
            "Index: 20000 entries, 396122 to 92622\n",
            "Data columns (total 2 columns):\n",
            " #   Column  Non-Null Count  Dtype \n",
            "---  ------  --------------  ----- \n",
            " 0   text    20000 non-null  object\n",
            " 1   label   20000 non-null  int64 \n",
            "dtypes: int64(1), object(1)\n",
            "memory usage: 468.8+ KB\n"
          ]
        }
      ],
      "source": [
        "df_test.info()"
      ]
    },
    {
      "cell_type": "markdown",
      "metadata": {
        "id": "bVqjRmaBNRwS"
      },
      "source": [
        "two dataframe not included missing values"
      ]
    },
    {
      "cell_type": "markdown",
      "metadata": {
        "id": "6WfYZyiANRwT"
      },
      "source": [
        "cjeck duplicated"
      ]
    },
    {
      "cell_type": "code",
      "execution_count": 19,
      "metadata": {
        "colab": {
          "base_uri": "https://localhost:8080/"
        },
        "id": "ceA1YnXUNRwT",
        "outputId": "07ae906b-835c-4357-a2a6-ce8d6f373005"
      },
      "outputs": [
        {
          "data": {
            "text/plain": [
              "0"
            ]
          },
          "execution_count": 19,
          "metadata": {},
          "output_type": "execute_result"
        }
      ],
      "source": [
        "df_train.duplicated().sum()"
      ]
    },
    {
      "cell_type": "code",
      "execution_count": 20,
      "metadata": {
        "colab": {
          "base_uri": "https://localhost:8080/"
        },
        "id": "_InSk9MpNRwT",
        "outputId": "79f5997f-1c07-4177-f1dd-9c63d2ad9d0f"
      },
      "outputs": [
        {
          "data": {
            "text/plain": [
              "0"
            ]
          },
          "execution_count": 20,
          "metadata": {},
          "output_type": "execute_result"
        }
      ],
      "source": [
        "df_test.duplicated().sum()"
      ]
    },
    {
      "cell_type": "markdown",
      "metadata": {
        "id": "4_HHLlKtNRwT"
      },
      "source": [
        "two dataframe not included duplicated values"
      ]
    },
    {
      "cell_type": "markdown",
      "metadata": {
        "id": "0zFzSRjYNRwT"
      },
      "source": [
        "check balanced"
      ]
    },
    {
      "cell_type": "code",
      "execution_count": 21,
      "metadata": {
        "colab": {
          "base_uri": "https://localhost:8080/",
          "height": 449
        },
        "id": "TZS5l9g-NRwT",
        "outputId": "547b72b8-a072-49cc-87e8-8dffdf1c48a1"
      },
      "outputs": [
        {
          "name": "stderr",
          "output_type": "stream",
          "text": [
            "c:\\Users\\CENTER_ELRahama\\AppData\\Local\\Programs\\Python\\Python311\\Lib\\site-packages\\seaborn\\_oldcore.py:1498: FutureWarning: is_categorical_dtype is deprecated and will be removed in a future version. Use isinstance(dtype, CategoricalDtype) instead\n",
            "  if pd.api.types.is_categorical_dtype(vector):\n",
            "c:\\Users\\CENTER_ELRahama\\AppData\\Local\\Programs\\Python\\Python311\\Lib\\site-packages\\seaborn\\_oldcore.py:1498: FutureWarning: is_categorical_dtype is deprecated and will be removed in a future version. Use isinstance(dtype, CategoricalDtype) instead\n",
            "  if pd.api.types.is_categorical_dtype(vector):\n",
            "c:\\Users\\CENTER_ELRahama\\AppData\\Local\\Programs\\Python\\Python311\\Lib\\site-packages\\seaborn\\_oldcore.py:1498: FutureWarning: is_categorical_dtype is deprecated and will be removed in a future version. Use isinstance(dtype, CategoricalDtype) instead\n",
            "  if pd.api.types.is_categorical_dtype(vector):\n"
          ]
        },
        {
          "data": {
            "image/png": "[encoded data removed]",
            "text/plain": [
              "<Figure size 640x480 with 1 Axes>"
            ]
          },
          "metadata": {},
          "output_type": "display_data"
        }
      ],
      "source": [
        "sns.countplot(x='label', data=df_train)\n",
        "plt.show()\n"
      ]
    },
    {
      "cell_type": "code",
      "execution_count": 22,
      "metadata": {
        "colab": {
          "base_uri": "https://localhost:8080/",
          "height": 449
        },
        "id": "wFqIL_WGNRwT",
        "outputId": "155634fb-7c40-4759-a6ff-1efabcbd5a18"
      },
      "outputs": [
        {
          "name": "stderr",
          "output_type": "stream",
          "text": [
            "c:\\Users\\CENTER_ELRahama\\AppData\\Local\\Programs\\Python\\Python311\\Lib\\site-packages\\seaborn\\_oldcore.py:1498: FutureWarning: is_categorical_dtype is deprecated and will be removed in a future version. Use isinstance(dtype, CategoricalDtype) instead\n",
            "  if pd.api.types.is_categorical_dtype(vector):\n",
            "c:\\Users\\CENTER_ELRahama\\AppData\\Local\\Programs\\Python\\Python311\\Lib\\site-packages\\seaborn\\_oldcore.py:1498: FutureWarning: is_categorical_dtype is deprecated and will be removed in a future version. Use isinstance(dtype, CategoricalDtype) instead\n",
            "  if pd.api.types.is_categorical_dtype(vector):\n",
            "c:\\Users\\CENTER_ELRahama\\AppData\\Local\\Programs\\Python\\Python311\\Lib\\site-packages\\seaborn\\_oldcore.py:1498: FutureWarning: is_categorical_dtype is deprecated and will be removed in a future version. Use isinstance(dtype, CategoricalDtype) instead\n",
            "  if pd.api.types.is_categorical_dtype(vector):\n"
          ]
        },
        {
          "data": {
            "image/png": "[encoded data removed]",
            "text/plain": [
              "<Figure size 640x480 with 1 Axes>"
            ]
          },
          "metadata": {},
          "output_type": "display_data"
        }
      ],
      "source": [
        "sns.countplot(x='label', data=df_test)\n",
        "plt.show()\n"
      ]
    },
    {
      "cell_type": "markdown",
      "metadata": {
        "id": "JbS5yTlONRwU"
      },
      "source": [
        "two dataframe are balanced"
      ]
    },
    {
      "cell_type": "markdown",
      "metadata": {
        "id": "qq5Xs2heNRwU"
      },
      "source": [
        "check text length"
      ]
    },
    {
      "cell_type": "code",
      "execution_count": 23,
      "metadata": {
        "colab": {
          "base_uri": "https://localhost:8080/",
          "height": 206
        },
        "id": "i3kEWY5MNRwU",
        "outputId": "ed86e961-abba-4406-f5ce-169fd4cb6656"
      },
      "outputs": [
        {
          "data": {
            "text/html": [
              "<div>\n",
              "<style scoped>\n",
              "    .dataframe tbody tr th:only-of-type {\n",
              "        vertical-align: middle;\n",
              "    }\n",
              "\n",
              "    .dataframe tbody tr th {\n",
              "        vertical-align: top;\n",
              "    }\n",
              "\n",
              "    .dataframe thead th {\n",
              "        text-align: right;\n",
              "    }\n",
              "</style>\n",
              "<table border=\"1\" class=\"dataframe\">\n",
              "  <thead>\n",
              "    <tr style=\"text-align: right;\">\n",
              "      <th></th>\n",
              "      <th>text</th>\n",
              "      <th>label</th>\n",
              "      <th>text_length</th>\n",
              "    </tr>\n",
              "  </thead>\n",
              "  <tbody>\n",
              "    <tr>\n",
              "      <th>2911217</th>\n",
              "      <td>Short Term Fix for a Larger Problem: I bought ...</td>\n",
              "      <td>0</td>\n",
              "      <td>464</td>\n",
              "    </tr>\n",
              "    <tr>\n",
              "      <th>2106134</th>\n",
              "      <td>Page turner: Honestly this is my first novel f...</td>\n",
              "      <td>1</td>\n",
              "      <td>189</td>\n",
              "    </tr>\n",
              "    <tr>\n",
              "      <th>3350447</th>\n",
              "      <td>this country needs heros even if they never ne...</td>\n",
              "      <td>1</td>\n",
              "      <td>559</td>\n",
              "    </tr>\n",
              "    <tr>\n",
              "      <th>2833325</th>\n",
              "      <td>Item is NOT as described!: The actual toy is g...</td>\n",
              "      <td>0</td>\n",
              "      <td>509</td>\n",
              "    </tr>\n",
              "    <tr>\n",
              "      <th>1037730</th>\n",
              "      <td>Historical value, but poor image quality: It's...</td>\n",
              "      <td>0</td>\n",
              "      <td>363</td>\n",
              "    </tr>\n",
              "  </tbody>\n",
              "</table>\n",
              "</div>"
            ],
            "text/plain": [
              "                                                      text  label  text_length\n",
              "2911217  Short Term Fix for a Larger Problem: I bought ...      0          464\n",
              "2106134  Page turner: Honestly this is my first novel f...      1          189\n",
              "3350447  this country needs heros even if they never ne...      1          559\n",
              "2833325  Item is NOT as described!: The actual toy is g...      0          509\n",
              "1037730  Historical value, but poor image quality: It's...      0          363"
            ]
          },
          "execution_count": 23,
          "metadata": {},
          "output_type": "execute_result"
        }
      ],
      "source": [
        "df_train['text_length'] = df_train['text'].apply(len)\n",
        "df_train.head()"
      ]
    },
    {
      "cell_type": "code",
      "execution_count": 24,
      "metadata": {
        "colab": {
          "base_uri": "https://localhost:8080/",
          "height": 450
        },
        "id": "VRnYaRdMNRwW",
        "outputId": "31a28e0d-8a72-4f3b-f4ff-1653459c310c"
      },
      "outputs": [
        {
          "name": "stderr",
          "output_type": "stream",
          "text": [
            "c:\\Users\\CENTER_ELRahama\\AppData\\Local\\Programs\\Python\\Python311\\Lib\\site-packages\\seaborn\\_oldcore.py:1498: FutureWarning: is_categorical_dtype is deprecated and will be removed in a future version. Use isinstance(dtype, CategoricalDtype) instead\n",
            "  if pd.api.types.is_categorical_dtype(vector):\n",
            "c:\\Users\\CENTER_ELRahama\\AppData\\Local\\Programs\\Python\\Python311\\Lib\\site-packages\\seaborn\\_oldcore.py:1119: FutureWarning: use_inf_as_na option is deprecated and will be removed in a future version. Convert inf values to NaN before operating instead.\n",
            "  with pd.option_context('mode.use_inf_as_na', True):\n"
          ]
        },
        {
          "data": {
            "image/png": "[encoded data removed]",
            "text/plain": [
              "<Figure size 640x480 with 1 Axes>"
            ]
          },
          "metadata": {},
          "output_type": "display_data"
        }
      ],
      "source": [
        "sns.histplot(df_train['text_length'])\n",
        "plt.show()"
      ]
    },
    {
      "cell_type": "markdown",
      "metadata": {
        "id": "XIajnyHdNRwW"
      },
      "source": [
        "most text length is in range 200 characters"
      ]
    },
    {
      "cell_type": "code",
      "execution_count": 25,
      "metadata": {
        "colab": {
          "base_uri": "https://localhost:8080/",
          "height": 206
        },
        "id": "hLWsuCBQNRwW",
        "outputId": "fc25eec0-e55a-4586-fae3-40de96b2933d"
      },
      "outputs": [
        {
          "data": {
            "text/html": [
              "<div>\n",
              "<style scoped>\n",
              "    .dataframe tbody tr th:only-of-type {\n",
              "        vertical-align: middle;\n",
              "    }\n",
              "\n",
              "    .dataframe tbody tr th {\n",
              "        vertical-align: top;\n",
              "    }\n",
              "\n",
              "    .dataframe thead th {\n",
              "        text-align: right;\n",
              "    }\n",
              "</style>\n",
              "<table border=\"1\" class=\"dataframe\">\n",
              "  <thead>\n",
              "    <tr style=\"text-align: right;\">\n",
              "      <th></th>\n",
              "      <th>text</th>\n",
              "      <th>label</th>\n",
              "      <th>text_length</th>\n",
              "    </tr>\n",
              "  </thead>\n",
              "  <tbody>\n",
              "    <tr>\n",
              "      <th>396122</th>\n",
              "      <td>what a disappointment: Having been a great fan...</td>\n",
              "      <td>0</td>\n",
              "      <td>654</td>\n",
              "    </tr>\n",
              "    <tr>\n",
              "      <th>233798</th>\n",
              "      <td>It was butchered!!! Cliff is turning over in h...</td>\n",
              "      <td>0</td>\n",
              "      <td>330</td>\n",
              "    </tr>\n",
              "    <tr>\n",
              "      <th>128416</th>\n",
              "      <td>This is for real: The Glass Castle, is one of ...</td>\n",
              "      <td>1</td>\n",
              "      <td>439</td>\n",
              "    </tr>\n",
              "    <tr>\n",
              "      <th>323327</th>\n",
              "      <td>don't be fooled: This is the 6086, and it says...</td>\n",
              "      <td>0</td>\n",
              "      <td>657</td>\n",
              "    </tr>\n",
              "    <tr>\n",
              "      <th>56066</th>\n",
              "      <td>Appeals to 8 year olds...: My twins insisted I...</td>\n",
              "      <td>0</td>\n",
              "      <td>404</td>\n",
              "    </tr>\n",
              "  </tbody>\n",
              "</table>\n",
              "</div>"
            ],
            "text/plain": [
              "                                                     text  label  text_length\n",
              "396122  what a disappointment: Having been a great fan...      0          654\n",
              "233798  It was butchered!!! Cliff is turning over in h...      0          330\n",
              "128416  This is for real: The Glass Castle, is one of ...      1          439\n",
              "323327  don't be fooled: This is the 6086, and it says...      0          657\n",
              "56066   Appeals to 8 year olds...: My twins insisted I...      0          404"
            ]
          },
          "execution_count": 25,
          "metadata": {},
          "output_type": "execute_result"
        }
      ],
      "source": [
        "df_test['text_length'] = df_test['text'].apply(len)\n",
        "df_test.head()"
      ]
    },
    {
      "cell_type": "code",
      "execution_count": 26,
      "metadata": {
        "colab": {
          "base_uri": "https://localhost:8080/",
          "height": 455
        },
        "id": "qkmtA7bkNRwX",
        "outputId": "fba9155d-014e-4a97-f9e6-eceaa8ba1c63"
      },
      "outputs": [
        {
          "name": "stderr",
          "output_type": "stream",
          "text": [
            "c:\\Users\\CENTER_ELRahama\\AppData\\Local\\Programs\\Python\\Python311\\Lib\\site-packages\\seaborn\\_oldcore.py:1498: FutureWarning: is_categorical_dtype is deprecated and will be removed in a future version. Use isinstance(dtype, CategoricalDtype) instead\n",
            "  if pd.api.types.is_categorical_dtype(vector):\n",
            "c:\\Users\\CENTER_ELRahama\\AppData\\Local\\Programs\\Python\\Python311\\Lib\\site-packages\\seaborn\\_oldcore.py:1119: FutureWarning: use_inf_as_na option is deprecated and will be removed in a future version. Convert inf values to NaN before operating instead.\n",
            "  with pd.option_context('mode.use_inf_as_na', True):\n"
          ]
        },
        {
          "data": {
            "image/png": "[encoded data removed]",
            "text/plain": [
              "<Figure size 640x480 with 1 Axes>"
            ]
          },
          "metadata": {},
          "output_type": "display_data"
        }
      ],
      "source": [
        "sns.histplot(df_test['text_length'])\n",
        "plt.show()"
      ]
    },
    {
      "cell_type": "markdown",
      "metadata": {
        "id": "bR_jbseoNRwX"
      },
      "source": [
        "most text length is in range 200 characters"
      ]
    },
    {
      "cell_type": "markdown",
      "metadata": {
        "id": "LTvXuR27NRwX"
      },
      "source": [
        "Explore correlations between features"
      ]
    },
    {
      "cell_type": "code",
      "execution_count": 27,
      "metadata": {
        "colab": {
          "base_uri": "https://localhost:8080/",
          "height": 449
        },
        "id": "2XJWT6LyNRwX",
        "outputId": "fed222a2-b402-4e79-b545-91a11d047aa0"
      },
      "outputs": [
        {
          "name": "stderr",
          "output_type": "stream",
          "text": [
            "c:\\Users\\CENTER_ELRahama\\AppData\\Local\\Programs\\Python\\Python311\\Lib\\site-packages\\seaborn\\_oldcore.py:1498: FutureWarning: is_categorical_dtype is deprecated and will be removed in a future version. Use isinstance(dtype, CategoricalDtype) instead\n",
            "  if pd.api.types.is_categorical_dtype(vector):\n",
            "c:\\Users\\CENTER_ELRahama\\AppData\\Local\\Programs\\Python\\Python311\\Lib\\site-packages\\seaborn\\_oldcore.py:1498: FutureWarning: is_categorical_dtype is deprecated and will be removed in a future version. Use isinstance(dtype, CategoricalDtype) instead\n",
            "  if pd.api.types.is_categorical_dtype(vector):\n",
            "c:\\Users\\CENTER_ELRahama\\AppData\\Local\\Programs\\Python\\Python311\\Lib\\site-packages\\seaborn\\_oldcore.py:1498: FutureWarning: is_categorical_dtype is deprecated and will be removed in a future version. Use isinstance(dtype, CategoricalDtype) instead\n",
            "  if pd.api.types.is_categorical_dtype(vector):\n"
          ]
        },
        {
          "data": {
            "image/png": "[encoded data removed]",
            "text/plain": [
              "<Figure size 640x480 with 1 Axes>"
            ]
          },
          "metadata": {},
          "output_type": "display_data"
        }
      ],
      "source": [
        "sns.boxplot(x='label', y='text_length', data = df_train)\n",
        "plt.show()"
      ]
    },
    {
      "cell_type": "markdown",
      "metadata": {
        "id": "jQBGrzoFNRwX"
      },
      "source": [
        "most text length is in range 400 characters"
      ]
    },
    {
      "cell_type": "code",
      "execution_count": 28,
      "metadata": {
        "colab": {
          "base_uri": "https://localhost:8080/",
          "height": 449
        },
        "id": "B73uqzhrNRwX",
        "outputId": "892ee549-f6dc-4d49-8b52-290baa544b40"
      },
      "outputs": [
        {
          "name": "stderr",
          "output_type": "stream",
          "text": [
            "c:\\Users\\CENTER_ELRahama\\AppData\\Local\\Programs\\Python\\Python311\\Lib\\site-packages\\seaborn\\_oldcore.py:1498: FutureWarning: is_categorical_dtype is deprecated and will be removed in a future version. Use isinstance(dtype, CategoricalDtype) instead\n",
            "  if pd.api.types.is_categorical_dtype(vector):\n",
            "c:\\Users\\CENTER_ELRahama\\AppData\\Local\\Programs\\Python\\Python311\\Lib\\site-packages\\seaborn\\_oldcore.py:1498: FutureWarning: is_categorical_dtype is deprecated and will be removed in a future version. Use isinstance(dtype, CategoricalDtype) instead\n",
            "  if pd.api.types.is_categorical_dtype(vector):\n",
            "c:\\Users\\CENTER_ELRahama\\AppData\\Local\\Programs\\Python\\Python311\\Lib\\site-packages\\seaborn\\_oldcore.py:1498: FutureWarning: is_categorical_dtype is deprecated and will be removed in a future version. Use isinstance(dtype, CategoricalDtype) instead\n",
            "  if pd.api.types.is_categorical_dtype(vector):\n"
          ]
        },
        {
          "data": {
            "image/png": "[encoded data removed]",
            "text/plain": [
              "<Figure size 640x480 with 1 Axes>"
            ]
          },
          "metadata": {},
          "output_type": "display_data"
        }
      ],
      "source": [
        "sns.boxplot(x='label', y='text_length', data = df_test)\n",
        "plt.show()"
      ]
    },
    {
      "cell_type": "markdown",
      "metadata": {
        "id": "HMkNCwPjNRwX"
      },
      "source": [
        "most text length is in range 400 characters"
      ]
    },
    {
      "cell_type": "markdown",
      "metadata": {
        "id": "zh_TVbJ8NRwb"
      },
      "source": [
        "# Data Preparation"
      ]
    },
    {
      "cell_type": "code",
      "execution_count": 29,
      "metadata": {
        "colab": {
          "base_uri": "https://localhost:8080/"
        },
        "id": "7-7XfQo-NRwb",
        "outputId": "2a5fb21f-988e-46bc-961c-91b35eee71e4"
      },
      "outputs": [
        {
          "name": "stderr",
          "output_type": "stream",
          "text": [
            "[nltk_data] Downloading package stopwords to\n",
            "[nltk_data]     C:\\Users\\CENTER_ELRahama\\AppData\\Roaming\\nltk_data...\n",
            "[nltk_data]   Package stopwords is already up-to-date!\n",
            "[nltk_data] Downloading package punkt to\n",
            "[nltk_data]     C:\\Users\\CENTER_ELRahama\\AppData\\Roaming\\nltk_data...\n",
            "[nltk_data]   Package punkt is already up-to-date!\n",
            "[nltk_data] Downloading package wordnet to\n",
            "[nltk_data]     C:\\Users\\CENTER_ELRahama\\AppData\\Roaming\\nltk_data...\n",
            "[nltk_data]   Package wordnet is already up-to-date!\n"
          ]
        },
        {
          "name": "stdout",
          "output_type": "stream",
          "text": [
            "WARNING:tensorflow:From c:\\Users\\CENTER_ELRahama\\AppData\\Local\\Programs\\Python\\Python311\\Lib\\site-packages\\keras\\src\\losses.py:2976: The name tf.losses.sparse_softmax_cross_entropy is deprecated. Please use tf.compat.v1.losses.sparse_softmax_cross_entropy instead.\n",
            "\n"
          ]
        }
      ],
      "source": [
        "import re\n",
        "import nltk\n",
        "from nltk.corpus import stopwords\n",
        "from nltk.stem import PorterStemmer, WordNetLemmatizer\n",
        "from nltk.tokenize import word_tokenize\n",
        "nltk.download('stopwords')\n",
        "nltk.download('punkt')\n",
        "nltk.download('wordnet')\n",
        "from tensorflow.keras.preprocessing.text import Tokenizer\n",
        "from tensorflow.keras.preprocessing.sequence import pad_sequences\n",
        "from sklearn.model_selection import train_test_split"
      ]
    },
    {
      "cell_type": "code",
      "execution_count": 30,
      "metadata": {
        "id": "yhg9kXNcNRwb"
      },
      "outputs": [],
      "source": [
        "def preprocess_text_series(series):\n",
        "    # Regular expression substitutions\n",
        "    series = series.str.replace('\\d', '0')\n",
        "    series = series.str.replace(r\"([^ ]+(?<=\\.[a-z]{3}))\", \"<url>\")\n",
        "\n",
        "    # Remove stop words and apply stemming and lemmatization\n",
        "    stop_words = set(stopwords.words('english'))\n",
        "    excluding = ['againts', 'not', 'don', \"don't\", 'ain', 'aren', \"aren't\", 'couldn', \"couldn't\", 'didn',\n",
        "                 \"didn't\",'doesn', \"doesn't\", 'hadn', \"hadn't\", 'has', \"hasn't\", 'haven', \"haven't\", 'isn',\n",
        "                 \"isn't\", 'might', \"mightn't\", 'mustn', \"mustn't\", 'needn', \"needn't\", 'shouldn', \"shouldn't\",\n",
        "                 'wasn', \"wasn't\", 'weren', \"weren't\", 'won', \"won't\", 'wouldn', \"wouldn't\"]\n",
        "\n",
        "    stop_words = [word for word in stop_words if word not in excluding]\n",
        "\n",
        "    ps = PorterStemmer()\n",
        "    lemmatizer = WordNetLemmatizer()\n",
        "\n",
        "    # Tokenize the text\n",
        "    words = series.str.split()\n",
        "\n",
        "    # Remove stop words, apply stemming, and lemmatization\n",
        "    filtered_words = [\n",
        "        ' '.join([lemmatizer.lemmatize(ps.stem(word.lower())) for word in words if word.lower() not in stop_words])\n",
        "        for words in words\n",
        "    ]\n",
        "\n",
        "    return filtered_words"
      ]
    },
    {
      "cell_type": "code",
      "execution_count": 31,
      "metadata": {
        "colab": {
          "base_uri": "https://localhost:8080/",
          "height": 275
        },
        "id": "FcHeHUp0NRwc",
        "outputId": "8e8efd3d-4dd4-4585-db68-a900f7293c92"
      },
      "outputs": [
        {
          "data": {
            "text/html": [
              "<div>\n",
              "<style scoped>\n",
              "    .dataframe tbody tr th:only-of-type {\n",
              "        vertical-align: middle;\n",
              "    }\n",
              "\n",
              "    .dataframe tbody tr th {\n",
              "        vertical-align: top;\n",
              "    }\n",
              "\n",
              "    .dataframe thead th {\n",
              "        text-align: right;\n",
              "    }\n",
              "</style>\n",
              "<table border=\"1\" class=\"dataframe\">\n",
              "  <thead>\n",
              "    <tr style=\"text-align: right;\">\n",
              "      <th></th>\n",
              "      <th>text</th>\n",
              "      <th>label</th>\n",
              "      <th>text_length</th>\n",
              "      <th>cleaned_text</th>\n",
              "    </tr>\n",
              "  </thead>\n",
              "  <tbody>\n",
              "    <tr>\n",
              "      <th>2911217</th>\n",
              "      <td>Short Term Fix for a Larger Problem: I bought ...</td>\n",
              "      <td>0</td>\n",
              "      <td>464</td>\n",
              "      <td>short term fix larger problem: bought think en...</td>\n",
              "    </tr>\n",
              "    <tr>\n",
              "      <th>2106134</th>\n",
              "      <td>Page turner: Honestly this is my first novel f...</td>\n",
              "      <td>1</td>\n",
              "      <td>189</td>\n",
              "      <td>page turner: honestli first novel matthew impr...</td>\n",
              "    </tr>\n",
              "    <tr>\n",
              "      <th>3350447</th>\n",
              "      <td>this country needs heros even if they never ne...</td>\n",
              "      <td>1</td>\n",
              "      <td>559</td>\n",
              "      <td>countri need hero even never new there: ever a...</td>\n",
              "    </tr>\n",
              "    <tr>\n",
              "      <th>2833325</th>\n",
              "      <td>Item is NOT as described!: The actual toy is g...</td>\n",
              "      <td>0</td>\n",
              "      <td>509</td>\n",
              "      <td>item not described!: actual toy great! dog lov...</td>\n",
              "    </tr>\n",
              "    <tr>\n",
              "      <th>1037730</th>\n",
              "      <td>Historical value, but poor image quality: It's...</td>\n",
              "      <td>0</td>\n",
              "      <td>363</td>\n",
              "      <td>histor value, poor imag quality: nice go back ...</td>\n",
              "    </tr>\n",
              "  </tbody>\n",
              "</table>\n",
              "</div>"
            ],
            "text/plain": [
              "                                                      text  label  \\\n",
              "2911217  Short Term Fix for a Larger Problem: I bought ...      0   \n",
              "2106134  Page turner: Honestly this is my first novel f...      1   \n",
              "3350447  this country needs heros even if they never ne...      1   \n",
              "2833325  Item is NOT as described!: The actual toy is g...      0   \n",
              "1037730  Historical value, but poor image quality: It's...      0   \n",
              "\n",
              "         text_length                                       cleaned_text  \n",
              "2911217          464  short term fix larger problem: bought think en...  \n",
              "2106134          189  page turner: honestli first novel matthew impr...  \n",
              "3350447          559  countri need hero even never new there: ever a...  \n",
              "2833325          509  item not described!: actual toy great! dog lov...  \n",
              "1037730          363  histor value, poor imag quality: nice go back ...  "
            ]
          },
          "execution_count": 31,
          "metadata": {},
          "output_type": "execute_result"
        }
      ],
      "source": [
        "# df_train['cleaned_text'] = df_train['text'].apply(preprocess_text)\n",
        "df_train['cleaned_text'] = preprocess_text_series(df_train['text'])\n",
        "df_train.head()"
      ]
    },
    {
      "cell_type": "code",
      "execution_count": 32,
      "metadata": {
        "colab": {
          "base_uri": "https://localhost:8080/",
          "height": 275
        },
        "id": "RqsN0RnwNRwc",
        "outputId": "c690e3b8-a590-413d-c123-7729365ef5c8"
      },
      "outputs": [
        {
          "data": {
            "text/html": [
              "<div>\n",
              "<style scoped>\n",
              "    .dataframe tbody tr th:only-of-type {\n",
              "        vertical-align: middle;\n",
              "    }\n",
              "\n",
              "    .dataframe tbody tr th {\n",
              "        vertical-align: top;\n",
              "    }\n",
              "\n",
              "    .dataframe thead th {\n",
              "        text-align: right;\n",
              "    }\n",
              "</style>\n",
              "<table border=\"1\" class=\"dataframe\">\n",
              "  <thead>\n",
              "    <tr style=\"text-align: right;\">\n",
              "      <th></th>\n",
              "      <th>text</th>\n",
              "      <th>label</th>\n",
              "      <th>text_length</th>\n",
              "      <th>cleaned_text</th>\n",
              "    </tr>\n",
              "  </thead>\n",
              "  <tbody>\n",
              "    <tr>\n",
              "      <th>396122</th>\n",
              "      <td>what a disappointment: Having been a great fan...</td>\n",
              "      <td>0</td>\n",
              "      <td>654</td>\n",
              "      <td>disappointment: great fan previou three zim vo...</td>\n",
              "    </tr>\n",
              "    <tr>\n",
              "      <th>233798</th>\n",
              "      <td>It was butchered!!! Cliff is turning over in h...</td>\n",
              "      <td>0</td>\n",
              "      <td>330</td>\n",
              "      <td>butchered!!! cliff turn grave.: like \"mash-up\"...</td>\n",
              "    </tr>\n",
              "    <tr>\n",
              "      <th>128416</th>\n",
              "      <td>This is for real: The Glass Castle, is one of ...</td>\n",
              "      <td>1</td>\n",
              "      <td>439</td>\n",
              "      <td>real: glass castle, one best book read recent ...</td>\n",
              "    </tr>\n",
              "    <tr>\n",
              "      <th>323327</th>\n",
              "      <td>don't be fooled: This is the 6086, and it says...</td>\n",
              "      <td>0</td>\n",
              "      <td>657</td>\n",
              "      <td>don't fooled: 6086, say work distributorless i...</td>\n",
              "    </tr>\n",
              "    <tr>\n",
              "      <th>56066</th>\n",
              "      <td>Appeals to 8 year olds...: My twins insisted I...</td>\n",
              "      <td>0</td>\n",
              "      <td>404</td>\n",
              "      <td>appeal 8 year olds...: twin insist watch stand...</td>\n",
              "    </tr>\n",
              "  </tbody>\n",
              "</table>\n",
              "</div>"
            ],
            "text/plain": [
              "                                                     text  label  text_length  \\\n",
              "396122  what a disappointment: Having been a great fan...      0          654   \n",
              "233798  It was butchered!!! Cliff is turning over in h...      0          330   \n",
              "128416  This is for real: The Glass Castle, is one of ...      1          439   \n",
              "323327  don't be fooled: This is the 6086, and it says...      0          657   \n",
              "56066   Appeals to 8 year olds...: My twins insisted I...      0          404   \n",
              "\n",
              "                                             cleaned_text  \n",
              "396122  disappointment: great fan previou three zim vo...  \n",
              "233798  butchered!!! cliff turn grave.: like \"mash-up\"...  \n",
              "128416  real: glass castle, one best book read recent ...  \n",
              "323327  don't fooled: 6086, say work distributorless i...  \n",
              "56066   appeal 8 year olds...: twin insist watch stand...  "
            ]
          },
          "execution_count": 32,
          "metadata": {},
          "output_type": "execute_result"
        }
      ],
      "source": [
        "# df_test['cleaned_text'] = df_test['text'].apply(preprocess_text)\n",
        "df_test['cleaned_text'] = preprocess_text_series(df_test['text'])\n",
        "df_test.head()"
      ]
    },
    {
      "cell_type": "markdown",
      "metadata": {
        "id": "p88nOxbJNRwc"
      },
      "source": [
        "Split text"
      ]
    },
    {
      "cell_type": "code",
      "execution_count": 33,
      "metadata": {
        "colab": {
          "base_uri": "https://localhost:8080/"
        },
        "id": "3jlY38kANRwc",
        "outputId": "9576db88-86ad-44b2-de8e-b4776173e0f9"
      },
      "outputs": [
        {
          "name": "stdout",
          "output_type": "stream",
          "text": [
            "X_train: (100000,)\n",
            "X_test: (20000,)\n",
            "y_train: (100000,)\n",
            "y_test: (20000,)\n"
          ]
        }
      ],
      "source": [
        "X_train, X_test, y_train, y_test = df_train['cleaned_text'], df_test['cleaned_text'], df_train['label'], df_test['label']\n",
        "print(f\"X_train: {X_train.shape}\")\n",
        "print(f\"X_test: {X_test.shape}\")\n",
        "print(f\"y_train: {y_train.shape}\")\n",
        "print(f\"y_test: {y_test.shape}\")"
      ]
    },
    {
      "cell_type": "markdown",
      "metadata": {
        "id": "hrXlGQZGNRwc"
      },
      "source": [
        "Tokenize the text data"
      ]
    },
    {
      "cell_type": "code",
      "execution_count": 34,
      "metadata": {
        "colab": {
          "base_uri": "https://localhost:8080/"
        },
        "id": "eC_5IwrENRwc",
        "outputId": "5b2c1017-1d97-489a-9163-025e7ee332dd"
      },
      "outputs": [
        {
          "data": {
            "text/plain": [
              "<keras.src.preprocessing.text.Tokenizer at 0x1f109adbb10>"
            ]
          },
          "execution_count": 34,
          "metadata": {},
          "output_type": "execute_result"
        }
      ],
      "source": [
        "max_features = 200000\n",
        "\n",
        "tokenizer = Tokenizer(num_words=max_features)\n",
        "tokenizer.fit_on_texts(X_train)\n",
        "tokenizer"
      ]
    },
    {
      "cell_type": "code",
      "execution_count": 35,
      "metadata": {
        "colab": {
          "base_uri": "https://localhost:8080/"
        },
        "id": "COGgEHY3NRwc",
        "outputId": "5469297a-a1fb-4a73-f485-485fe0364dca"
      },
      "outputs": [
        {
          "data": {
            "text/plain": [
              "125686"
            ]
          },
          "execution_count": 35,
          "metadata": {},
          "output_type": "execute_result"
        }
      ],
      "source": [
        "total_words = len(tokenizer.word_index) + 1\n",
        "total_words"
      ]
    },
    {
      "cell_type": "markdown",
      "metadata": {
        "id": "nfOQp1pfNRwd"
      },
      "source": [
        "Convert text to sequences and pad them"
      ]
    },
    {
      "cell_type": "code",
      "execution_count": 36,
      "metadata": {
        "colab": {
          "base_uri": "https://localhost:8080/"
        },
        "id": "bgsp8swNNRwd",
        "outputId": "e427265e-3c7e-4795-a296-a8099a62a0f6"
      },
      "outputs": [
        {
          "data": {
            "text/plain": [
              "array([[   0,    0,    0, ...,  600, 1817,  221],\n",
              "       [   0,    0,    0, ..., 2308, 1940,  228],\n",
              "       [   0,    0,    0, ...,  198,    7,    2],\n",
              "       ...,\n",
              "       [   0,    0,    0, ...,  707,   39,   81],\n",
              "       [   0,    0,    0, ...,  887,   15,  445],\n",
              "       [   0,    0,    0, ...,   73,   71, 1942]])"
            ]
          },
          "execution_count": 36,
          "metadata": {},
          "output_type": "execute_result"
        }
      ],
      "source": [
        "maxlen = 100\n",
        "\n",
        "X_train_sequences = pad_sequences(tokenizer.texts_to_sequences(X_train),\n",
        "                                  maxlen=maxlen)\n",
        "X_train_sequences"
      ]
    },
    {
      "cell_type": "code",
      "execution_count": 37,
      "metadata": {
        "colab": {
          "base_uri": "https://localhost:8080/"
        },
        "id": "gnCpRoM4NRwd",
        "outputId": "a29bcb3b-e89d-4d2d-acb5-79f49c354f62"
      },
      "outputs": [
        {
          "data": {
            "text/plain": [
              "array([[   0,    0,    0, ...,  724,  114,  659],\n",
              "       [   0,    0,    0, ...,  121,  158, 3951],\n",
              "       [   0,    0,    0, ...,  832, 1298,  719],\n",
              "       ...,\n",
              "       [   0,    0,    0, ...,   64,    4, 6103],\n",
              "       [   0,    0,    0, ...,  143,  142,    2],\n",
              "       [   0,    0,    0, ..., 3141,  429,  144]])"
            ]
          },
          "execution_count": 37,
          "metadata": {},
          "output_type": "execute_result"
        }
      ],
      "source": [
        "X_test_sequences = pad_sequences(tokenizer.texts_to_sequences(X_test),\n",
        "                                 maxlen=maxlen)\n",
        "X_test_sequences"
      ]
    },
    {
      "cell_type": "markdown",
      "metadata": {
        "id": "9EN-pR5zNRwd"
      },
      "source": [
        "# Build LSTM Model"
      ]
    },
    {
      "cell_type": "code",
      "execution_count": 51,
      "metadata": {
        "id": "eQuSnv7cNRwd"
      },
      "outputs": [],
      "source": [
        "from tensorflow.keras import models, layers, optimizers\n",
        "from tensorflow.keras import regularizers\n",
        "# from tensorflow.keras.layers import Embedding, LSTM, Dense, Dropout"
      ]
    },
    {
      "cell_type": "code",
      "execution_count": 52,
      "metadata": {
        "id": "UkEmvnPRNRwd"
      },
      "outputs": [],
      "source": [
        "model = models.Sequential()\n",
        "model.add(layers.Embedding(total_words, output_dim=64))\n",
        "model.add(layers.Bidirectional(layers.LSTM(32,activation='tanh', return_sequences=True)))\n",
        "model.add(layers.Dropout(0.5))\n",
        "model.add(layers.Dense(128, activation='relu'))\n",
        "model.add(layers.Dense(256, activation='relu'))\n",
        "model.add(layers.Dense(128, activation='relu'))\n",
        "model.add(layers.Dense(1, activation='sigmoid', \n",
        "                       kernel_regularizer=regularizers.l2(0.01)) # decrease overfitting\n",
        "          )"
      ]
    },
    {
      "cell_type": "code",
      "execution_count": 53,
      "metadata": {
        "id": "6nlvuZO4NRwd"
      },
      "outputs": [],
      "source": [
        "model.compile(optimizer=optimizers.Adam(), # update weights\n",
        "              loss='binary_crossentropy',\n",
        "              metrics=['accuracy'])"
      ]
    },
    {
      "cell_type": "code",
      "execution_count": 54,
      "metadata": {
        "colab": {
          "base_uri": "https://localhost:8080/"
        },
        "id": "Sij-jHboNRwe",
        "outputId": "2b045d8d-cd1a-4b68-a4d7-e36c422e1569"
      },
      "outputs": [
        {
          "name": "stdout",
          "output_type": "stream",
          "text": [
            "Model: \"sequential_1\"\n",
            "_________________________________________________________________\n",
            " Layer (type)                Output Shape              Param #   \n",
            "=================================================================\n",
            " embedding_1 (Embedding)     (None, None, 64)          8043904   \n",
            "                                                                 \n",
            " bidirectional (Bidirection  (None, None, 128)         66048     \n",
            " al)                                                             \n",
            "                                                                 \n",
            " dropout_1 (Dropout)         (None, None, 128)         0         \n",
            "                                                                 \n",
            " bidirectional_1 (Bidirecti  (None, 64)                41216     \n",
            " onal)                                                           \n",
            "                                                                 \n",
            " dropout_2 (Dropout)         (None, 64)                0         \n",
            "                                                                 \n",
            " dense_1 (Dense)             (None, 1)                 65        \n",
            "                                                                 \n",
            "=================================================================\n",
            "Total params: 8151233 (31.09 MB)\n",
            "Trainable params: 8151233 (31.09 MB)\n",
            "Non-trainable params: 0 (0.00 Byte)\n",
            "_________________________________________________________________\n"
          ]
        }
      ],
      "source": [
        "model.summary()"
      ]
    },
    {
      "cell_type": "markdown",
      "metadata": {
        "id": "JqWMeyTrNRwe"
      },
      "source": [
        "# Train the Model"
      ]
    },
    {
      "cell_type": "code",
      "execution_count": 55,
      "metadata": {
        "colab": {
          "base_uri": "https://localhost:8080/"
        },
        "id": "7_lSV3eXNRwe",
        "outputId": "913cea3e-b78f-4422-f7f2-33d55d8c503c"
      },
      "outputs": [
        {
          "name": "stdout",
          "output_type": "stream",
          "text": [
            "Epoch 1/20\n",
            "3125/3125 [==============================] - 745s 232ms/step - loss: 0.3167 - accuracy: 0.8730 - val_loss: 0.2659 - val_accuracy: 0.8978\n",
            "Epoch 2/20\n",
            "3125/3125 [==============================] - 581s 186ms/step - loss: 0.2246 - accuracy: 0.9164 - val_loss: 0.2816 - val_accuracy: 0.8916\n",
            "Epoch 3/20\n",
            "3125/3125 [==============================] - 571s 183ms/step - loss: 0.1833 - accuracy: 0.9368 - val_loss: 0.2591 - val_accuracy: 0.9029\n",
            "Epoch 4/20\n",
            "3125/3125 [==============================] - 4500s 1s/step - loss: 0.1499 - accuracy: 0.9504 - val_loss: 0.2712 - val_accuracy: 0.8943\n",
            "Epoch 5/20\n",
            "3125/3125 [==============================] - 605s 194ms/step - loss: 0.1283 - accuracy: 0.9595 - val_loss: 0.2907 - val_accuracy: 0.8927\n",
            "Epoch 6/20\n",
            "3125/3125 [==============================] - 787s 252ms/step - loss: 0.1064 - accuracy: 0.9687 - val_loss: 0.3467 - val_accuracy: 0.8947\n",
            "Epoch 7/20\n",
            "3125/3125 [==============================] - 806s 258ms/step - loss: 0.0881 - accuracy: 0.9756 - val_loss: 0.3722 - val_accuracy: 0.8909\n",
            "Epoch 8/20\n",
            "3125/3125 [==============================] - 789s 253ms/step - loss: 0.0771 - accuracy: 0.9799 - val_loss: 0.3962 - val_accuracy: 0.8942\n",
            "Epoch 9/20\n",
            "3125/3125 [==============================] - 774s 248ms/step - loss: 0.0693 - accuracy: 0.9828 - val_loss: 0.3762 - val_accuracy: 0.8895\n",
            "Epoch 10/20\n",
            "3125/3125 [==============================] - 746s 239ms/step - loss: 0.0599 - accuracy: 0.9859 - val_loss: 0.4171 - val_accuracy: 0.8927\n",
            "Epoch 11/20\n",
            "3125/3125 [==============================] - 731s 234ms/step - loss: 0.0538 - accuracy: 0.9881 - val_loss: 0.4235 - val_accuracy: 0.8894\n",
            "Epoch 12/20\n",
            "3125/3125 [==============================] - 727s 233ms/step - loss: 0.0508 - accuracy: 0.9890 - val_loss: 0.4038 - val_accuracy: 0.8902\n",
            "Epoch 13/20\n",
            "3125/3125 [==============================] - 698s 223ms/step - loss: 0.0471 - accuracy: 0.9905 - val_loss: 0.4410 - val_accuracy: 0.8914\n",
            "Epoch 14/20\n",
            "3125/3125 [==============================] - 718s 230ms/step - loss: 0.0410 - accuracy: 0.9928 - val_loss: 0.4697 - val_accuracy: 0.8896\n",
            "Epoch 15/20\n",
            "3125/3125 [==============================] - 733s 235ms/step - loss: 0.0390 - accuracy: 0.9929 - val_loss: 0.4632 - val_accuracy: 0.8884\n",
            "Epoch 16/20\n",
            "3125/3125 [==============================] - 700s 224ms/step - loss: 0.0407 - accuracy: 0.9926 - val_loss: 0.4868 - val_accuracy: 0.8906\n",
            "Epoch 17/20\n",
            "3125/3125 [==============================] - 638s 204ms/step - loss: 0.0337 - accuracy: 0.9946 - val_loss: 0.4702 - val_accuracy: 0.8926\n",
            "Epoch 18/20\n",
            "3125/3125 [==============================] - 605s 194ms/step - loss: 0.0387 - accuracy: 0.9929 - val_loss: 0.4559 - val_accuracy: 0.8905\n",
            "Epoch 19/20\n",
            "3125/3125 [==============================] - 631s 202ms/step - loss: 0.0337 - accuracy: 0.9946 - val_loss: 0.4608 - val_accuracy: 0.8906\n",
            "Epoch 20/20\n",
            "3125/3125 [==============================] - 588s 188ms/step - loss: 0.0367 - accuracy: 0.9936 - val_loss: 0.4551 - val_accuracy: 0.8910\n"
          ]
        },
        {
          "data": {
            "text/plain": [
              "<keras.src.callbacks.History at 0x1f16957ae50>"
            ]
          },
          "execution_count": 55,
          "metadata": {},
          "output_type": "execute_result"
        }
      ],
      "source": [
        "# Train the model\n",
        "hist = model.fit(X_train_sequences,\n",
        "          y_train,\n",
        "          epochs=20,\n",
        "          validation_data=(X_test_sequences, y_test))\n",
        "hist"
      ]
    },
    {
      "cell_type": "markdown",
      "metadata": {
        "id": "iFEnlsYCNRwe"
      },
      "source": [
        "# Displaying Metrics for trian and test set"
      ]
    },
    {
      "cell_type": "code",
      "execution_count": 56,
      "metadata": {
        "colab": {
          "base_uri": "https://localhost:8080/",
          "height": 543
        },
        "id": "VXAMnwLTNRwe",
        "outputId": "58a485c5-f79a-4ecd-d007-4eb2eaade983"
      },
      "outputs": [
        {
          "data": {
            "image/png": "[encoded data removed]",
            "text/plain": [
              "<Figure size 1000x500 with 2 Axes>"
            ]
          },
          "metadata": {},
          "output_type": "display_data"
        }
      ],
      "source": [
        "def show_metrics(hist):\n",
        "    fig, ax = plt.subplots(1, 2, figsize=(10,5))\n",
        "    ax = ax.ravel()\n",
        "    plt.tight_layout()\n",
        "\n",
        "    for i, metr in enumerate(['accuracy', 'loss']):\n",
        "        ax[i].plot(hist.history[metr])\n",
        "        ax[i].plot(hist.history['val_' + metr])\n",
        "        ax[i].set_title(f'Model {metr}')\n",
        "        ax[i].set_xlabel('epochs')\n",
        "        ax[i].set_ylabel(metr)\n",
        "        ax[i].legend(['train', 'test'])\n",
        "\n",
        "    plt.show()\n",
        "\n",
        "show_metrics(hist)"
      ]
    },
    {
      "cell_type": "markdown",
      "metadata": {
        "id": "g6gh2N1CNRwe"
      },
      "source": [
        "# Evaluate Model Performance"
      ]
    },
    {
      "cell_type": "code",
      "execution_count": 57,
      "metadata": {
        "id": "cQrJN5TNNRwe"
      },
      "outputs": [],
      "source": [
        "import numpy as np\n",
        "from sklearn.metrics import accuracy_score, classification_report, confusion_matrix, ConfusionMatrixDisplay"
      ]
    },
    {
      "cell_type": "markdown",
      "metadata": {
        "id": "hW2E3z-PNRwe"
      },
      "source": [
        "accuracy score"
      ]
    },
    {
      "cell_type": "code",
      "execution_count": 58,
      "metadata": {
        "colab": {
          "base_uri": "https://localhost:8080/"
        },
        "id": "JHSDzUDYNRwf",
        "outputId": "317cf185-1062-4b00-91c8-51dd1480a13b"
      },
      "outputs": [
        {
          "name": "stdout",
          "output_type": "stream",
          "text": [
            "625/625 [==============================] - 23s 33ms/step\n"
          ]
        },
        {
          "data": {
            "text/plain": [
              "89.1"
            ]
          },
          "execution_count": 58,
          "metadata": {},
          "output_type": "execute_result"
        }
      ],
      "source": [
        "preds = model.predict(X_test_sequences)\n",
        "test_acc = np.round(accuracy_score(y_test, np.round(preds)) * 100, 2)\n",
        "test_acc"
      ]
    },
    {
      "cell_type": "code",
      "execution_count": 59,
      "metadata": {
        "colab": {
          "base_uri": "https://localhost:8080/"
        },
        "id": "00T3F-BlNRwf",
        "outputId": "b301b845-c525-4e55-95cd-323b972976e3"
      },
      "outputs": [
        {
          "data": {
            "text/plain": [
              "99.0"
            ]
          },
          "execution_count": 59,
          "metadata": {},
          "output_type": "execute_result"
        }
      ],
      "source": [
        "train_acc = np.round((hist.history['accuracy'][-1] * 100, 2))[0]\n",
        "train_acc"
      ]
    },
    {
      "cell_type": "markdown",
      "metadata": {
        "id": "LNtYPN14NRwf"
      },
      "source": [
        "Classification report for Precision, Recall and F1-score"
      ]
    },
    {
      "cell_type": "code",
      "execution_count": 60,
      "metadata": {
        "colab": {
          "base_uri": "https://localhost:8080/"
        },
        "id": "G7z2CuKENRwf",
        "outputId": "820a3772-604a-44f9-a82d-8d6e62c77756"
      },
      "outputs": [
        {
          "name": "stdout",
          "output_type": "stream",
          "text": [
            "              precision    recall  f1-score   support\n",
            "\n",
            "           0       0.88      0.90      0.89      9943\n",
            "           1       0.90      0.88      0.89     10057\n",
            "\n",
            "    accuracy                           0.89     20000\n",
            "   macro avg       0.89      0.89      0.89     20000\n",
            "weighted avg       0.89      0.89      0.89     20000\n",
            "\n"
          ]
        }
      ],
      "source": [
        "cr = classification_report(y_test, np.round(preds))\n",
        "print(cr)"
      ]
    },
    {
      "cell_type": "markdown",
      "metadata": {
        "id": "W5Hfg-xINRwf"
      },
      "source": [
        "Confusion matrix"
      ]
    },
    {
      "cell_type": "code",
      "execution_count": 61,
      "metadata": {
        "colab": {
          "base_uri": "https://localhost:8080/",
          "height": 471
        },
        "id": "7Faq2ReENRwf",
        "outputId": "090a27a0-1b8a-4ede-8f6e-8aa5bca55949"
      },
      "outputs": [
        {
          "data": {
            "text/plain": [
              "<sklearn.metrics._plot.confusion_matrix.ConfusionMatrixDisplay at 0x1f101176a50>"
            ]
          },
          "execution_count": 61,
          "metadata": {},
          "output_type": "execute_result"
        },
        {
          "data": {
            "image/png": "[encoded data removed]",
            "text/plain": [
              "<Figure size 640x480 with 2 Axes>"
            ]
          },
          "metadata": {},
          "output_type": "display_data"
        }
      ],
      "source": [
        "cm = confusion_matrix(y_test, np.round(preds))\n",
        "cmd = ConfusionMatrixDisplay(cm)\n",
        "cmd.plot()"
      ]
    }
  ],
  "metadata": {
    "colab": {
      "provenance": []
    },
    "kernelspec": {
      "display_name": "Python 3",
      "name": "python3"
    },
    "language_info": {
      "codemirror_mode": {
        "name": "ipython",
        "version": 3
      },
      "file_extension": ".py",
      "mimetype": "text/x-python",
      "name": "python",
      "nbconvert_exporter": "python",
      "pygments_lexer": "ipython3",
      "version": "3.11.4"
    }
  },
  "nbformat": 4,
  "nbformat_minor": 0
}
