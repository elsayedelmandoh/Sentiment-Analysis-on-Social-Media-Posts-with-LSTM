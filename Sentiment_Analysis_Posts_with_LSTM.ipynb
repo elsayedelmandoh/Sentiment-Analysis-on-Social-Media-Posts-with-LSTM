{
  "cells": [
    {
      "cell_type": "markdown",
      "metadata": {
        "id": "LRGSiOsyNRwN"
      },
      "source": [
        "# Capstone 2 : NN2"
      ]
    },
    {
      "cell_type": "markdown",
      "metadata": {
        "id": "QGU1Ujf4NRwO"
      },
      "source": [
        "# Sentiment Analysis on Social Media Posts with LSTM"
      ]
    },
    {
      "cell_type": "markdown",
      "metadata": {
        "id": "2dtzQ-LUNRwO"
      },
      "source": [
        "In this project, you will build a `Long Short-Term Memory (LSTM) model` that can `perform sentiment analysis on text data`, such as social media posts, customer reviews, or news articles.\n",
        "\n",
        "You will start by `exploring a dataset` of text data, such as the `Sentiment140 dataset` or `the Amazon Reviews dataset`, and `performing EDA` to gain insights into the data.\n",
        "\n",
        "You will `analyze the correlation` between different features and `identify any outliers` or `missing values` that need to be handled.\n",
        "\n",
        "You will then `preprocess the dataset`, `splitting it into training and testing sets`, and `transforming the text data` into input vectors using techniques such as `tokenization` or `word embeddings`.\n",
        "\n",
        "You will `build an LSTM model` using PyTorch or `Tensorflow` that can perform sentiment analysis on the input data.\n",
        "\n",
        "You will `experiment with different neural network` architectures, activation functions, and learning rates to find the `best model` for the task.\n",
        "\n",
        "Finally, you will `evaluate the performance` of your model using metrics such as `accuracy`, `precision`, `recall`, and `F1 score`, and `visualize the results` using `confusion matrices` or other visualization techniques to see how well the model performs on different sentiment classes.\n",
        "\n",
        "Dataset URL:\n",
        "\n",
        "The Sentiment140 dataset contains `1.6 million tweets` with `6 different sentiment classes`: positive, negative, neutral, and three other classes.\n",
        "`Sentiment140` dataset: http://help.sentiment140.com/for-students/\n",
        "\n",
        "The Amazon Reviews dataset contains `3.6 million reviews` with `binary sentiment classes`: positive or negative.\n",
        "`Amazon Reviews` dataset: https://www.kaggle.com/bittlingmayer/amazonreviews\n",
        "\n",
        "This project will give you hands-on experience with LSTM and sentiment analysis, and will help you develop skills in coding with PyTorch and Tensorflow.\n",
        "\n",
        "It will also give you the opportunity to experiment with different neural network architectures and activation functions to find the best model for the task."
      ]
    },
    {
      "cell_type": "markdown",
      "metadata": {
        "id": "qye-oTiDYFhv"
      },
      "source": [
        "verify GPU"
      ]
    },
    {
      "cell_type": "code",
      "execution_count": 15,
      "metadata": {
        "colab": {
          "base_uri": "https://localhost:8080/"
        },
        "id": "HKS_LyIGYE9W",
        "outputId": "0c96d5c5-7516-43b9-d15c-5e3cac28bb4a"
      },
      "outputs": [],
      "source": [
        "# import tensorflow as tf\n",
        "# print(\"GPU is\", \"available\" if tf.config.list_physical_devices(\"GPU\") else \"not available\")"
      ]
    },
    {
      "cell_type": "markdown",
      "metadata": {
        "id": "UQl8YD6-NRwP"
      },
      "source": [
        "# Data Acquisition"
      ]
    },
    {
      "cell_type": "code",
      "execution_count": 16,
      "metadata": {
        "colab": {
          "base_uri": "https://localhost:8080/"
        },
        "id": "JWJ8Oc8pQf65",
        "outputId": "90251339-efe6-4a4c-ad9e-886095e64789"
      },
      "outputs": [],
      "source": [
        "# !pip install kaggle"
      ]
    },
    {
      "cell_type": "markdown",
      "metadata": {
        "id": "nkrtkBP9USux"
      },
      "source": [
        "Upload the kaggle.json file that you downloaded"
      ]
    },
    {
      "cell_type": "code",
      "execution_count": 17,
      "metadata": {
        "id": "PeATYml_TgTR"
      },
      "outputs": [],
      "source": [
        "# from google.colab import files"
      ]
    },
    {
      "cell_type": "code",
      "execution_count": 18,
      "metadata": {
        "colab": {
          "base_uri": "https://localhost:8080/",
          "height": 90
        },
        "id": "aUAq1LbETcSv",
        "outputId": "a14df60e-f2c1-4557-e30d-5ae0afef7f61"
      },
      "outputs": [],
      "source": [
        "# uploaded = files.upload()\n",
        "# uploaded"
      ]
    },
    {
      "cell_type": "markdown",
      "metadata": {
        "id": "H-o-_xVTUOZG"
      },
      "source": [
        "Move the uploaded kaggle.json file to the appropriate directory"
      ]
    },
    {
      "cell_type": "code",
      "execution_count": 19,
      "metadata": {
        "id": "GunexoEPUB2E"
      },
      "outputs": [],
      "source": [
        "# import os\n",
        "# os.makedirs('/root/.kaggle', exist_ok=True)\n",
        "# os.rename('kaggle.json', '/root/.kaggle/kaggle.json')"
      ]
    },
    {
      "cell_type": "markdown",
      "metadata": {
        "id": "4uwIxHyZUMWn"
      },
      "source": [
        "Set permissions for the Kaggle API key"
      ]
    },
    {
      "cell_type": "code",
      "execution_count": 20,
      "metadata": {
        "id": "7rwdoL9UUFfq"
      },
      "outputs": [],
      "source": [
        "# !chmod 600 /root/.kaggle/kaggle.json"
      ]
    },
    {
      "cell_type": "markdown",
      "metadata": {
        "id": "ggL92OM4UZMh"
      },
      "source": [
        "Download a dataset from Kaggle"
      ]
    },
    {
      "cell_type": "code",
      "execution_count": 21,
      "metadata": {
        "colab": {
          "base_uri": "https://localhost:8080/"
        },
        "id": "TzJPtDDbUajh",
        "outputId": "10f9a5a4-6c29-4b79-85b9-fc993ce6494b"
      },
      "outputs": [],
      "source": [
        "# !kaggle datasets download -d bittlingmayer/amazonreviews -p /content"
      ]
    },
    {
      "cell_type": "markdown",
      "metadata": {
        "id": "rJ2zk4qPUpDh"
      },
      "source": [
        "Unzip the downloaded dataset"
      ]
    },
    {
      "cell_type": "code",
      "execution_count": 22,
      "metadata": {
        "colab": {
          "base_uri": "https://localhost:8080/"
        },
        "id": "0--zyHPLUsOj",
        "outputId": "eab9f037-25f2-4e16-f290-12115dcd3117"
      },
      "outputs": [],
      "source": [
        "# !unzip -q /content/amazonreviews.zip -d /content/dataset\n"
      ]
    },
    {
      "cell_type": "markdown",
      "metadata": {
        "id": "LKf_WydlVHfz"
      },
      "source": [
        "read data"
      ]
    },
    {
      "cell_type": "code",
      "execution_count": 23,
      "metadata": {
        "id": "3-V6Do1TNRwP"
      },
      "outputs": [],
      "source": [
        "import pandas as pd"
      ]
    },
    {
      "cell_type": "markdown",
      "metadata": {
        "id": "k4TN56B5NRwQ"
      },
      "source": [
        "Amazon Reviews"
      ]
    },
    {
      "cell_type": "code",
      "execution_count": 24,
      "metadata": {
        "colab": {
          "base_uri": "https://localhost:8080/",
          "height": 206
        },
        "id": "P-fy_sNeNRwQ",
        "outputId": "6c9396a6-7d2f-442d-9513-d43ac6cff0c9"
      },
      "outputs": [
        {
          "data": {
            "text/html": [
              "<div>\n",
              "<style scoped>\n",
              "    .dataframe tbody tr th:only-of-type {\n",
              "        vertical-align: middle;\n",
              "    }\n",
              "\n",
              "    .dataframe tbody tr th {\n",
              "        vertical-align: top;\n",
              "    }\n",
              "\n",
              "    .dataframe thead th {\n",
              "        text-align: right;\n",
              "    }\n",
              "</style>\n",
              "<table border=\"1\" class=\"dataframe\">\n",
              "  <thead>\n",
              "    <tr style=\"text-align: right;\">\n",
              "      <th></th>\n",
              "      <th>text</th>\n",
              "      <th>label</th>\n",
              "    </tr>\n",
              "  </thead>\n",
              "  <tbody>\n",
              "    <tr>\n",
              "      <th>1559061</th>\n",
              "      <td>__label__1 isn't that great: this cd isn't all...</td>\n",
              "      <td>NaN</td>\n",
              "    </tr>\n",
              "    <tr>\n",
              "      <th>420646</th>\n",
              "      <td>__label__1 Real Mediocre Late 90's stuff: 1998...</td>\n",
              "      <td>NaN</td>\n",
              "    </tr>\n",
              "    <tr>\n",
              "      <th>705221</th>\n",
              "      <td>__label__2 Country music with an attitude!!!: ...</td>\n",
              "      <td>NaN</td>\n",
              "    </tr>\n",
              "    <tr>\n",
              "      <th>3176663</th>\n",
              "      <td>__label__2 Perfect Wedding Ceremony Music: Thi...</td>\n",
              "      <td>NaN</td>\n",
              "    </tr>\n",
              "    <tr>\n",
              "      <th>546329</th>\n",
              "      <td>__label__2 Awesome movie!: However, the print ...</td>\n",
              "      <td>NaN</td>\n",
              "    </tr>\n",
              "  </tbody>\n",
              "</table>\n",
              "</div>"
            ],
            "text/plain": [
              "                                                      text  label\n",
              "1559061  __label__1 isn't that great: this cd isn't all...    NaN\n",
              "420646   __label__1 Real Mediocre Late 90's stuff: 1998...    NaN\n",
              "705221   __label__2 Country music with an attitude!!!: ...    NaN\n",
              "3176663  __label__2 Perfect Wedding Ceremony Music: Thi...    NaN\n",
              "546329   __label__2 Awesome movie!: However, the print ...    NaN"
            ]
          },
          "execution_count": 24,
          "metadata": {},
          "output_type": "execute_result"
        }
      ],
      "source": [
        "df_train = pd.read_csv(r'dataset\\train.ft.txt', delimiter='\\t', header=None, names=['text', 'label']).sample(50000)\n",
        "df_train.head()"
      ]
    },
    {
      "cell_type": "markdown",
      "metadata": {
        "id": "GX8QzDw4NRwQ"
      },
      "source": [
        "we have a problem in dataset, pandas read two column in one column !!"
      ]
    },
    {
      "cell_type": "code",
      "execution_count": 25,
      "metadata": {
        "colab": {
          "base_uri": "https://localhost:8080/"
        },
        "id": "WTAoMzHnNRwR",
        "outputId": "99d7515f-9d22-4555-b1d0-3198ef080fb6"
      },
      "outputs": [
        {
          "data": {
            "text/plain": [
              "[0]"
            ]
          },
          "execution_count": 25,
          "metadata": {},
          "output_type": "execute_result"
        }
      ],
      "source": [
        "row = '__label__1 Not an \"ultimate guide\": Firstly,I enjoyed the format and tone of the book (how the author addressed the reader). However, I did not feel that she imparted any insider secrets that the book promised to reveal. If you are just starting to research law school, and do not know all the requirements of admission, then this book may be a tremendous help. If you have done your homework and are looking for an edge when it comes to admissions, I recommend some more topic-specific books. For example, books on how to write your personal statment, books geared specifically towards LSAT preparation (Powerscore books were the most helpful for me), and there are some websites with great advice geared towards aiding the individuals whom you are asking to write letters of recommendation. Yet, for those new to the entire affair, this book can definitely clarify the requirements for you.'\n",
        "label = [0 if row.split(' ')[0] == '__label__1' else 1]\n",
        "label"
      ]
    },
    {
      "cell_type": "code",
      "execution_count": 26,
      "metadata": {
        "colab": {
          "base_uri": "https://localhost:8080/",
          "height": 105
        },
        "id": "0bdxI5asNRwR",
        "outputId": "afa3f9ef-2220-4156-be9d-86facd475a98"
      },
      "outputs": [
        {
          "data": {
            "text/plain": [
              "'Not an \"ultimate guide\": Firstly,I enjoyed the format and tone of the book (how the author addressed the reader). However, I did not feel that she imparted any insider secrets that the book promised to reveal. If you are just starting to research law school, and do not know all the requirements of admission, then this book may be a tremendous help. If you have done your homework and are looking for an edge when it comes to admissions, I recommend some more topic-specific books. For example, books on how to write your personal statment, books geared specifically towards LSAT preparation (Powerscore books were the most helpful for me), and there are some websites with great advice geared towards aiding the individuals whom you are asking to write letters of recommendation. Yet, for those new to the entire affair, this book can definitely clarify the requirements for you.'"
            ]
          },
          "execution_count": 26,
          "metadata": {},
          "output_type": "execute_result"
        }
      ],
      "source": [
        "text = ' '.join(row.split(' ')[1:])\n",
        "text"
      ]
    },
    {
      "cell_type": "code",
      "execution_count": 27,
      "metadata": {
        "colab": {
          "base_uri": "https://localhost:8080/",
          "height": 206
        },
        "id": "82Fwuh6-NRwR",
        "outputId": "753e82c6-567d-4ddb-c173-135ac32c334b"
      },
      "outputs": [
        {
          "data": {
            "text/html": [
              "<div>\n",
              "<style scoped>\n",
              "    .dataframe tbody tr th:only-of-type {\n",
              "        vertical-align: middle;\n",
              "    }\n",
              "\n",
              "    .dataframe tbody tr th {\n",
              "        vertical-align: top;\n",
              "    }\n",
              "\n",
              "    .dataframe thead th {\n",
              "        text-align: right;\n",
              "    }\n",
              "</style>\n",
              "<table border=\"1\" class=\"dataframe\">\n",
              "  <thead>\n",
              "    <tr style=\"text-align: right;\">\n",
              "      <th></th>\n",
              "      <th>text</th>\n",
              "      <th>label</th>\n",
              "    </tr>\n",
              "  </thead>\n",
              "  <tbody>\n",
              "    <tr>\n",
              "      <th>1559061</th>\n",
              "      <td>isn't that great: this cd isn't all that great...</td>\n",
              "      <td>0</td>\n",
              "    </tr>\n",
              "    <tr>\n",
              "      <th>420646</th>\n",
              "      <td>Real Mediocre Late 90's stuff: 1998, probably ...</td>\n",
              "      <td>0</td>\n",
              "    </tr>\n",
              "    <tr>\n",
              "      <th>705221</th>\n",
              "      <td>Country music with an attitude!!!: Shania Twai...</td>\n",
              "      <td>1</td>\n",
              "    </tr>\n",
              "    <tr>\n",
              "      <th>3176663</th>\n",
              "      <td>Perfect Wedding Ceremony Music: This CD was ex...</td>\n",
              "      <td>1</td>\n",
              "    </tr>\n",
              "    <tr>\n",
              "      <th>546329</th>\n",
              "      <td>Awesome movie!: However, the print is a bit gr...</td>\n",
              "      <td>1</td>\n",
              "    </tr>\n",
              "  </tbody>\n",
              "</table>\n",
              "</div>"
            ],
            "text/plain": [
              "                                                      text  label\n",
              "1559061  isn't that great: this cd isn't all that great...      0\n",
              "420646   Real Mediocre Late 90's stuff: 1998, probably ...      0\n",
              "705221   Country music with an attitude!!!: Shania Twai...      1\n",
              "3176663  Perfect Wedding Ceremony Music: This CD was ex...      1\n",
              "546329   Awesome movie!: However, the print is a bit gr...      1"
            ]
          },
          "execution_count": 27,
          "metadata": {},
          "output_type": "execute_result"
        }
      ],
      "source": [
        "df_train['label'] = df_train['text'].apply(lambda row: 0 if row.split(' ')[0] == '__label__1' else 1)\n",
        "df_train['text'] = df_train['text'].apply(lambda row: ' '.join(row.split(' ')[1:]))\n",
        "df_train.head()"
      ]
    },
    {
      "cell_type": "markdown",
      "metadata": {
        "id": "rFGVQWf4NRwR"
      },
      "source": [
        "great.. let's read test data too"
      ]
    },
    {
      "cell_type": "code",
      "execution_count": 28,
      "metadata": {
        "colab": {
          "base_uri": "https://localhost:8080/",
          "height": 206
        },
        "id": "LTl3klKNNRwR",
        "outputId": "4b349ef1-ccc1-4a6b-8182-f84d0aed6473"
      },
      "outputs": [
        {
          "data": {
            "text/html": [
              "<div>\n",
              "<style scoped>\n",
              "    .dataframe tbody tr th:only-of-type {\n",
              "        vertical-align: middle;\n",
              "    }\n",
              "\n",
              "    .dataframe tbody tr th {\n",
              "        vertical-align: top;\n",
              "    }\n",
              "\n",
              "    .dataframe thead th {\n",
              "        text-align: right;\n",
              "    }\n",
              "</style>\n",
              "<table border=\"1\" class=\"dataframe\">\n",
              "  <thead>\n",
              "    <tr style=\"text-align: right;\">\n",
              "      <th></th>\n",
              "      <th>text</th>\n",
              "      <th>label</th>\n",
              "    </tr>\n",
              "  </thead>\n",
              "  <tbody>\n",
              "    <tr>\n",
              "      <th>43269</th>\n",
              "      <td>__label__2 very good deal: looking for this fo...</td>\n",
              "      <td>NaN</td>\n",
              "    </tr>\n",
              "    <tr>\n",
              "      <th>247270</th>\n",
              "      <td>__label__2 Logical but not radical: O'Reilly's...</td>\n",
              "      <td>NaN</td>\n",
              "    </tr>\n",
              "    <tr>\n",
              "      <th>267554</th>\n",
              "      <td>__label__1 Muddy Concept Never Clears: With th...</td>\n",
              "      <td>NaN</td>\n",
              "    </tr>\n",
              "    <tr>\n",
              "      <th>263962</th>\n",
              "      <td>__label__2 A must have in one's collection!: M...</td>\n",
              "      <td>NaN</td>\n",
              "    </tr>\n",
              "    <tr>\n",
              "      <th>322383</th>\n",
              "      <td>__label__2 Glamorous Biography: Here is some H...</td>\n",
              "      <td>NaN</td>\n",
              "    </tr>\n",
              "  </tbody>\n",
              "</table>\n",
              "</div>"
            ],
            "text/plain": [
              "                                                     text  label\n",
              "43269   __label__2 very good deal: looking for this fo...    NaN\n",
              "247270  __label__2 Logical but not radical: O'Reilly's...    NaN\n",
              "267554  __label__1 Muddy Concept Never Clears: With th...    NaN\n",
              "263962  __label__2 A must have in one's collection!: M...    NaN\n",
              "322383  __label__2 Glamorous Biography: Here is some H...    NaN"
            ]
          },
          "execution_count": 28,
          "metadata": {},
          "output_type": "execute_result"
        }
      ],
      "source": [
        "df_test = pd.read_csv(r'dataset\\test.ft.txt', delimiter='\\t', header=None, names=['text', 'label']).sample(10000)\n",
        "df_test.head()"
      ]
    },
    {
      "cell_type": "code",
      "execution_count": 29,
      "metadata": {
        "colab": {
          "base_uri": "https://localhost:8080/",
          "height": 206
        },
        "id": "jBTaWHuWNRwS",
        "outputId": "7b05db36-3e4c-4e18-f5c5-bed1476e1244"
      },
      "outputs": [
        {
          "data": {
            "text/html": [
              "<div>\n",
              "<style scoped>\n",
              "    .dataframe tbody tr th:only-of-type {\n",
              "        vertical-align: middle;\n",
              "    }\n",
              "\n",
              "    .dataframe tbody tr th {\n",
              "        vertical-align: top;\n",
              "    }\n",
              "\n",
              "    .dataframe thead th {\n",
              "        text-align: right;\n",
              "    }\n",
              "</style>\n",
              "<table border=\"1\" class=\"dataframe\">\n",
              "  <thead>\n",
              "    <tr style=\"text-align: right;\">\n",
              "      <th></th>\n",
              "      <th>text</th>\n",
              "      <th>label</th>\n",
              "    </tr>\n",
              "  </thead>\n",
              "  <tbody>\n",
              "    <tr>\n",
              "      <th>43269</th>\n",
              "      <td>very good deal: looking for this for a long ti...</td>\n",
              "      <td>1</td>\n",
              "    </tr>\n",
              "    <tr>\n",
              "      <th>247270</th>\n",
              "      <td>Logical but not radical: O'Reilly's exceptiona...</td>\n",
              "      <td>1</td>\n",
              "    </tr>\n",
              "    <tr>\n",
              "      <th>267554</th>\n",
              "      <td>Muddy Concept Never Clears: With the cast that...</td>\n",
              "      <td>0</td>\n",
              "    </tr>\n",
              "    <tr>\n",
              "      <th>263962</th>\n",
              "      <td>A must have in one's collection!: Man, am i gl...</td>\n",
              "      <td>1</td>\n",
              "    </tr>\n",
              "    <tr>\n",
              "      <th>322383</th>\n",
              "      <td>Glamorous Biography: Here is some Hollywood hi...</td>\n",
              "      <td>1</td>\n",
              "    </tr>\n",
              "  </tbody>\n",
              "</table>\n",
              "</div>"
            ],
            "text/plain": [
              "                                                     text  label\n",
              "43269   very good deal: looking for this for a long ti...      1\n",
              "247270  Logical but not radical: O'Reilly's exceptiona...      1\n",
              "267554  Muddy Concept Never Clears: With the cast that...      0\n",
              "263962  A must have in one's collection!: Man, am i gl...      1\n",
              "322383  Glamorous Biography: Here is some Hollywood hi...      1"
            ]
          },
          "execution_count": 29,
          "metadata": {},
          "output_type": "execute_result"
        }
      ],
      "source": [
        "df_test['label'] = df_test['text'].apply(lambda row : 0 if row.split(' ')[0] == '__label__1' else 1)\n",
        "df_test['text'] = df_test['text'].apply(lambda row : ' '.join(row.split(' ')[1:]))\n",
        "df_test.head()"
      ]
    },
    {
      "cell_type": "markdown",
      "metadata": {
        "id": "tTXDI7hNNRwS"
      },
      "source": [
        "# Data Exploration"
      ]
    },
    {
      "cell_type": "code",
      "execution_count": 30,
      "metadata": {
        "id": "QkUGBdiDNRwS"
      },
      "outputs": [],
      "source": [
        "import matplotlib.pyplot as plt\n",
        "import seaborn as sns"
      ]
    },
    {
      "cell_type": "code",
      "execution_count": 31,
      "metadata": {
        "colab": {
          "base_uri": "https://localhost:8080/"
        },
        "id": "f6NOjZuUNRwS",
        "outputId": "f5115921-50f6-4869-de44-34203e8be121"
      },
      "outputs": [
        {
          "name": "stdout",
          "output_type": "stream",
          "text": [
            "<class 'pandas.core.frame.DataFrame'>\n",
            "Index: 50000 entries, 1559061 to 3433264\n",
            "Data columns (total 2 columns):\n",
            " #   Column  Non-Null Count  Dtype \n",
            "---  ------  --------------  ----- \n",
            " 0   text    50000 non-null  object\n",
            " 1   label   50000 non-null  int64 \n",
            "dtypes: int64(1), object(1)\n",
            "memory usage: 1.1+ MB\n"
          ]
        }
      ],
      "source": [
        "df_train.info()"
      ]
    },
    {
      "cell_type": "code",
      "execution_count": 32,
      "metadata": {
        "colab": {
          "base_uri": "https://localhost:8080/"
        },
        "id": "mQTl1gkKNRwS",
        "outputId": "387252a7-84c0-4e31-ac35-afeb4fe5c19b"
      },
      "outputs": [
        {
          "name": "stdout",
          "output_type": "stream",
          "text": [
            "<class 'pandas.core.frame.DataFrame'>\n",
            "Index: 10000 entries, 43269 to 3054\n",
            "Data columns (total 2 columns):\n",
            " #   Column  Non-Null Count  Dtype \n",
            "---  ------  --------------  ----- \n",
            " 0   text    10000 non-null  object\n",
            " 1   label   10000 non-null  int64 \n",
            "dtypes: int64(1), object(1)\n",
            "memory usage: 234.4+ KB\n"
          ]
        }
      ],
      "source": [
        "df_test.info()"
      ]
    },
    {
      "cell_type": "markdown",
      "metadata": {
        "id": "bVqjRmaBNRwS"
      },
      "source": [
        "two dataframe not included missing values"
      ]
    },
    {
      "cell_type": "markdown",
      "metadata": {
        "id": "6WfYZyiANRwT"
      },
      "source": [
        "cjeck duplicated"
      ]
    },
    {
      "cell_type": "code",
      "execution_count": 33,
      "metadata": {
        "colab": {
          "base_uri": "https://localhost:8080/"
        },
        "id": "ceA1YnXUNRwT",
        "outputId": "07ae906b-835c-4357-a2a6-ce8d6f373005"
      },
      "outputs": [
        {
          "data": {
            "text/plain": [
              "0"
            ]
          },
          "execution_count": 33,
          "metadata": {},
          "output_type": "execute_result"
        }
      ],
      "source": [
        "df_train.duplicated().sum()"
      ]
    },
    {
      "cell_type": "code",
      "execution_count": 34,
      "metadata": {
        "colab": {
          "base_uri": "https://localhost:8080/"
        },
        "id": "_InSk9MpNRwT",
        "outputId": "79f5997f-1c07-4177-f1dd-9c63d2ad9d0f"
      },
      "outputs": [
        {
          "data": {
            "text/plain": [
              "0"
            ]
          },
          "execution_count": 34,
          "metadata": {},
          "output_type": "execute_result"
        }
      ],
      "source": [
        "df_test.duplicated().sum()"
      ]
    },
    {
      "cell_type": "markdown",
      "metadata": {
        "id": "4_HHLlKtNRwT"
      },
      "source": [
        "two dataframe not included duplicated values"
      ]
    },
    {
      "cell_type": "markdown",
      "metadata": {
        "id": "0zFzSRjYNRwT"
      },
      "source": [
        "check balanced"
      ]
    },
    {
      "cell_type": "code",
      "execution_count": 35,
      "metadata": {
        "colab": {
          "base_uri": "https://localhost:8080/",
          "height": 449
        },
        "id": "TZS5l9g-NRwT",
        "outputId": "547b72b8-a072-49cc-87e8-8dffdf1c48a1"
      },
      "outputs": [
        {
          "name": "stderr",
          "output_type": "stream",
          "text": [
            "c:\\Users\\CENTER_ELRahama\\AppData\\Local\\Programs\\Python\\Python311\\Lib\\site-packages\\seaborn\\_oldcore.py:1498: FutureWarning: is_categorical_dtype is deprecated and will be removed in a future version. Use isinstance(dtype, CategoricalDtype) instead\n",
            "  if pd.api.types.is_categorical_dtype(vector):\n",
            "c:\\Users\\CENTER_ELRahama\\AppData\\Local\\Programs\\Python\\Python311\\Lib\\site-packages\\seaborn\\_oldcore.py:1498: FutureWarning: is_categorical_dtype is deprecated and will be removed in a future version. Use isinstance(dtype, CategoricalDtype) instead\n",
            "  if pd.api.types.is_categorical_dtype(vector):\n",
            "c:\\Users\\CENTER_ELRahama\\AppData\\Local\\Programs\\Python\\Python311\\Lib\\site-packages\\seaborn\\_oldcore.py:1498: FutureWarning: is_categorical_dtype is deprecated and will be removed in a future version. Use isinstance(dtype, CategoricalDtype) instead\n",
            "  if pd.api.types.is_categorical_dtype(vector):\n"
          ]
        },
        {
          "data": {
            "image/png": "[encoded data removed]",
            "text/plain": [
              "<Figure size 640x480 with 1 Axes>"
            ]
          },
          "metadata": {},
          "output_type": "display_data"
        }
      ],
      "source": [
        "sns.countplot(x='label', data=df_train)\n",
        "plt.show()\n"
      ]
    },
    {
      "cell_type": "code",
      "execution_count": 36,
      "metadata": {
        "colab": {
          "base_uri": "https://localhost:8080/",
          "height": 449
        },
        "id": "wFqIL_WGNRwT",
        "outputId": "155634fb-7c40-4759-a6ff-1efabcbd5a18"
      },
      "outputs": [
        {
          "name": "stderr",
          "output_type": "stream",
          "text": [
            "c:\\Users\\CENTER_ELRahama\\AppData\\Local\\Programs\\Python\\Python311\\Lib\\site-packages\\seaborn\\_oldcore.py:1498: FutureWarning: is_categorical_dtype is deprecated and will be removed in a future version. Use isinstance(dtype, CategoricalDtype) instead\n",
            "  if pd.api.types.is_categorical_dtype(vector):\n",
            "c:\\Users\\CENTER_ELRahama\\AppData\\Local\\Programs\\Python\\Python311\\Lib\\site-packages\\seaborn\\_oldcore.py:1498: FutureWarning: is_categorical_dtype is deprecated and will be removed in a future version. Use isinstance(dtype, CategoricalDtype) instead\n",
            "  if pd.api.types.is_categorical_dtype(vector):\n",
            "c:\\Users\\CENTER_ELRahama\\AppData\\Local\\Programs\\Python\\Python311\\Lib\\site-packages\\seaborn\\_oldcore.py:1498: FutureWarning: is_categorical_dtype is deprecated and will be removed in a future version. Use isinstance(dtype, CategoricalDtype) instead\n",
            "  if pd.api.types.is_categorical_dtype(vector):\n"
          ]
        },
        {
          "data": {
            "image/png": "[encoded data removed]",
            "text/plain": [
              "<Figure size 640x480 with 1 Axes>"
            ]
          },
          "metadata": {},
          "output_type": "display_data"
        }
      ],
      "source": [
        "sns.countplot(x='label', data=df_test)\n",
        "plt.show()\n"
      ]
    },
    {
      "cell_type": "markdown",
      "metadata": {
        "id": "JbS5yTlONRwU"
      },
      "source": [
        "two dataframe are balanced"
      ]
    },
    {
      "cell_type": "markdown",
      "metadata": {
        "id": "qq5Xs2heNRwU"
      },
      "source": [
        "check text length"
      ]
    },
    {
      "cell_type": "code",
      "execution_count": 37,
      "metadata": {
        "colab": {
          "base_uri": "https://localhost:8080/",
          "height": 206
        },
        "id": "i3kEWY5MNRwU",
        "outputId": "ed86e961-abba-4406-f5ce-169fd4cb6656"
      },
      "outputs": [
        {
          "data": {
            "text/html": [
              "<div>\n",
              "<style scoped>\n",
              "    .dataframe tbody tr th:only-of-type {\n",
              "        vertical-align: middle;\n",
              "    }\n",
              "\n",
              "    .dataframe tbody tr th {\n",
              "        vertical-align: top;\n",
              "    }\n",
              "\n",
              "    .dataframe thead th {\n",
              "        text-align: right;\n",
              "    }\n",
              "</style>\n",
              "<table border=\"1\" class=\"dataframe\">\n",
              "  <thead>\n",
              "    <tr style=\"text-align: right;\">\n",
              "      <th></th>\n",
              "      <th>text</th>\n",
              "      <th>label</th>\n",
              "      <th>text_length</th>\n",
              "    </tr>\n",
              "  </thead>\n",
              "  <tbody>\n",
              "    <tr>\n",
              "      <th>1559061</th>\n",
              "      <td>isn't that great: this cd isn't all that great...</td>\n",
              "      <td>0</td>\n",
              "      <td>392</td>\n",
              "    </tr>\n",
              "    <tr>\n",
              "      <th>420646</th>\n",
              "      <td>Real Mediocre Late 90's stuff: 1998, probably ...</td>\n",
              "      <td>0</td>\n",
              "      <td>321</td>\n",
              "    </tr>\n",
              "    <tr>\n",
              "      <th>705221</th>\n",
              "      <td>Country music with an attitude!!!: Shania Twai...</td>\n",
              "      <td>1</td>\n",
              "      <td>433</td>\n",
              "    </tr>\n",
              "    <tr>\n",
              "      <th>3176663</th>\n",
              "      <td>Perfect Wedding Ceremony Music: This CD was ex...</td>\n",
              "      <td>1</td>\n",
              "      <td>564</td>\n",
              "    </tr>\n",
              "    <tr>\n",
              "      <th>546329</th>\n",
              "      <td>Awesome movie!: However, the print is a bit gr...</td>\n",
              "      <td>1</td>\n",
              "      <td>132</td>\n",
              "    </tr>\n",
              "  </tbody>\n",
              "</table>\n",
              "</div>"
            ],
            "text/plain": [
              "                                                      text  label  text_length\n",
              "1559061  isn't that great: this cd isn't all that great...      0          392\n",
              "420646   Real Mediocre Late 90's stuff: 1998, probably ...      0          321\n",
              "705221   Country music with an attitude!!!: Shania Twai...      1          433\n",
              "3176663  Perfect Wedding Ceremony Music: This CD was ex...      1          564\n",
              "546329   Awesome movie!: However, the print is a bit gr...      1          132"
            ]
          },
          "execution_count": 37,
          "metadata": {},
          "output_type": "execute_result"
        }
      ],
      "source": [
        "df_train['text_length'] = df_train['text'].apply(len)\n",
        "df_train.head()"
      ]
    },
    {
      "cell_type": "code",
      "execution_count": 38,
      "metadata": {
        "colab": {
          "base_uri": "https://localhost:8080/",
          "height": 450
        },
        "id": "VRnYaRdMNRwW",
        "outputId": "31a28e0d-8a72-4f3b-f4ff-1653459c310c"
      },
      "outputs": [
        {
          "name": "stderr",
          "output_type": "stream",
          "text": [
            "c:\\Users\\CENTER_ELRahama\\AppData\\Local\\Programs\\Python\\Python311\\Lib\\site-packages\\seaborn\\_oldcore.py:1498: FutureWarning: is_categorical_dtype is deprecated and will be removed in a future version. Use isinstance(dtype, CategoricalDtype) instead\n",
            "  if pd.api.types.is_categorical_dtype(vector):\n",
            "c:\\Users\\CENTER_ELRahama\\AppData\\Local\\Programs\\Python\\Python311\\Lib\\site-packages\\seaborn\\_oldcore.py:1119: FutureWarning: use_inf_as_na option is deprecated and will be removed in a future version. Convert inf values to NaN before operating instead.\n",
            "  with pd.option_context('mode.use_inf_as_na', True):\n"
          ]
        },
        {
          "data": {
            "image/png": "[encoded data removed]",
            "text/plain": [
              "<Figure size 640x480 with 1 Axes>"
            ]
          },
          "metadata": {},
          "output_type": "display_data"
        }
      ],
      "source": [
        "sns.histplot(df_train['text_length'])\n",
        "plt.show()"
      ]
    },
    {
      "cell_type": "markdown",
      "metadata": {
        "id": "XIajnyHdNRwW"
      },
      "source": [
        "most text length is in range 200 characters"
      ]
    },
    {
      "cell_type": "code",
      "execution_count": 39,
      "metadata": {
        "colab": {
          "base_uri": "https://localhost:8080/",
          "height": 206
        },
        "id": "hLWsuCBQNRwW",
        "outputId": "fc25eec0-e55a-4586-fae3-40de96b2933d"
      },
      "outputs": [
        {
          "data": {
            "text/html": [
              "<div>\n",
              "<style scoped>\n",
              "    .dataframe tbody tr th:only-of-type {\n",
              "        vertical-align: middle;\n",
              "    }\n",
              "\n",
              "    .dataframe tbody tr th {\n",
              "        vertical-align: top;\n",
              "    }\n",
              "\n",
              "    .dataframe thead th {\n",
              "        text-align: right;\n",
              "    }\n",
              "</style>\n",
              "<table border=\"1\" class=\"dataframe\">\n",
              "  <thead>\n",
              "    <tr style=\"text-align: right;\">\n",
              "      <th></th>\n",
              "      <th>text</th>\n",
              "      <th>label</th>\n",
              "      <th>text_length</th>\n",
              "    </tr>\n",
              "  </thead>\n",
              "  <tbody>\n",
              "    <tr>\n",
              "      <th>43269</th>\n",
              "      <td>very good deal: looking for this for a long ti...</td>\n",
              "      <td>1</td>\n",
              "      <td>140</td>\n",
              "    </tr>\n",
              "    <tr>\n",
              "      <th>247270</th>\n",
              "      <td>Logical but not radical: O'Reilly's exceptiona...</td>\n",
              "      <td>1</td>\n",
              "      <td>631</td>\n",
              "    </tr>\n",
              "    <tr>\n",
              "      <th>267554</th>\n",
              "      <td>Muddy Concept Never Clears: With the cast that...</td>\n",
              "      <td>0</td>\n",
              "      <td>347</td>\n",
              "    </tr>\n",
              "    <tr>\n",
              "      <th>263962</th>\n",
              "      <td>A must have in one's collection!: Man, am i gl...</td>\n",
              "      <td>1</td>\n",
              "      <td>654</td>\n",
              "    </tr>\n",
              "    <tr>\n",
              "      <th>322383</th>\n",
              "      <td>Glamorous Biography: Here is some Hollywood hi...</td>\n",
              "      <td>1</td>\n",
              "      <td>355</td>\n",
              "    </tr>\n",
              "  </tbody>\n",
              "</table>\n",
              "</div>"
            ],
            "text/plain": [
              "                                                     text  label  text_length\n",
              "43269   very good deal: looking for this for a long ti...      1          140\n",
              "247270  Logical but not radical: O'Reilly's exceptiona...      1          631\n",
              "267554  Muddy Concept Never Clears: With the cast that...      0          347\n",
              "263962  A must have in one's collection!: Man, am i gl...      1          654\n",
              "322383  Glamorous Biography: Here is some Hollywood hi...      1          355"
            ]
          },
          "execution_count": 39,
          "metadata": {},
          "output_type": "execute_result"
        }
      ],
      "source": [
        "df_test['text_length'] = df_test['text'].apply(len)\n",
        "df_test.head()"
      ]
    },
    {
      "cell_type": "code",
      "execution_count": 40,
      "metadata": {
        "colab": {
          "base_uri": "https://localhost:8080/",
          "height": 455
        },
        "id": "qkmtA7bkNRwX",
        "outputId": "fba9155d-014e-4a97-f9e6-eceaa8ba1c63"
      },
      "outputs": [
        {
          "name": "stderr",
          "output_type": "stream",
          "text": [
            "c:\\Users\\CENTER_ELRahama\\AppData\\Local\\Programs\\Python\\Python311\\Lib\\site-packages\\seaborn\\_oldcore.py:1498: FutureWarning: is_categorical_dtype is deprecated and will be removed in a future version. Use isinstance(dtype, CategoricalDtype) instead\n",
            "  if pd.api.types.is_categorical_dtype(vector):\n",
            "c:\\Users\\CENTER_ELRahama\\AppData\\Local\\Programs\\Python\\Python311\\Lib\\site-packages\\seaborn\\_oldcore.py:1119: FutureWarning: use_inf_as_na option is deprecated and will be removed in a future version. Convert inf values to NaN before operating instead.\n",
            "  with pd.option_context('mode.use_inf_as_na', True):\n"
          ]
        },
        {
          "data": {
            "image/png": "[encoded data removed]",
            "text/plain": [
              "<Figure size 640x480 with 1 Axes>"
            ]
          },
          "metadata": {},
          "output_type": "display_data"
        }
      ],
      "source": [
        "sns.histplot(df_test['text_length'])\n",
        "plt.show()"
      ]
    },
    {
      "cell_type": "markdown",
      "metadata": {
        "id": "bR_jbseoNRwX"
      },
      "source": [
        "most text length is in range 200 characters"
      ]
    },
    {
      "cell_type": "markdown",
      "metadata": {
        "id": "LTvXuR27NRwX"
      },
      "source": [
        "Explore correlations between features"
      ]
    },
    {
      "cell_type": "code",
      "execution_count": 41,
      "metadata": {
        "colab": {
          "base_uri": "https://localhost:8080/",
          "height": 449
        },
        "id": "2XJWT6LyNRwX",
        "outputId": "fed222a2-b402-4e79-b545-91a11d047aa0"
      },
      "outputs": [
        {
          "name": "stderr",
          "output_type": "stream",
          "text": [
            "c:\\Users\\CENTER_ELRahama\\AppData\\Local\\Programs\\Python\\Python311\\Lib\\site-packages\\seaborn\\_oldcore.py:1498: FutureWarning: is_categorical_dtype is deprecated and will be removed in a future version. Use isinstance(dtype, CategoricalDtype) instead\n",
            "  if pd.api.types.is_categorical_dtype(vector):\n",
            "c:\\Users\\CENTER_ELRahama\\AppData\\Local\\Programs\\Python\\Python311\\Lib\\site-packages\\seaborn\\_oldcore.py:1498: FutureWarning: is_categorical_dtype is deprecated and will be removed in a future version. Use isinstance(dtype, CategoricalDtype) instead\n",
            "  if pd.api.types.is_categorical_dtype(vector):\n",
            "c:\\Users\\CENTER_ELRahama\\AppData\\Local\\Programs\\Python\\Python311\\Lib\\site-packages\\seaborn\\_oldcore.py:1498: FutureWarning: is_categorical_dtype is deprecated and will be removed in a future version. Use isinstance(dtype, CategoricalDtype) instead\n",
            "  if pd.api.types.is_categorical_dtype(vector):\n"
          ]
        },
        {
          "data": {
            "image/png": "[encoded data removed]",
            "text/plain": [
              "<Figure size 640x480 with 1 Axes>"
            ]
          },
          "metadata": {},
          "output_type": "display_data"
        }
      ],
      "source": [
        "sns.boxplot(x='label', y='text_length', data = df_train)\n",
        "plt.show()"
      ]
    },
    {
      "cell_type": "markdown",
      "metadata": {
        "id": "jQBGrzoFNRwX"
      },
      "source": [
        "most text length is in range 400 characters"
      ]
    },
    {
      "cell_type": "code",
      "execution_count": 42,
      "metadata": {
        "colab": {
          "base_uri": "https://localhost:8080/",
          "height": 449
        },
        "id": "B73uqzhrNRwX",
        "outputId": "892ee549-f6dc-4d49-8b52-290baa544b40"
      },
      "outputs": [
        {
          "name": "stderr",
          "output_type": "stream",
          "text": [
            "c:\\Users\\CENTER_ELRahama\\AppData\\Local\\Programs\\Python\\Python311\\Lib\\site-packages\\seaborn\\_oldcore.py:1498: FutureWarning: is_categorical_dtype is deprecated and will be removed in a future version. Use isinstance(dtype, CategoricalDtype) instead\n",
            "  if pd.api.types.is_categorical_dtype(vector):\n",
            "c:\\Users\\CENTER_ELRahama\\AppData\\Local\\Programs\\Python\\Python311\\Lib\\site-packages\\seaborn\\_oldcore.py:1498: FutureWarning: is_categorical_dtype is deprecated and will be removed in a future version. Use isinstance(dtype, CategoricalDtype) instead\n",
            "  if pd.api.types.is_categorical_dtype(vector):\n",
            "c:\\Users\\CENTER_ELRahama\\AppData\\Local\\Programs\\Python\\Python311\\Lib\\site-packages\\seaborn\\_oldcore.py:1498: FutureWarning: is_categorical_dtype is deprecated and will be removed in a future version. Use isinstance(dtype, CategoricalDtype) instead\n",
            "  if pd.api.types.is_categorical_dtype(vector):\n"
          ]
        },
        {
          "data": {
            "image/png": "[encoded data removed]",
            "text/plain": [
              "<Figure size 640x480 with 1 Axes>"
            ]
          },
          "metadata": {},
          "output_type": "display_data"
        }
      ],
      "source": [
        "sns.boxplot(x='label', y='text_length', data = df_test)\n",
        "plt.show()"
      ]
    },
    {
      "cell_type": "markdown",
      "metadata": {
        "id": "HMkNCwPjNRwX"
      },
      "source": [
        "most text length is in range 400 characters"
      ]
    },
    {
      "cell_type": "markdown",
      "metadata": {
        "id": "zh_TVbJ8NRwb"
      },
      "source": [
        "# Data Preparation"
      ]
    },
    {
      "cell_type": "code",
      "execution_count": 43,
      "metadata": {
        "colab": {
          "base_uri": "https://localhost:8080/"
        },
        "id": "7-7XfQo-NRwb",
        "outputId": "2a5fb21f-988e-46bc-961c-91b35eee71e4"
      },
      "outputs": [
        {
          "name": "stderr",
          "output_type": "stream",
          "text": [
            "[nltk_data] Downloading package stopwords to\n",
            "[nltk_data]     C:\\Users\\CENTER_ELRahama\\AppData\\Roaming\\nltk_data...\n",
            "[nltk_data]   Package stopwords is already up-to-date!\n",
            "[nltk_data] Downloading package punkt to\n",
            "[nltk_data]     C:\\Users\\CENTER_ELRahama\\AppData\\Roaming\\nltk_data...\n",
            "[nltk_data]   Package punkt is already up-to-date!\n",
            "[nltk_data] Downloading package wordnet to\n",
            "[nltk_data]     C:\\Users\\CENTER_ELRahama\\AppData\\Roaming\\nltk_data...\n",
            "[nltk_data]   Package wordnet is already up-to-date!\n"
          ]
        },
        {
          "name": "stdout",
          "output_type": "stream",
          "text": [
            "WARNING:tensorflow:From c:\\Users\\CENTER_ELRahama\\AppData\\Local\\Programs\\Python\\Python311\\Lib\\site-packages\\keras\\src\\losses.py:2976: The name tf.losses.sparse_softmax_cross_entropy is deprecated. Please use tf.compat.v1.losses.sparse_softmax_cross_entropy instead.\n",
            "\n"
          ]
        }
      ],
      "source": [
        "import re\n",
        "import nltk\n",
        "from nltk.corpus import stopwords\n",
        "from nltk.stem import PorterStemmer, WordNetLemmatizer\n",
        "from nltk.tokenize import word_tokenize\n",
        "nltk.download('stopwords')\n",
        "nltk.download('punkt')\n",
        "nltk.download('wordnet')\n",
        "from tensorflow.keras.preprocessing.text import Tokenizer\n",
        "from tensorflow.keras.preprocessing.sequence import pad_sequences\n",
        "from sklearn.model_selection import train_test_split"
      ]
    },
    {
      "cell_type": "code",
      "execution_count": 44,
      "metadata": {
        "id": "yhg9kXNcNRwb"
      },
      "outputs": [],
      "source": [
        "def preprocess_text_series(series):\n",
        "    # Regular expression substitutions\n",
        "    series = series.str.replace('\\d', '0')\n",
        "    series = series.str.replace(r\"([^ ]+(?<=\\.[a-z]{3}))\", \"<url>\")\n",
        "\n",
        "    # Remove stop words and apply stemming and lemmatization\n",
        "    stop_words = set(stopwords.words('english'))\n",
        "    excluding = ['againts', 'not', 'don', \"don't\", 'ain', 'aren', \"aren't\", 'couldn', \"couldn't\", 'didn',\n",
        "                 \"didn't\",'doesn', \"doesn't\", 'hadn', \"hadn't\", 'has', \"hasn't\", 'haven', \"haven't\", 'isn',\n",
        "                 \"isn't\", 'might', \"mightn't\", 'mustn', \"mustn't\", 'needn', \"needn't\", 'shouldn', \"shouldn't\",\n",
        "                 'wasn', \"wasn't\", 'weren', \"weren't\", 'won', \"won't\", 'wouldn', \"wouldn't\"]\n",
        "\n",
        "    stop_words = [word for word in stop_words if word not in excluding]\n",
        "\n",
        "    ps = PorterStemmer()\n",
        "    lemmatizer = WordNetLemmatizer()\n",
        "\n",
        "    # Tokenize the text\n",
        "    words = series.str.split()\n",
        "\n",
        "    # Remove stop words, apply stemming, and lemmatization\n",
        "    filtered_words = [\n",
        "        ' '.join([lemmatizer.lemmatize(ps.stem(word.lower())) for word in words if word.lower() not in stop_words])\n",
        "        for words in words\n",
        "    ]\n",
        "\n",
        "    return filtered_words"
      ]
    },
    {
      "cell_type": "code",
      "execution_count": 45,
      "metadata": {
        "colab": {
          "base_uri": "https://localhost:8080/",
          "height": 275
        },
        "id": "FcHeHUp0NRwc",
        "outputId": "8e8efd3d-4dd4-4585-db68-a900f7293c92"
      },
      "outputs": [
        {
          "data": {
            "text/html": [
              "<div>\n",
              "<style scoped>\n",
              "    .dataframe tbody tr th:only-of-type {\n",
              "        vertical-align: middle;\n",
              "    }\n",
              "\n",
              "    .dataframe tbody tr th {\n",
              "        vertical-align: top;\n",
              "    }\n",
              "\n",
              "    .dataframe thead th {\n",
              "        text-align: right;\n",
              "    }\n",
              "</style>\n",
              "<table border=\"1\" class=\"dataframe\">\n",
              "  <thead>\n",
              "    <tr style=\"text-align: right;\">\n",
              "      <th></th>\n",
              "      <th>text</th>\n",
              "      <th>label</th>\n",
              "      <th>text_length</th>\n",
              "      <th>cleaned_text</th>\n",
              "    </tr>\n",
              "  </thead>\n",
              "  <tbody>\n",
              "    <tr>\n",
              "      <th>1559061</th>\n",
              "      <td>isn't that great: this cd isn't all that great...</td>\n",
              "      <td>0</td>\n",
              "      <td>392</td>\n",
              "      <td>isn't great: cd isn't great. song like bob sti...</td>\n",
              "    </tr>\n",
              "    <tr>\n",
              "      <th>420646</th>\n",
              "      <td>Real Mediocre Late 90's stuff: 1998, probably ...</td>\n",
              "      <td>0</td>\n",
              "      <td>321</td>\n",
              "      <td>real mediocr late 90' stuff: 1998, probabl bor...</td>\n",
              "    </tr>\n",
              "    <tr>\n",
              "      <th>705221</th>\n",
              "      <td>Country music with an attitude!!!: Shania Twai...</td>\n",
              "      <td>1</td>\n",
              "      <td>433</td>\n",
              "      <td>countri music attitude!!!: shania twain ha don...</td>\n",
              "    </tr>\n",
              "    <tr>\n",
              "      <th>3176663</th>\n",
              "      <td>Perfect Wedding Ceremony Music: This CD was ex...</td>\n",
              "      <td>1</td>\n",
              "      <td>564</td>\n",
              "      <td>perfect wed ceremoni music: cd exactli look se...</td>\n",
              "    </tr>\n",
              "    <tr>\n",
              "      <th>546329</th>\n",
              "      <td>Awesome movie!: However, the print is a bit gr...</td>\n",
              "      <td>1</td>\n",
              "      <td>132</td>\n",
              "      <td>awesom movie!: however, print bit grainy. that...</td>\n",
              "    </tr>\n",
              "  </tbody>\n",
              "</table>\n",
              "</div>"
            ],
            "text/plain": [
              "                                                      text  label  \\\n",
              "1559061  isn't that great: this cd isn't all that great...      0   \n",
              "420646   Real Mediocre Late 90's stuff: 1998, probably ...      0   \n",
              "705221   Country music with an attitude!!!: Shania Twai...      1   \n",
              "3176663  Perfect Wedding Ceremony Music: This CD was ex...      1   \n",
              "546329   Awesome movie!: However, the print is a bit gr...      1   \n",
              "\n",
              "         text_length                                       cleaned_text  \n",
              "1559061          392  isn't great: cd isn't great. song like bob sti...  \n",
              "420646           321  real mediocr late 90' stuff: 1998, probabl bor...  \n",
              "705221           433  countri music attitude!!!: shania twain ha don...  \n",
              "3176663          564  perfect wed ceremoni music: cd exactli look se...  \n",
              "546329           132  awesom movie!: however, print bit grainy. that...  "
            ]
          },
          "execution_count": 45,
          "metadata": {},
          "output_type": "execute_result"
        }
      ],
      "source": [
        "# df_train['cleaned_text'] = df_train['text'].apply(preprocess_text)\n",
        "df_train['cleaned_text'] = preprocess_text_series(df_train['text'])\n",
        "df_train.head()"
      ]
    },
    {
      "cell_type": "code",
      "execution_count": 46,
      "metadata": {
        "colab": {
          "base_uri": "https://localhost:8080/",
          "height": 275
        },
        "id": "RqsN0RnwNRwc",
        "outputId": "c690e3b8-a590-413d-c123-7729365ef5c8"
      },
      "outputs": [
        {
          "data": {
            "text/html": [
              "<div>\n",
              "<style scoped>\n",
              "    .dataframe tbody tr th:only-of-type {\n",
              "        vertical-align: middle;\n",
              "    }\n",
              "\n",
              "    .dataframe tbody tr th {\n",
              "        vertical-align: top;\n",
              "    }\n",
              "\n",
              "    .dataframe thead th {\n",
              "        text-align: right;\n",
              "    }\n",
              "</style>\n",
              "<table border=\"1\" class=\"dataframe\">\n",
              "  <thead>\n",
              "    <tr style=\"text-align: right;\">\n",
              "      <th></th>\n",
              "      <th>text</th>\n",
              "      <th>label</th>\n",
              "      <th>text_length</th>\n",
              "      <th>cleaned_text</th>\n",
              "    </tr>\n",
              "  </thead>\n",
              "  <tbody>\n",
              "    <tr>\n",
              "      <th>43269</th>\n",
              "      <td>very good deal: looking for this for a long ti...</td>\n",
              "      <td>1</td>\n",
              "      <td>140</td>\n",
              "      <td>good deal: look long time abl get mp3 download...</td>\n",
              "    </tr>\n",
              "    <tr>\n",
              "      <th>247270</th>\n",
              "      <td>Logical but not radical: O'Reilly's exceptiona...</td>\n",
              "      <td>1</td>\n",
              "      <td>631</td>\n",
              "      <td>logic not radical: o'reilly' except analyt abi...</td>\n",
              "    </tr>\n",
              "    <tr>\n",
              "      <th>267554</th>\n",
              "      <td>Muddy Concept Never Clears: With the cast that...</td>\n",
              "      <td>0</td>\n",
              "      <td>347</td>\n",
              "      <td>muddi concept never clears: cast \"red lights\" ...</td>\n",
              "    </tr>\n",
              "    <tr>\n",
              "      <th>263962</th>\n",
              "      <td>A must have in one's collection!: Man, am i gl...</td>\n",
              "      <td>1</td>\n",
              "      <td>654</td>\n",
              "      <td>must one' collection!: man, glad purchas one a...</td>\n",
              "    </tr>\n",
              "    <tr>\n",
              "      <th>322383</th>\n",
              "      <td>Glamorous Biography: Here is some Hollywood hi...</td>\n",
              "      <td>1</td>\n",
              "      <td>355</td>\n",
              "      <td>glamor biography: hollywood histori written gl...</td>\n",
              "    </tr>\n",
              "  </tbody>\n",
              "</table>\n",
              "</div>"
            ],
            "text/plain": [
              "                                                     text  label  text_length  \\\n",
              "43269   very good deal: looking for this for a long ti...      1          140   \n",
              "247270  Logical but not radical: O'Reilly's exceptiona...      1          631   \n",
              "267554  Muddy Concept Never Clears: With the cast that...      0          347   \n",
              "263962  A must have in one's collection!: Man, am i gl...      1          654   \n",
              "322383  Glamorous Biography: Here is some Hollywood hi...      1          355   \n",
              "\n",
              "                                             cleaned_text  \n",
              "43269   good deal: look long time abl get mp3 download...  \n",
              "247270  logic not radical: o'reilly' except analyt abi...  \n",
              "267554  muddi concept never clears: cast \"red lights\" ...  \n",
              "263962  must one' collection!: man, glad purchas one a...  \n",
              "322383  glamor biography: hollywood histori written gl...  "
            ]
          },
          "execution_count": 46,
          "metadata": {},
          "output_type": "execute_result"
        }
      ],
      "source": [
        "# df_test['cleaned_text'] = df_test['text'].apply(preprocess_text)\n",
        "df_test['cleaned_text'] = preprocess_text_series(df_test['text'])\n",
        "df_test.head()"
      ]
    },
    {
      "cell_type": "markdown",
      "metadata": {
        "id": "p88nOxbJNRwc"
      },
      "source": [
        "Split text"
      ]
    },
    {
      "cell_type": "code",
      "execution_count": 47,
      "metadata": {
        "colab": {
          "base_uri": "https://localhost:8080/"
        },
        "id": "3jlY38kANRwc",
        "outputId": "9576db88-86ad-44b2-de8e-b4776173e0f9"
      },
      "outputs": [
        {
          "name": "stdout",
          "output_type": "stream",
          "text": [
            "X_train: (50000,)\n",
            "X_test: (10000,)\n",
            "y_train: (50000,)\n",
            "y_test: (10000,)\n"
          ]
        }
      ],
      "source": [
        "X_train, X_test, y_train, y_test = df_train['cleaned_text'], df_test['cleaned_text'], df_train['label'], df_test['label']\n",
        "print(f\"X_train: {X_train.shape}\")\n",
        "print(f\"X_test: {X_test.shape}\")\n",
        "print(f\"y_train: {y_train.shape}\")\n",
        "print(f\"y_test: {y_test.shape}\")"
      ]
    },
    {
      "cell_type": "markdown",
      "metadata": {
        "id": "hrXlGQZGNRwc"
      },
      "source": [
        "Tokenize the text data"
      ]
    },
    {
      "cell_type": "code",
      "execution_count": 48,
      "metadata": {
        "colab": {
          "base_uri": "https://localhost:8080/"
        },
        "id": "eC_5IwrENRwc",
        "outputId": "5b2c1017-1d97-489a-9163-025e7ee332dd"
      },
      "outputs": [
        {
          "data": {
            "text/plain": [
              "<keras.src.preprocessing.text.Tokenizer at 0x1f969f5c7d0>"
            ]
          },
          "execution_count": 48,
          "metadata": {},
          "output_type": "execute_result"
        }
      ],
      "source": [
        "max_features = 10000\n",
        "\n",
        "tokenizer = Tokenizer(num_words=max_features)\n",
        "tokenizer.fit_on_texts(X_train)\n",
        "tokenizer"
      ]
    },
    {
      "cell_type": "code",
      "execution_count": 49,
      "metadata": {
        "colab": {
          "base_uri": "https://localhost:8080/"
        },
        "id": "COGgEHY3NRwc",
        "outputId": "5469297a-a1fb-4a73-f485-485fe0364dca"
      },
      "outputs": [
        {
          "data": {
            "text/plain": [
              "85138"
            ]
          },
          "execution_count": 49,
          "metadata": {},
          "output_type": "execute_result"
        }
      ],
      "source": [
        "total_words = len(tokenizer.word_index) + 1\n",
        "total_words"
      ]
    },
    {
      "cell_type": "markdown",
      "metadata": {
        "id": "nfOQp1pfNRwd"
      },
      "source": [
        "Convert text to sequences and pad them"
      ]
    },
    {
      "cell_type": "code",
      "execution_count": 50,
      "metadata": {
        "colab": {
          "base_uri": "https://localhost:8080/"
        },
        "id": "bgsp8swNNRwd",
        "outputId": "e427265e-3c7e-4795-a296-a8099a62a0f6"
      },
      "outputs": [
        {
          "data": {
            "text/plain": [
              "array([[   0,    0,    0, ...,    9,    3, 1177],\n",
              "       [   0,    0,    0, ...,   26,    1,  989],\n",
              "       [   0,    0,    0, ...,    9, 3191,  391],\n",
              "       ...,\n",
              "       [   0,    0,    0, ...,  358,   48,    6],\n",
              "       [   0,    0,    0, ...,    5,  213,  286],\n",
              "       [   0,    0,    0, ..., 1842,   13,  211]])"
            ]
          },
          "execution_count": 50,
          "metadata": {},
          "output_type": "execute_result"
        }
      ],
      "source": [
        "maxlen = 100\n",
        "\n",
        "X_train_sequences = pad_sequences(tokenizer.texts_to_sequences(X_train),\n",
        "                                  maxlen=maxlen)\n",
        "X_train_sequences"
      ]
    },
    {
      "cell_type": "code",
      "execution_count": 51,
      "metadata": {
        "colab": {
          "base_uri": "https://localhost:8080/"
        },
        "id": "gnCpRoM4NRwd",
        "outputId": "a29bcb3b-e89d-4d2d-acb5-79f49c354f62"
      },
      "outputs": [
        {
          "data": {
            "text/plain": [
              "array([[   0,    0,    0, ...,  315,    5, 1025],\n",
              "       [   0,    0,    0, ...,  834,  576, 4005],\n",
              "       [   0,    0,    0, ...,  107,  354, 1383],\n",
              "       ...,\n",
              "       [   0,    0,    0, ...,   69, 1109, 3502],\n",
              "       [   0,    0,    0, ...,   48,    4,  570],\n",
              "       [   0,    0,    0, ...,    3,  156, 3671]])"
            ]
          },
          "execution_count": 51,
          "metadata": {},
          "output_type": "execute_result"
        }
      ],
      "source": [
        "X_test_sequences = pad_sequences(tokenizer.texts_to_sequences(X_test),\n",
        "                                 maxlen=maxlen)\n",
        "X_test_sequences"
      ]
    },
    {
      "cell_type": "markdown",
      "metadata": {
        "id": "9EN-pR5zNRwd"
      },
      "source": [
        "# Build LSTM Model"
      ]
    },
    {
      "cell_type": "code",
      "execution_count": 52,
      "metadata": {
        "id": "eQuSnv7cNRwd"
      },
      "outputs": [],
      "source": [
        "from tensorflow.keras import models, layers, optimizers\n",
        "from tensorflow.keras import regularizers\n",
        "# from tensorflow.keras.layers import Embedding, LSTM, Dense, Dropout"
      ]
    },
    {
      "cell_type": "code",
      "execution_count": 53,
      "metadata": {
        "id": "UkEmvnPRNRwd"
      },
      "outputs": [
        {
          "name": "stdout",
          "output_type": "stream",
          "text": [
            "WARNING:tensorflow:From c:\\Users\\CENTER_ELRahama\\AppData\\Local\\Programs\\Python\\Python311\\Lib\\site-packages\\keras\\src\\backend.py:873: The name tf.get_default_graph is deprecated. Please use tf.compat.v1.get_default_graph instead.\n",
            "\n"
          ]
        }
      ],
      "source": [
        "model = models.Sequential()\n",
        "model.add(layers.Embedding(total_words, output_dim=64))\n",
        "model.add(layers.Bidirectional(layers.LSTM(64, activation='tanh', return_sequences=True)))\n",
        "model.add(layers.Dropout(0.5))\n",
        "\n",
        "model.add(layers.Bidirectional(layers.LSTM(32, activation='tanh',)))\n",
        "model.add(layers.Dropout(0.5))\n",
        "\n",
        "model.add(layers.Dense(1, activation='sigmoid', \n",
        "                       kernel_regularizer=regularizers.l2(0.01)) # decrease overfitting\n",
        "          )"
      ]
    },
    {
      "cell_type": "code",
      "execution_count": 54,
      "metadata": {
        "id": "6nlvuZO4NRwd"
      },
      "outputs": [],
      "source": [
        "model.compile(optimizer=optimizers.Adam(), # update weights\n",
        "              loss='binary_crossentropy',\n",
        "              metrics=['accuracy'])"
      ]
    },
    {
      "cell_type": "code",
      "execution_count": 55,
      "metadata": {
        "colab": {
          "base_uri": "https://localhost:8080/"
        },
        "id": "Sij-jHboNRwe",
        "outputId": "2b045d8d-cd1a-4b68-a4d7-e36c422e1569"
      },
      "outputs": [
        {
          "name": "stdout",
          "output_type": "stream",
          "text": [
            "Model: \"sequential\"\n",
            "_________________________________________________________________\n",
            " Layer (type)                Output Shape              Param #   \n",
            "=================================================================\n",
            " embedding (Embedding)       (None, None, 64)          5448832   \n",
            "                                                                 \n",
            " bidirectional (Bidirection  (None, None, 128)         66048     \n",
            " al)                                                             \n",
            "                                                                 \n",
            " dropout (Dropout)           (None, None, 128)         0         \n",
            "                                                                 \n",
            " bidirectional_1 (Bidirecti  (None, 64)                41216     \n",
            " onal)                                                           \n",
            "                                                                 \n",
            " dropout_1 (Dropout)         (None, 64)                0         \n",
            "                                                                 \n",
            " dense (Dense)               (None, 1)                 65        \n",
            "                                                                 \n",
            "=================================================================\n",
            "Total params: 5556161 (21.20 MB)\n",
            "Trainable params: 5556161 (21.20 MB)\n",
            "Non-trainable params: 0 (0.00 Byte)\n",
            "_________________________________________________________________\n"
          ]
        }
      ],
      "source": [
        "model.summary()"
      ]
    },
    {
      "cell_type": "markdown",
      "metadata": {
        "id": "JqWMeyTrNRwe"
      },
      "source": [
        "# Train the Model"
      ]
    },
    {
      "cell_type": "code",
      "execution_count": 56,
      "metadata": {
        "colab": {
          "base_uri": "https://localhost:8080/"
        },
        "id": "7_lSV3eXNRwe",
        "outputId": "913cea3e-b78f-4422-f7f2-33d55d8c503c"
      },
      "outputs": [
        {
          "name": "stdout",
          "output_type": "stream",
          "text": [
            "Epoch 1/5\n",
            "WARNING:tensorflow:From c:\\Users\\CENTER_ELRahama\\AppData\\Local\\Programs\\Python\\Python311\\Lib\\site-packages\\keras\\src\\utils\\tf_utils.py:492: The name tf.ragged.RaggedTensorValue is deprecated. Please use tf.compat.v1.ragged.RaggedTensorValue instead.\n",
            "\n",
            "WARNING:tensorflow:From c:\\Users\\CENTER_ELRahama\\AppData\\Local\\Programs\\Python\\Python311\\Lib\\site-packages\\keras\\src\\engine\\base_layer_utils.py:384: The name tf.executing_eagerly_outside_functions is deprecated. Please use tf.compat.v1.executing_eagerly_outside_functions instead.\n",
            "\n",
            "1563/1563 [==============================] - 436s 264ms/step - loss: 0.3617 - accuracy: 0.8493 - val_loss: 0.2832 - val_accuracy: 0.8844\n",
            "Epoch 2/5\n",
            "1563/1563 [==============================] - 366s 234ms/step - loss: 0.2325 - accuracy: 0.9164 - val_loss: 0.2756 - val_accuracy: 0.8893\n",
            "Epoch 3/5\n",
            "1563/1563 [==============================] - 378s 242ms/step - loss: 0.1840 - accuracy: 0.9369 - val_loss: 0.2892 - val_accuracy: 0.8818\n",
            "Epoch 4/5\n",
            "1563/1563 [==============================] - 391s 250ms/step - loss: 0.1401 - accuracy: 0.9551 - val_loss: 0.3363 - val_accuracy: 0.8825\n",
            "Epoch 5/5\n",
            "1563/1563 [==============================] - 349s 223ms/step - loss: 0.1151 - accuracy: 0.9658 - val_loss: 0.3474 - val_accuracy: 0.8797\n"
          ]
        },
        {
          "data": {
            "text/plain": [
              "<keras.src.callbacks.History at 0x1f92dd415d0>"
            ]
          },
          "execution_count": 56,
          "metadata": {},
          "output_type": "execute_result"
        }
      ],
      "source": [
        "# Train the model\n",
        "hist = model.fit(X_train_sequences,\n",
        "          y_train,\n",
        "          epochs=5,\n",
        "          validation_data=(X_test_sequences, y_test))\n",
        "hist"
      ]
    },
    {
      "cell_type": "markdown",
      "metadata": {
        "id": "iFEnlsYCNRwe"
      },
      "source": [
        "# Displaying Metrics for trian and test set"
      ]
    },
    {
      "cell_type": "code",
      "execution_count": 57,
      "metadata": {
        "colab": {
          "base_uri": "https://localhost:8080/",
          "height": 543
        },
        "id": "VXAMnwLTNRwe",
        "outputId": "58a485c5-f79a-4ecd-d007-4eb2eaade983"
      },
      "outputs": [
        {
          "data": {
            "image/png": "[encoded data removed]",
            "text/plain": [
              "<Figure size 1000x500 with 2 Axes>"
            ]
          },
          "metadata": {},
          "output_type": "display_data"
        }
      ],
      "source": [
        "def show_metrics(hist):\n",
        "    fig, ax = plt.subplots(1, 2, figsize=(10,5))\n",
        "    ax = ax.ravel()\n",
        "    plt.tight_layout()\n",
        "\n",
        "    for i, metr in enumerate(['accuracy', 'loss']):\n",
        "        ax[i].plot(hist.history[metr])\n",
        "        ax[i].plot(hist.history['val_' + metr])\n",
        "        ax[i].set_title(f'Model {metr}')\n",
        "        ax[i].set_xlabel('epochs')\n",
        "        ax[i].set_ylabel(metr)\n",
        "        ax[i].legend(['train', 'test'])\n",
        "\n",
        "    plt.show()\n",
        "\n",
        "show_metrics(hist)"
      ]
    },
    {
      "cell_type": "markdown",
      "metadata": {
        "id": "g6gh2N1CNRwe"
      },
      "source": [
        "# Evaluate Model Performance"
      ]
    },
    {
      "cell_type": "code",
      "execution_count": 58,
      "metadata": {
        "id": "cQrJN5TNNRwe"
      },
      "outputs": [],
      "source": [
        "import numpy as np\n",
        "from sklearn.metrics import accuracy_score, classification_report, confusion_matrix, ConfusionMatrixDisplay"
      ]
    },
    {
      "cell_type": "markdown",
      "metadata": {
        "id": "hW2E3z-PNRwe"
      },
      "source": [
        "accuracy score"
      ]
    },
    {
      "cell_type": "code",
      "execution_count": 59,
      "metadata": {
        "colab": {
          "base_uri": "https://localhost:8080/"
        },
        "id": "JHSDzUDYNRwf",
        "outputId": "317cf185-1062-4b00-91c8-51dd1480a13b"
      },
      "outputs": [
        {
          "name": "stdout",
          "output_type": "stream",
          "text": [
            "313/313 [==============================] - 19s 44ms/step\n"
          ]
        },
        {
          "data": {
            "text/plain": [
              "87.97"
            ]
          },
          "execution_count": 59,
          "metadata": {},
          "output_type": "execute_result"
        }
      ],
      "source": [
        "preds = model.predict(X_test_sequences)\n",
        "test_acc = np.round(accuracy_score(y_test, np.round(preds)) * 100, 2)\n",
        "test_acc"
      ]
    },
    {
      "cell_type": "code",
      "execution_count": 60,
      "metadata": {
        "colab": {
          "base_uri": "https://localhost:8080/"
        },
        "id": "00T3F-BlNRwf",
        "outputId": "b301b845-c525-4e55-95cd-323b972976e3"
      },
      "outputs": [
        {
          "data": {
            "text/plain": [
              "97.0"
            ]
          },
          "execution_count": 60,
          "metadata": {},
          "output_type": "execute_result"
        }
      ],
      "source": [
        "train_acc = np.round((hist.history['accuracy'][-1] * 100, 2))[0]\n",
        "train_acc"
      ]
    },
    {
      "cell_type": "markdown",
      "metadata": {
        "id": "LNtYPN14NRwf"
      },
      "source": [
        "Classification report for Precision, Recall and F1-score"
      ]
    },
    {
      "cell_type": "code",
      "execution_count": 61,
      "metadata": {
        "colab": {
          "base_uri": "https://localhost:8080/"
        },
        "id": "G7z2CuKENRwf",
        "outputId": "820a3772-604a-44f9-a82d-8d6e62c77756"
      },
      "outputs": [
        {
          "name": "stdout",
          "output_type": "stream",
          "text": [
            "              precision    recall  f1-score   support\n",
            "\n",
            "           0       0.86      0.90      0.88      4975\n",
            "           1       0.90      0.86      0.88      5025\n",
            "\n",
            "    accuracy                           0.88     10000\n",
            "   macro avg       0.88      0.88      0.88     10000\n",
            "weighted avg       0.88      0.88      0.88     10000\n",
            "\n"
          ]
        }
      ],
      "source": [
        "cr = classification_report(y_test, np.round(preds))\n",
        "print(cr)"
      ]
    },
    {
      "cell_type": "markdown",
      "metadata": {
        "id": "W5Hfg-xINRwf"
      },
      "source": [
        "Confusion matrix"
      ]
    },
    {
      "cell_type": "code",
      "execution_count": 62,
      "metadata": {
        "colab": {
          "base_uri": "https://localhost:8080/",
          "height": 471
        },
        "id": "7Faq2ReENRwf",
        "outputId": "090a27a0-1b8a-4ede-8f6e-8aa5bca55949"
      },
      "outputs": [
        {
          "data": {
            "text/plain": [
              "<sklearn.metrics._plot.confusion_matrix.ConfusionMatrixDisplay at 0x1f972b74f10>"
            ]
          },
          "execution_count": 62,
          "metadata": {},
          "output_type": "execute_result"
        },
        {
          "data": {
            "image/png": "[encoded data removed]",
            "text/plain": [
              "<Figure size 640x480 with 2 Axes>"
            ]
          },
          "metadata": {},
          "output_type": "display_data"
        }
      ],
      "source": [
        "cm = confusion_matrix(y_test, np.round(preds))\n",
        "cmd = ConfusionMatrixDisplay(cm)\n",
        "cmd.plot()"
      ]
    }
  ],
  "metadata": {
    "colab": {
      "provenance": []
    },
    "kernelspec": {
      "display_name": "Python 3",
      "name": "python3"
    },
    "language_info": {
      "codemirror_mode": {
        "name": "ipython",
        "version": 3
      },
      "file_extension": ".py",
      "mimetype": "text/x-python",
      "name": "python",
      "nbconvert_exporter": "python",
      "pygments_lexer": "ipython3",
      "version": "3.11.4"
    }
  },
  "nbformat": 4,
  "nbformat_minor": 0
}
